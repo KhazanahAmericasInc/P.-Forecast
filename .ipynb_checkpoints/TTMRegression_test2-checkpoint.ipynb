{
 "cells": [
  {
   "cell_type": "raw",
   "metadata": {},
   "source": [
    "IMPORT"
   ]
  },
  {
   "cell_type": "code",
   "execution_count": 165,
   "metadata": {},
   "outputs": [],
   "source": [
    "from sklearn import tree\n",
    "from sklearn.tree import DecisionTreeRegressor  \n",
    "from sklearn.linear_model import LinearRegression\n",
    "from sklearn.model_selection import train_test_split  \n",
    "import pandas as pd \n",
    "import numpy as np \n",
    "import statsmodels.api as sm\n",
    "import matplotlib.pyplot as plt  \n",
    "%matplotlib inline\n",
    "from sklearn import ensemble\n",
    "from collections import defaultdict\n",
    "import plotly.plotly as py\n",
    "import plotly.graph_objs as go\n",
    "from plotly import tools\n",
    "from mpl_toolkits.mplot3d import Axes3D\n",
    "from scipy import stats\n",
    "import math\n",
    "from sklearn.metrics import mean_squared_error\n",
    "import sys"
   ]
  },
  {
   "cell_type": "code",
   "execution_count": 132,
   "metadata": {},
   "outputs": [],
   "source": [
    "df = pd.read_csv('NewCompsData5.csv', names=['Company','EV','TTM Revenue','Ev/Rev Multiple','Rev Growth','GP Margin','R&D Margin', 'S&M Margin', 'EBITDA Margin', 'Profit Margin'])\n",
    "df[['EV','TTM Revenue','Ev/Rev Multiple','Rev Growth','GP Margin','R&D Margin', 'S&M Margin', 'EBITDA Margin', 'Profit Margin']] = df[['EV', 'TTM Revenue','Ev/Rev Multiple','Rev Growth','GP Margin','R&D Margin', 'S&M Margin', 'EBITDA Margin', 'Profit Margin']].apply(pd.to_numeric)\n",
    "x = df[['EV', 'TTM Revenue','Rev Growth','GP Margin','R&D Margin', 'S&M Margin', 'EBITDA Margin', 'Profit Margin']] #use\n",
    "y = df[['Ev/Rev Multiple']]\n",
    "a = df[['EV', 'TTM Revenue','Rev Growth','GP Margin','EBITDA Margin']] #use\n",
    "b = df[['EV', 'TTM Revenue','Rev Growth','GP Margin','EBITDA Margin','R&D Margin',]] #use\n",
    "c = df[['EV', 'TTM Revenue','Rev Growth','GP Margin','EBITDA Margin','S&M Margin']] #use\n",
    "d = df[['EV', 'TTM Revenue','Rev Growth','GP Margin','EBITDA Margin', 'Profit Margin']] #use\n",
    "e = df[['EV', 'TTM Revenue','Rev Growth','GP Margin', 'EBITDA Margin','R&D Margin', 'S&M Margin']] #use\n",
    "f = df[['EV', 'TTM Revenue','Rev Growth','GP Margin', 'EBITDA Margin','R&D Margin', 'Profit Margin']] #use\n",
    "g = df[['EV', 'TTM Revenue','Rev Growth','GP Margin', 'EBITDA Margin','S&M Margin', 'Profit Margin']] #use"
   ]
  },
  {
   "cell_type": "code",
   "execution_count": 133,
   "metadata": {},
   "outputs": [],
   "source": [
    "databricks = [0.951862931344295,0.671300585943595,0.577080777881529,0.981899434820076,0.261273981475219,-1.14895360823323,-1.11333236039661]\n",
    "db = pd.DataFrame([databricks], columns = ['Rev Growth','GP Margin','R&D Margin', 'S&M Margin', 'G&A Margin','EBITDA Margin', 'Profit Margin'])\n",
    "db = db.drop(['G&A Margin'], axis=1)\n",
    "db3 = db.drop(['R&D Margin', 'S&M Margin'],axis=1) #AB\n",
    "db4 = db.drop(['R&D Margin', 'Profit Margin'],axis=1) #LM\n",
    "db5 = db.drop(['R&D Margin'],axis=1)\n",
    "db6 = db.drop(['Profit Margin'],axis=1)\n",
    "db_test = 1600/66.65488\n",
    "t = 1.98062600245909 #consistent with sample size at 95% confidence interval"
   ]
  },
  {
   "cell_type": "code",
   "execution_count": 134,
   "metadata": {},
   "outputs": [],
   "source": [
    "GM = df[['GP Margin']]\n",
    "RG = df[['Rev Growth']]\n",
    "RD = df[['R&D Margin']]\n",
    "SM = df[['S&M Margin']]\n",
    "EM = df[['EBITDA Margin']]\n",
    "NM = df[['Profit Margin']]"
   ]
  },
  {
   "cell_type": "raw",
   "metadata": {},
   "source": [
    "Models "
   ]
  },
  {
   "cell_type": "code",
   "execution_count": 135,
   "metadata": {},
   "outputs": [],
   "source": [
    "x_train1, x_test1, y_train1, y_test1 = train_test_split(x, y, test_size=0.3, random_state=0)#ALL"
   ]
  },
  {
   "cell_type": "code",
   "execution_count": 136,
   "metadata": {},
   "outputs": [],
   "source": [
    "x_train0, x_test0, y_train0, y_test0 = train_test_split(c, y, test_size=0.3, random_state=0)#LM"
   ]
  },
  {
   "cell_type": "code",
   "execution_count": 137,
   "metadata": {},
   "outputs": [],
   "source": [
    "x_train, x_test, y_train, y_test = train_test_split(d, y, test_size=0.3, random_state=0)#AB"
   ]
  },
  {
   "cell_type": "code",
   "execution_count": 138,
   "metadata": {},
   "outputs": [],
   "source": [
    "x_train2, x_test2, y_train2, y_test2 = train_test_split(g, y, test_size=0.3, random_state=0)#ALL"
   ]
  },
  {
   "cell_type": "code",
   "execution_count": 139,
   "metadata": {},
   "outputs": [],
   "source": [
    "x_train3, x_test3, y_train3, y_test3 = train_test_split(e, y, test_size=0.3, random_state=0)#ALL"
   ]
  },
  {
   "cell_type": "code",
   "execution_count": 140,
   "metadata": {},
   "outputs": [],
   "source": [
    "x_train4, x_test4, y_train4, y_test4 = train_test_split(a, y, test_size=0.3, random_state=0)#ALL"
   ]
  },
  {
   "cell_type": "raw",
   "metadata": {},
   "source": [
    "INPUT VARS"
   ]
  },
  {
   "cell_type": "code",
   "execution_count": 171,
   "metadata": {},
   "outputs": [],
   "source": [
    "modeluse = a\n",
    "model2use = a\n",
    "modelnum = 4\n",
    "model2num = 4"
   ]
  },
  {
   "cell_type": "code",
   "execution_count": 172,
   "metadata": {},
   "outputs": [],
   "source": [
    "modelxtrain = \"xtrain%s\" % (modelnum)\n",
    "modelxtest = \"xtest%s\" % (modelnum)\n",
    "modelytrain = \"ytrain%s\" % (modelnum)\n",
    "modelytest = \"ytest%s\" % (modelnum)\n",
    "\n",
    "model2xtrain = \"xtrain%s\" % (model2num)\n",
    "model2xtest = \"xtest%s\" % (model2num)\n",
    "model2ytrain = \"ytrain%s\" % (modelnum)\n",
    "model2ytest = \"ytest%s\" % (modelnum)"
   ]
  },
  {
   "cell_type": "raw",
   "metadata": {},
   "source": [
    "MODEL TRAINING"
   ]
  },
  {
   "cell_type": "code",
   "execution_count": 141,
   "metadata": {},
   "outputs": [],
   "source": [
    "y_val = y.values.flatten()\n",
    "ytest_val = y_test.values.flatten()"
   ]
  },
  {
   "cell_type": "code",
   "execution_count": 142,
   "metadata": {},
   "outputs": [
    {
     "data": {
      "text/plain": [
       "0.5513768147878808"
      ]
     },
     "execution_count": 142,
     "metadata": {},
     "output_type": "execute_result"
    }
   ],
   "source": [
    "model = LinearRegression()\n",
    "model = model.fit(x_train4, y_train4)\n",
    "model.score(x_test4,y_test4)"
   ]
  },
  {
   "cell_type": "code",
   "execution_count": 143,
   "metadata": {},
   "outputs": [
    {
     "data": {
      "text/plain": [
       "0.6925274205807821"
      ]
     },
     "execution_count": 143,
     "metadata": {},
     "output_type": "execute_result"
    }
   ],
   "source": [
    "model2 = ensemble.AdaBoostRegressor(random_state=0)\n",
    "model2 = model2.fit(x_train4,y_train4.values.ravel())\n",
    "model2.score(x_test4,y_test4)"
   ]
  },
  {
   "cell_type": "code",
   "execution_count": 123,
   "metadata": {},
   "outputs": [
    {
     "name": "stdout",
     "output_type": "stream",
     "text": [
      "The coefficient for EV is 0.00087075572040751\n",
      "The coefficient for TTM Revenue is -0.004438426074391027\n",
      "The coefficient for Rev Growth is 6.843236992770543\n",
      "The coefficient for GP Margin is 5.109852492873735\n",
      "The coefficient for EBITDA Margin is -1.5777109443980732\n"
     ]
    },
    {
     "ename": "IndexError",
     "evalue": "index 5 is out of bounds for axis 0 with size 5",
     "output_type": "error",
     "traceback": [
      "\u001b[1;31m---------------------------------------------------------------------------\u001b[0m",
      "\u001b[1;31mIndexError\u001b[0m                                Traceback (most recent call last)",
      "\u001b[1;32m<ipython-input-123-585c0c6913d4>\u001b[0m in \u001b[0;36m<module>\u001b[1;34m()\u001b[0m\n\u001b[0;32m      1\u001b[0m \u001b[1;32mfor\u001b[0m \u001b[0midx\u001b[0m\u001b[1;33m,\u001b[0m \u001b[0mcol_name\u001b[0m \u001b[1;32min\u001b[0m \u001b[0menumerate\u001b[0m\u001b[1;33m(\u001b[0m\u001b[0mx_train0\u001b[0m\u001b[1;33m.\u001b[0m\u001b[0mcolumns\u001b[0m\u001b[1;33m)\u001b[0m\u001b[1;33m:\u001b[0m\u001b[1;33m\u001b[0m\u001b[0m\n\u001b[1;32m----> 2\u001b[1;33m     \u001b[0mprint\u001b[0m\u001b[1;33m(\u001b[0m\u001b[1;34m\"The coefficient for {} is {}\"\u001b[0m\u001b[1;33m.\u001b[0m\u001b[0mformat\u001b[0m\u001b[1;33m(\u001b[0m\u001b[0mcol_name\u001b[0m\u001b[1;33m,\u001b[0m \u001b[0mmodel\u001b[0m\u001b[1;33m.\u001b[0m\u001b[0mcoef_\u001b[0m\u001b[1;33m[\u001b[0m\u001b[1;36m0\u001b[0m\u001b[1;33m]\u001b[0m\u001b[1;33m[\u001b[0m\u001b[0midx\u001b[0m\u001b[1;33m]\u001b[0m\u001b[1;33m)\u001b[0m\u001b[1;33m)\u001b[0m\u001b[1;33m\u001b[0m\u001b[0m\n\u001b[0m\u001b[0;32m      3\u001b[0m \u001b[0mintercept\u001b[0m \u001b[1;33m=\u001b[0m \u001b[0mmodel\u001b[0m\u001b[1;33m.\u001b[0m\u001b[0mintercept_\u001b[0m\u001b[1;33m[\u001b[0m\u001b[1;36m0\u001b[0m\u001b[1;33m]\u001b[0m\u001b[1;33m\u001b[0m\u001b[0m\n\u001b[0;32m      4\u001b[0m \u001b[0mprint\u001b[0m\u001b[1;33m(\u001b[0m\u001b[1;34m\"The intercept for our model is {}\"\u001b[0m\u001b[1;33m.\u001b[0m\u001b[0mformat\u001b[0m\u001b[1;33m(\u001b[0m\u001b[0mintercept\u001b[0m\u001b[1;33m)\u001b[0m\u001b[1;33m)\u001b[0m\u001b[1;33m\u001b[0m\u001b[0m\n",
      "\u001b[1;31mIndexError\u001b[0m: index 5 is out of bounds for axis 0 with size 5"
     ]
    }
   ],
   "source": [
    "for idx, col_name in enumerate(x_train0.columns):\n",
    "    print(\"The coefficient for {} is {}\".format(col_name, model.coef_[0][idx]))\n",
    "intercept = model.intercept_[0]\n",
    "print(\"The intercept for our model is {}\".format(intercept))"
   ]
  },
  {
   "cell_type": "code",
   "execution_count": 144,
   "metadata": {},
   "outputs": [
    {
     "data": {
      "text/plain": [
       "0.6009302653106232"
      ]
     },
     "execution_count": 144,
     "metadata": {},
     "output_type": "execute_result"
    }
   ],
   "source": [
    "model3 = ensemble.AdaBoostRegressor(random_state=0)\n",
    "model3 = model3.fit(x_train1,y_train1.values.ravel())\n",
    "model3.score(x_test1,y_test1)"
   ]
  },
  {
   "cell_type": "code",
   "execution_count": 145,
   "metadata": {},
   "outputs": [
    {
     "data": {
      "text/plain": [
       "0.6009302653106232"
      ]
     },
     "execution_count": 145,
     "metadata": {},
     "output_type": "execute_result"
    }
   ],
   "source": [
    "model3 = ensemble.AdaBoostRegressor(random_state=0)\n",
    "model3 = model3.fit(x_train1,y_train1.values.ravel())\n",
    "model3.score(x_test1,y_test1)"
   ]
  },
  {
   "cell_type": "code",
   "execution_count": 126,
   "metadata": {},
   "outputs": [
    {
     "data": {
      "text/plain": [
       "0.7116555268747987"
      ]
     },
     "execution_count": 126,
     "metadata": {},
     "output_type": "execute_result"
    }
   ],
   "source": [
    "model4 = ensemble.AdaBoostRegressor(random_state=0)\n",
    "model4 = model4.fit(x_train2,y_train2.values.ravel())\n",
    "model4.score(x_test2,y_test2)"
   ]
  },
  {
   "cell_type": "code",
   "execution_count": 127,
   "metadata": {},
   "outputs": [
    {
     "data": {
      "text/plain": [
       "0.6615434428394396"
      ]
     },
     "execution_count": 127,
     "metadata": {},
     "output_type": "execute_result"
    }
   ],
   "source": [
    "model5 = ensemble.AdaBoostRegressor(random_state=0)\n",
    "model5 = model5.fit(x_train3,y_train3.values.ravel())\n",
    "model5.score(x_test3,y_test3)"
   ]
  },
  {
   "cell_type": "code",
   "execution_count": 128,
   "metadata": {},
   "outputs": [
    {
     "data": {
      "text/plain": [
       "0.6200438878122665"
      ]
     },
     "execution_count": 128,
     "metadata": {},
     "output_type": "execute_result"
    }
   ],
   "source": [
    "model6 = ensemble.GradientBoostingRegressor(random_state=0)\n",
    "model6 = model6.fit(x_train,y_train.values.ravel())\n",
    "model6.score(x_test,y_test)"
   ]
  },
  {
   "cell_type": "code",
   "execution_count": 129,
   "metadata": {},
   "outputs": [
    {
     "ename": "ValueError",
     "evalue": "shapes (1,4) and (5,1) not aligned: 4 (dim 1) != 5 (dim 0)",
     "output_type": "error",
     "traceback": [
      "\u001b[1;31m---------------------------------------------------------------------------\u001b[0m",
      "\u001b[1;31mValueError\u001b[0m                                Traceback (most recent call last)",
      "\u001b[1;32m<ipython-input-129-db815b23b960>\u001b[0m in \u001b[0;36m<module>\u001b[1;34m()\u001b[0m\n\u001b[1;32m----> 1\u001b[1;33m \u001b[0mprint\u001b[0m \u001b[1;33m(\u001b[0m\u001b[0mmodel\u001b[0m\u001b[1;33m.\u001b[0m\u001b[0mpredict\u001b[0m\u001b[1;33m(\u001b[0m\u001b[0mdb4\u001b[0m\u001b[1;33m)\u001b[0m\u001b[1;33m,\u001b[0m \u001b[0mmodel2\u001b[0m\u001b[1;33m.\u001b[0m\u001b[0mpredict\u001b[0m\u001b[1;33m(\u001b[0m\u001b[0mdb3\u001b[0m\u001b[1;33m)\u001b[0m\u001b[1;33m,\u001b[0m \u001b[0mmodel3\u001b[0m\u001b[1;33m.\u001b[0m\u001b[0mpredict\u001b[0m\u001b[1;33m(\u001b[0m\u001b[0mdb\u001b[0m\u001b[1;33m)\u001b[0m\u001b[1;33m,\u001b[0m\u001b[0mmodel4\u001b[0m\u001b[1;33m.\u001b[0m\u001b[0mpredict\u001b[0m\u001b[1;33m(\u001b[0m\u001b[0mdb5\u001b[0m\u001b[1;33m)\u001b[0m\u001b[1;33m,\u001b[0m\u001b[0mmodel5\u001b[0m\u001b[1;33m.\u001b[0m\u001b[0mpredict\u001b[0m\u001b[1;33m(\u001b[0m\u001b[0mdb6\u001b[0m\u001b[1;33m)\u001b[0m\u001b[1;33m,\u001b[0m\u001b[0mmodel6\u001b[0m\u001b[1;33m.\u001b[0m\u001b[0mpredict\u001b[0m\u001b[1;33m(\u001b[0m\u001b[0mdb3\u001b[0m\u001b[1;33m)\u001b[0m \u001b[1;33m)\u001b[0m\u001b[1;33m\u001b[0m\u001b[0m\n\u001b[0m",
      "\u001b[1;32mC:\\ProgramData\\Anaconda3\\lib\\site-packages\\sklearn\\linear_model\\base.py\u001b[0m in \u001b[0;36mpredict\u001b[1;34m(self, X)\u001b[0m\n\u001b[0;32m    254\u001b[0m             \u001b[0mReturns\u001b[0m \u001b[0mpredicted\u001b[0m \u001b[0mvalues\u001b[0m\u001b[1;33m.\u001b[0m\u001b[1;33m\u001b[0m\u001b[0m\n\u001b[0;32m    255\u001b[0m         \"\"\"\n\u001b[1;32m--> 256\u001b[1;33m         \u001b[1;32mreturn\u001b[0m \u001b[0mself\u001b[0m\u001b[1;33m.\u001b[0m\u001b[0m_decision_function\u001b[0m\u001b[1;33m(\u001b[0m\u001b[0mX\u001b[0m\u001b[1;33m)\u001b[0m\u001b[1;33m\u001b[0m\u001b[0m\n\u001b[0m\u001b[0;32m    257\u001b[0m \u001b[1;33m\u001b[0m\u001b[0m\n\u001b[0;32m    258\u001b[0m     \u001b[0m_preprocess_data\u001b[0m \u001b[1;33m=\u001b[0m \u001b[0mstaticmethod\u001b[0m\u001b[1;33m(\u001b[0m\u001b[0m_preprocess_data\u001b[0m\u001b[1;33m)\u001b[0m\u001b[1;33m\u001b[0m\u001b[0m\n",
      "\u001b[1;32mC:\\ProgramData\\Anaconda3\\lib\\site-packages\\sklearn\\linear_model\\base.py\u001b[0m in \u001b[0;36m_decision_function\u001b[1;34m(self, X)\u001b[0m\n\u001b[0;32m    239\u001b[0m         \u001b[0mX\u001b[0m \u001b[1;33m=\u001b[0m \u001b[0mcheck_array\u001b[0m\u001b[1;33m(\u001b[0m\u001b[0mX\u001b[0m\u001b[1;33m,\u001b[0m \u001b[0maccept_sparse\u001b[0m\u001b[1;33m=\u001b[0m\u001b[1;33m[\u001b[0m\u001b[1;34m'csr'\u001b[0m\u001b[1;33m,\u001b[0m \u001b[1;34m'csc'\u001b[0m\u001b[1;33m,\u001b[0m \u001b[1;34m'coo'\u001b[0m\u001b[1;33m]\u001b[0m\u001b[1;33m)\u001b[0m\u001b[1;33m\u001b[0m\u001b[0m\n\u001b[0;32m    240\u001b[0m         return safe_sparse_dot(X, self.coef_.T,\n\u001b[1;32m--> 241\u001b[1;33m                                dense_output=True) + self.intercept_\n\u001b[0m\u001b[0;32m    242\u001b[0m \u001b[1;33m\u001b[0m\u001b[0m\n\u001b[0;32m    243\u001b[0m     \u001b[1;32mdef\u001b[0m \u001b[0mpredict\u001b[0m\u001b[1;33m(\u001b[0m\u001b[0mself\u001b[0m\u001b[1;33m,\u001b[0m \u001b[0mX\u001b[0m\u001b[1;33m)\u001b[0m\u001b[1;33m:\u001b[0m\u001b[1;33m\u001b[0m\u001b[0m\n",
      "\u001b[1;32mC:\\ProgramData\\Anaconda3\\lib\\site-packages\\sklearn\\utils\\extmath.py\u001b[0m in \u001b[0;36msafe_sparse_dot\u001b[1;34m(a, b, dense_output)\u001b[0m\n\u001b[0;32m    138\u001b[0m         \u001b[1;32mreturn\u001b[0m \u001b[0mret\u001b[0m\u001b[1;33m\u001b[0m\u001b[0m\n\u001b[0;32m    139\u001b[0m     \u001b[1;32melse\u001b[0m\u001b[1;33m:\u001b[0m\u001b[1;33m\u001b[0m\u001b[0m\n\u001b[1;32m--> 140\u001b[1;33m         \u001b[1;32mreturn\u001b[0m \u001b[0mnp\u001b[0m\u001b[1;33m.\u001b[0m\u001b[0mdot\u001b[0m\u001b[1;33m(\u001b[0m\u001b[0ma\u001b[0m\u001b[1;33m,\u001b[0m \u001b[0mb\u001b[0m\u001b[1;33m)\u001b[0m\u001b[1;33m\u001b[0m\u001b[0m\n\u001b[0m\u001b[0;32m    141\u001b[0m \u001b[1;33m\u001b[0m\u001b[0m\n\u001b[0;32m    142\u001b[0m \u001b[1;33m\u001b[0m\u001b[0m\n",
      "\u001b[1;31mValueError\u001b[0m: shapes (1,4) and (5,1) not aligned: 4 (dim 1) != 5 (dim 0)"
     ]
    }
   ],
   "source": [
    "print (model.predict(db4), model2.predict(db3), model3.predict(db),model4.predict(db5),model5.predict(db6),model6.predict(db3) )"
   ]
  },
  {
   "cell_type": "raw",
   "metadata": {},
   "source": [
    "Calculating Stats (FULL SAMPLE)"
   ]
  },
  {
   "cell_type": "code",
   "execution_count": 151,
   "metadata": {},
   "outputs": [
    {
     "name": "stdout",
     "output_type": "stream",
     "text": [
      "3.172752958836213 6.912440710615021\n",
      "0.5323861349358513 0.5033868254745087\n"
     ]
    }
   ],
   "source": [
    "yhat = model.predict(modeluse).flatten()\n",
    "SS_Residual1 = sum((y_val-yhat)**2)\n",
    "std_err1 = math.sqrt(SS_Residual1/121)\n",
    "moe_1 = std_err1 * 1.1 * t\n",
    "print (std_err1,moe_1)\n",
    "SS_Total = sum((y_val-np.mean(y_val))**2)\n",
    "r_squared = 1 - (float(SS_Residual1))/SS_Total\n",
    "adjusted_r_squared = 1 - (1-r_squared)*(len(y_val)-1)/(len(y_val)-x.shape[1]-1)\n",
    "print (r_squared,adjusted_r_squared)"
   ]
  },
  {
   "cell_type": "code",
   "execution_count": 152,
   "metadata": {},
   "outputs": [
    {
     "name": "stdout",
     "output_type": "stream",
     "text": [
      "2.1050322129008414 4.586209690573947\n",
      "0.7941587756027034 0.7813934283532586\n"
     ]
    }
   ],
   "source": [
    "yhat = model2.predict(modeluse2)\n",
    "yhat = yhat.flatten()\n",
    "SS_Residual2 = sum((y_val-yhat)**2)\n",
    "std_err2 = math.sqrt(SS_Residual2/121)\n",
    "moe_2 = std_err2 * 1.1 * t\n",
    "print (std_err2,moe_2)\n",
    "SS_Total = sum((y_val-np.mean(y_val))**2)\n",
    "r_squared = 1 - (float(SS_Residual2))/SS_Total\n",
    "adjusted_r_squared = 1 - (1-r_squared)*(len(y_val)-1)/(len(y_val)-x.shape[1]-1)\n",
    "print (r_squared,adjusted_r_squared)"
   ]
  },
  {
   "cell_type": "raw",
   "metadata": {},
   "source": [
    "Stats (TEST SAMPLE)"
   ]
  },
  {
   "cell_type": "code",
   "execution_count": 35,
   "metadata": {},
   "outputs": [
    {
     "name": "stdout",
     "output_type": "stream",
     "text": [
      "1.7877619299452145 3.894976541121532\n",
      "3.0344342019776542\n",
      "0.4911552161573647 0.4039246817843415\n"
     ]
    }
   ],
   "source": [
    "yhat = model.predict(x_test).flatten()\n",
    "SS_Residual1 = sum((ytest_val-yhat)**2)\n",
    "std_err1 = math.sqrt(SS_Residual1/121)\n",
    "moe_1 = std_err1 * 1.1 * t\n",
    "print (std_err1,moe_1)\n",
    "\n",
    "regression_model_mse = mean_squared_error(yhat, ytest_val)\n",
    "print (math.sqrt(regression_model_mse))\n",
    "\n",
    "SS_Total = sum((ytest_val-np.mean(ytest_val))**2)\n",
    "r_squared = 1 - (float(SS_Residual1))/SS_Total\n",
    "adjusted_r_squared = 1 - (1-r_squared)*(len(ytest_val)-1)/(len(ytest_val)-x_test.shape[1]-1)\n",
    "print (r_squared,adjusted_r_squared)"
   ]
  },
  {
   "cell_type": "code",
   "execution_count": 36,
   "metadata": {},
   "outputs": [
    {
     "name": "stdout",
     "output_type": "stream",
     "text": [
      "1.4244160196451479 3.103358947511304\n",
      "2.4177137992800675\n",
      "0.6769723812804266 0.6215962180713568\n"
     ]
    }
   ],
   "source": [
    "yhat = model2.predict(x_test).flatten()\n",
    "SS_Residual1 = sum((ytest_val-yhat)**2)\n",
    "std_err1 = math.sqrt(SS_Residual1/121)\n",
    "moe_1 = std_err1 * 1.1 * t\n",
    "print (std_err1,moe_1)\n",
    "\n",
    "regression_model_mse = mean_squared_error(yhat, ytest_val)\n",
    "print (math.sqrt(regression_model_mse))\n",
    "\n",
    "SS_Total = sum((ytest_val-np.mean(ytest_val))**2)\n",
    "r_squared = 1 - (float(SS_Residual1))/SS_Total\n",
    "adjusted_r_squared = 1 - (1-r_squared)*(len(ytest_val)-1)/(len(ytest_val)-x_test.shape[1]-1)\n",
    "print (r_squared,adjusted_r_squared)"
   ]
  },
  {
   "cell_type": "code",
   "execution_count": 37,
   "metadata": {},
   "outputs": [
    {
     "name": "stdout",
     "output_type": "stream",
     "text": [
      "1.5832205470016951 3.4493445613209675\n",
      "2.6872585754429488\n",
      "0.6009302653106232 0.5325183107924443\n"
     ]
    }
   ],
   "source": [
    "yhat = model3.predict(x_test1).flatten()\n",
    "SS_Residual1 = sum((ytest_val-yhat)**2)\n",
    "std_err1 = math.sqrt(SS_Residual1/121)\n",
    "moe_1 = std_err1 * 1.1 * t\n",
    "print (std_err1,moe_1)\n",
    "\n",
    "regression_model_mse = mean_squared_error(yhat, ytest_val)\n",
    "print (math.sqrt(regression_model_mse))\n",
    "\n",
    "SS_Total = sum((ytest_val-np.mean(ytest_val))**2)\n",
    "r_squared = 1 - (float(SS_Residual1))/SS_Total\n",
    "adjusted_r_squared = 1 - (1-r_squared)*(len(ytest_val)-1)/(len(ytest_val)-x_test.shape[1]-1)\n",
    "print (r_squared,adjusted_r_squared)"
   ]
  },
  {
   "cell_type": "code",
   "execution_count": 40,
   "metadata": {},
   "outputs": [
    {
     "data": {
      "image/png": "[encoded data removed]",
      "text/plain": [
       "<Figure size 432x288 with 1 Axes>"
      ]
     },
     "metadata": {
      "needs_background": "light"
     },
     "output_type": "display_data"
    }
   ],
   "source": [
    "x23 = range(25)\n",
    "y23 = range(25)\n",
    "h = model2.predict(x_test)\n",
    "plt.scatter(y_test,h, c=\"g\")\n",
    "plt.plot(x23,y23, c=\"k\")\n",
    "plt.xlabel(\"True Values\")\n",
    "plt.ylabel(\"Predictions\")\n",
    "plt.savefig(\"graph.svg\")"
   ]
  },
  {
   "cell_type": "code",
   "execution_count": 41,
   "metadata": {},
   "outputs": [
    {
     "data": {
      "image/png": "[encoded data removed]",
      "text/plain": [
       "<Figure size 432x288 with 1 Axes>"
      ]
     },
     "metadata": {
      "needs_background": "light"
     },
     "output_type": "display_data"
    }
   ],
   "source": [
    "x23 = range(25)\n",
    "y23 = range(25)\n",
    "h = model3.predict(x_test1)\n",
    "plt.scatter(y_test1,h, c=\"g\")\n",
    "plt.plot(x23,y23, c=\"k\")\n",
    "plt.xlabel(\"True Values\")\n",
    "plt.ylabel(\"Predictions\")\n",
    "plt.savefig(\"graph.svg\")"
   ]
  },
  {
   "cell_type": "code",
   "execution_count": 42,
   "metadata": {},
   "outputs": [
    {
     "data": {
      "image/png": "[encoded data removed]",
      "text/plain": [
       "<Figure size 432x288 with 1 Axes>"
      ]
     },
     "metadata": {
      "needs_background": "light"
     },
     "output_type": "display_data"
    }
   ],
   "source": [
    "x23 = range(25)\n",
    "y23 = range(25)\n",
    "h = model.predict(x_test0)\n",
    "plt.scatter(y_test0,h, c=\"g\")\n",
    "plt.plot(x23,y23, c=\"k\")\n",
    "plt.xlabel(\"True Values\")\n",
    "plt.ylabel(\"Predictions\")\n",
    "plt.savefig(\"graph.svg\")"
   ]
  },
  {
   "cell_type": "code",
   "execution_count": 43,
   "metadata": {},
   "outputs": [
    {
     "data": {
      "image/png": "[encoded data removed]",
      "text/plain": [
       "<Figure size 432x288 with 1 Axes>"
      ]
     },
     "metadata": {
      "needs_background": "light"
     },
     "output_type": "display_data"
    }
   ],
   "source": [
    "x23 = range(25)\n",
    "y23 = range(25)\n",
    "h = model.predict(x_test0)\n",
    "i = model2.predict(x_test)\n",
    "plt.scatter(y_test,h,label = \"Linear\", c=\"b\")\n",
    "plt.scatter(y_test,i,label = \"Boosted\", c=\"r\")\n",
    "plt.plot(x23,y23, c=\"k\")\n",
    "plt.legend()\n",
    "plt.xlabel(\"True Values\")\n",
    "plt.ylabel(\"Predictions\")\n",
    "plt.savefig(\"graph.svg\")"
   ]
  },
  {
   "cell_type": "code",
   "execution_count": 44,
   "metadata": {},
   "outputs": [
    {
     "ename": "ValueError",
     "evalue": "shapes (1,4) and (6,1) not aligned: 4 (dim 1) != 6 (dim 0)",
     "output_type": "error",
     "traceback": [
      "\u001b[1;31m---------------------------------------------------------------------------\u001b[0m",
      "\u001b[1;31mValueError\u001b[0m                                Traceback (most recent call last)",
      "\u001b[1;32m<ipython-input-44-3a5893407e49>\u001b[0m in \u001b[0;36m<module>\u001b[1;34m()\u001b[0m\n\u001b[0;32m     10\u001b[0m \u001b[0mx23\u001b[0m \u001b[1;33m=\u001b[0m \u001b[0mrange\u001b[0m\u001b[1;33m(\u001b[0m\u001b[1;36m100\u001b[0m\u001b[1;33m)\u001b[0m\u001b[1;33m\u001b[0m\u001b[0m\n\u001b[0;32m     11\u001b[0m \u001b[0my23\u001b[0m \u001b[1;33m=\u001b[0m \u001b[0mrange\u001b[0m\u001b[1;33m(\u001b[0m\u001b[1;36m100\u001b[0m\u001b[1;33m)\u001b[0m\u001b[1;33m\u001b[0m\u001b[0m\n\u001b[1;32m---> 12\u001b[1;33m \u001b[0mvcp1\u001b[0m \u001b[1;33m=\u001b[0m \u001b[0mmodel\u001b[0m\u001b[1;33m.\u001b[0m\u001b[0mpredict\u001b[0m\u001b[1;33m(\u001b[0m\u001b[0mvc4\u001b[0m\u001b[1;33m)\u001b[0m\u001b[1;33m\u001b[0m\u001b[0m\n\u001b[0m\u001b[0;32m     13\u001b[0m \u001b[0mplt\u001b[0m\u001b[1;33m.\u001b[0m\u001b[0mscatter\u001b[0m\u001b[1;33m(\u001b[0m\u001b[0mvc_test\u001b[0m\u001b[1;33m,\u001b[0m\u001b[0mvcp1\u001b[0m\u001b[1;33m,\u001b[0m\u001b[0mlabel\u001b[0m \u001b[1;33m=\u001b[0m \u001b[1;34m\"Linear\"\u001b[0m\u001b[1;33m,\u001b[0m \u001b[0mc\u001b[0m\u001b[1;33m=\u001b[0m\u001b[1;34m\"b\"\u001b[0m\u001b[1;33m)\u001b[0m\u001b[1;33m\u001b[0m\u001b[0m\n\u001b[0;32m     14\u001b[0m \u001b[0mvcp2\u001b[0m \u001b[1;33m=\u001b[0m \u001b[0mmodel2\u001b[0m\u001b[1;33m.\u001b[0m\u001b[0mpredict\u001b[0m\u001b[1;33m(\u001b[0m\u001b[0mvc3\u001b[0m\u001b[1;33m)\u001b[0m\u001b[1;33m\u001b[0m\u001b[0m\n",
      "\u001b[1;32mC:\\ProgramData\\Anaconda3\\lib\\site-packages\\sklearn\\linear_model\\base.py\u001b[0m in \u001b[0;36mpredict\u001b[1;34m(self, X)\u001b[0m\n\u001b[0;32m    254\u001b[0m             \u001b[0mReturns\u001b[0m \u001b[0mpredicted\u001b[0m \u001b[0mvalues\u001b[0m\u001b[1;33m.\u001b[0m\u001b[1;33m\u001b[0m\u001b[0m\n\u001b[0;32m    255\u001b[0m         \"\"\"\n\u001b[1;32m--> 256\u001b[1;33m         \u001b[1;32mreturn\u001b[0m \u001b[0mself\u001b[0m\u001b[1;33m.\u001b[0m\u001b[0m_decision_function\u001b[0m\u001b[1;33m(\u001b[0m\u001b[0mX\u001b[0m\u001b[1;33m)\u001b[0m\u001b[1;33m\u001b[0m\u001b[0m\n\u001b[0m\u001b[0;32m    257\u001b[0m \u001b[1;33m\u001b[0m\u001b[0m\n\u001b[0;32m    258\u001b[0m     \u001b[0m_preprocess_data\u001b[0m \u001b[1;33m=\u001b[0m \u001b[0mstaticmethod\u001b[0m\u001b[1;33m(\u001b[0m\u001b[0m_preprocess_data\u001b[0m\u001b[1;33m)\u001b[0m\u001b[1;33m\u001b[0m\u001b[0m\n",
      "\u001b[1;32mC:\\ProgramData\\Anaconda3\\lib\\site-packages\\sklearn\\linear_model\\base.py\u001b[0m in \u001b[0;36m_decision_function\u001b[1;34m(self, X)\u001b[0m\n\u001b[0;32m    239\u001b[0m         \u001b[0mX\u001b[0m \u001b[1;33m=\u001b[0m \u001b[0mcheck_array\u001b[0m\u001b[1;33m(\u001b[0m\u001b[0mX\u001b[0m\u001b[1;33m,\u001b[0m \u001b[0maccept_sparse\u001b[0m\u001b[1;33m=\u001b[0m\u001b[1;33m[\u001b[0m\u001b[1;34m'csr'\u001b[0m\u001b[1;33m,\u001b[0m \u001b[1;34m'csc'\u001b[0m\u001b[1;33m,\u001b[0m \u001b[1;34m'coo'\u001b[0m\u001b[1;33m]\u001b[0m\u001b[1;33m)\u001b[0m\u001b[1;33m\u001b[0m\u001b[0m\n\u001b[0;32m    240\u001b[0m         return safe_sparse_dot(X, self.coef_.T,\n\u001b[1;32m--> 241\u001b[1;33m                                dense_output=True) + self.intercept_\n\u001b[0m\u001b[0;32m    242\u001b[0m \u001b[1;33m\u001b[0m\u001b[0m\n\u001b[0;32m    243\u001b[0m     \u001b[1;32mdef\u001b[0m \u001b[0mpredict\u001b[0m\u001b[1;33m(\u001b[0m\u001b[0mself\u001b[0m\u001b[1;33m,\u001b[0m \u001b[0mX\u001b[0m\u001b[1;33m)\u001b[0m\u001b[1;33m:\u001b[0m\u001b[1;33m\u001b[0m\u001b[0m\n",
      "\u001b[1;32mC:\\ProgramData\\Anaconda3\\lib\\site-packages\\sklearn\\utils\\extmath.py\u001b[0m in \u001b[0;36msafe_sparse_dot\u001b[1;34m(a, b, dense_output)\u001b[0m\n\u001b[0;32m    138\u001b[0m         \u001b[1;32mreturn\u001b[0m \u001b[0mret\u001b[0m\u001b[1;33m\u001b[0m\u001b[0m\n\u001b[0;32m    139\u001b[0m     \u001b[1;32melse\u001b[0m\u001b[1;33m:\u001b[0m\u001b[1;33m\u001b[0m\u001b[0m\n\u001b[1;32m--> 140\u001b[1;33m         \u001b[1;32mreturn\u001b[0m \u001b[0mnp\u001b[0m\u001b[1;33m.\u001b[0m\u001b[0mdot\u001b[0m\u001b[1;33m(\u001b[0m\u001b[0ma\u001b[0m\u001b[1;33m,\u001b[0m \u001b[0mb\u001b[0m\u001b[1;33m)\u001b[0m\u001b[1;33m\u001b[0m\u001b[0m\n\u001b[0m\u001b[0;32m    141\u001b[0m \u001b[1;33m\u001b[0m\u001b[0m\n\u001b[0;32m    142\u001b[0m \u001b[1;33m\u001b[0m\u001b[0m\n",
      "\u001b[1;31mValueError\u001b[0m: shapes (1,4) and (6,1) not aligned: 4 (dim 1) != 6 (dim 0)"
     ]
    }
   ],
   "source": [
    "velo = [2.73,0.28,1.31,1.10,0.28,-3.69,-3.81]\n",
    "vc = pd.DataFrame([velo], columns = ['Rev Growth','GP Margin','R&D Margin', 'S&M Margin', 'G&A Margin','EBITDA Margin', 'Profit Margin'])\n",
    "vc = vc.drop(['G&A Margin'], axis=1)\n",
    "vc3 = vc.drop(['R&D Margin', 'S&M Margin'],axis=1) #AB\n",
    "vc4 = vc.drop(['R&D Margin', 'Profit Margin'],axis=1) #LM\n",
    "vc5 = vc.drop(['R&D Margin'],axis=1)\n",
    "vc6 = vc.drop(['Profit Margin'],axis=1)\n",
    "vc_test = 285/61\n",
    "t = 1.98062600245909 #consistent with sample size at 95% confidence interval\n",
    "x23 = range(100)\n",
    "y23 = range(100)\n",
    "vcp1 = model.predict(vc4)\n",
    "plt.scatter(vc_test,vcp1,label = \"Linear\", c=\"b\")\n",
    "vcp2 = model2.predict(vc3)\n",
    "plt.scatter(vc_test,vcp1,label = \"Boosted\", c=\"r\")\n",
    "plt.scatter(vc_test,vc_test,label = \"Actual\", c=\"g\")\n",
    "plt.legend()\n",
    "plt.xlabel(\"True Values\")\n",
    "plt.ylabel(\"Predictions\")\n",
    "plt.savefig(\"graph.svg\")"
   ]
  },
  {
   "cell_type": "code",
   "execution_count": 32,
   "metadata": {},
   "outputs": [
    {
     "data": {
      "image/png": "[encoded data removed]",
      "text/plain": [
       "<Figure size 432x288 with 1 Axes>"
      ]
     },
     "metadata": {
      "needs_background": "light"
     },
     "output_type": "display_data"
    }
   ],
   "source": [
    "crowd = [0.433,0.547,0.472,0.901,0.240,-0.967,-1.086]\n",
    "cr = pd.DataFrame([crowd], columns = ['Rev Growth','GP Margin','R&D Margin', 'S&M Margin', 'G&A Margin','EBITDA Margin', 'Profit Margin'])\n",
    "cr = cr.drop(['G&A Margin'], axis=1)\n",
    "cr3 = cr.drop(['R&D Margin', 'S&M Margin'],axis=1) #AB\n",
    "cr4 = cr.drop(['R&D Margin', 'Profit Margin'],axis=1) #LM\n",
    "cr_test = 3150/115.567\n",
    "t = 1.98062600245909 #consistent with sample size at 95% confidence interval\n",
    "x23 = range(100)\n",
    "y23 = range(100)\n",
    "crp1 = model.predict(cr4)\n",
    "plt.scatter(cr_test,crp1,label = \"Linear\", c=\"b\")\n",
    "crp2 = model2.predict(cr3)\n",
    "plt.scatter(cr_test,crp2,label = \"Boosted\", c=\"r\")\n",
    "plt.scatter(cr_test,cr_test,label = \"Actual\", c=\"g\")\n",
    "plt.legend()\n",
    "plt.xlabel(\"True Values\")\n",
    "plt.ylabel(\"Predictions\")\n",
    "plt.savefig(\"graph.svg\")"
   ]
  },
  {
   "cell_type": "code",
   "execution_count": 33,
   "metadata": {},
   "outputs": [
    {
     "data": {
      "image/png": "[encoded data removed]",
      "text/plain": [
       "<Figure size 432x288 with 1 Axes>"
      ]
     },
     "metadata": {
      "needs_background": "light"
     },
     "output_type": "display_data"
    }
   ],
   "source": [
    "meso = [1.685,.73,0.506,0.375,0.119,-3.25,-3.25]\n",
    "ms = pd.DataFrame([meso], columns = ['Rev Growth','GP Margin','R&D Margin', 'S&M Margin', 'G&A Margin','EBITDA Margin', 'Profit Margin'])\n",
    "ms = ms.drop(['G&A Margin'], axis=1)\n",
    "ms3 = ms.drop(['R&D Margin', 'S&M Margin'],axis=1) #AB\n",
    "ms4 = ms.drop(['R&D Margin', 'Profit Margin'],axis=1) #LM\n",
    "ms_test = 650/10.8\n",
    "t = 1.98062600245909 #consistent with sample size at 95% confidence interval\n",
    "x23 = range(100)\n",
    "y23 = range(100)\n",
    "msp1 = model.predict(ms4)\n",
    "plt.scatter(ms_test,msp1,label = \"Linear\", c=\"b\")\n",
    "msp2 = model2.predict(ms3)\n",
    "plt.scatter(ms_test,msp2,label = \"Boosted\", c=\"r\")\n",
    "plt.scatter(ms_test,ms_test,label = \"Actual\", c=\"g\")\n",
    "plt.legend()\n",
    "plt.xlabel(\"True Values\")\n",
    "plt.ylabel(\"Predictions\")\n",
    "plt.savefig(\"graph.svg\")"
   ]
  },
  {
   "cell_type": "code",
   "execution_count": 34,
   "metadata": {},
   "outputs": [
    {
     "data": {
      "image/png": "[encoded data removed]",
      "text/plain": [
       "<Figure size 432x288 with 1 Axes>"
      ]
     },
     "metadata": {
      "needs_background": "light"
     },
     "output_type": "display_data"
    }
   ],
   "source": [
    "meso = [.672,.73,0.506,0.375,0.119,-3.25,-3.25]\n",
    "ms = pd.DataFrame([meso], columns = ['Rev Growth','GP Margin','R&D Margin', 'S&M Margin', 'G&A Margin','EBITDA Margin', 'Profit Margin'])\n",
    "ms = ms.drop(['G&A Margin'], axis=1)\n",
    "ms3 = ms.drop(['R&D Margin', 'S&M Margin'],axis=1) #AB\n",
    "ms4 = ms.drop(['R&D Margin', 'Profit Margin'],axis=1) #LM\n",
    "ms_test = 650/19\n",
    "t = 1.98062600245909 #consistent with sample size at 95% confidence interval\n",
    "x23 = range(100)\n",
    "y23 = range(100)\n",
    "msp1 = model.predict(ms4)\n",
    "plt.scatter(ms_test,msp1,label = \"Linear\", c=\"b\")\n",
    "msp2 = model2.predict(ms3)\n",
    "plt.scatter(ms_test,msp2,label = \"Boosted\", c=\"r\")\n",
    "plt.scatter(ms_test,ms_test,label = \"Actual\", c=\"g\")\n",
    "plt.legend()\n",
    "plt.xlabel(\"True Values\")\n",
    "plt.ylabel(\"Predictions\")\n",
    "plt.savefig(\"graph.svg\")"
   ]
  },
  {
   "cell_type": "code",
   "execution_count": 35,
   "metadata": {},
   "outputs": [
    {
     "data": {
      "image/png": "[encoded data removed]",
      "text/plain": [
       "<Figure size 432x288 with 1 Axes>"
      ]
     },
     "metadata": {
      "needs_background": "light"
     },
     "output_type": "display_data"
    }
   ],
   "source": [
    "beam = [3.5341,0.82,0.12,0.09,0.240,-1.480,-1.02]\n",
    "bm = pd.DataFrame([beam], columns = ['Rev Growth','GP Margin','R&D Margin', 'S&M Margin', 'G&A Margin','EBITDA Margin', 'Profit Margin'])\n",
    "bm = bm.drop(['G&A Margin'], axis=1)\n",
    "bm3 = bm.drop(['R&D Margin', 'S&M Margin'],axis=1) #AB\n",
    "bm4 = bm.drop(['R&D Margin', 'Profit Margin'],axis=1) #LM\n",
    "bm_test = 350/24\n",
    "t = 1.98062600245909 #consistent with sample size at 95% confidence interval\n",
    "x23 = range(100)\n",
    "y23 = range(100)\n",
    "h = model.predict(bm4)\n",
    "plt.scatter(bm_test,h,label = \"Linear\", c=\"b\")\n",
    "l = model2.predict(bm3)\n",
    "plt.scatter(bm_test,l,label = \"Boosted\", c=\"r\")\n",
    "plt.scatter(bm_test,bm_test,label = \"Actual\", c=\"g\")\n",
    "plt.legend()\n",
    "plt.xlabel(\"True Values\")\n",
    "plt.ylabel(\"Predictions\")\n",
    "plt.savefig(\"graph.svg\")"
   ]
  },
  {
   "cell_type": "code",
   "execution_count": 36,
   "metadata": {},
   "outputs": [
    {
     "data": {
      "image/png": "[encoded data removed]",
      "text/plain": [
       "<Figure size 432x288 with 1 Axes>"
      ]
     },
     "metadata": {
      "needs_background": "light"
     },
     "output_type": "display_data"
    }
   ],
   "source": [
    "beam = [3.5341,0.82,0.12,0.09,0.240,-1.480,-1.02]\n",
    "bm = pd.DataFrame([beam], columns = ['Rev Growth','GP Margin','R&D Margin', 'S&M Margin', 'G&A Margin','EBITDA Margin', 'Profit Margin'])\n",
    "bm = bm.drop(['G&A Margin'], axis=1)\n",
    "bm3 = bm.drop(['R&D Margin', 'S&M Margin'],axis=1) #AB\n",
    "bm4 = bm.drop(['R&D Margin', 'Profit Margin'],axis=1) #LM\n",
    "bm_test = 350/24\n",
    "t = 1.98062600245909 #consistent with sample size at 95% confidence interval\n",
    "x23 = range(100)\n",
    "y23 = range(100)\n",
    "h = model.predict(bm4)\n",
    "l = model2.predict(bm3)\n",
    "dbp1 = model.predict(db4)\n",
    "dbp2 = model2.predict(db3)\n",
    "plt.scatter(db_test,dbp1, label = \"Linear\", c=\"b\")\n",
    "plt.scatter(db_test,dbp2, label = \"Boosted\", c=\"r\")\n",
    "plt.scatter(db_test,db_test, label = \"Actual\", c=\"g\")\n",
    "plt.scatter(bm_test,h,  c=\"b\")\n",
    "plt.scatter(bm_test,l, c=\"r\")\n",
    "plt.scatter(bm_test,bm_test, c=\"g\")\n",
    "plt.scatter(cr_test,crp1,c=\"b\")\n",
    "plt.scatter(cr_test,crp2,c=\"r\")\n",
    "plt.scatter(cr_test,cr_test, c= \"g\")\n",
    "plt.scatter(vc_test,vcp1, c=\"b\")\n",
    "plt.scatter(vc_test,vcp2, c=\"r\")\n",
    "plt.scatter(vc_test,vc_test, c= \"g\")\n",
    "plt.scatter(ms_test,msp1, c=\"b\")\n",
    "plt.scatter(ms_test,msp2,c=\"r\")\n",
    "plt.scatter(ms_test,ms_test, c=\"g\")\n",
    "plt.legend()\n",
    "plt.xlabel(\"True Values\")\n",
    "plt.ylabel(\"Predictions\")\n",
    "plt.savefig(\"graph.svg\")"
   ]
  },
  {
   "cell_type": "code",
   "execution_count": 59,
   "metadata": {},
   "outputs": [],
   "source": [
    "y_val = y.values.flatten()\n",
    "ytest_val = y_test.values.flatten()"
   ]
  },
  {
   "cell_type": "code",
   "execution_count": 57,
   "metadata": {},
   "outputs": [
    {
     "name": "stdout",
     "output_type": "stream",
     "text": [
      "0.4582005782699706\n",
      "0.5567557939799442\n",
      "0.4733245794042885\n",
      "0.45588111310013824\n",
      "0.505379998643761\n",
      "0.46144413284128527\n",
      "0.47385728376535385\n",
      "0.4030960472810693\n"
     ]
    }
   ],
   "source": [
    "variables = [x,a,b,c,d,e,f,g]\n",
    "for q in variables:\n",
    "    x_train, x_test, y_train, y_test = train_test_split(q, y, test_size=0.2, random_state=0)  \n",
    "    model = LinearRegression()\n",
    "    model.fit(x_train, y_train)\n",
    "    model.score(x_test,y_test)\n",
    "    yhat = model.predict(x_test).flatten()\n",
    "    SS_Residual1 = sum((ytest_val-yhat)**2)\n",
    "    std_err1 = math.sqrt(SS_Residual1/121)\n",
    "    moe_1 = std_err1 * 1.1 * t\n",
    "    SS_Total = sum((ytest_val-np.mean(ytest_val))**2)\n",
    "    r_squared = 1 - (float(SS_Residual1))/SS_Total\n",
    "    adjusted_r_squared = 1 - (1-r_squared)*(len(ytest_val)-1)/(len(ytest_val)-x_test.shape[1]-1)\n",
    "    print (adjusted_r_squared)"
   ]
  },
  {
   "cell_type": "code",
   "execution_count": 60,
   "metadata": {},
   "outputs": [
    {
     "data": {
      "text/plain": [
       "4    29\n",
       "7    28\n",
       "1    27\n",
       "3    16\n",
       "dtype: int64"
      ]
     },
     "execution_count": 60,
     "metadata": {},
     "output_type": "execute_result"
    }
   ],
   "source": [
    "variables = [x,a,b,c,d,e,f,g] \n",
    "state = range (100)\n",
    "newdata={}\n",
    "for w in state:\n",
    "    col = []\n",
    "    for q in variables:\n",
    "        x_train, x_test, y_train, y_test = train_test_split(q, y, test_size=0.3, random_state=0)  \n",
    "        model2 = ensemble.AdaBoostRegressor(random_state=w)\n",
    "        model2.fit(x_train,y_train.values.ravel())\n",
    "        yhat = model2.predict(x_test).flatten()\n",
    "        SS_Residual1 = sum((ytest_val-yhat)**2)\n",
    "        SS_Total = sum((ytest_val-np.mean(ytest_val))**2)\n",
    "        r_squared = 1 - (float(SS_Residual1))/SS_Total\n",
    "        adjusted_r_squared = 1 - (1-r_squared)*(len(ytest_val)-1)/(len(ytest_val)-x_test.shape[1]-1)\n",
    "        col.append(adjusted_r_squared)\n",
    "        newdata[\"State{}\".format(w)] = col\n",
    "newcol = pd.DataFrame (newdata)      \n",
    "newcol.idxmax().value_counts()"
   ]
  },
  {
   "cell_type": "code",
   "execution_count": null,
   "metadata": {},
   "outputs": [],
   "source": []
  }
 ],
 "metadata": {
  "kernelspec": {
   "display_name": "Python 3",
   "language": "python",
   "name": "python3"
  },
  "language_info": {
   "codemirror_mode": {
    "name": "ipython",
    "version": 3
   },
   "file_extension": ".py",
   "mimetype": "text/x-python",
   "name": "python",
   "nbconvert_exporter": "python",
   "pygments_lexer": "ipython3",
   "version": "3.7.0"
  }
 },
 "nbformat": 4,
 "nbformat_minor": 2
}
