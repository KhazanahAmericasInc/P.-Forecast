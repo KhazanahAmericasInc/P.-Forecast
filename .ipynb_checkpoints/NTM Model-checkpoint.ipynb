{
 "cells": [
  {
   "cell_type": "markdown",
   "metadata": {
    "_cell_guid": "6ea51bc1-c7e6-5022-f91e-5933202f9f3a",
    "_uuid": "cde1f7416981edcc7951bbc7a4928933b7ba3760"
   },
   "source": [
    "#INTRODUCTION \n",
    "\n",
    "**Caveat** : Running this notebook will take a while if you do decide to fork so take note. A handful of minutes.\n",
    "\n",
    "This notebook will aim to provide an explanation and application of different feature ranking methods, namely that of Recursive Feature Elimination (RFE), Stability Selection, linear models as well as Random Forest. But first off, it is always imperative to give credit where credit is due. The stuff in this notebook is indebted to and borrows heavily from the excellent 4-part blog article by Ando Saabas on feature selection. So please do check out his article from this link: http://blog.datadive.net/selecting-good-features-part-iv-stability-selection-rfe-and-everything-side-by-side/ \n",
    "\n",
    "The contents of this notebook are as follows: \n",
    "\n",
    " 1. **Data Cleaning and Visualisation** : This section will revolve around exploring the data and visualising some summary statistics. \n",
    " 2. **Stability Selection via Randomised Lasso Method** : Introduce a relatively new feature selection method called \"Stability Selection\" and using the Randomised Lasso in its implementation\n",
    " 3. **Recursive Feature Elimination** : Implementing the Recursive Feature Elimination method of feature ranking via the use of basic Linear Regression \n",
    " 4. **Linear Model Feature Coefficients** : Implementing 3 of Sklearn's linear models (Linear Regression, Lasso and Ridge) and using the inbuilt estimated coefficients for our feature selection\n",
    " 5. **Random Forest Feature Selection** : Using the Random Forest's convenient attribute \"feature_importances\" to calculate and ultimately rank the feature importance.\n",
    "\n",
    "Finally, with all the points 1 to 5 above, we will combine the results to create our:\n",
    "\n",
    "**Feature Ranking Matrix** : Matrix of all the features along with the respective model scores which we can use in our ranking.\n",
    " "
   ]
  },
  {
   "cell_type": "code",
   "execution_count": 829,
   "metadata": {
    "_cell_guid": "15b3d941-c4a4-4c3f-bef1-4c4fcce4a33a",
    "_uuid": "8e0e4f54f2e722ae2cbf175d284d3a3cc0baf024",
    "collapsed": true
   },
   "outputs": [],
   "source": [
    "import pandas as pd\n",
    "import numpy as np\n",
    "from matplotlib import pyplot as plt\n",
    "import seaborn as sns\n",
    "%matplotlib inline\n",
    "from sklearn.feature_selection import RFE, f_regression\n",
    "from sklearn.linear_model import (LinearRegression, Ridge, Lasso, RandomizedLasso)\n",
    "from sklearn.preprocessing import MinMaxScaler\n",
    "from sklearn.ensemble import RandomForestRegressor\n",
    "from sklearn.model_selection import train_test_split, KFold, cross_val_score # to split the data\n",
    "from sklearn.metrics import explained_variance_score, median_absolute_error, r2_score, mean_squared_error, accuracy_score, confusion_matrix, classification_report, fbeta_score #To evaluate our model\n",
    "from sklearn.grid_search import GridSearchCV\n",
    "from sklearn.linear_model import SGDRegressor\n",
    "from sklearn.model_selection import KFold, cross_val_score, train_test_split # Model evaluation\n",
    "from sklearn.preprocessing import LabelEncoder, OneHotEncoder, StandardScaler # Preprocessing\n",
    "from sklearn.linear_model import Lasso, Ridge, ElasticNet, RANSACRegressor, SGDRegressor, HuberRegressor, BayesianRidge # Linear models\n",
    "from sklearn.ensemble import RandomForestRegressor, BaggingRegressor, AdaBoostRegressor, GradientBoostingRegressor, ExtraTreesRegressor  # Ensemble methods\n",
    "from xgboost import XGBRegressor, plot_importance # XGBoost\n",
    "from sklearn.svm import SVR, SVC, LinearSVC  # Support Vector Regression\n",
    "from sklearn.tree import DecisionTreeRegressor # Decision Tree Regression\n",
    "from sklearn.neighbors import KNeighborsRegressor\n",
    "from sklearn.pipeline import Pipeline # Streaming pipelines\n",
    "from sklearn.decomposition import KernelPCA, PCA # Dimensionality reduction\n",
    "from sklearn.feature_selection import SelectFromModel # Dimensionality reduction\n",
    "from sklearn.model_selection import learning_curve, validation_curve, GridSearchCV # Model evaluation\n",
    "from sklearn.base import clone # Clone estimator\n",
    "from sklearn.metrics import mean_squared_error as MSE\n",
    "from scipy import stats"
   ]
  },
  {
   "cell_type": "markdown",
   "metadata": {
    "_cell_guid": "2b932325-d368-ee17-75cb-40feb7e8d1bf",
    "_uuid": "5c3eb6eb38eb2cb7a119a52df82845d57d815a98"
   },
   "source": [
    "# 1. DATA CLEANSING AND ANALYSIS\n",
    "\n",
    "Let's first read in the house data as a dataframe \"house\" and inspect the first 5 rows"
   ]
  },
  {
   "cell_type": "code",
   "execution_count": 830,
   "metadata": {
    "_cell_guid": "1ca75509-383d-c6f5-d809-8a0e99b4e844",
    "_uuid": "ee8644c1339dc96ddffb9dea31086f76624e26eb",
    "collapsed": true
   },
   "outputs": [
    {
     "data": {
      "text/html": [
       "<div>\n",
       "<style scoped>\n",
       "    .dataframe tbody tr th:only-of-type {\n",
       "        vertical-align: middle;\n",
       "    }\n",
       "\n",
       "    .dataframe tbody tr th {\n",
       "        vertical-align: top;\n",
       "    }\n",
       "\n",
       "    .dataframe thead th {\n",
       "        text-align: right;\n",
       "    }\n",
       "</style>\n",
       "<table border=\"1\" class=\"dataframe\">\n",
       "  <thead>\n",
       "    <tr style=\"text-align: right;\">\n",
       "      <th></th>\n",
       "      <th>Company</th>\n",
       "      <th>EV/TTM</th>\n",
       "      <th>TTMRevGr</th>\n",
       "      <th>NTMRevGr</th>\n",
       "      <th>GP%</th>\n",
       "      <th>SM%</th>\n",
       "      <th>EBITDA%</th>\n",
       "      <th>Cash%</th>\n",
       "    </tr>\n",
       "  </thead>\n",
       "  <tbody>\n",
       "    <tr>\n",
       "      <th>0</th>\n",
       "      <td>COUP US Equity</td>\n",
       "      <td>14.861419</td>\n",
       "      <td>1.618311</td>\n",
       "      <td>0.213140</td>\n",
       "      <td>0.688601</td>\n",
       "      <td>0.404948</td>\n",
       "      <td>-0.159579</td>\n",
       "      <td>1.884584</td>\n",
       "    </tr>\n",
       "    <tr>\n",
       "      <th>1</th>\n",
       "      <td>TEAM US Equity</td>\n",
       "      <td>16.244587</td>\n",
       "      <td>1.072875</td>\n",
       "      <td>0.324274</td>\n",
       "      <td>0.812349</td>\n",
       "      <td>0.198422</td>\n",
       "      <td>0.045933</td>\n",
       "      <td>1.488604</td>\n",
       "    </tr>\n",
       "    <tr>\n",
       "      <th>2</th>\n",
       "      <td>SEND US Equity</td>\n",
       "      <td>10.497367</td>\n",
       "      <td>0.605037</td>\n",
       "      <td>0.217298</td>\n",
       "      <td>0.742340</td>\n",
       "      <td>0.219699</td>\n",
       "      <td>0.035093</td>\n",
       "      <td>1.367974</td>\n",
       "    </tr>\n",
       "    <tr>\n",
       "      <th>3</th>\n",
       "      <td>MB US Equity</td>\n",
       "      <td>6.871663</td>\n",
       "      <td>0.523072</td>\n",
       "      <td>0.318874</td>\n",
       "      <td>0.707418</td>\n",
       "      <td>0.339215</td>\n",
       "      <td>-0.054009</td>\n",
       "      <td>1.095778</td>\n",
       "    </tr>\n",
       "    <tr>\n",
       "      <th>4</th>\n",
       "      <td>PRO US Equity</td>\n",
       "      <td>6.584861</td>\n",
       "      <td>0.197950</td>\n",
       "      <td>0.121182</td>\n",
       "      <td>0.596355</td>\n",
       "      <td>0.370968</td>\n",
       "      <td>-0.240980</td>\n",
       "      <td>0.874129</td>\n",
       "    </tr>\n",
       "  </tbody>\n",
       "</table>\n",
       "</div>"
      ],
      "text/plain": [
       "          Company     EV/TTM  TTMRevGr  NTMRevGr       GP%       SM%  \\\n",
       "0  COUP US Equity  14.861419  1.618311  0.213140  0.688601  0.404948   \n",
       "1  TEAM US Equity  16.244587  1.072875  0.324274  0.812349  0.198422   \n",
       "2  SEND US Equity  10.497367  0.605037  0.217298  0.742340  0.219699   \n",
       "3    MB US Equity   6.871663  0.523072  0.318874  0.707418  0.339215   \n",
       "4   PRO US Equity   6.584861  0.197950  0.121182  0.596355  0.370968   \n",
       "\n",
       "    EBITDA%     Cash%  \n",
       "0 -0.159579  1.884584  \n",
       "1  0.045933  1.488604  \n",
       "2  0.035093  1.367974  \n",
       "3 -0.054009  1.095778  \n",
       "4 -0.240980  0.874129  "
      ]
     },
     "execution_count": 830,
     "metadata": {},
     "output_type": "execute_result"
    }
   ],
   "source": [
    "house = pd.read_csv(\"newday26.csv\")\n",
    "house.head()"
   ]
  },
  {
   "cell_type": "code",
   "execution_count": 831,
   "metadata": {
    "_cell_guid": "b6d0eee1-089e-e880-982a-a81d8f36a899",
    "_uuid": "cd35006e81ba37d1832711d82dcfe89b634802f8",
    "collapsed": true
   },
   "outputs": [],
   "source": [
    "# Dropping the id and date columns\n",
    "house = house.drop(house.columns[0],axis=1)"
   ]
  },
  {
   "cell_type": "code",
   "execution_count": 900,
   "metadata": {},
   "outputs": [
    {
     "data": {
      "text/html": [
       "<div>\n",
       "<style scoped>\n",
       "    .dataframe tbody tr th:only-of-type {\n",
       "        vertical-align: middle;\n",
       "    }\n",
       "\n",
       "    .dataframe tbody tr th {\n",
       "        vertical-align: top;\n",
       "    }\n",
       "\n",
       "    .dataframe thead th {\n",
       "        text-align: right;\n",
       "    }\n",
       "</style>\n",
       "<table border=\"1\" class=\"dataframe\">\n",
       "  <thead>\n",
       "    <tr style=\"text-align: right;\">\n",
       "      <th></th>\n",
       "      <th>TTMRevGr</th>\n",
       "      <th>NTMRevGr</th>\n",
       "      <th>GP%</th>\n",
       "      <th>SM%</th>\n",
       "      <th>EBITDA%</th>\n",
       "      <th>Cash%</th>\n",
       "    </tr>\n",
       "  </thead>\n",
       "  <tbody>\n",
       "    <tr>\n",
       "      <th>count</th>\n",
       "      <td>122.000000</td>\n",
       "      <td>122.000000</td>\n",
       "      <td>122.000000</td>\n",
       "      <td>122.000000</td>\n",
       "      <td>122.000000</td>\n",
       "      <td>122.000000</td>\n",
       "    </tr>\n",
       "    <tr>\n",
       "      <th>mean</th>\n",
       "      <td>0.481896</td>\n",
       "      <td>0.213551</td>\n",
       "      <td>0.692409</td>\n",
       "      <td>0.346246</td>\n",
       "      <td>0.011866</td>\n",
       "      <td>0.364266</td>\n",
       "    </tr>\n",
       "    <tr>\n",
       "      <th>std</th>\n",
       "      <td>0.496437</td>\n",
       "      <td>0.167807</td>\n",
       "      <td>0.131578</td>\n",
       "      <td>0.165590</td>\n",
       "      <td>0.220493</td>\n",
       "      <td>0.287921</td>\n",
       "    </tr>\n",
       "    <tr>\n",
       "      <th>min</th>\n",
       "      <td>-0.568214</td>\n",
       "      <td>0.008429</td>\n",
       "      <td>0.310098</td>\n",
       "      <td>0.006745</td>\n",
       "      <td>-0.560198</td>\n",
       "      <td>0.029460</td>\n",
       "    </tr>\n",
       "    <tr>\n",
       "      <th>25%</th>\n",
       "      <td>0.161204</td>\n",
       "      <td>0.088466</td>\n",
       "      <td>0.598468</td>\n",
       "      <td>0.212013</td>\n",
       "      <td>-0.136841</td>\n",
       "      <td>0.184724</td>\n",
       "    </tr>\n",
       "    <tr>\n",
       "      <th>50%</th>\n",
       "      <td>0.353902</td>\n",
       "      <td>0.183586</td>\n",
       "      <td>0.713207</td>\n",
       "      <td>0.343720</td>\n",
       "      <td>0.029331</td>\n",
       "      <td>0.292289</td>\n",
       "    </tr>\n",
       "    <tr>\n",
       "      <th>75%</th>\n",
       "      <td>0.636149</td>\n",
       "      <td>0.287761</td>\n",
       "      <td>0.792157</td>\n",
       "      <td>0.459307</td>\n",
       "      <td>0.160768</td>\n",
       "      <td>0.464148</td>\n",
       "    </tr>\n",
       "    <tr>\n",
       "      <th>max</th>\n",
       "      <td>2.773790</td>\n",
       "      <td>1.003083</td>\n",
       "      <td>0.900197</td>\n",
       "      <td>0.726084</td>\n",
       "      <td>0.500626</td>\n",
       "      <td>1.884584</td>\n",
       "    </tr>\n",
       "  </tbody>\n",
       "</table>\n",
       "</div>"
      ],
      "text/plain": [
       "         TTMRevGr    NTMRevGr         GP%         SM%     EBITDA%       Cash%\n",
       "count  122.000000  122.000000  122.000000  122.000000  122.000000  122.000000\n",
       "mean     0.481896    0.213551    0.692409    0.346246    0.011866    0.364266\n",
       "std      0.496437    0.167807    0.131578    0.165590    0.220493    0.287921\n",
       "min     -0.568214    0.008429    0.310098    0.006745   -0.560198    0.029460\n",
       "25%      0.161204    0.088466    0.598468    0.212013   -0.136841    0.184724\n",
       "50%      0.353902    0.183586    0.713207    0.343720    0.029331    0.292289\n",
       "75%      0.636149    0.287761    0.792157    0.459307    0.160768    0.464148\n",
       "max      2.773790    1.003083    0.900197    0.726084    0.500626    1.884584"
      ]
     },
     "execution_count": 900,
     "metadata": {},
     "output_type": "execute_result"
    }
   ],
   "source": [
    "house.describe()"
   ]
  },
  {
   "cell_type": "markdown",
   "metadata": {
    "_cell_guid": "c0b6dced-bb93-bf29-2a27-4a5b0a05d185",
    "_uuid": "b5085a15f47eeca65b2999a3371230979751c288"
   },
   "source": [
    "**Pairplot Visualisation**\n",
    "\n",
    "Let's create some Seaborn pairplots for the features ('sqft_lot','sqft_above','price','sqft_living','bedrooms') to get a feel for how the various features are distributed vis-a-vis the price as well as the number of bedrooms"
   ]
  },
  {
   "cell_type": "code",
   "execution_count": 825,
   "metadata": {},
   "outputs": [
    {
     "data": {
      "image/png": "[encoded data removed]",
      "text/plain": [
       "<Figure size 1080x180 with 6 Axes>"
      ]
     },
     "metadata": {
      "needs_background": "light"
     },
     "output_type": "display_data"
    }
   ],
   "source": [
    "sns_plot = sns.pairplot(data=house,\n",
    "                  y_vars=['EV/TTM'],\n",
    "                  x_vars=['TTMRevGr', 'NTMRevGr', 'GP%', 'SM%', 'EBITDA%', 'Cash%'])\n",
    "sns_plot.savefig(\"output.png\")"
   ]
  },
  {
   "cell_type": "code",
   "execution_count": 517,
   "metadata": {
    "_cell_guid": "2a9dbedc-9be7-f89d-a855-f21738d72e17",
    "_uuid": "74c725f2563ccb6d1bd9fe35a85d36dfb9488d9c",
    "collapsed": true
   },
   "outputs": [
    {
     "ename": "NameError",
     "evalue": "name 'g' is not defined",
     "output_type": "error",
     "traceback": [
      "\u001b[1;31m---------------------------------------------------------------------------\u001b[0m",
      "\u001b[1;31mNameError\u001b[0m                                 Traceback (most recent call last)",
      "\u001b[1;32m<ipython-input-517-685a65440d24>\u001b[0m in \u001b[0;36m<module>\u001b[1;34m()\u001b[0m\n\u001b[1;32m----> 1\u001b[1;33m \u001b[0msns_plot\u001b[0m \u001b[1;33m=\u001b[0m \u001b[0msns\u001b[0m\u001b[1;33m.\u001b[0m\u001b[0mpairplot\u001b[0m\u001b[1;33m(\u001b[0m\u001b[0mhouse\u001b[0m\u001b[1;33m,\u001b[0m \u001b[0mhue\u001b[0m\u001b[1;33m=\u001b[0m\u001b[0mg\u001b[0m\u001b[1;33m)\u001b[0m\u001b[1;33m\u001b[0m\u001b[0m\n\u001b[0m\u001b[0;32m      2\u001b[0m \u001b[0msns_plot\u001b[0m\u001b[1;33m.\u001b[0m\u001b[0msavefig\u001b[0m\u001b[1;33m(\u001b[0m\u001b[1;34m\"output.png\"\u001b[0m\u001b[1;33m)\u001b[0m\u001b[1;33m\u001b[0m\u001b[0m\n",
      "\u001b[1;31mNameError\u001b[0m: name 'g' is not defined"
     ]
    }
   ],
   "source": [
    "sns_plot = sns.pairplot(house)\n",
    "sns_plot.savefig(\"output.png\")"
   ]
  },
  {
   "cell_type": "markdown",
   "metadata": {
    "_cell_guid": "222bcbc2-3f3d-9ca0-f30f-757206f923d5",
    "_uuid": "e7f9d812082c1de0ac06a05d5efa2be1b4cdeb3e"
   },
   "source": [
    "From the pairplots, we seem to get the classical linear distribution of the data points, for example with price against sqft_living. This bodes well as in the latter analysis, we will implement some linear models which we will use in our Feature ranking. Let's look at the correlation heatmap: "
   ]
  },
  {
   "cell_type": "code",
   "execution_count": 498,
   "metadata": {
    "_cell_guid": "1d179a59-c663-ef84-c66f-cb8e43226a7c",
    "_uuid": "f2c6729c00b5f2be3cd522e96a4cacfb899a3e02",
    "collapsed": true
   },
   "outputs": [
    {
     "data": {
      "text/plain": [
       "<matplotlib.axes._subplots.AxesSubplot at 0x2eabba80470>"
      ]
     },
     "execution_count": 498,
     "metadata": {},
     "output_type": "execute_result"
    },
    {
     "data": {
      "image/png": "[encoded data removed]",
      "text/plain": [
       "<Figure size 1152x864 with 2 Axes>"
      ]
     },
     "metadata": {
      "needs_background": "light"
     },
     "output_type": "display_data"
    }
   ],
   "source": [
    "str_list = [] # empty list to contain columns with strings (words)\n",
    "for colname, colvalue in house.iteritems():\n",
    "    if type(colvalue[1]) == str:\n",
    "         str_list.append(colname)\n",
    "# Get to the numeric columns by inversion            \n",
    "num_list = house.columns.difference(str_list) \n",
    "# Create Dataframe containing only numerical features\n",
    "house_num = house[num_list]\n",
    "f, ax = plt.subplots(figsize=(16, 12))\n",
    "plt.title('Pearson Correlation of features')\n",
    "# Draw the heatmap using seaborn\n",
    "#sns.heatmap(house_num.astype(float).corr(),linewidths=0.25,vmax=1.0, square=True, cmap=\"PuBuGn\", linecolor='k', annot=True)\n",
    "sns.heatmap(house_num.astype(float).corr(),linewidths=0.25,vmax=1.0, square=True, cmap=\"cubehelix\", linecolor='k', annot=True)"
   ]
  },
  {
   "cell_type": "markdown",
   "metadata": {
    "_cell_guid": "fc3d8109-ebc5-264c-f964-04f66da0fec0",
    "_uuid": "a3668fbd5d02ee623aaf7f2cbc430c8301989db3"
   },
   "source": [
    "# 2. Stability Selection via Randomized Lasso\n",
    "\n",
    "In a nutshell, this method serves to apply the feature selection on different parts of the data and features repeatedly until the results can be aggregated. Therefore stronger features ( defined as being selected as important) will have greater scores in this method as compared to weaker features. Refer to this paper by Nicolai Meinshausen and Peter Buhlmann for a much greater detail on the method : http://stat.ethz.ch/~nicolai/stability.pdf\n",
    "\n",
    "In this notebook, the Stability Selection method is conveniently inbuilt into sklearn's randomized lasso model and therefore this will be implemented as follows:"
   ]
  },
  {
   "cell_type": "code",
   "execution_count": 833,
   "metadata": {
    "_cell_guid": "45351992-0216-dd3d-76fe-4a658674f0c4",
    "_uuid": "f7b3717f89e357ee844277dde65f298fd2804276",
    "collapsed": true
   },
   "outputs": [],
   "source": [
    "# First extract the target variable which is our House prices\n",
    "Y = house['EV/TTM']\n",
    "Y = Y.values.ravel()\n",
    "# Drop price from the house dataframe and create a matrix out of the house data\n",
    "house = house.drop(['EV/TTM'], axis=1)\n",
    "X = house\n",
    "#X = house.as_matrix()\n",
    "# Store the column/feature names into a list \"colnames\"\n",
    "colnames = house.columns"
   ]
  },
  {
   "cell_type": "code",
   "execution_count": 500,
   "metadata": {},
   "outputs": [
    {
     "data": {
      "text/plain": [
       "Index(['TTMRevGr', 'NTMRevGr', 'GP%', 'SM%', 'EBITDA%', 'Cash%'], dtype='object')"
      ]
     },
     "execution_count": 500,
     "metadata": {},
     "output_type": "execute_result"
    }
   ],
   "source": [
    "colnames"
   ]
  },
  {
   "cell_type": "markdown",
   "metadata": {
    "_cell_guid": "1c239bb6-b82e-e35b-7c3c-580c98094cce",
    "_uuid": "1a7926be983626aa6889161a19eee043eef24051"
   },
   "source": [
    "Next, we create a function which will be able to conveniently store our feature rankings obtained from the various methods described here into a Python dictionary. In case you are thinking I created this function, no this is not the case. All credit goes to Ando Saabas and I am only trying to apply what he has discussed in the context of this dataset."
   ]
  },
  {
   "cell_type": "code",
   "execution_count": 501,
   "metadata": {
    "_cell_guid": "ecc7b17a-b6d5-7d6c-726d-de7b75c3c1eb",
    "_uuid": "c92f382f667f648e7679f4b8b48100dd56273119",
    "collapsed": true
   },
   "outputs": [],
   "source": [
    "# Define dictionary to store our rankings\n",
    "ranks = {}\n",
    "# Create our function which stores the feature rankings to the ranks dictionary\n",
    "def ranking(ranks, names, order=1):\n",
    "    minmax = MinMaxScaler()\n",
    "    ranks = minmax.fit_transform(order*np.array([ranks]).T).T[0]\n",
    "    ranks = map(lambda x: round(x,2), ranks)\n",
    "    return dict(zip(names, ranks))"
   ]
  },
  {
   "cell_type": "code",
   "execution_count": 502,
   "metadata": {
    "_cell_guid": "a56e6fbf-1511-2ff7-0693-2f55aa0d21cd",
    "_uuid": "53bdbc76d42cb608da895a5f57f50d6a714bbb4d",
    "collapsed": true
   },
   "outputs": [
    {
     "name": "stderr",
     "output_type": "stream",
     "text": [
      "C:\\ProgramData\\Anaconda3\\lib\\site-packages\\sklearn\\utils\\deprecation.py:58: DeprecationWarning: Class RandomizedLasso is deprecated; The class RandomizedLasso is deprecated in 0.19 and will be removed in 0.21.\n",
      "  warnings.warn(msg, category=DeprecationWarning)\n"
     ]
    },
    {
     "name": "stdout",
     "output_type": "stream",
     "text": [
      "finished\n"
     ]
    }
   ],
   "source": [
    "# Finally let's run our Selection Stability method with Randomized Lasso\n",
    "rlasso = RandomizedLasso(alpha=0.04)\n",
    "rlasso.fit(X, Y)\n",
    "ranks[\"rlasso/Stability\"] = ranking(np.abs(rlasso.scores_), colnames)\n",
    "print('finished')"
   ]
  },
  {
   "cell_type": "markdown",
   "metadata": {
    "_cell_guid": "15244118-31f5-e2df-8ce0-34a6d8f5c729",
    "_uuid": "e4620d40f9df515483eb62a507425f74345ca99f"
   },
   "source": [
    "# 3. Recursive Feature Elimination ( RFE )\n",
    "\n",
    "Now onto the next method in our feature ranking endeavour. Recursive Feature Elimination or RFE uses a model ( eg. linear Regression or SVM) to select either the best or worst-performing feature, and then excludes this feature. The whole process is then iterated until all features in the dataset are used up ( or up to a user-defined limit). Sklearn conveniently possesses a RFE function via the sklearn.feature_selection call and we will use this along with a simple linear regression model for our ranking search as follows:"
   ]
  },
  {
   "cell_type": "code",
   "execution_count": 503,
   "metadata": {
    "_cell_guid": "e11f8021-2f8b-074b-d0cc-c6d9d6d8ae8e",
    "_uuid": "f4c3fbbc4edeca6db3b183ed14790cb87f638c73",
    "collapsed": true
   },
   "outputs": [
    {
     "name": "stdout",
     "output_type": "stream",
     "text": [
      "Fitting estimator with 6 features.\n",
      "Fitting estimator with 5 features.\n",
      "Fitting estimator with 4 features.\n",
      "Fitting estimator with 3 features.\n",
      "Fitting estimator with 2 features.\n"
     ]
    }
   ],
   "source": [
    "# Construct our Linear Regression model\n",
    "lr = LinearRegression(normalize=True)\n",
    "lr.fit(X,Y)\n",
    "#stop the search when only the last feature is left\n",
    "rfe = RFE(lr, n_features_to_select=1, verbose =3 )\n",
    "rfe.fit(X,Y)\n",
    "ranks[\"RFE\"] = ranking(list(map(float, rfe.ranking_)), colnames, order=-1)"
   ]
  },
  {
   "cell_type": "markdown",
   "metadata": {
    "_cell_guid": "c6457163-f8c0-85a7-d69f-5ca2a880010f",
    "_uuid": "757117f801fb02d422a4e768e40a380e838e57df"
   },
   "source": [
    "# 4. Linear Model Feature Ranking\n",
    "\n",
    "Now let's apply 3 different linear models (Linear, Lasso and Ridge Regression) and how the features are selected and prioritised via these models. To achieve this, I shall use the sklearn implementation of these models and in particular the attribute .coef to return the estimated coefficients for each feature in the linear model."
   ]
  },
  {
   "cell_type": "code",
   "execution_count": 504,
   "metadata": {
    "_cell_guid": "64b0534b-c62a-7d85-e181-615b7a3743c9",
    "_uuid": "7eae3169285b35f76de75292ae4f6091c31960a9",
    "collapsed": true
   },
   "outputs": [],
   "source": [
    "# Using Linear Regression\n",
    "lr = LinearRegression(normalize=True)\n",
    "lr.fit(X,Y)\n",
    "ranks[\"LinReg\"] = ranking(np.abs(lr.coef_), colnames)\n",
    "\n",
    "# Using Ridge \n",
    "ridge = Ridge(alpha = 7)\n",
    "ridge.fit(X,Y)\n",
    "ranks['Ridge'] = ranking(np.abs(ridge.coef_), colnames)\n",
    "\n",
    "# Using Lasso\n",
    "lasso = Lasso(alpha=.05)\n",
    "lasso.fit(X, Y)\n",
    "ranks[\"Lasso\"] = ranking(np.abs(lasso.coef_), colnames)"
   ]
  },
  {
   "cell_type": "markdown",
   "metadata": {
    "_cell_guid": "ee729bd0-270e-dc30-8fc8-b2d79873c4e1",
    "_uuid": "edb4e6e2625bb63f06d53dd9db73402a83575b9a"
   },
   "source": [
    "# 5. Random Forest feature ranking\n",
    "\n",
    "Sklearn's Random Forest model also comes with it's own inbuilt feature ranking attribute and one can conveniently just call it via \"feature_importances_\". That is what we will be using as follows:"
   ]
  },
  {
   "cell_type": "code",
   "execution_count": 505,
   "metadata": {
    "_cell_guid": "f013dad9-8855-530f-f792-48163dab2457",
    "_uuid": "f8ab99420883f6e3391bdb97048454c03e9c4f8a",
    "collapsed": true
   },
   "outputs": [
    {
     "name": "stdout",
     "output_type": "stream",
     "text": [
      "building tree 1 of 50building tree 2 of 50building tree 3 of 50\n",
      "\n",
      "\n",
      "building tree 4 of 50\n",
      "building tree 5 of 50\n",
      "building tree 6 of 50\n",
      "building tree 7 of 50\n",
      "building tree 8 of 50building tree 9 of 50\n",
      "\n",
      "building tree 10 of 50\n",
      "building tree 11 of 50building tree 12 of 50\n",
      "\n",
      "building tree 13 of 50\n",
      "building tree 14 of 50\n",
      "building tree 15 of 50\n",
      "building tree 16 of 50\n",
      "building tree 17 of 50\n",
      "building tree 18 of 50building tree 19 of 50\n",
      "\n",
      "building tree 20 of 50\n",
      "building tree 21 of 50\n",
      "building tree 22 of 50\n",
      "building tree 23 of 50\n",
      "building tree 24 of 50building tree 25 of 50building tree 26 of 50\n",
      "\n",
      "\n",
      "building tree 27 of 50\n",
      "building tree 28 of 50\n",
      "building tree 29 of 50\n",
      "building tree 30 of 50building tree 31 of 50\n",
      "\n",
      "building tree 32 of 50\n",
      "building tree 33 of 50\n",
      "building tree 34 of 50\n",
      "building tree 35 of 50\n",
      "building tree 36 of 50\n",
      "building tree 37 of 50\n",
      "building tree 38 of 50building tree 39 of 50\n",
      "\n",
      "building tree 40 of 50\n",
      "building tree 41 of 50\n",
      "building tree 42 of 50\n",
      "building tree 43 of 50\n",
      "building tree 44 of 50\n",
      "building tree 45 of 50\n",
      "building tree 46 of 50\n",
      "building tree 47 of 50\n",
      "building tree 48 of 50building tree 49 of 50\n",
      "\n",
      "building tree 50 of 50\n"
     ]
    },
    {
     "name": "stderr",
     "output_type": "stream",
     "text": [
      "[Parallel(n_jobs=-1)]: Done  24 tasks      | elapsed:    0.0s\n",
      "[Parallel(n_jobs=-1)]: Done  50 out of  50 | elapsed:    0.0s finished\n"
     ]
    }
   ],
   "source": [
    "rf = RandomForestRegressor(n_jobs=-1, n_estimators=50, verbose=3)\n",
    "rf.fit(X,Y)\n",
    "ranks[\"RF\"] = ranking(rf.feature_importances_, colnames);"
   ]
  },
  {
   "cell_type": "markdown",
   "metadata": {
    "_cell_guid": "20ed4bd0-29b6-86a8-0bb8-cd34424376d5",
    "_uuid": "37dd6667f94db4526867b21b3375df16954610ef"
   },
   "source": [
    "# 6. Creating the Feature Ranking Matrix\n",
    "\n",
    "We combine the scores from the various methods above and output it in a matrix form for convenient viewing as such:"
   ]
  },
  {
   "cell_type": "code",
   "execution_count": 506,
   "metadata": {
    "_cell_guid": "b6eb5b25-cc7e-f1eb-6a7b-8f591b7e560e",
    "_uuid": "e09a8414122d190ae530b4dcc8b59bf7c6a4d82a",
    "collapsed": true
   },
   "outputs": [
    {
     "name": "stdout",
     "output_type": "stream",
     "text": [
      "\tLasso\tLinReg\tRF\tRFE\tRidge\trlasso/Stability\tMean\n",
      "TTMRevGr\t0.24\t0.11\t0.26\t0.6\t0.72\t1.0\t0.49\n",
      "NTMRevGr\t1.0\t1.0\t1.0\t1.0\t1.0\t1.0\t1.0\n",
      "GP%\t0.32\t0.62\t0.05\t0.8\t0.24\t0.69\t0.45\n",
      "SM%\t0.0\t0.17\t0.12\t0.4\t0.04\t0.11\t0.14\n",
      "EBITDA%\t0.0\t0.04\t0.12\t0.2\t0.0\t0.0\t0.06\n",
      "Cash%\t0.1\t0.0\t0.0\t0.0\t0.21\t0.37\t0.11\n"
     ]
    }
   ],
   "source": [
    "# Create empty dictionary to store the mean value calculated from all the scores\n",
    "r = {}\n",
    "for name in colnames:\n",
    "    r[name] = round(np.mean([ranks[method][name] \n",
    "                             for method in ranks.keys()]), 2)\n",
    " \n",
    "methods = sorted(ranks.keys())\n",
    "ranks[\"Mean\"] = r\n",
    "methods.append(\"Mean\")\n",
    " \n",
    "print(\"\\t%s\" % \"\\t\".join(methods))\n",
    "for name in colnames:\n",
    "    print(\"%s\\t%s\" % (name, \"\\t\".join(map(str, \n",
    "                         [ranks[method][name] for method in methods]))))"
   ]
  },
  {
   "cell_type": "code",
   "execution_count": 507,
   "metadata": {},
   "outputs": [
    {
     "data": {
      "text/html": [
       "<div>\n",
       "<style scoped>\n",
       "    .dataframe tbody tr th:only-of-type {\n",
       "        vertical-align: middle;\n",
       "    }\n",
       "\n",
       "    .dataframe tbody tr th {\n",
       "        vertical-align: top;\n",
       "    }\n",
       "\n",
       "    .dataframe thead th {\n",
       "        text-align: right;\n",
       "    }\n",
       "</style>\n",
       "<table border=\"1\" class=\"dataframe\">\n",
       "  <thead>\n",
       "    <tr style=\"text-align: right;\">\n",
       "      <th></th>\n",
       "      <th>Feature</th>\n",
       "      <th>Mean Ranking</th>\n",
       "    </tr>\n",
       "  </thead>\n",
       "  <tbody>\n",
       "    <tr>\n",
       "      <th>1</th>\n",
       "      <td>NTMRevGr</td>\n",
       "      <td>1.00</td>\n",
       "    </tr>\n",
       "    <tr>\n",
       "      <th>0</th>\n",
       "      <td>TTMRevGr</td>\n",
       "      <td>0.48</td>\n",
       "    </tr>\n",
       "    <tr>\n",
       "      <th>2</th>\n",
       "      <td>GP%</td>\n",
       "      <td>0.47</td>\n",
       "    </tr>\n",
       "    <tr>\n",
       "      <th>3</th>\n",
       "      <td>SM%</td>\n",
       "      <td>0.12</td>\n",
       "    </tr>\n",
       "    <tr>\n",
       "      <th>5</th>\n",
       "      <td>Cash%</td>\n",
       "      <td>0.11</td>\n",
       "    </tr>\n",
       "    <tr>\n",
       "      <th>4</th>\n",
       "      <td>EBITDA%</td>\n",
       "      <td>0.06</td>\n",
       "    </tr>\n",
       "  </tbody>\n",
       "</table>\n",
       "</div>"
      ],
      "text/plain": [
       "    Feature  Mean Ranking\n",
       "1  NTMRevGr          1.00\n",
       "0  TTMRevGr          0.48\n",
       "2       GP%          0.47\n",
       "3       SM%          0.12\n",
       "5     Cash%          0.11\n",
       "4   EBITDA%          0.06"
      ]
     },
     "execution_count": 507,
     "metadata": {},
     "output_type": "execute_result"
    }
   ],
   "source": [
    "meanplot"
   ]
  },
  {
   "cell_type": "markdown",
   "metadata": {
    "_cell_guid": "5d9d44d0-fd8d-894e-657f-81762195499c",
    "_uuid": "4b68741c8ffc59327db34488273b990a5fa6c6aa"
   },
   "source": [
    "Now, with the matrix above, the numbers and layout does not seem very easy or pleasant to the eye. Therefore, let's just collate the mean ranking score attributed to each of the feature and plot that via Seaborn's factorplot."
   ]
  },
  {
   "cell_type": "code",
   "execution_count": 323,
   "metadata": {
    "_cell_guid": "daae301e-e669-b2b6-6978-cbcad579696c",
    "_uuid": "d798434946ba4507b1138a5ece8647c757b763b9",
    "collapsed": true
   },
   "outputs": [],
   "source": [
    "# Put the mean scores into a Pandas dataframe\n",
    "meanplot = pd.DataFrame(list(r.items()), columns= ['Feature','Mean Ranking'])\n",
    "\n",
    "# Sort the dataframe\n",
    "meanplot = meanplot.sort_values('Mean Ranking', ascending=False)"
   ]
  },
  {
   "cell_type": "code",
   "execution_count": 324,
   "metadata": {
    "_cell_guid": "2bdfa64e-d23d-d042-5e9d-080beb245ece",
    "_uuid": "3f78ab9b8271d36d4405ef83b3fac1609f2c6e2a",
    "collapsed": true
   },
   "outputs": [
    {
     "name": "stderr",
     "output_type": "stream",
     "text": [
      "C:\\ProgramData\\Anaconda3\\lib\\site-packages\\seaborn\\categorical.py:3666: UserWarning: The `factorplot` function has been renamed to `catplot`. The original name will be removed in a future release. Please update your code. Note that the default `kind` in `factorplot` (`'point'`) has changed `'strip'` in `catplot`.\n",
      "  warnings.warn(msg)\n",
      "C:\\ProgramData\\Anaconda3\\lib\\site-packages\\seaborn\\categorical.py:3672: UserWarning: The `size` paramter has been renamed to `height`; please update your code.\n",
      "  warnings.warn(msg, UserWarning)\n"
     ]
    },
    {
     "data": {
      "text/plain": [
       "<seaborn.axisgrid.FacetGrid at 0x2eabcf48a20>"
      ]
     },
     "execution_count": 324,
     "metadata": {},
     "output_type": "execute_result"
    },
    {
     "data": {
      "image/png": "[encoded data removed]",
      "text/plain": [
       "<Figure size 1915.2x1008 with 1 Axes>"
      ]
     },
     "metadata": {
      "needs_background": "light"
     },
     "output_type": "display_data"
    }
   ],
   "source": [
    "# Let's plot the ranking of the features\n",
    "sns.factorplot(x=\"Mean Ranking\", y=\"Feature\", data = meanplot, kind=\"bar\", \n",
    "               size=14, aspect=1.9, palette='coolwarm')"
   ]
  },
  {
   "cell_type": "code",
   "execution_count": 325,
   "metadata": {},
   "outputs": [
    {
     "data": {
      "text/html": [
       "<div>\n",
       "<style scoped>\n",
       "    .dataframe tbody tr th:only-of-type {\n",
       "        vertical-align: middle;\n",
       "    }\n",
       "\n",
       "    .dataframe tbody tr th {\n",
       "        vertical-align: top;\n",
       "    }\n",
       "\n",
       "    .dataframe thead th {\n",
       "        text-align: right;\n",
       "    }\n",
       "</style>\n",
       "<table border=\"1\" class=\"dataframe\">\n",
       "  <thead>\n",
       "    <tr style=\"text-align: right;\">\n",
       "      <th></th>\n",
       "      <th>TTMRevGr</th>\n",
       "      <th>NTMRevGr</th>\n",
       "      <th>GP%</th>\n",
       "      <th>SM%</th>\n",
       "      <th>EBITDA%</th>\n",
       "      <th>Cash%</th>\n",
       "    </tr>\n",
       "  </thead>\n",
       "  <tbody>\n",
       "    <tr>\n",
       "      <th>0</th>\n",
       "      <td>1.618311</td>\n",
       "      <td>0.213140</td>\n",
       "      <td>0.688601</td>\n",
       "      <td>0.404948</td>\n",
       "      <td>-0.159579</td>\n",
       "      <td>1.884584</td>\n",
       "    </tr>\n",
       "    <tr>\n",
       "      <th>1</th>\n",
       "      <td>1.072875</td>\n",
       "      <td>0.324274</td>\n",
       "      <td>0.812349</td>\n",
       "      <td>0.198422</td>\n",
       "      <td>0.045933</td>\n",
       "      <td>1.488604</td>\n",
       "    </tr>\n",
       "    <tr>\n",
       "      <th>2</th>\n",
       "      <td>0.605037</td>\n",
       "      <td>0.217298</td>\n",
       "      <td>0.742340</td>\n",
       "      <td>0.219699</td>\n",
       "      <td>0.035093</td>\n",
       "      <td>1.367974</td>\n",
       "    </tr>\n",
       "    <tr>\n",
       "      <th>3</th>\n",
       "      <td>0.523072</td>\n",
       "      <td>0.318874</td>\n",
       "      <td>0.707418</td>\n",
       "      <td>0.339215</td>\n",
       "      <td>-0.054009</td>\n",
       "      <td>1.095778</td>\n",
       "    </tr>\n",
       "    <tr>\n",
       "      <th>4</th>\n",
       "      <td>0.197950</td>\n",
       "      <td>0.121182</td>\n",
       "      <td>0.596355</td>\n",
       "      <td>0.370968</td>\n",
       "      <td>-0.240980</td>\n",
       "      <td>0.874129</td>\n",
       "    </tr>\n",
       "  </tbody>\n",
       "</table>\n",
       "</div>"
      ],
      "text/plain": [
       "   TTMRevGr  NTMRevGr       GP%       SM%   EBITDA%     Cash%\n",
       "0  1.618311  0.213140  0.688601  0.404948 -0.159579  1.884584\n",
       "1  1.072875  0.324274  0.812349  0.198422  0.045933  1.488604\n",
       "2  0.605037  0.217298  0.742340  0.219699  0.035093  1.367974\n",
       "3  0.523072  0.318874  0.707418  0.339215 -0.054009  1.095778\n",
       "4  0.197950  0.121182  0.596355  0.370968 -0.240980  0.874129"
      ]
     },
     "execution_count": 325,
     "metadata": {},
     "output_type": "execute_result"
    }
   ],
   "source": [
    "house.head()"
   ]
  },
  {
   "cell_type": "code",
   "execution_count": 326,
   "metadata": {},
   "outputs": [
    {
     "name": "stderr",
     "output_type": "stream",
     "text": [
      "C:\\ProgramData\\Anaconda3\\lib\\site-packages\\ipykernel_launcher.py:3: FutureWarning: Method .as_matrix will be removed in a future version. Use .values instead.\n",
      "  This is separate from the ipykernel package so we can avoid doing imports until\n"
     ]
    }
   ],
   "source": [
    "# Store the column/feature names into a list \"colnames\"\n",
    "colnames = house.columns\n",
    "X = house.as_matrix()"
   ]
  },
  {
   "cell_type": "code",
   "execution_count": 327,
   "metadata": {},
   "outputs": [
    {
     "name": "stderr",
     "output_type": "stream",
     "text": [
      "C:\\ProgramData\\Anaconda3\\lib\\site-packages\\ipykernel_launcher.py:4: FutureWarning: Method .as_matrix will be removed in a future version. Use .values instead.\n",
      "  after removing the cwd from sys.path.\n"
     ]
    }
   ],
   "source": [
    "# Store the column/feature names into a list \"colnames\"\n",
    "colnames = house.columns\n",
    "#house = house.drop(['EBITDA%'], axis=1)\n",
    "X = house.as_matrix()"
   ]
  },
  {
   "cell_type": "code",
   "execution_count": 835,
   "metadata": {},
   "outputs": [],
   "source": [
    "X_train, X_test, y_train, y_test = train_test_split(X, Y, test_size = 0.20, random_state=3)"
   ]
  },
  {
   "cell_type": "code",
   "execution_count": 836,
   "metadata": {},
   "outputs": [
    {
     "data": {
      "text/html": [
       "<div>\n",
       "<style scoped>\n",
       "    .dataframe tbody tr th:only-of-type {\n",
       "        vertical-align: middle;\n",
       "    }\n",
       "\n",
       "    .dataframe tbody tr th {\n",
       "        vertical-align: top;\n",
       "    }\n",
       "\n",
       "    .dataframe thead th {\n",
       "        text-align: right;\n",
       "    }\n",
       "</style>\n",
       "<table border=\"1\" class=\"dataframe\">\n",
       "  <thead>\n",
       "    <tr style=\"text-align: right;\">\n",
       "      <th></th>\n",
       "      <th>TTMRevGr</th>\n",
       "      <th>NTMRevGr</th>\n",
       "      <th>GP%</th>\n",
       "      <th>SM%</th>\n",
       "      <th>EBITDA%</th>\n",
       "      <th>Cash%</th>\n",
       "    </tr>\n",
       "  </thead>\n",
       "  <tbody>\n",
       "    <tr>\n",
       "      <th>45</th>\n",
       "      <td>0.832510</td>\n",
       "      <td>0.205468</td>\n",
       "      <td>0.727028</td>\n",
       "      <td>0.546808</td>\n",
       "      <td>-0.187677</td>\n",
       "      <td>0.375109</td>\n",
       "    </tr>\n",
       "    <tr>\n",
       "      <th>47</th>\n",
       "      <td>0.555705</td>\n",
       "      <td>0.064409</td>\n",
       "      <td>0.623321</td>\n",
       "      <td>0.396375</td>\n",
       "      <td>-0.148054</td>\n",
       "      <td>0.356682</td>\n",
       "    </tr>\n",
       "    <tr>\n",
       "      <th>4</th>\n",
       "      <td>0.197950</td>\n",
       "      <td>0.121182</td>\n",
       "      <td>0.596355</td>\n",
       "      <td>0.370968</td>\n",
       "      <td>-0.240980</td>\n",
       "      <td>0.874129</td>\n",
       "    </tr>\n",
       "    <tr>\n",
       "      <th>12</th>\n",
       "      <td>0.193712</td>\n",
       "      <td>0.072606</td>\n",
       "      <td>0.860399</td>\n",
       "      <td>0.306248</td>\n",
       "      <td>0.297036</td>\n",
       "      <td>0.705208</td>\n",
       "    </tr>\n",
       "    <tr>\n",
       "      <th>92</th>\n",
       "      <td>1.212819</td>\n",
       "      <td>0.255078</td>\n",
       "      <td>0.744378</td>\n",
       "      <td>0.639559</td>\n",
       "      <td>-0.342540</td>\n",
       "      <td>0.173096</td>\n",
       "    </tr>\n",
       "    <tr>\n",
       "      <th>94</th>\n",
       "      <td>0.265342</td>\n",
       "      <td>0.544742</td>\n",
       "      <td>0.701314</td>\n",
       "      <td>0.620282</td>\n",
       "      <td>-0.396124</td>\n",
       "      <td>0.169442</td>\n",
       "    </tr>\n",
       "    <tr>\n",
       "      <th>85</th>\n",
       "      <td>0.628977</td>\n",
       "      <td>0.264314</td>\n",
       "      <td>0.802233</td>\n",
       "      <td>0.482237</td>\n",
       "      <td>-0.055514</td>\n",
       "      <td>0.198641</td>\n",
       "    </tr>\n",
       "    <tr>\n",
       "      <th>80</th>\n",
       "      <td>0.772531</td>\n",
       "      <td>0.218890</td>\n",
       "      <td>0.740367</td>\n",
       "      <td>0.408644</td>\n",
       "      <td>0.110688</td>\n",
       "      <td>0.215183</td>\n",
       "    </tr>\n",
       "    <tr>\n",
       "      <th>57</th>\n",
       "      <td>0.531307</td>\n",
       "      <td>0.246186</td>\n",
       "      <td>0.762424</td>\n",
       "      <td>0.447258</td>\n",
       "      <td>0.003408</td>\n",
       "      <td>0.311608</td>\n",
       "    </tr>\n",
       "    <tr>\n",
       "      <th>88</th>\n",
       "      <td>0.660157</td>\n",
       "      <td>0.178453</td>\n",
       "      <td>0.540853</td>\n",
       "      <td>0.313385</td>\n",
       "      <td>-0.128056</td>\n",
       "      <td>0.191486</td>\n",
       "    </tr>\n",
       "    <tr>\n",
       "      <th>83</th>\n",
       "      <td>0.677379</td>\n",
       "      <td>0.215361</td>\n",
       "      <td>0.712518</td>\n",
       "      <td>0.646997</td>\n",
       "      <td>-0.527208</td>\n",
       "      <td>0.202769</td>\n",
       "    </tr>\n",
       "    <tr>\n",
       "      <th>9</th>\n",
       "      <td>0.029887</td>\n",
       "      <td>0.210003</td>\n",
       "      <td>0.596227</td>\n",
       "      <td>0.487355</td>\n",
       "      <td>-0.389890</td>\n",
       "      <td>0.751543</td>\n",
       "    </tr>\n",
       "    <tr>\n",
       "      <th>91</th>\n",
       "      <td>0.624781</td>\n",
       "      <td>0.345316</td>\n",
       "      <td>0.669822</td>\n",
       "      <td>0.126004</td>\n",
       "      <td>0.210594</td>\n",
       "      <td>0.183783</td>\n",
       "    </tr>\n",
       "    <tr>\n",
       "      <th>89</th>\n",
       "      <td>0.134686</td>\n",
       "      <td>0.089842</td>\n",
       "      <td>0.655664</td>\n",
       "      <td>0.360865</td>\n",
       "      <td>0.019566</td>\n",
       "      <td>0.190621</td>\n",
       "    </tr>\n",
       "    <tr>\n",
       "      <th>103</th>\n",
       "      <td>0.813753</td>\n",
       "      <td>0.443557</td>\n",
       "      <td>0.551673</td>\n",
       "      <td>0.434180</td>\n",
       "      <td>-0.286707</td>\n",
       "      <td>0.143319</td>\n",
       "    </tr>\n",
       "    <tr>\n",
       "      <th>78</th>\n",
       "      <td>0.080678</td>\n",
       "      <td>0.069892</td>\n",
       "      <td>0.500908</td>\n",
       "      <td>0.274746</td>\n",
       "      <td>-0.044693</td>\n",
       "      <td>0.219444</td>\n",
       "    </tr>\n",
       "    <tr>\n",
       "      <th>27</th>\n",
       "      <td>0.106408</td>\n",
       "      <td>0.126433</td>\n",
       "      <td>0.830120</td>\n",
       "      <td>0.531938</td>\n",
       "      <td>-0.259366</td>\n",
       "      <td>0.473251</td>\n",
       "    </tr>\n",
       "    <tr>\n",
       "      <th>67</th>\n",
       "      <td>0.323282</td>\n",
       "      <td>0.172183</td>\n",
       "      <td>0.692938</td>\n",
       "      <td>0.413920</td>\n",
       "      <td>-0.067485</td>\n",
       "      <td>0.259175</td>\n",
       "    </tr>\n",
       "    <tr>\n",
       "      <th>110</th>\n",
       "      <td>1.475573</td>\n",
       "      <td>0.184811</td>\n",
       "      <td>0.680254</td>\n",
       "      <td>0.726084</td>\n",
       "      <td>-0.429359</td>\n",
       "      <td>0.105207</td>\n",
       "    </tr>\n",
       "    <tr>\n",
       "      <th>40</th>\n",
       "      <td>0.043234</td>\n",
       "      <td>0.110902</td>\n",
       "      <td>0.713954</td>\n",
       "      <td>0.294061</td>\n",
       "      <td>0.092240</td>\n",
       "      <td>0.392093</td>\n",
       "    </tr>\n",
       "    <tr>\n",
       "      <th>101</th>\n",
       "      <td>0.442661</td>\n",
       "      <td>0.271871</td>\n",
       "      <td>0.636273</td>\n",
       "      <td>0.037884</td>\n",
       "      <td>0.337254</td>\n",
       "      <td>0.148477</td>\n",
       "    </tr>\n",
       "    <tr>\n",
       "      <th>36</th>\n",
       "      <td>0.872397</td>\n",
       "      <td>0.190345</td>\n",
       "      <td>0.697852</td>\n",
       "      <td>0.170835</td>\n",
       "      <td>0.245624</td>\n",
       "      <td>0.417871</td>\n",
       "    </tr>\n",
       "    <tr>\n",
       "      <th>77</th>\n",
       "      <td>0.393801</td>\n",
       "      <td>0.398830</td>\n",
       "      <td>0.780031</td>\n",
       "      <td>0.661609</td>\n",
       "      <td>-0.296943</td>\n",
       "      <td>0.222654</td>\n",
       "    </tr>\n",
       "    <tr>\n",
       "      <th>112</th>\n",
       "      <td>0.566306</td>\n",
       "      <td>0.244709</td>\n",
       "      <td>0.619476</td>\n",
       "      <td>0.173594</td>\n",
       "      <td>0.188348</td>\n",
       "      <td>0.097406</td>\n",
       "    </tr>\n",
       "    <tr>\n",
       "      <th>97</th>\n",
       "      <td>0.597245</td>\n",
       "      <td>0.396763</td>\n",
       "      <td>0.870999</td>\n",
       "      <td>0.261321</td>\n",
       "      <td>0.116396</td>\n",
       "      <td>0.163930</td>\n",
       "    </tr>\n",
       "    <tr>\n",
       "      <th>82</th>\n",
       "      <td>0.453275</td>\n",
       "      <td>0.095959</td>\n",
       "      <td>0.515185</td>\n",
       "      <td>0.306719</td>\n",
       "      <td>-0.066682</td>\n",
       "      <td>0.205787</td>\n",
       "    </tr>\n",
       "    <tr>\n",
       "      <th>30</th>\n",
       "      <td>0.635293</td>\n",
       "      <td>0.290122</td>\n",
       "      <td>0.716083</td>\n",
       "      <td>0.421527</td>\n",
       "      <td>-0.037535</td>\n",
       "      <td>0.465880</td>\n",
       "    </tr>\n",
       "    <tr>\n",
       "      <th>68</th>\n",
       "      <td>0.440024</td>\n",
       "      <td>0.092588</td>\n",
       "      <td>0.668661</td>\n",
       "      <td>0.115665</td>\n",
       "      <td>0.209578</td>\n",
       "      <td>0.256195</td>\n",
       "    </tr>\n",
       "    <tr>\n",
       "      <th>13</th>\n",
       "      <td>0.235052</td>\n",
       "      <td>0.582527</td>\n",
       "      <td>0.724727</td>\n",
       "      <td>0.006745</td>\n",
       "      <td>0.461108</td>\n",
       "      <td>0.689239</td>\n",
       "    </tr>\n",
       "    <tr>\n",
       "      <th>31</th>\n",
       "      <td>0.246842</td>\n",
       "      <td>0.703602</td>\n",
       "      <td>0.526223</td>\n",
       "      <td>0.145287</td>\n",
       "      <td>0.162911</td>\n",
       "      <td>0.458951</td>\n",
       "    </tr>\n",
       "    <tr>\n",
       "      <th>...</th>\n",
       "      <td>...</td>\n",
       "      <td>...</td>\n",
       "      <td>...</td>\n",
       "      <td>...</td>\n",
       "      <td>...</td>\n",
       "      <td>...</td>\n",
       "    </tr>\n",
       "    <tr>\n",
       "      <th>51</th>\n",
       "      <td>0.290570</td>\n",
       "      <td>0.189515</td>\n",
       "      <td>0.767918</td>\n",
       "      <td>0.249984</td>\n",
       "      <td>0.262802</td>\n",
       "      <td>0.338993</td>\n",
       "    </tr>\n",
       "    <tr>\n",
       "      <th>1</th>\n",
       "      <td>1.072875</td>\n",
       "      <td>0.324274</td>\n",
       "      <td>0.812349</td>\n",
       "      <td>0.198422</td>\n",
       "      <td>0.045933</td>\n",
       "      <td>1.488604</td>\n",
       "    </tr>\n",
       "    <tr>\n",
       "      <th>60</th>\n",
       "      <td>0.284680</td>\n",
       "      <td>0.155339</td>\n",
       "      <td>0.591959</td>\n",
       "      <td>0.140525</td>\n",
       "      <td>0.185520</td>\n",
       "      <td>0.297500</td>\n",
       "    </tr>\n",
       "    <tr>\n",
       "      <th>63</th>\n",
       "      <td>0.989150</td>\n",
       "      <td>0.237610</td>\n",
       "      <td>0.732678</td>\n",
       "      <td>0.429732</td>\n",
       "      <td>0.062447</td>\n",
       "      <td>0.277657</td>\n",
       "    </tr>\n",
       "    <tr>\n",
       "      <th>2</th>\n",
       "      <td>0.605037</td>\n",
       "      <td>0.217298</td>\n",
       "      <td>0.742340</td>\n",
       "      <td>0.219699</td>\n",
       "      <td>0.035093</td>\n",
       "      <td>1.367974</td>\n",
       "    </tr>\n",
       "    <tr>\n",
       "      <th>66</th>\n",
       "      <td>1.295260</td>\n",
       "      <td>0.182361</td>\n",
       "      <td>0.665907</td>\n",
       "      <td>0.562251</td>\n",
       "      <td>-0.192137</td>\n",
       "      <td>0.264809</td>\n",
       "    </tr>\n",
       "    <tr>\n",
       "      <th>22</th>\n",
       "      <td>0.213342</td>\n",
       "      <td>0.088235</td>\n",
       "      <td>0.666299</td>\n",
       "      <td>0.312515</td>\n",
       "      <td>0.106348</td>\n",
       "      <td>0.524988</td>\n",
       "    </tr>\n",
       "    <tr>\n",
       "      <th>90</th>\n",
       "      <td>-0.116295</td>\n",
       "      <td>0.077773</td>\n",
       "      <td>0.635670</td>\n",
       "      <td>0.288401</td>\n",
       "      <td>0.026946</td>\n",
       "      <td>0.187548</td>\n",
       "    </tr>\n",
       "    <tr>\n",
       "      <th>81</th>\n",
       "      <td>0.083426</td>\n",
       "      <td>0.075706</td>\n",
       "      <td>0.732172</td>\n",
       "      <td>0.301814</td>\n",
       "      <td>0.138202</td>\n",
       "      <td>0.210366</td>\n",
       "    </tr>\n",
       "    <tr>\n",
       "      <th>26</th>\n",
       "      <td>-0.105187</td>\n",
       "      <td>0.252823</td>\n",
       "      <td>0.871826</td>\n",
       "      <td>0.485250</td>\n",
       "      <td>-0.058509</td>\n",
       "      <td>0.481100</td>\n",
       "    </tr>\n",
       "    <tr>\n",
       "      <th>14</th>\n",
       "      <td>0.882956</td>\n",
       "      <td>0.358231</td>\n",
       "      <td>0.545704</td>\n",
       "      <td>0.211617</td>\n",
       "      <td>0.031302</td>\n",
       "      <td>0.670126</td>\n",
       "    </tr>\n",
       "    <tr>\n",
       "      <th>39</th>\n",
       "      <td>2.773790</td>\n",
       "      <td>0.308145</td>\n",
       "      <td>0.704052</td>\n",
       "      <td>0.533546</td>\n",
       "      <td>-0.359564</td>\n",
       "      <td>0.394667</td>\n",
       "    </tr>\n",
       "    <tr>\n",
       "      <th>93</th>\n",
       "      <td>-0.017473</td>\n",
       "      <td>0.116871</td>\n",
       "      <td>0.681282</td>\n",
       "      <td>0.431535</td>\n",
       "      <td>-0.097117</td>\n",
       "      <td>0.172790</td>\n",
       "    </tr>\n",
       "    <tr>\n",
       "      <th>44</th>\n",
       "      <td>1.166730</td>\n",
       "      <td>0.288999</td>\n",
       "      <td>0.792802</td>\n",
       "      <td>0.558176</td>\n",
       "      <td>-0.177660</td>\n",
       "      <td>0.376952</td>\n",
       "    </tr>\n",
       "    <tr>\n",
       "      <th>20</th>\n",
       "      <td>0.360408</td>\n",
       "      <td>0.185186</td>\n",
       "      <td>0.845335</td>\n",
       "      <td>0.430087</td>\n",
       "      <td>0.115185</td>\n",
       "      <td>0.547237</td>\n",
       "    </tr>\n",
       "    <tr>\n",
       "      <th>96</th>\n",
       "      <td>1.192415</td>\n",
       "      <td>0.418614</td>\n",
       "      <td>0.564649</td>\n",
       "      <td>0.264411</td>\n",
       "      <td>-0.048479</td>\n",
       "      <td>0.165981</td>\n",
       "    </tr>\n",
       "    <tr>\n",
       "      <th>38</th>\n",
       "      <td>0.335945</td>\n",
       "      <td>0.192841</td>\n",
       "      <td>0.852529</td>\n",
       "      <td>0.493029</td>\n",
       "      <td>0.049642</td>\n",
       "      <td>0.399541</td>\n",
       "    </tr>\n",
       "    <tr>\n",
       "      <th>115</th>\n",
       "      <td>-0.305538</td>\n",
       "      <td>0.737269</td>\n",
       "      <td>0.475157</td>\n",
       "      <td>0.097393</td>\n",
       "      <td>0.337499</td>\n",
       "      <td>0.084455</td>\n",
       "    </tr>\n",
       "    <tr>\n",
       "      <th>10</th>\n",
       "      <td>0.892528</td>\n",
       "      <td>0.381424</td>\n",
       "      <td>0.864770</td>\n",
       "      <td>0.409091</td>\n",
       "      <td>-0.083432</td>\n",
       "      <td>0.737349</td>\n",
       "    </tr>\n",
       "    <tr>\n",
       "      <th>41</th>\n",
       "      <td>0.315820</td>\n",
       "      <td>0.180640</td>\n",
       "      <td>0.756063</td>\n",
       "      <td>0.207098</td>\n",
       "      <td>0.134723</td>\n",
       "      <td>0.389232</td>\n",
       "    </tr>\n",
       "    <tr>\n",
       "      <th>107</th>\n",
       "      <td>0.120362</td>\n",
       "      <td>0.089158</td>\n",
       "      <td>0.540819</td>\n",
       "      <td>0.274824</td>\n",
       "      <td>-0.052774</td>\n",
       "      <td>0.114200</td>\n",
       "    </tr>\n",
       "    <tr>\n",
       "      <th>74</th>\n",
       "      <td>0.405057</td>\n",
       "      <td>0.178063</td>\n",
       "      <td>0.703654</td>\n",
       "      <td>0.504471</td>\n",
       "      <td>-0.213805</td>\n",
       "      <td>0.233093</td>\n",
       "    </tr>\n",
       "    <tr>\n",
       "      <th>19</th>\n",
       "      <td>0.300853</td>\n",
       "      <td>0.074857</td>\n",
       "      <td>0.797740</td>\n",
       "      <td>0.442356</td>\n",
       "      <td>0.020510</td>\n",
       "      <td>0.559676</td>\n",
       "    </tr>\n",
       "    <tr>\n",
       "      <th>21</th>\n",
       "      <td>0.538125</td>\n",
       "      <td>0.140213</td>\n",
       "      <td>0.852368</td>\n",
       "      <td>0.379706</td>\n",
       "      <td>0.190930</td>\n",
       "      <td>0.546201</td>\n",
       "    </tr>\n",
       "    <tr>\n",
       "      <th>0</th>\n",
       "      <td>1.618311</td>\n",
       "      <td>0.213140</td>\n",
       "      <td>0.688601</td>\n",
       "      <td>0.404948</td>\n",
       "      <td>-0.159579</td>\n",
       "      <td>1.884584</td>\n",
       "    </tr>\n",
       "    <tr>\n",
       "      <th>72</th>\n",
       "      <td>0.776364</td>\n",
       "      <td>0.355453</td>\n",
       "      <td>0.531515</td>\n",
       "      <td>0.204343</td>\n",
       "      <td>-0.139769</td>\n",
       "      <td>0.234013</td>\n",
       "    </tr>\n",
       "    <tr>\n",
       "      <th>56</th>\n",
       "      <td>0.059286</td>\n",
       "      <td>0.135668</td>\n",
       "      <td>0.514784</td>\n",
       "      <td>0.141762</td>\n",
       "      <td>0.052352</td>\n",
       "      <td>0.313274</td>\n",
       "    </tr>\n",
       "    <tr>\n",
       "      <th>3</th>\n",
       "      <td>0.523072</td>\n",
       "      <td>0.318874</td>\n",
       "      <td>0.707418</td>\n",
       "      <td>0.339215</td>\n",
       "      <td>-0.054009</td>\n",
       "      <td>1.095778</td>\n",
       "    </tr>\n",
       "    <tr>\n",
       "      <th>24</th>\n",
       "      <td>0.278916</td>\n",
       "      <td>0.170749</td>\n",
       "      <td>0.749036</td>\n",
       "      <td>0.429765</td>\n",
       "      <td>0.131057</td>\n",
       "      <td>0.497187</td>\n",
       "    </tr>\n",
       "    <tr>\n",
       "      <th>106</th>\n",
       "      <td>0.188014</td>\n",
       "      <td>0.099756</td>\n",
       "      <td>0.541702</td>\n",
       "      <td>0.196036</td>\n",
       "      <td>0.253245</td>\n",
       "      <td>0.128333</td>\n",
       "    </tr>\n",
       "  </tbody>\n",
       "</table>\n",
       "<p>97 rows × 6 columns</p>\n",
       "</div>"
      ],
      "text/plain": [
       "     TTMRevGr  NTMRevGr       GP%       SM%   EBITDA%     Cash%\n",
       "45   0.832510  0.205468  0.727028  0.546808 -0.187677  0.375109\n",
       "47   0.555705  0.064409  0.623321  0.396375 -0.148054  0.356682\n",
       "4    0.197950  0.121182  0.596355  0.370968 -0.240980  0.874129\n",
       "12   0.193712  0.072606  0.860399  0.306248  0.297036  0.705208\n",
       "92   1.212819  0.255078  0.744378  0.639559 -0.342540  0.173096\n",
       "94   0.265342  0.544742  0.701314  0.620282 -0.396124  0.169442\n",
       "85   0.628977  0.264314  0.802233  0.482237 -0.055514  0.198641\n",
       "80   0.772531  0.218890  0.740367  0.408644  0.110688  0.215183\n",
       "57   0.531307  0.246186  0.762424  0.447258  0.003408  0.311608\n",
       "88   0.660157  0.178453  0.540853  0.313385 -0.128056  0.191486\n",
       "83   0.677379  0.215361  0.712518  0.646997 -0.527208  0.202769\n",
       "9    0.029887  0.210003  0.596227  0.487355 -0.389890  0.751543\n",
       "91   0.624781  0.345316  0.669822  0.126004  0.210594  0.183783\n",
       "89   0.134686  0.089842  0.655664  0.360865  0.019566  0.190621\n",
       "103  0.813753  0.443557  0.551673  0.434180 -0.286707  0.143319\n",
       "78   0.080678  0.069892  0.500908  0.274746 -0.044693  0.219444\n",
       "27   0.106408  0.126433  0.830120  0.531938 -0.259366  0.473251\n",
       "67   0.323282  0.172183  0.692938  0.413920 -0.067485  0.259175\n",
       "110  1.475573  0.184811  0.680254  0.726084 -0.429359  0.105207\n",
       "40   0.043234  0.110902  0.713954  0.294061  0.092240  0.392093\n",
       "101  0.442661  0.271871  0.636273  0.037884  0.337254  0.148477\n",
       "36   0.872397  0.190345  0.697852  0.170835  0.245624  0.417871\n",
       "77   0.393801  0.398830  0.780031  0.661609 -0.296943  0.222654\n",
       "112  0.566306  0.244709  0.619476  0.173594  0.188348  0.097406\n",
       "97   0.597245  0.396763  0.870999  0.261321  0.116396  0.163930\n",
       "82   0.453275  0.095959  0.515185  0.306719 -0.066682  0.205787\n",
       "30   0.635293  0.290122  0.716083  0.421527 -0.037535  0.465880\n",
       "68   0.440024  0.092588  0.668661  0.115665  0.209578  0.256195\n",
       "13   0.235052  0.582527  0.724727  0.006745  0.461108  0.689239\n",
       "31   0.246842  0.703602  0.526223  0.145287  0.162911  0.458951\n",
       "..        ...       ...       ...       ...       ...       ...\n",
       "51   0.290570  0.189515  0.767918  0.249984  0.262802  0.338993\n",
       "1    1.072875  0.324274  0.812349  0.198422  0.045933  1.488604\n",
       "60   0.284680  0.155339  0.591959  0.140525  0.185520  0.297500\n",
       "63   0.989150  0.237610  0.732678  0.429732  0.062447  0.277657\n",
       "2    0.605037  0.217298  0.742340  0.219699  0.035093  1.367974\n",
       "66   1.295260  0.182361  0.665907  0.562251 -0.192137  0.264809\n",
       "22   0.213342  0.088235  0.666299  0.312515  0.106348  0.524988\n",
       "90  -0.116295  0.077773  0.635670  0.288401  0.026946  0.187548\n",
       "81   0.083426  0.075706  0.732172  0.301814  0.138202  0.210366\n",
       "26  -0.105187  0.252823  0.871826  0.485250 -0.058509  0.481100\n",
       "14   0.882956  0.358231  0.545704  0.211617  0.031302  0.670126\n",
       "39   2.773790  0.308145  0.704052  0.533546 -0.359564  0.394667\n",
       "93  -0.017473  0.116871  0.681282  0.431535 -0.097117  0.172790\n",
       "44   1.166730  0.288999  0.792802  0.558176 -0.177660  0.376952\n",
       "20   0.360408  0.185186  0.845335  0.430087  0.115185  0.547237\n",
       "96   1.192415  0.418614  0.564649  0.264411 -0.048479  0.165981\n",
       "38   0.335945  0.192841  0.852529  0.493029  0.049642  0.399541\n",
       "115 -0.305538  0.737269  0.475157  0.097393  0.337499  0.084455\n",
       "10   0.892528  0.381424  0.864770  0.409091 -0.083432  0.737349\n",
       "41   0.315820  0.180640  0.756063  0.207098  0.134723  0.389232\n",
       "107  0.120362  0.089158  0.540819  0.274824 -0.052774  0.114200\n",
       "74   0.405057  0.178063  0.703654  0.504471 -0.213805  0.233093\n",
       "19   0.300853  0.074857  0.797740  0.442356  0.020510  0.559676\n",
       "21   0.538125  0.140213  0.852368  0.379706  0.190930  0.546201\n",
       "0    1.618311  0.213140  0.688601  0.404948 -0.159579  1.884584\n",
       "72   0.776364  0.355453  0.531515  0.204343 -0.139769  0.234013\n",
       "56   0.059286  0.135668  0.514784  0.141762  0.052352  0.313274\n",
       "3    0.523072  0.318874  0.707418  0.339215 -0.054009  1.095778\n",
       "24   0.278916  0.170749  0.749036  0.429765  0.131057  0.497187\n",
       "106  0.188014  0.099756  0.541702  0.196036  0.253245  0.128333\n",
       "\n",
       "[97 rows x 6 columns]"
      ]
     },
     "execution_count": 836,
     "metadata": {},
     "output_type": "execute_result"
    }
   ],
   "source": [
    "X_train"
   ]
  },
  {
   "cell_type": "code",
   "execution_count": 875,
   "metadata": {},
   "outputs": [
    {
     "name": "stdout",
     "output_type": "stream",
     "text": [
      "(97, 6)\n",
      "(25, 6)\n",
      "(25, 6)\n"
     ]
    }
   ],
   "source": [
    "thresh = 5 * 10**(-3)\n",
    "model = XGBRegressor()\n",
    "model.fit(X_train, y_train)\n",
    "#select features using threshold\n",
    "selection = SelectFromModel(model, threshold = thresh, prefit=True)\n",
    "select_X_train = selection.transform(X_train)\n",
    "# eval model\n",
    "select_X_val = selection.transform(X_test)\n",
    "# test \n",
    "select_X_test = selection.transform(X_test)\n",
    "print(select_X_train.shape)\n",
    "print(select_X_val.shape)\n",
    "print(select_X_test.shape)"
   ]
  },
  {
   "cell_type": "code",
   "execution_count": 464,
   "metadata": {},
   "outputs": [
    {
     "name": "stdout",
     "output_type": "stream",
     "text": [
      "Scaled_Ridge: 0.319710 (+/- 0.221948)\n",
      "Scaled_Lasso: 0.192932 (+/- 0.138154)\n",
      "Scaled_Elastic: 0.251929 (+/- 0.149791)\n",
      "Scaled_SVR: 0.247213 (+/- 0.260313)\n",
      "Scaled_RF_reg: 0.358457 (+/- 0.187649)\n",
      "Scaled_ET_reg: 0.286631 (+/- 0.191122)\n",
      "Scaled_BR_reg: 0.389148 (+/- 0.161945)\n",
      "Scaled_Hub-Reg: 0.272314 (+/- 0.246935)\n",
      "Scaled_BayRidge: 0.340502 (+/- 0.204787)\n",
      "Scaled_XGB_reg: 0.381793 (+/- 0.234197)\n",
      "Scaled_DT_reg: -0.032441 (+/- 0.133528)\n",
      "Scaled_KNN_reg: 0.346958 (+/- 0.137460)\n",
      "Scaled_ADA-Reg: 0.375311 (+/- 0.119988)\n",
      "Scaled_Linear: 0.311212 (+/- 0.226979)\n",
      "Scaled_Gboost-Reg: 0.401524 (+/- 0.185588)\n",
      "Scaled_RFR_PCA: -0.148409 (+/- 0.356086)\n",
      "Scaled_XGBR_PCA: -0.110784 (+/- 0.282446)\n"
     ]
    },
    {
     "data": {
      "image/png": "[encoded data removed]",
      "text/plain": [
       "<Figure size 1080x432 with 1 Axes>"
      ]
     },
     "metadata": {
      "needs_background": "light"
     },
     "output_type": "display_data"
    }
   ],
   "source": [
    "pipelines = []\n",
    "seed = 2\n",
    "\n",
    "pipelines.append(\n",
    "                (\"Scaled_Ridge\", \n",
    "                 Pipeline([\n",
    "                     (\"Scaler\", StandardScaler()), \n",
    "                     (\"Ridge\", Ridge(random_state=seed, tol=10 ))\n",
    "                      ]))\n",
    "                )\n",
    "pipelines.append(\n",
    "                (\"Scaled_Lasso\", \n",
    "                 Pipeline([\n",
    "                     (\"Scaler\", StandardScaler()), \n",
    "                     (\"Lasso\", Lasso(random_state=seed, tol=1))\n",
    "                      ]))\n",
    "                )\n",
    "pipelines.append(\n",
    "                (\"Scaled_Elastic\", \n",
    "                 Pipeline([\n",
    "                     (\"Scaler\", StandardScaler()), \n",
    "                     (\"Lasso\", ElasticNet(random_state=seed))\n",
    "                      ]))\n",
    "                )\n",
    "\n",
    "pipelines.append(\n",
    "                (\"Scaled_SVR\",\n",
    "                 Pipeline([\n",
    "                     (\"Scaler\", StandardScaler()),\n",
    "                     (\"SVR\",  SVR(kernel='linear', C=1e2, degree=5))\n",
    "                 ])\n",
    "                )\n",
    "                )\n",
    "\n",
    "pipelines.append(\n",
    "                (\"Scaled_RF_reg\",\n",
    "                 Pipeline([\n",
    "                     (\"Scaler\", StandardScaler()),\n",
    "                     (\"RF\", RandomForestRegressor(random_state=seed))\n",
    "                 ])\n",
    "                )\n",
    "                )\n",
    "\n",
    "pipelines.append(\n",
    "                (\"Scaled_ET_reg\",\n",
    "                 Pipeline([\n",
    "                     (\"Scaler\", StandardScaler()),\n",
    "                     (\"ET\", ExtraTreesRegressor(random_state=seed))\n",
    "                 ])\n",
    "                )\n",
    "                )\n",
    "pipelines.append(\n",
    "                (\"Scaled_BR_reg\",\n",
    "                 Pipeline([\n",
    "                     (\"Scaler\", StandardScaler()),\n",
    "                     (\"BR\", BaggingRegressor(random_state=seed))\n",
    "                 ]))) \n",
    "\n",
    "pipelines.append(\n",
    "                (\"Scaled_Hub-Reg\",\n",
    "                 Pipeline([\n",
    "                     (\"Scaler\", StandardScaler()),\n",
    "                     (\"Hub-Reg\", HuberRegressor())\n",
    "                 ]))) \n",
    "pipelines.append(\n",
    "                (\"Scaled_BayRidge\",\n",
    "                 Pipeline([\n",
    "                     (\"Scaler\", StandardScaler()),\n",
    "                     (\"BR\", BayesianRidge())\n",
    "                 ]))) \n",
    "\n",
    "pipelines.append(\n",
    "                (\"Scaled_XGB_reg\",\n",
    "                 Pipeline([\n",
    "                     (\"Scaler\", StandardScaler()),\n",
    "                     (\"XGBR\", XGBRegressor(seed=seed))\n",
    "                 ]))) \n",
    "\n",
    "pipelines.append(\n",
    "                (\"Scaled_DT_reg\",\n",
    "                 Pipeline([\n",
    "                     (\"Scaler\", StandardScaler()),\n",
    "                     (\"DT_reg\", DecisionTreeRegressor())\n",
    "                 ]))) \n",
    "\n",
    "pipelines.append(\n",
    "                (\"Scaled_KNN_reg\",\n",
    "                 Pipeline([\n",
    "                     (\"Scaler\", StandardScaler()),\n",
    "                     (\"KNN_reg\", KNeighborsRegressor())\n",
    "                 ])))\n",
    "pipelines.append(\n",
    "                (\"Scaled_ADA-Reg\",\n",
    "                 Pipeline([\n",
    "                     (\"Scaler\", StandardScaler()),\n",
    "                     (\"ADA-reg\", AdaBoostRegressor())\n",
    "                 ]))) \n",
    "\n",
    "pipelines.append(\n",
    "                (\"Scaled_Linear\",\n",
    "                 Pipeline([\n",
    "                     (\"Scaler\", StandardScaler()),\n",
    "                     (\"Linear\", LinearRegression())\n",
    "                 ]))) \n",
    "\n",
    "pipelines.append(\n",
    "                (\"Scaled_Gboost-Reg\",\n",
    "                 Pipeline([\n",
    "                     (\"Scaler\", StandardScaler()),\n",
    "                     (\"GBoost-Reg\", GradientBoostingRegressor())\n",
    "                 ])))\n",
    "\n",
    "pipelines.append(\n",
    "                (\"Scaled_RFR_PCA\",\n",
    "                 Pipeline([\n",
    "                     (\"Scaler\", StandardScaler()),\n",
    "                     (\"PCA\", PCA(n_components=3)),\n",
    "                     (\"XGB\", RandomForestRegressor())\n",
    "                 ])))\n",
    "\n",
    "pipelines.append(\n",
    "                (\"Scaled_XGBR_PCA\",\n",
    "                 Pipeline([\n",
    "                     (\"Scaler\", StandardScaler()),\n",
    "                     (\"PCA\", PCA(n_components=3)),\n",
    "                     (\"XGB\", XGBRegressor())\n",
    "                 ])))\n",
    "\n",
    "#'neg_mean_absolute_error', 'neg_mean_squared_error','r2'\n",
    "scoring = 'r2'\n",
    "n_folds = 5\n",
    "\n",
    "results, names  = [], [] \n",
    "\n",
    "for name, model  in pipelines:\n",
    "    kfold = KFold(n_splits=n_folds, random_state=seed)\n",
    "    cv_results = cross_val_score(model, X_train, y_train, cv= kfold,\n",
    "                                 scoring=scoring, n_jobs=-1)    \n",
    "    names.append(name)\n",
    "    results.append(cv_results)    \n",
    "    msg = \"%s: %f (+/- %f)\" % (name, cv_results.mean(),  cv_results.std())\n",
    "    print(msg)\n",
    "    \n",
    "# boxplot algorithm comparison\n",
    "fig = plt.figure(figsize=(15,6))\n",
    "fig.suptitle('Algorithm Comparison', fontsize=22)\n",
    "ax = fig.add_subplot(111)\n",
    "sns.boxplot(x=names, y=results)\n",
    "ax.set_xticklabels(names)\n",
    "ax.set_xlabel(\"Algorithmn Name\", fontsize=20)\n",
    "ax.set_ylabel(\"R Squared Score of Models\", fontsize=18)\n",
    "ax.set_xticklabels(ax.get_xticklabels(),rotation=45)\n",
    "plt.show()"
   ]
  },
  {
   "cell_type": "code",
   "execution_count": 802,
   "metadata": {},
   "outputs": [
    {
     "name": "stdout",
     "output_type": "stream",
     "text": [
      "Scaled_RF_reg: 0.358457 (+/- 0.187649)\n",
      "Scaled_BR_reg: 0.389148 (+/- 0.161945)\n",
      "Scaled_BayRidge: 0.340502 (+/- 0.204787)\n",
      "Scaled_XGB_reg: 0.381793 (+/- 0.234197)\n",
      "Scaled_KNN_reg: 0.346958 (+/- 0.137460)\n",
      "Scaled_ADA-Reg: 0.368710 (+/- 0.113980)\n",
      "Scaled_Linear: 0.311212 (+/- 0.226979)\n"
     ]
    },
    {
     "data": {
      "image/png": "[encoded data removed]",
      "text/plain": [
       "<Figure size 1080x432 with 1 Axes>"
      ]
     },
     "metadata": {
      "needs_background": "light"
     },
     "output_type": "display_data"
    }
   ],
   "source": [
    "pipelines = []\n",
    "seed = 2\n",
    "\n",
    "pipelines.append(\n",
    "                (\"Scaled_RF_reg\",\n",
    "                 Pipeline([\n",
    "                     (\"Scaler\", StandardScaler()),\n",
    "                     (\"RF\", RandomForestRegressor(random_state=seed))\n",
    "                 ])\n",
    "                )\n",
    "                )\n",
    "\n",
    "pipelines.append(\n",
    "                (\"Scaled_BR_reg\",\n",
    "                 Pipeline([\n",
    "                     (\"Scaler\", StandardScaler()),\n",
    "                     (\"BR\", BaggingRegressor(random_state=seed))\n",
    "                 ]))) \n",
    "\n",
    "pipelines.append(\n",
    "                (\"Scaled_BayRidge\",\n",
    "                 Pipeline([\n",
    "                     (\"Scaler\", StandardScaler()),\n",
    "                     (\"BR\", BayesianRidge())\n",
    "                 ]))) \n",
    "\n",
    "pipelines.append(\n",
    "                (\"Scaled_XGB_reg\",\n",
    "                 Pipeline([\n",
    "                     (\"Scaler\", StandardScaler()),\n",
    "                     (\"XGBR\", XGBRegressor(seed=seed))\n",
    "                 ]))) \n",
    "\n",
    "pipelines.append(\n",
    "                (\"Scaled_KNN_reg\",\n",
    "                 Pipeline([\n",
    "                     (\"Scaler\", StandardScaler()),\n",
    "                     (\"KNN_reg\", KNeighborsRegressor())\n",
    "                 ])))\n",
    "\n",
    "pipelines.append(\n",
    "                (\"Scaled_ADA-Reg\",\n",
    "                 Pipeline([\n",
    "                     (\"Scaler\", StandardScaler()),\n",
    "                     (\"ADA-reg\", AdaBoostRegressor())\n",
    "                 ]))) \n",
    "\n",
    "pipelines.append(\n",
    "                (\"Scaled_Linear\",\n",
    "                 Pipeline([\n",
    "                     (\"Scaler\", StandardScaler()),\n",
    "                     (\"Linear\", LinearRegression())\n",
    "                 ]))) \n",
    "\n",
    "\n",
    "#'neg_mean_absolute_error', 'neg_mean_squared_error','r2'\n",
    "scoring = 'r2'\n",
    "n_folds = 5\n",
    "\n",
    "results, names  = [], [] \n",
    "\n",
    "for name, model  in pipelines:\n",
    "    kfold = KFold(n_splits=n_folds, random_state=seed)\n",
    "    cv_results = cross_val_score(model, X_train, y_train, cv= kfold,\n",
    "                                 scoring=scoring, n_jobs=-1)    \n",
    "    names.append(name)\n",
    "    results.append(cv_results)    \n",
    "    msg = \"%s: %f (+/- %f)\" % (name, cv_results.mean(),  cv_results.std())\n",
    "    print(msg)\n",
    "    \n",
    "# boxplot algorithm comparison\n",
    "fig = plt.figure(figsize=(15,6))\n",
    "fig.suptitle('Algorithm Comparison', fontsize=22)\n",
    "ax = fig.add_subplot(111)\n",
    "sns.boxplot(x=names, y=results)\n",
    "ax.set_xticklabels(names)\n",
    "ax.set_xlabel(\"Algorithm Name\", fontsize=20)\n",
    "ax.set_ylabel(\"R Squared Score of Models\", fontsize=18)\n",
    "ax.set_xticklabels(ax.get_xticklabels(),rotation=45)\n",
    "plt.savefig('123.png')"
   ]
  },
  {
   "cell_type": "code",
   "execution_count": 803,
   "metadata": {},
   "outputs": [
    {
     "data": {
      "text/plain": [
       "Pipeline(memory=None,\n",
       "     steps=[('Scaler', StandardScaler(copy=True, with_mean=True, with_std=True)), ('XGBR', XGBRegressor(base_score=0.5, booster='gbtree', colsample_bylevel=1,\n",
       "       colsample_bytree=1, gamma=0, learning_rate=0.1, max_delta_step=0,\n",
       "       max_depth=3, min_child_weight=1, missing=None, n_estimators=100,\n",
       "       n_jobs=1, nthread=None, objective='reg:linear', random_state=0,\n",
       "       reg_alpha=0, reg_lambda=1, scale_pos_weight=1, seed=2, silent=True,\n",
       "       subsample=1))])"
      ]
     },
     "execution_count": 803,
     "metadata": {},
     "output_type": "execute_result"
    }
   ],
   "source": [
    "pipelines[3][1]"
   ]
  },
  {
   "cell_type": "code",
   "execution_count": 805,
   "metadata": {},
   "outputs": [
    {
     "name": "stdout",
     "output_type": "stream",
     "text": [
      "Fitting 3 folds for each of 1 candidates, totalling 3 fits\n",
      "-------Best score----------\n",
      "-14.271388923487313\n",
      "-------Best params----------\n",
      "{}\n"
     ]
    },
    {
     "name": "stderr",
     "output_type": "stream",
     "text": [
      "[Parallel(n_jobs=1)]: Done   3 out of   3 | elapsed:    0.0s finished\n"
     ]
    }
   ],
   "source": [
    "XGB = pipelines[3][1]\n",
    "\n",
    "param_grid_rf =  [ { \n",
    "\n",
    "       }]\n",
    "\n",
    "grid_rf = GridSearchCV(estimator=XGB,\n",
    "                               param_grid= param_grid_rf,\n",
    "                               scoring= 'neg_mean_squared_error',\n",
    "                               cv = KFold(n_splits= 3, random_state= seed, shuffle=True),\n",
    "                               verbose = 1 )\n",
    "# Fit grid\n",
    "grid_rf.fit(select_X_train, y_train)\n",
    "\n",
    "# Best score and best parameters\n",
    "print('-------Best score----------')\n",
    "print(grid_rf.best_score_ )\n",
    "print('-------Best params----------')\n",
    "print(grid_rf.best_params_)          "
   ]
  },
  {
   "cell_type": "code",
   "execution_count": 806,
   "metadata": {},
   "outputs": [
    {
     "data": {
      "image/png": "[encoded data removed]",
      "text/plain": [
       "<Figure size 648x432 with 1 Axes>"
      ]
     },
     "metadata": {
      "needs_background": "light"
     },
     "output_type": "display_data"
    }
   ],
   "source": [
    "def plot_learning_curve(train_sizes, train_scores, test_scores, title, alpha=0.1):\n",
    "    train_scores = -train_scores\n",
    "    test_scores = -test_scores\n",
    "    train_mean = np.mean(train_scores, axis=1)\n",
    "    train_std = np.std(train_scores, axis=1)\n",
    "    test_mean = np.mean(test_scores, axis=1)\n",
    "    test_std = np.std(test_scores, axis=1)\n",
    "    plt.plot(train_sizes, train_mean, label='train score', color='blue', marker='o')\n",
    "    plt.fill_between(train_sizes,train_mean + train_std,\n",
    "                    train_mean - train_std, color='blue', alpha=alpha)\n",
    "    plt.plot(train_sizes, test_mean, label='test score', color='red',marker='o')\n",
    "    plt.fill_between(train_sizes,test_mean + test_std, test_mean - test_std , color='red', alpha=alpha)\n",
    "    plt.title(title)\n",
    "    plt.xlabel('Number of training points')\n",
    "    plt.ylabel(r'Mean Squared Error')\n",
    "    plt.grid(ls='--')\n",
    "    plt.legend(loc='best')\n",
    "    plt.show() \n",
    "    \n",
    "# Plot the learning curve\n",
    "plt.figure(figsize=(9,6))\n",
    "train_sizes, train_scores, test_scores = learning_curve(\n",
    "                                            grid_rf.best_estimator_ , X= select_X_train, y = y_train, \n",
    "                                            cv= 3,  scoring='neg_mean_squared_error')\n",
    "\n",
    "plot_learning_curve(train_sizes, train_scores, test_scores, title='Learning curve for RF Regressor') "
   ]
  },
  {
   "cell_type": "code",
   "execution_count": 807,
   "metadata": {},
   "outputs": [
    {
     "data": {
      "text/plain": [
       "Pipeline(memory=None,\n",
       "     steps=[('Scaler', StandardScaler(copy=True, with_mean=True, with_std=True)), ('Linear', LinearRegression(copy_X=True, fit_intercept=True, n_jobs=1, normalize=False))])"
      ]
     },
     "execution_count": 807,
     "metadata": {},
     "output_type": "execute_result"
    }
   ],
   "source": [
    "best_model"
   ]
  },
  {
   "cell_type": "code",
   "execution_count": 808,
   "metadata": {},
   "outputs": [
    {
     "name": "stdout",
     "output_type": "stream",
     "text": [
      "Training Root Mean Squared Error 0.70\n"
     ]
    }
   ],
   "source": [
    "best_model = clone(grid_rf.best_estimator_)\n",
    "best_model.fit(select_X_train, y_train)\n",
    "y_pred_train = best_model.predict(select_X_train)\n",
    "\n",
    "print( \"Training Root Mean Squared Error %.2f\" %( MSE(y_train, y_pred_train)**(1/2) ) )"
   ]
  },
  {
   "cell_type": "code",
   "execution_count": 809,
   "metadata": {},
   "outputs": [
    {
     "name": "stdout",
     "output_type": "stream",
     "text": [
      "Root Mean Squared Error on Holdout Set 3.090287\n"
     ]
    }
   ],
   "source": [
    "y_pred_val = best_model.predict(select_X_val)\n",
    "print(\"Root Mean Squared Error on Holdout Set %f\" %(MSE(y_test, y_pred_val)**(1/2)))"
   ]
  },
  {
   "cell_type": "code",
   "execution_count": 810,
   "metadata": {},
   "outputs": [
    {
     "data": {
      "text/plain": [
       "0.6207148444592696"
      ]
     },
     "execution_count": 810,
     "metadata": {},
     "output_type": "execute_result"
    }
   ],
   "source": [
    "r2_score(y_test, y_pred_val)"
   ]
  },
  {
   "cell_type": "code",
   "execution_count": 766,
   "metadata": {},
   "outputs": [
    {
     "data": {
      "text/plain": [
       "Pipeline(memory=None,\n",
       "     steps=[('Scaler', StandardScaler(copy=True, with_mean=True, with_std=True)), ('Linear', LinearRegression(copy_X=True, fit_intercept=True, n_jobs=1, normalize=False))])"
      ]
     },
     "execution_count": 766,
     "metadata": {},
     "output_type": "execute_result"
    }
   ],
   "source": [
    "best_model"
   ]
  },
  {
   "cell_type": "code",
   "execution_count": 767,
   "metadata": {},
   "outputs": [
    {
     "data": {
      "image/png": "[encoded data removed]",
      "text/plain": [
       "<Figure size 432x288 with 1 Axes>"
      ]
     },
     "metadata": {
      "needs_background": "light"
     },
     "output_type": "display_data"
    }
   ],
   "source": [
    "x15= range(20)\n",
    "plt.plot(x15,x15)\n",
    "plt.scatter(y_pred_val, y_test)\n",
    "plt.suptitle(\"Actual vs. Predicted\")\n",
    "plt.xlabel(\"y predicted\")\n",
    "plt.ylabel(\"Actutal\")\n",
    "plt.savefig(\"XG.svg\")"
   ]
  },
  {
   "cell_type": "code",
   "execution_count": 768,
   "metadata": {},
   "outputs": [
    {
     "data": {
      "image/png": "[encoded data removed]",
      "text/plain": [
       "<Figure size 432x288 with 1 Axes>"
      ]
     },
     "metadata": {
      "needs_background": "light"
     },
     "output_type": "display_data"
    }
   ],
   "source": [
    "plt.scatter(y_pred_val, y_test - y_pred_val)\n",
    "plt.suptitle(\"Residual plot for the hold out set\")\n",
    "plt.xlabel(\"y predicted\")\n",
    "plt.ylabel(\"residual\")\n",
    "plt.savefig(\"XGresid.svg\")"
   ]
  },
  {
   "cell_type": "code",
   "execution_count": 769,
   "metadata": {},
   "outputs": [
    {
     "data": {
      "text/plain": [
       "array([ 8.63178225, 15.77760471, 11.84840509,  3.23693815,  4.02792443,\n",
       "        4.65608041,  5.21939517,  3.59618181,  0.58065961,  1.4192395 ,\n",
       "       22.46783098,  4.76039301,  6.17114403,  3.1333044 ,  9.6667303 ,\n",
       "        3.35054997,  9.97844168, 16.75127054,  4.29730555,  6.02972031,\n",
       "        9.16235139,  5.47094954,  3.68769072,  6.47357623,  6.79957807])"
      ]
     },
     "execution_count": 769,
     "metadata": {},
     "output_type": "execute_result"
    }
   ],
   "source": [
    "y_test "
   ]
  },
  {
   "cell_type": "code",
   "execution_count": 770,
   "metadata": {},
   "outputs": [
    {
     "data": {
      "text/plain": [
       "array([ 8.39123165, 12.48964876,  9.59331821,  5.5822261 ,  3.706257  ,\n",
       "        7.63702793,  4.86212501, 13.88518002, -0.16322274,  4.94239074,\n",
       "       18.88763212,  6.96827175,  6.61327574,  2.705742  ,  6.2861686 ,\n",
       "        3.00193141, 11.24416439, 14.51226393,  3.16468276,  5.60636324,\n",
       "        6.01120835,  8.20611154,  7.09113184,  5.08443712,  6.52197266])"
      ]
     },
     "execution_count": 770,
     "metadata": {},
     "output_type": "execute_result"
    }
   ],
   "source": [
    "y_pred_val"
   ]
  },
  {
   "cell_type": "code",
   "execution_count": 771,
   "metadata": {},
   "outputs": [],
   "source": [
    "resid = y_test - y_pred_val"
   ]
  },
  {
   "cell_type": "code",
   "execution_count": 772,
   "metadata": {},
   "outputs": [
    {
     "data": {
      "text/plain": [
       "array([  0.24055061,   3.28795595,   2.25508688,  -2.34528795,\n",
       "         0.32166743,  -2.98094752,   0.35727016, -10.28899821,\n",
       "         0.74388235,  -3.52315124,   3.58019886,  -2.20787874,\n",
       "        -0.44213171,   0.4275624 ,   3.3805617 ,   0.34861857,\n",
       "        -1.26572271,   2.23900661,   1.13262279,   0.42335708,\n",
       "         3.15114304,  -2.735162  ,  -3.40344112,   1.38913911,\n",
       "         0.27760541])"
      ]
     },
     "execution_count": 772,
     "metadata": {},
     "output_type": "execute_result"
    }
   ],
   "source": [
    "resid"
   ]
  },
  {
   "cell_type": "code",
   "execution_count": 811,
   "metadata": {},
   "outputs": [
    {
     "name": "stdout",
     "output_type": "stream",
     "text": [
      "Fitting 3 folds for each of 1 candidates, totalling 3 fits\n",
      "-------Best score----------\n",
      "-11.657592143062569\n",
      "-------Best params----------\n",
      "{}\n"
     ]
    },
    {
     "name": "stderr",
     "output_type": "stream",
     "text": [
      "[Parallel(n_jobs=1)]: Done   3 out of   3 | elapsed:    0.0s finished\n"
     ]
    }
   ],
   "source": [
    "Linear = pipelines[6][1]\n",
    "\n",
    "param_grid_rf =  [ { \n",
    "\n",
    "       }]\n",
    "\n",
    "grid_rf = GridSearchCV(estimator=Linear,\n",
    "                               param_grid= param_grid_rf,\n",
    "                               scoring= 'neg_mean_squared_error',\n",
    "                               cv = KFold(n_splits= 3, random_state= seed, shuffle=True),\n",
    "                               verbose = 1 )\n",
    "# Fit grid\n",
    "grid_rf.fit(select_X_train, y_train)\n",
    "\n",
    "# Best score and best parameters\n",
    "print('-------Best score----------')\n",
    "print(grid_rf.best_score_ )\n",
    "print('-------Best params----------')\n",
    "print(grid_rf.best_params_)          "
   ]
  },
  {
   "cell_type": "code",
   "execution_count": 812,
   "metadata": {},
   "outputs": [
    {
     "data": {
      "image/png": "[encoded data removed]",
      "text/plain": [
       "<Figure size 648x432 with 1 Axes>"
      ]
     },
     "metadata": {
      "needs_background": "light"
     },
     "output_type": "display_data"
    }
   ],
   "source": [
    "def plot_learning_curve(train_sizes, train_scores, test_scores, title, alpha=0.1):\n",
    "    train_scores = -train_scores\n",
    "    test_scores = -test_scores\n",
    "    train_mean = np.mean(train_scores, axis=1)\n",
    "    train_std = np.std(train_scores, axis=1)\n",
    "    test_mean = np.mean(test_scores, axis=1)\n",
    "    test_std = np.std(test_scores, axis=1)\n",
    "    plt.plot(train_sizes, train_mean, label='train score', color='blue', marker='o')\n",
    "    plt.fill_between(train_sizes,train_mean + train_std,\n",
    "                    train_mean - train_std, color='blue', alpha=alpha)\n",
    "    plt.plot(train_sizes, test_mean, label='test score', color='red',marker='o')\n",
    "    plt.fill_between(train_sizes,test_mean + test_std, test_mean - test_std , color='red', alpha=alpha)\n",
    "    plt.title(title)\n",
    "    plt.xlabel('Number of training points')\n",
    "    plt.ylabel(r'Mean Squared Error')\n",
    "    plt.grid(ls='--')\n",
    "    plt.legend(loc='best')\n",
    "    plt.show() \n",
    "    \n",
    "# Plot the learning curve\n",
    "plt.figure(figsize=(9,6))\n",
    "train_sizes, train_scores, test_scores = learning_curve(\n",
    "                                            grid_rf.best_estimator_ , X= select_X_train, y = y_train, \n",
    "                                            cv= 3,  scoring='neg_mean_squared_error')\n",
    "\n",
    "plot_learning_curve(train_sizes, train_scores, test_scores, title='Learning curve for RF Regressor') "
   ]
  },
  {
   "cell_type": "code",
   "execution_count": 886,
   "metadata": {},
   "outputs": [
    {
     "data": {
      "text/plain": [
       "Pipeline(memory=None,\n",
       "     steps=[('Scaler', StandardScaler(copy=True, with_mean=True, with_std=True)), ('Linear', LinearRegression(copy_X=True, fit_intercept=True, n_jobs=1, normalize=False))])"
      ]
     },
     "execution_count": 886,
     "metadata": {},
     "output_type": "execute_result"
    }
   ],
   "source": [
    "best_model"
   ]
  },
  {
   "cell_type": "code",
   "execution_count": 856,
   "metadata": {},
   "outputs": [
    {
     "name": "stdout",
     "output_type": "stream",
     "text": [
      "Training Root Mean Squared Error 3.13\n"
     ]
    }
   ],
   "source": [
    "best_model = clone(grid_rf.best_estimator_)\n",
    "best_model.fit(select_X_train, y_train)\n",
    "y_pred_train = best_model.predict(select_X_train)\n",
    "\n",
    "print( \"Training Root Mean Squared Error %.2f\" %( MSE(y_train, y_pred_train)**(1/2) ) )"
   ]
  },
  {
   "cell_type": "code",
   "execution_count": 857,
   "metadata": {},
   "outputs": [
    {
     "name": "stdout",
     "output_type": "stream",
     "text": [
      "Root Mean Squared Error on Holdout Set 2.953640\n"
     ]
    }
   ],
   "source": [
    "y_pred_val = best_model.predict(select_X_val)\n",
    "print(\"Root Mean Squared Error on Holdout Set %f\" %(MSE(y_test, y_pred_val)**(1/2)))"
   ]
  },
  {
   "cell_type": "code",
   "execution_count": 847,
   "metadata": {},
   "outputs": [],
   "source": [
    "scaler = grid_rf.best_estimator_.named_steps['Scaler']\n",
    "classifier = grid_rf.best_estimator_.named_steps['Linear']"
   ]
  },
  {
   "cell_type": "code",
   "execution_count": 888,
   "metadata": {},
   "outputs": [
    {
     "name": "stdout",
     "output_type": "stream",
     "text": [
      "Root Mean Squared Error on Holdout Set 2.953640\n"
     ]
    }
   ],
   "source": [
    "lm = LinearRegression()\n",
    "lm.fit(select_X_train, y_train)\n",
    "lm_pred_train = best_model.predict(select_X_train)\n",
    "lm_pred_val = lm.predict(select_X_val)\n",
    "print(\"Root Mean Squared Error on Holdout Set %f\" %(MSE(y_test,lm_pred_val)**(1/2)))"
   ]
  },
  {
   "cell_type": "code",
   "execution_count": 891,
   "metadata": {},
   "outputs": [
    {
     "data": {
      "text/plain": [
       "array([ 3.65040038, 12.00159049,  8.62034938, -1.59148556,  1.08917788,\n",
       "        1.10100803])"
      ]
     },
     "execution_count": 891,
     "metadata": {},
     "output_type": "execute_result"
    }
   ],
   "source": [
    "lm.coef_"
   ]
  },
  {
   "cell_type": "code",
   "execution_count": 893,
   "metadata": {},
   "outputs": [
    {
     "data": {
      "text/plain": [
       "-2.5851070172282444"
      ]
     },
     "execution_count": 893,
     "metadata": {},
     "output_type": "execute_result"
    }
   ],
   "source": [
    "lm.intercept_"
   ]
  },
  {
   "cell_type": "code",
   "execution_count": 883,
   "metadata": {},
   "outputs": [
    {
     "data": {
      "text/plain": [
       "7.634533068762886"
      ]
     },
     "execution_count": 883,
     "metadata": {},
     "output_type": "execute_result"
    }
   ],
   "source": [
    "classifier.intercept_"
   ]
  },
  {
   "cell_type": "code",
   "execution_count": 872,
   "metadata": {},
   "outputs": [
    {
     "data": {
      "text/plain": [
       "array([ 8.63178225, 15.77760471, 11.84840509,  3.23693815,  4.02792443,\n",
       "        4.65608041,  5.21939517,  3.59618181,  0.58065961,  1.4192395 ,\n",
       "       22.46783098,  4.76039301,  6.17114403,  3.1333044 ,  9.6667303 ,\n",
       "        3.35054997,  9.97844168, 16.75127054,  4.29730555,  6.02972031,\n",
       "        9.16235139,  5.47094954,  3.68769072,  6.47357623,  6.79957807])"
      ]
     },
     "execution_count": 872,
     "metadata": {},
     "output_type": "execute_result"
    }
   ],
   "source": [
    "y_test"
   ]
  },
  {
   "cell_type": "code",
   "execution_count": 873,
   "metadata": {},
   "outputs": [
    {
     "data": {
      "text/plain": [
       "array([ 8.39123165, 12.48964876,  9.59331821,  5.5822261 ,  3.706257  ,\n",
       "        7.63702793,  4.86212501, 13.88518002, -0.16322274,  4.94239074,\n",
       "       18.88763212,  6.96827175,  6.61327574,  2.705742  ,  6.2861686 ,\n",
       "        3.00193141, 11.24416439, 14.51226393,  3.16468276,  5.60636324,\n",
       "        6.01120835,  8.20611154,  7.09113184,  5.08443712,  6.52197266])"
      ]
     },
     "execution_count": 873,
     "metadata": {},
     "output_type": "execute_result"
    }
   ],
   "source": [
    "y_pred_val"
   ]
  },
  {
   "cell_type": "code",
   "execution_count": 870,
   "metadata": {},
   "outputs": [
    {
     "data": {
      "text/plain": [
       "array([ 1.62902954,  1.96823012,  1.15319698, -0.26769161,  0.22834367,\n",
       "        0.32925687])"
      ]
     },
     "execution_count": 870,
     "metadata": {},
     "output_type": "execute_result"
    }
   ],
   "source": [
    "classifier.coef_"
   ]
  },
  {
   "cell_type": "code",
   "execution_count": 868,
   "metadata": {},
   "outputs": [
    {
     "data": {
      "text/plain": [
       "LinearRegression(copy_X=True, fit_intercept=True, n_jobs=1, normalize=False)"
      ]
     },
     "execution_count": 868,
     "metadata": {},
     "output_type": "execute_result"
    }
   ],
   "source": [
    "classifier"
   ]
  },
  {
   "cell_type": "code",
   "execution_count": 866,
   "metadata": {},
   "outputs": [
    {
     "data": {
      "text/plain": [
       "array([18.44438017])"
      ]
     },
     "execution_count": 866,
     "metadata": {},
     "output_type": "execute_result"
    }
   ],
   "source": [
    "best_model.predict(db)"
   ]
  },
  {
   "cell_type": "code",
   "execution_count": 777,
   "metadata": {},
   "outputs": [],
   "source": [
    "from sklearn.metrics import r2_score"
   ]
  },
  {
   "cell_type": "code",
   "execution_count": 869,
   "metadata": {},
   "outputs": [
    {
     "data": {
      "text/plain": [
       "0.6535158327544284"
      ]
     },
     "execution_count": 869,
     "metadata": {},
     "output_type": "execute_result"
    }
   ],
   "source": [
    "r2_score(y_test, y_pred_val)"
   ]
  },
  {
   "cell_type": "code",
   "execution_count": 779,
   "metadata": {},
   "outputs": [
    {
     "data": {
      "text/plain": [
       "Pipeline(memory=None,\n",
       "     steps=[('Scaler', StandardScaler(copy=True, with_mean=True, with_std=True)), ('Linear', LinearRegression(copy_X=True, fit_intercept=True, n_jobs=1, normalize=False))])"
      ]
     },
     "execution_count": 779,
     "metadata": {},
     "output_type": "execute_result"
    }
   ],
   "source": [
    "best_model"
   ]
  },
  {
   "cell_type": "code",
   "execution_count": 798,
   "metadata": {},
   "outputs": [
    {
     "data": {
      "image/png": "[encoded data removed]",
      "text/plain": [
       "<Figure size 432x288 with 1 Axes>"
      ]
     },
     "metadata": {
      "needs_background": "light"
     },
     "output_type": "display_data"
    }
   ],
   "source": [
    "plt.scatter(y_pred_val, y_test - y_pred_val)\n",
    "plt.suptitle(\"Residual plot for the hold out set\")\n",
    "plt.xlabel(\"y predicted\")\n",
    "plt.ylabel(\"residual\")\n",
    "plt.savefig(\"linearresid\")"
   ]
  },
  {
   "cell_type": "code",
   "execution_count": 781,
   "metadata": {},
   "outputs": [
    {
     "data": {
      "image/png": "[encoded data removed]",
      "text/plain": [
       "<Figure size 432x288 with 1 Axes>"
      ]
     },
     "metadata": {
      "needs_background": "light"
     },
     "output_type": "display_data"
    }
   ],
   "source": [
    "x15=range(25)\n",
    "plt.plot(x15,x15)\n",
    "plt.scatter(y_pred_val, y_test)\n",
    "plt.suptitle(\"Actual vs. Predicted\")\n",
    "plt.xlabel(\"y predicted\")\n",
    "plt.ylabel(\"y actual\")\n",
    "plt.show()"
   ]
  },
  {
   "cell_type": "code",
   "execution_count": 782,
   "metadata": {},
   "outputs": [
    {
     "data": {
      "image/png": "[encoded data removed]",
      "text/plain": [
       "<Figure size 432x288 with 1 Axes>"
      ]
     },
     "metadata": {
      "needs_background": "light"
     },
     "output_type": "display_data"
    }
   ],
   "source": [
    "x15=range(25)\n",
    "plt.plot(x15,x15,c='k')\n",
    "plt.scatter(y_pred_val, y_test, c='g')\n",
    "plt.suptitle(\"Actual vs. Predicted\")\n",
    "plt.xlabel(\"y predicted\")\n",
    "plt.ylabel(\"y actual\")\n",
    "plt.savefig('actual.svg')"
   ]
  },
  {
   "cell_type": "code",
   "execution_count": 783,
   "metadata": {},
   "outputs": [
    {
     "data": {
      "text/plain": [
       "array([ 8.63178225, 15.77760471, 11.84840509,  3.23693815,  4.02792443,\n",
       "        4.65608041,  5.21939517,  3.59618181,  0.58065961,  1.4192395 ,\n",
       "       22.46783098,  4.76039301,  6.17114403,  3.1333044 ,  9.6667303 ,\n",
       "        3.35054997,  9.97844168, 16.75127054,  4.29730555,  6.02972031,\n",
       "        9.16235139,  5.47094954,  3.68769072,  6.47357623,  6.79957807])"
      ]
     },
     "execution_count": 783,
     "metadata": {},
     "output_type": "execute_result"
    }
   ],
   "source": [
    "y_test\n"
   ]
  },
  {
   "cell_type": "code",
   "execution_count": 784,
   "metadata": {},
   "outputs": [
    {
     "name": "stderr",
     "output_type": "stream",
     "text": [
      "C:\\ProgramData\\Anaconda3\\lib\\site-packages\\ipykernel_launcher.py:3: FutureWarning: Method .as_matrix will be removed in a future version. Use .values instead.\n",
      "  This is separate from the ipykernel package so we can avoid doing imports until\n"
     ]
    }
   ],
   "source": [
    "databricks = [1.24719232418189,0.951862931344295,0.671300585943595,0.981899434820076,-1.14895360823323,1.88928211797748]\n",
    "db = pd.DataFrame([databricks])\n",
    "db = db.as_matrix()"
   ]
  },
  {
   "cell_type": "code",
   "execution_count": 785,
   "metadata": {},
   "outputs": [
    {
     "name": "stderr",
     "output_type": "stream",
     "text": [
      "C:\\ProgramData\\Anaconda3\\lib\\site-packages\\ipykernel_launcher.py:3: FutureWarning: Method .as_matrix will be removed in a future version. Use .values instead.\n",
      "  This is separate from the ipykernel package so we can avoid doing imports until\n"
     ]
    },
    {
     "data": {
      "text/plain": [
       "array([24.01155259])"
      ]
     },
     "execution_count": 785,
     "metadata": {},
     "output_type": "execute_result"
    }
   ],
   "source": [
    "velo = [2.734,1.013,0.617,0.520,-1.083,1.042]\n",
    "vc = pd.DataFrame([velo])\n",
    "vc = vc.as_matrix()\n",
    "vc_pred = best_model.predict(vc)\n",
    "vc_pred"
   ]
  },
  {
   "cell_type": "code",
   "execution_count": 786,
   "metadata": {},
   "outputs": [
    {
     "name": "stderr",
     "output_type": "stream",
     "text": [
      "C:\\ProgramData\\Anaconda3\\lib\\site-packages\\ipykernel_launcher.py:3: FutureWarning: Method .as_matrix will be removed in a future version. Use .values instead.\n",
      "  This is separate from the ipykernel package so we can avoid doing imports until\n"
     ]
    },
    {
     "data": {
      "text/plain": [
       "array([17.2672151])"
      ]
     },
     "execution_count": 786,
     "metadata": {},
     "output_type": "execute_result"
    }
   ],
   "source": [
    "cs = [1.072,0.914,0.641,0.838,-0.774,1.472]\n",
    "cs = pd.DataFrame([cs])\n",
    "cs = cs.as_matrix()\n",
    "cs_pred = best_model.predict(cs)\n",
    "cs_pred"
   ]
  },
  {
   "cell_type": "code",
   "execution_count": 787,
   "metadata": {},
   "outputs": [
    {
     "data": {
      "text/plain": [
       "13.152400835073069"
      ]
     },
     "execution_count": 787,
     "metadata": {},
     "output_type": "execute_result"
    }
   ],
   "source": [
    "csa = 3150/239.5\n",
    "csa"
   ]
  },
  {
   "cell_type": "code",
   "execution_count": 788,
   "metadata": {},
   "outputs": [
    {
     "name": "stderr",
     "output_type": "stream",
     "text": [
      "C:\\ProgramData\\Anaconda3\\lib\\site-packages\\ipykernel_launcher.py:3: FutureWarning: Method .as_matrix will be removed in a future version. Use .values instead.\n",
      "  This is separate from the ipykernel package so we can avoid doing imports until\n"
     ]
    },
    {
     "data": {
      "text/plain": [
       "array([17.07626786])"
      ]
     },
     "execution_count": 788,
     "metadata": {},
     "output_type": "execute_result"
    }
   ],
   "source": [
    "ms = [1.685,0.670,0.760,1.297,-2.697,3.56]\n",
    "ms = pd.DataFrame([ms])\n",
    "ms = ms.as_matrix()\n",
    "ms_pred = best_model.predict(ms)\n",
    "ms_pred"
   ]
  },
  {
   "cell_type": "code",
   "execution_count": 789,
   "metadata": {},
   "outputs": [
    {
     "data": {
      "text/plain": [
       "22.413793103448278"
      ]
     },
     "execution_count": 789,
     "metadata": {},
     "output_type": "execute_result"
    }
   ],
   "source": [
    "msa = 650/29.0\n",
    "msa"
   ]
  },
  {
   "cell_type": "code",
   "execution_count": 790,
   "metadata": {},
   "outputs": [],
   "source": [
    "vca = 320/28.6"
   ]
  },
  {
   "cell_type": "code",
   "execution_count": 791,
   "metadata": {},
   "outputs": [
    {
     "data": {
      "text/plain": [
       "11.188811188811188"
      ]
     },
     "execution_count": 791,
     "metadata": {},
     "output_type": "execute_result"
    }
   ],
   "source": [
    "vca"
   ]
  },
  {
   "cell_type": "code",
   "execution_count": 792,
   "metadata": {},
   "outputs": [
    {
     "data": {
      "text/plain": [
       "Pipeline(memory=None,\n",
       "     steps=[('Scaler', StandardScaler(copy=True, with_mean=True, with_std=True)), ('Linear', LinearRegression(copy_X=True, fit_intercept=True, n_jobs=1, normalize=False))])"
      ]
     },
     "execution_count": 792,
     "metadata": {},
     "output_type": "execute_result"
    }
   ],
   "source": [
    "best_model"
   ]
  },
  {
   "cell_type": "code",
   "execution_count": 793,
   "metadata": {},
   "outputs": [],
   "source": [
    "db_pred = best_model.predict(db)"
   ]
  },
  {
   "cell_type": "code",
   "execution_count": 799,
   "metadata": {},
   "outputs": [
    {
     "data": {
      "text/plain": [
       "array([18.44438017])"
      ]
     },
     "execution_count": 799,
     "metadata": {},
     "output_type": "execute_result"
    }
   ],
   "source": [
    "dba = 1500/66.7\n",
    "actualdb = db_pred\n",
    "actualdb"
   ]
  },
  {
   "cell_type": "code",
   "execution_count": 901,
   "metadata": {},
   "outputs": [
    {
     "data": {
      "text/plain": [
       "22.488755622188904"
      ]
     },
     "execution_count": 901,
     "metadata": {},
     "output_type": "execute_result"
    }
   ],
   "source": [
    "dba"
   ]
  },
  {
   "cell_type": "code",
   "execution_count": 797,
   "metadata": {},
   "outputs": [
    {
     "data": {
      "image/png": "[encoded data removed]",
      "text/plain": [
       "<Figure size 432x288 with 1 Axes>"
      ]
     },
     "metadata": {
      "needs_background": "light"
     },
     "output_type": "display_data"
    }
   ],
   "source": [
    "plt.scatter(dba,db_pred, label = \"Predicted\", c=\"b\")\n",
    "plt.scatter(dba,dba, label = \"Actual\", c=\"g\")\n",
    "\n",
    "plt.scatter(csa,cs_pred, label = \"Predicted\", c=\"b\")\n",
    "plt.scatter(csa,csa, label = \"Actual\", c=\"g\")\n",
    "\n",
    "plt.scatter(vca,vc_pred, label = \"Predicted\", c=\"b\")\n",
    "plt.scatter(vca,vca, label = \"Actual\", c=\"g\")\n",
    "\n",
    "plt.scatter(msa,ms_pred, label = \"Predicted\", c=\"b\")\n",
    "plt.scatter(msa,msa, label = \"Actual\", c=\"g\")\n",
    "\n",
    "plt.xlabel(\"True Values\")\n",
    "plt.ylabel(\"Predictions\")\n",
    "plt.savefig(\"graph.svg\")"
   ]
  },
  {
   "cell_type": "code",
   "execution_count": 796,
   "metadata": {},
   "outputs": [
    {
     "data": {
      "image/png": "[encoded data removed]",
      "text/plain": [
       "<Figure size 432x288 with 1 Axes>"
      ]
     },
     "metadata": {
      "needs_background": "light"
     },
     "output_type": "display_data"
    }
   ],
   "source": [
    "plt.scatter(dba, dba - db_pred)\n",
    "plt.scatter(msa, msa - ms_pred)\n",
    "plt.scatter(vca, vca - vc_pred)\n",
    "plt.scatter(csa, csa - cs_pred)\n",
    "plt.suptitle(\"Residual plot for the prediction set\")\n",
    "plt.xlabel(\"y actual\")\n",
    "plt.ylabel(\"residual\")\n",
    "plt.savefig(\"graph.svg\")"
   ]
  },
  {
   "cell_type": "code",
   "execution_count": null,
   "metadata": {},
   "outputs": [],
   "source": [
    "house.head()"
   ]
  },
  {
   "cell_type": "code",
   "execution_count": null,
   "metadata": {},
   "outputs": [],
   "source": [
    "best_model"
   ]
  },
  {
   "cell_type": "code",
   "execution_count": null,
   "metadata": {},
   "outputs": [],
   "source": [
    "y_test_val = y_test.values()"
   ]
  },
  {
   "cell_type": "code",
   "execution_count": null,
   "metadata": {},
   "outputs": [],
   "source": [
    "y_test"
   ]
  },
  {
   "cell_type": "code",
   "execution_count": 727,
   "metadata": {},
   "outputs": [
    {
     "name": "stdout",
     "output_type": "stream",
     "text": [
      "1.3989071748784665 3.047783118149964\n"
     ]
    }
   ],
   "source": [
    "yhat = best_model.predict(select_X_val).flatten()\n",
    "SS_Residual1 = sum((y_test-yhat)**2)\n",
    "std_err1 = math.sqrt(SS_Residual1/122)\n",
    "moe_1 = std_err1 * 1.1 * t\n",
    "print (std_err1,moe_1)\n"
   ]
  },
  {
   "cell_type": "code",
   "execution_count": 605,
   "metadata": {},
   "outputs": [],
   "source": [
    "import math"
   ]
  },
  {
   "cell_type": "code",
   "execution_count": 606,
   "metadata": {},
   "outputs": [],
   "source": [
    "t = 1.98062600245909 #consistent with sample size at 95% confidence interval"
   ]
  },
  {
   "cell_type": "code",
   "execution_count": null,
   "metadata": {},
   "outputs": [],
   "source": []
  }
 ],
 "metadata": {
  "_change_revision": 0,
  "_is_fork": false,
  "kernelspec": {
   "display_name": "Python 3",
   "language": "python",
   "name": "python3"
  },
  "language_info": {
   "codemirror_mode": {
    "name": "ipython",
    "version": 3
   },
   "file_extension": ".py",
   "mimetype": "text/x-python",
   "name": "python",
   "nbconvert_exporter": "python",
   "pygments_lexer": "ipython3",
   "version": "3.7.0"
  }
 },
 "nbformat": 4,
 "nbformat_minor": 2
}
