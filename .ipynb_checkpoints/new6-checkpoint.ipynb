{
 "cells": [
  {
   "cell_type": "markdown",
   "metadata": {
    "_cell_guid": "6ea51bc1-c7e6-5022-f91e-5933202f9f3a",
    "_uuid": "cde1f7416981edcc7951bbc7a4928933b7ba3760"
   },
   "source": [
    "#INTRODUCTION \n",
    "\n",
    "**Caveat** : Running this notebook will take a while if you do decide to fork so take note. A handful of minutes.\n",
    "\n",
    "This notebook will aim to provide an explanation and application of different feature ranking methods, namely that of Recursive Feature Elimination (RFE), Stability Selection, linear models as well as Random Forest. But first off, it is always imperative to give credit where credit is due. The stuff in this notebook is indebted to and borrows heavily from the excellent 4-part blog article by Ando Saabas on feature selection. So please do check out his article from this link: http://blog.datadive.net/selecting-good-features-part-iv-stability-selection-rfe-and-everything-side-by-side/ \n",
    "\n",
    "The contents of this notebook are as follows: \n",
    "\n",
    " 1. **Data Cleaning and Visualisation** : This section will revolve around exploring the data and visualising some summary statistics. \n",
    " 2. **Stability Selection via Randomised Lasso Method** : Introduce a relatively new feature selection method called \"Stability Selection\" and using the Randomised Lasso in its implementation\n",
    " 3. **Recursive Feature Elimination** : Implementing the Recursive Feature Elimination method of feature ranking via the use of basic Linear Regression \n",
    " 4. **Linear Model Feature Coefficients** : Implementing 3 of Sklearn's linear models (Linear Regression, Lasso and Ridge) and using the inbuilt estimated coefficients for our feature selection\n",
    " 5. **Random Forest Feature Selection** : Using the Random Forest's convenient attribute \"feature_importances\" to calculate and ultimately rank the feature importance.\n",
    "\n",
    "Finally, with all the points 1 to 5 above, we will combine the results to create our:\n",
    "\n",
    "**Feature Ranking Matrix** : Matrix of all the features along with the respective model scores which we can use in our ranking.\n",
    " "
   ]
  },
  {
   "cell_type": "code",
   "execution_count": 3,
   "metadata": {
    "_cell_guid": "15b3d941-c4a4-4c3f-bef1-4c4fcce4a33a",
    "_uuid": "8e0e4f54f2e722ae2cbf175d284d3a3cc0baf024",
    "collapsed": true
   },
   "outputs": [],
   "source": [
    "import pandas as pd\n",
    "import numpy as np\n",
    "from matplotlib import pyplot as plt\n",
    "import seaborn as sns\n",
    "%matplotlib inline\n",
    "from sklearn.feature_selection import RFE, f_regression\n",
    "from sklearn.linear_model import (LinearRegression, Ridge, Lasso, RandomizedLasso)\n",
    "from sklearn.preprocessing import MinMaxScaler\n",
    "from sklearn.ensemble import RandomForestRegressor\n",
    "from sklearn.model_selection import train_test_split, KFold, cross_val_score # to split the data\n",
    "from sklearn.metrics import explained_variance_score, median_absolute_error, r2_score, mean_squared_error, accuracy_score, confusion_matrix, classification_report, fbeta_score #To evaluate our model\n",
    "from sklearn.grid_search import GridSearchCV\n",
    "from sklearn.linear_model import SGDRegressor\n",
    "from sklearn.model_selection import KFold, cross_val_score, train_test_split # Model evaluation\n",
    "from sklearn.preprocessing import LabelEncoder, OneHotEncoder, StandardScaler # Preprocessing\n",
    "from sklearn.linear_model import Lasso, Ridge, ElasticNet, RANSACRegressor, SGDRegressor, HuberRegressor, BayesianRidge # Linear models\n",
    "from sklearn.ensemble import RandomForestRegressor, BaggingRegressor, AdaBoostRegressor, GradientBoostingRegressor, ExtraTreesRegressor  # Ensemble methods\n",
    "from xgboost import XGBRegressor, plot_importance # XGBoost\n",
    "from sklearn.svm import SVR, SVC, LinearSVC  # Support Vector Regression\n",
    "from sklearn.tree import DecisionTreeRegressor # Decision Tree Regression\n",
    "from sklearn.neighbors import KNeighborsRegressor\n",
    "from sklearn.pipeline import Pipeline # Streaming pipelines\n",
    "from sklearn.decomposition import KernelPCA, PCA # Dimensionality reduction\n",
    "from sklearn.feature_selection import SelectFromModel # Dimensionality reduction\n",
    "from sklearn.model_selection import learning_curve, validation_curve, GridSearchCV # Model evaluation\n",
    "from sklearn.base import clone # Clone estimator\n",
    "from sklearn.metrics import mean_squared_error as MSE\n",
    "from scipy import stats"
   ]
  },
  {
   "cell_type": "markdown",
   "metadata": {
    "_cell_guid": "2b932325-d368-ee17-75cb-40feb7e8d1bf",
    "_uuid": "5c3eb6eb38eb2cb7a119a52df82845d57d815a98"
   },
   "source": [
    "# 1. DATA CLEANSING AND ANALYSIS\n",
    "\n",
    "Let's first read in the house data as a dataframe \"house\" and inspect the first 5 rows"
   ]
  },
  {
   "cell_type": "code",
   "execution_count": 4,
   "metadata": {
    "_cell_guid": "1ca75509-383d-c6f5-d809-8a0e99b4e844",
    "_uuid": "ee8644c1339dc96ddffb9dea31086f76624e26eb",
    "collapsed": true
   },
   "outputs": [
    {
     "data": {
      "text/html": [
       "<div>\n",
       "<style scoped>\n",
       "    .dataframe tbody tr th:only-of-type {\n",
       "        vertical-align: middle;\n",
       "    }\n",
       "\n",
       "    .dataframe tbody tr th {\n",
       "        vertical-align: top;\n",
       "    }\n",
       "\n",
       "    .dataframe thead th {\n",
       "        text-align: right;\n",
       "    }\n",
       "</style>\n",
       "<table border=\"1\" class=\"dataframe\">\n",
       "  <thead>\n",
       "    <tr style=\"text-align: right;\">\n",
       "      <th></th>\n",
       "      <th>Ticker</th>\n",
       "      <th>EV/TTM</th>\n",
       "      <th>TTM Rev Growth</th>\n",
       "      <th>NTM Rev Growth</th>\n",
       "      <th>GP Margin</th>\n",
       "      <th>R&amp;D Margin</th>\n",
       "      <th>S&amp;M Margin</th>\n",
       "      <th>EBITDA Margin</th>\n",
       "    </tr>\n",
       "  </thead>\n",
       "  <tbody>\n",
       "    <tr>\n",
       "      <th>0</th>\n",
       "      <td>SMAR US Equity</td>\n",
       "      <td>22.467831</td>\n",
       "      <td>1.730068</td>\n",
       "      <td>0.760249</td>\n",
       "      <td>0.805111</td>\n",
       "      <td>0.337879</td>\n",
       "      <td>0.655488</td>\n",
       "      <td>-0.403603</td>\n",
       "    </tr>\n",
       "    <tr>\n",
       "      <th>1</th>\n",
       "      <td>OKTA US EQUITY</td>\n",
       "      <td>17.244657</td>\n",
       "      <td>2.773790</td>\n",
       "      <td>0.308145</td>\n",
       "      <td>0.704052</td>\n",
       "      <td>0.218452</td>\n",
       "      <td>0.533546</td>\n",
       "      <td>-0.359564</td>\n",
       "    </tr>\n",
       "    <tr>\n",
       "      <th>2</th>\n",
       "      <td>MDB US Equity</td>\n",
       "      <td>16.751271</td>\n",
       "      <td>1.945274</td>\n",
       "      <td>0.412487</td>\n",
       "      <td>0.720585</td>\n",
       "      <td>0.323563</td>\n",
       "      <td>0.571938</td>\n",
       "      <td>-0.560198</td>\n",
       "    </tr>\n",
       "    <tr>\n",
       "      <th>3</th>\n",
       "      <td>TEAM US Equity</td>\n",
       "      <td>16.244587</td>\n",
       "      <td>1.072875</td>\n",
       "      <td>0.324274</td>\n",
       "      <td>0.812349</td>\n",
       "      <td>0.438849</td>\n",
       "      <td>0.198422</td>\n",
       "      <td>0.045933</td>\n",
       "    </tr>\n",
       "    <tr>\n",
       "      <th>4</th>\n",
       "      <td>TENB US Equity</td>\n",
       "      <td>15.777605</td>\n",
       "      <td>0.509411</td>\n",
       "      <td>0.567047</td>\n",
       "      <td>0.863696</td>\n",
       "      <td>0.307217</td>\n",
       "      <td>0.619511</td>\n",
       "      <td>-0.192130</td>\n",
       "    </tr>\n",
       "  </tbody>\n",
       "</table>\n",
       "</div>"
      ],
      "text/plain": [
       "           Ticker     EV/TTM  TTM Rev Growth  NTM Rev Growth  GP Margin  \\\n",
       "0  SMAR US Equity  22.467831        1.730068        0.760249   0.805111   \n",
       "1  OKTA US EQUITY  17.244657        2.773790        0.308145   0.704052   \n",
       "2   MDB US Equity  16.751271        1.945274        0.412487   0.720585   \n",
       "3  TEAM US Equity  16.244587        1.072875        0.324274   0.812349   \n",
       "4  TENB US Equity  15.777605        0.509411        0.567047   0.863696   \n",
       "\n",
       "   R&D Margin  S&M Margin  EBITDA Margin  \n",
       "0    0.337879    0.655488      -0.403603  \n",
       "1    0.218452    0.533546      -0.359564  \n",
       "2    0.323563    0.571938      -0.560198  \n",
       "3    0.438849    0.198422       0.045933  \n",
       "4    0.307217    0.619511      -0.192130  "
      ]
     },
     "execution_count": 4,
     "metadata": {},
     "output_type": "execute_result"
    }
   ],
   "source": [
    "house = pd.read_csv(\"newdata22.csv\")\n",
    "house.head()"
   ]
  },
  {
   "cell_type": "code",
   "execution_count": 5,
   "metadata": {
    "_cell_guid": "b6d0eee1-089e-e880-982a-a81d8f36a899",
    "_uuid": "cd35006e81ba37d1832711d82dcfe89b634802f8",
    "collapsed": true
   },
   "outputs": [],
   "source": [
    "# Dropping the id and date columns\n",
    "house = house.drop(house.columns[0],axis=1)"
   ]
  },
  {
   "cell_type": "code",
   "execution_count": 6,
   "metadata": {},
   "outputs": [
    {
     "data": {
      "text/html": [
       "<div>\n",
       "<style scoped>\n",
       "    .dataframe tbody tr th:only-of-type {\n",
       "        vertical-align: middle;\n",
       "    }\n",
       "\n",
       "    .dataframe tbody tr th {\n",
       "        vertical-align: top;\n",
       "    }\n",
       "\n",
       "    .dataframe thead th {\n",
       "        text-align: right;\n",
       "    }\n",
       "</style>\n",
       "<table border=\"1\" class=\"dataframe\">\n",
       "  <thead>\n",
       "    <tr style=\"text-align: right;\">\n",
       "      <th></th>\n",
       "      <th>EV/TTM</th>\n",
       "      <th>TTM Rev Growth</th>\n",
       "      <th>NTM Rev Growth</th>\n",
       "      <th>GP Margin</th>\n",
       "      <th>R&amp;D Margin</th>\n",
       "      <th>S&amp;M Margin</th>\n",
       "      <th>EBITDA Margin</th>\n",
       "    </tr>\n",
       "  </thead>\n",
       "  <tbody>\n",
       "    <tr>\n",
       "      <th>count</th>\n",
       "      <td>110.000000</td>\n",
       "      <td>110.000000</td>\n",
       "      <td>110.000000</td>\n",
       "      <td>110.000000</td>\n",
       "      <td>110.000000</td>\n",
       "      <td>110.000000</td>\n",
       "      <td>110.000000</td>\n",
       "    </tr>\n",
       "    <tr>\n",
       "      <th>mean</th>\n",
       "      <td>7.482151</td>\n",
       "      <td>0.529533</td>\n",
       "      <td>0.214933</td>\n",
       "      <td>0.700081</td>\n",
       "      <td>0.199380</td>\n",
       "      <td>0.348588</td>\n",
       "      <td>0.015525</td>\n",
       "    </tr>\n",
       "    <tr>\n",
       "      <th>std</th>\n",
       "      <td>3.989772</td>\n",
       "      <td>0.474740</td>\n",
       "      <td>0.156312</td>\n",
       "      <td>0.122095</td>\n",
       "      <td>0.090920</td>\n",
       "      <td>0.159645</td>\n",
       "      <td>0.215519</td>\n",
       "    </tr>\n",
       "    <tr>\n",
       "      <th>min</th>\n",
       "      <td>1.256451</td>\n",
       "      <td>0.017831</td>\n",
       "      <td>0.008429</td>\n",
       "      <td>0.310098</td>\n",
       "      <td>0.025551</td>\n",
       "      <td>0.032649</td>\n",
       "      <td>-0.560198</td>\n",
       "    </tr>\n",
       "    <tr>\n",
       "      <th>25%</th>\n",
       "      <td>4.509768</td>\n",
       "      <td>0.194930</td>\n",
       "      <td>0.101626</td>\n",
       "      <td>0.620438</td>\n",
       "      <td>0.135206</td>\n",
       "      <td>0.214400</td>\n",
       "      <td>-0.136841</td>\n",
       "    </tr>\n",
       "    <tr>\n",
       "      <th>50%</th>\n",
       "      <td>6.724036</td>\n",
       "      <td>0.436279</td>\n",
       "      <td>0.187351</td>\n",
       "      <td>0.713925</td>\n",
       "      <td>0.183677</td>\n",
       "      <td>0.326300</td>\n",
       "      <td>0.027284</td>\n",
       "    </tr>\n",
       "    <tr>\n",
       "      <th>75%</th>\n",
       "      <td>9.467363</td>\n",
       "      <td>0.663942</td>\n",
       "      <td>0.289841</td>\n",
       "      <td>0.792157</td>\n",
       "      <td>0.254760</td>\n",
       "      <td>0.451503</td>\n",
       "      <td>0.164425</td>\n",
       "    </tr>\n",
       "    <tr>\n",
       "      <th>max</th>\n",
       "      <td>22.467831</td>\n",
       "      <td>2.773790</td>\n",
       "      <td>1.003083</td>\n",
       "      <td>0.900197</td>\n",
       "      <td>0.524724</td>\n",
       "      <td>0.726084</td>\n",
       "      <td>0.500626</td>\n",
       "    </tr>\n",
       "  </tbody>\n",
       "</table>\n",
       "</div>"
      ],
      "text/plain": [
       "           EV/TTM  TTM Rev Growth  NTM Rev Growth   GP Margin  R&D Margin  \\\n",
       "count  110.000000      110.000000      110.000000  110.000000  110.000000   \n",
       "mean     7.482151        0.529533        0.214933    0.700081    0.199380   \n",
       "std      3.989772        0.474740        0.156312    0.122095    0.090920   \n",
       "min      1.256451        0.017831        0.008429    0.310098    0.025551   \n",
       "25%      4.509768        0.194930        0.101626    0.620438    0.135206   \n",
       "50%      6.724036        0.436279        0.187351    0.713925    0.183677   \n",
       "75%      9.467363        0.663942        0.289841    0.792157    0.254760   \n",
       "max     22.467831        2.773790        1.003083    0.900197    0.524724   \n",
       "\n",
       "       S&M Margin  EBITDA Margin  \n",
       "count  110.000000     110.000000  \n",
       "mean     0.348588       0.015525  \n",
       "std      0.159645       0.215519  \n",
       "min      0.032649      -0.560198  \n",
       "25%      0.214400      -0.136841  \n",
       "50%      0.326300       0.027284  \n",
       "75%      0.451503       0.164425  \n",
       "max      0.726084       0.500626  "
      ]
     },
     "execution_count": 6,
     "metadata": {},
     "output_type": "execute_result"
    }
   ],
   "source": [
    "house.describe()"
   ]
  },
  {
   "cell_type": "markdown",
   "metadata": {
    "_cell_guid": "c0b6dced-bb93-bf29-2a27-4a5b0a05d185",
    "_uuid": "b5085a15f47eeca65b2999a3371230979751c288"
   },
   "source": [
    "**Pairplot Visualisation**\n",
    "\n",
    "Let's create some Seaborn pairplots for the features ('sqft_lot','sqft_above','price','sqft_living','bedrooms') to get a feel for how the various features are distributed vis-a-vis the price as well as the number of bedrooms"
   ]
  },
  {
   "cell_type": "code",
   "execution_count": 7,
   "metadata": {
    "_cell_guid": "2a9dbedc-9be7-f89d-a855-f21738d72e17",
    "_uuid": "74c725f2563ccb6d1bd9fe35a85d36dfb9488d9c",
    "collapsed": true
   },
   "outputs": [],
   "source": [
    "#sns.pairplot(house[['sqft_lot','sqft_above','price','sqft_living','bedrooms']], hue='bedrooms', palette='afmhot',size=1.4)"
   ]
  },
  {
   "cell_type": "markdown",
   "metadata": {
    "_cell_guid": "222bcbc2-3f3d-9ca0-f30f-757206f923d5",
    "_uuid": "e7f9d812082c1de0ac06a05d5efa2be1b4cdeb3e"
   },
   "source": [
    "From the pairplots, we seem to get the classical linear distribution of the data points, for example with price against sqft_living. This bodes well as in the latter analysis, we will implement some linear models which we will use in our Feature ranking. Let's look at the correlation heatmap: "
   ]
  },
  {
   "cell_type": "code",
   "execution_count": 8,
   "metadata": {
    "_cell_guid": "1d179a59-c663-ef84-c66f-cb8e43226a7c",
    "_uuid": "f2c6729c00b5f2be3cd522e96a4cacfb899a3e02",
    "collapsed": true
   },
   "outputs": [
    {
     "data": {
      "text/plain": [
       "<matplotlib.axes._subplots.AxesSubplot at 0x261f38a83c8>"
      ]
     },
     "execution_count": 8,
     "metadata": {},
     "output_type": "execute_result"
    },
    {
     "data": {
      "image/png": "[encoded data removed]",
      "text/plain": [
       "<Figure size 1152x864 with 2 Axes>"
      ]
     },
     "metadata": {
      "needs_background": "light"
     },
     "output_type": "display_data"
    }
   ],
   "source": [
    "str_list = [] # empty list to contain columns with strings (words)\n",
    "for colname, colvalue in house.iteritems():\n",
    "    if type(colvalue[1]) == str:\n",
    "         str_list.append(colname)\n",
    "# Get to the numeric columns by inversion            \n",
    "num_list = house.columns.difference(str_list) \n",
    "# Create Dataframe containing only numerical features\n",
    "house_num = house[num_list]\n",
    "f, ax = plt.subplots(figsize=(16, 12))\n",
    "plt.title('Pearson Correlation of features')\n",
    "# Draw the heatmap using seaborn\n",
    "#sns.heatmap(house_num.astype(float).corr(),linewidths=0.25,vmax=1.0, square=True, cmap=\"PuBuGn\", linecolor='k', annot=True)\n",
    "sns.heatmap(house_num.astype(float).corr(),linewidths=0.25,vmax=1.0, square=True, cmap=\"cubehelix\", linecolor='k', annot=True)"
   ]
  },
  {
   "cell_type": "markdown",
   "metadata": {
    "_cell_guid": "fc3d8109-ebc5-264c-f964-04f66da0fec0",
    "_uuid": "a3668fbd5d02ee623aaf7f2cbc430c8301989db3"
   },
   "source": [
    "# 2. Stability Selection via Randomized Lasso\n",
    "\n",
    "In a nutshell, this method serves to apply the feature selection on different parts of the data and features repeatedly until the results can be aggregated. Therefore stronger features ( defined as being selected as important) will have greater scores in this method as compared to weaker features. Refer to this paper by Nicolai Meinshausen and Peter Buhlmann for a much greater detail on the method : http://stat.ethz.ch/~nicolai/stability.pdf\n",
    "\n",
    "In this notebook, the Stability Selection method is conveniently inbuilt into sklearn's randomized lasso model and therefore this will be implemented as follows:"
   ]
  },
  {
   "cell_type": "code",
   "execution_count": 9,
   "metadata": {
    "_cell_guid": "45351992-0216-dd3d-76fe-4a658674f0c4",
    "_uuid": "f7b3717f89e357ee844277dde65f298fd2804276",
    "collapsed": true
   },
   "outputs": [
    {
     "name": "stderr",
     "output_type": "stream",
     "text": [
      "C:\\ProgramData\\Anaconda3\\lib\\site-packages\\ipykernel_launcher.py:6: FutureWarning: Method .as_matrix will be removed in a future version. Use .values instead.\n",
      "  \n"
     ]
    }
   ],
   "source": [
    "# First extract the target variable which is our House prices\n",
    "Y = house['EV/TTM']\n",
    "Y = Y.values.ravel()\n",
    "# Drop price from the house dataframe and create a matrix out of the house data\n",
    "house = house.drop(['EV/TTM'], axis=1)\n",
    "X = house.as_matrix()\n",
    "# Store the column/feature names into a list \"colnames\"\n",
    "colnames = house.columns"
   ]
  },
  {
   "cell_type": "code",
   "execution_count": 10,
   "metadata": {},
   "outputs": [
    {
     "data": {
      "text/plain": [
       "Index(['TTM Rev Growth', 'NTM Rev Growth', 'GP Margin', 'R&D Margin',\n",
       "       'S&M Margin', 'EBITDA Margin'],\n",
       "      dtype='object')"
      ]
     },
     "execution_count": 10,
     "metadata": {},
     "output_type": "execute_result"
    }
   ],
   "source": [
    "colnames"
   ]
  },
  {
   "cell_type": "markdown",
   "metadata": {
    "_cell_guid": "1c239bb6-b82e-e35b-7c3c-580c98094cce",
    "_uuid": "1a7926be983626aa6889161a19eee043eef24051"
   },
   "source": [
    "Next, we create a function which will be able to conveniently store our feature rankings obtained from the various methods described here into a Python dictionary. In case you are thinking I created this function, no this is not the case. All credit goes to Ando Saabas and I am only trying to apply what he has discussed in the context of this dataset."
   ]
  },
  {
   "cell_type": "code",
   "execution_count": 11,
   "metadata": {
    "_cell_guid": "ecc7b17a-b6d5-7d6c-726d-de7b75c3c1eb",
    "_uuid": "c92f382f667f648e7679f4b8b48100dd56273119",
    "collapsed": true
   },
   "outputs": [],
   "source": [
    "# Define dictionary to store our rankings\n",
    "ranks = {}\n",
    "# Create our function which stores the feature rankings to the ranks dictionary\n",
    "def ranking(ranks, names, order=1):\n",
    "    minmax = MinMaxScaler()\n",
    "    ranks = minmax.fit_transform(order*np.array([ranks]).T).T[0]\n",
    "    ranks = map(lambda x: round(x,2), ranks)\n",
    "    return dict(zip(names, ranks))"
   ]
  },
  {
   "cell_type": "code",
   "execution_count": 12,
   "metadata": {
    "_cell_guid": "a56e6fbf-1511-2ff7-0693-2f55aa0d21cd",
    "_uuid": "53bdbc76d42cb608da895a5f57f50d6a714bbb4d",
    "collapsed": true
   },
   "outputs": [
    {
     "name": "stderr",
     "output_type": "stream",
     "text": [
      "C:\\ProgramData\\Anaconda3\\lib\\site-packages\\sklearn\\utils\\deprecation.py:58: DeprecationWarning: Class RandomizedLasso is deprecated; The class RandomizedLasso is deprecated in 0.19 and will be removed in 0.21.\n",
      "  warnings.warn(msg, category=DeprecationWarning)\n"
     ]
    },
    {
     "name": "stdout",
     "output_type": "stream",
     "text": [
      "finished\n"
     ]
    }
   ],
   "source": [
    "# Finally let's run our Selection Stability method with Randomized Lasso\n",
    "rlasso = RandomizedLasso(alpha=0.04)\n",
    "rlasso.fit(X, Y)\n",
    "ranks[\"rlasso/Stability\"] = ranking(np.abs(rlasso.scores_), colnames)\n",
    "print('finished')"
   ]
  },
  {
   "cell_type": "markdown",
   "metadata": {
    "_cell_guid": "15244118-31f5-e2df-8ce0-34a6d8f5c729",
    "_uuid": "e4620d40f9df515483eb62a507425f74345ca99f"
   },
   "source": [
    "# 3. Recursive Feature Elimination ( RFE )\n",
    "\n",
    "Now onto the next method in our feature ranking endeavour. Recursive Feature Elimination or RFE uses a model ( eg. linear Regression or SVM) to select either the best or worst-performing feature, and then excludes this feature. The whole process is then iterated until all features in the dataset are used up ( or up to a user-defined limit). Sklearn conveniently possesses a RFE function via the sklearn.feature_selection call and we will use this along with a simple linear regression model for our ranking search as follows:"
   ]
  },
  {
   "cell_type": "code",
   "execution_count": 13,
   "metadata": {
    "_cell_guid": "e11f8021-2f8b-074b-d0cc-c6d9d6d8ae8e",
    "_uuid": "f4c3fbbc4edeca6db3b183ed14790cb87f638c73",
    "collapsed": true
   },
   "outputs": [
    {
     "name": "stdout",
     "output_type": "stream",
     "text": [
      "Fitting estimator with 6 features.\n",
      "Fitting estimator with 5 features.\n",
      "Fitting estimator with 4 features.\n",
      "Fitting estimator with 3 features.\n",
      "Fitting estimator with 2 features.\n"
     ]
    }
   ],
   "source": [
    "# Construct our Linear Regression model\n",
    "lr = LinearRegression(normalize=True)\n",
    "lr.fit(X,Y)\n",
    "#stop the search when only the last feature is left\n",
    "rfe = RFE(lr, n_features_to_select=1, verbose =3 )\n",
    "rfe.fit(X,Y)\n",
    "ranks[\"RFE\"] = ranking(list(map(float, rfe.ranking_)), colnames, order=-1)"
   ]
  },
  {
   "cell_type": "markdown",
   "metadata": {
    "_cell_guid": "c6457163-f8c0-85a7-d69f-5ca2a880010f",
    "_uuid": "757117f801fb02d422a4e768e40a380e838e57df"
   },
   "source": [
    "# 4. Linear Model Feature Ranking\n",
    "\n",
    "Now let's apply 3 different linear models (Linear, Lasso and Ridge Regression) and how the features are selected and prioritised via these models. To achieve this, I shall use the sklearn implementation of these models and in particular the attribute .coef to return the estimated coefficients for each feature in the linear model."
   ]
  },
  {
   "cell_type": "code",
   "execution_count": 14,
   "metadata": {
    "_cell_guid": "64b0534b-c62a-7d85-e181-615b7a3743c9",
    "_uuid": "7eae3169285b35f76de75292ae4f6091c31960a9",
    "collapsed": true
   },
   "outputs": [],
   "source": [
    "# Using Linear Regression\n",
    "lr = LinearRegression(normalize=True)\n",
    "lr.fit(X,Y)\n",
    "ranks[\"LinReg\"] = ranking(np.abs(lr.coef_), colnames)\n",
    "\n",
    "# Using Ridge \n",
    "ridge = Ridge(alpha = 7)\n",
    "ridge.fit(X,Y)\n",
    "ranks['Ridge'] = ranking(np.abs(ridge.coef_), colnames)\n",
    "\n",
    "# Using Lasso\n",
    "lasso = Lasso(alpha=.05)\n",
    "lasso.fit(X, Y)\n",
    "ranks[\"Lasso\"] = ranking(np.abs(lasso.coef_), colnames)"
   ]
  },
  {
   "cell_type": "markdown",
   "metadata": {
    "_cell_guid": "ee729bd0-270e-dc30-8fc8-b2d79873c4e1",
    "_uuid": "edb4e6e2625bb63f06d53dd9db73402a83575b9a"
   },
   "source": [
    "# 5. Random Forest feature ranking\n",
    "\n",
    "Sklearn's Random Forest model also comes with it's own inbuilt feature ranking attribute and one can conveniently just call it via \"feature_importances_\". That is what we will be using as follows:"
   ]
  },
  {
   "cell_type": "code",
   "execution_count": 15,
   "metadata": {
    "_cell_guid": "f013dad9-8855-530f-f792-48163dab2457",
    "_uuid": "f8ab99420883f6e3391bdb97048454c03e9c4f8a",
    "collapsed": true
   },
   "outputs": [
    {
     "name": "stdout",
     "output_type": "stream",
     "text": [
      "building tree 1 of 50building tree 2 of 50\n",
      "\n",
      "building tree 3 of 50building tree 4 of 50\n",
      "\n",
      "building tree 5 of 50\n",
      "building tree 6 of 50\n",
      "building tree 7 of 50building tree 8 of 50\n",
      "\n",
      "building tree 9 of 50building tree 10 of 50\n",
      "\n",
      "building tree 11 of 50\n",
      "building tree 12 of 50\n",
      "building tree 13 of 50building tree 14 of 50\n",
      "\n",
      "building tree 15 of 50\n",
      "building tree 16 of 50\n",
      "building tree 17 of 50\n",
      "building tree 18 of 50\n",
      "building tree 19 of 50\n",
      "building tree 20 of 50building tree 21 of 50building tree 22 of 50\n",
      "\n",
      "\n",
      "building tree 23 of 50\n",
      "building tree 24 of 50\n",
      "building tree 25 of 50building tree 26 of 50\n",
      "\n",
      "building tree 27 of 50\n",
      "building tree 28 of 50\n",
      "building tree 29 of 50\n",
      "building tree 30 of 50\n",
      "building tree 31 of 50\n",
      "building tree 32 of 50\n",
      "building tree 33 of 50\n",
      "building tree 34 of 50\n",
      "building tree 35 of 50\n",
      "building tree 36 of 50\n",
      "building tree 37 of 50\n",
      "building tree 38 of 50\n",
      "building tree 39 of 50building tree 40 of 50\n",
      "\n",
      "building tree 41 of 50building tree 42 of 50\n",
      "\n",
      "building tree 43 of 50\n",
      "building tree 44 of 50\n",
      "building tree 45 of 50\n",
      "building tree 46 of 50\n",
      "building tree 47 of 50building tree 48 of 50\n",
      "\n",
      "building tree 49 of 50building tree 50 of 50\n",
      "\n"
     ]
    },
    {
     "name": "stderr",
     "output_type": "stream",
     "text": [
      "[Parallel(n_jobs=-1)]: Done  24 tasks      | elapsed:    0.0s\n",
      "[Parallel(n_jobs=-1)]: Done  50 out of  50 | elapsed:    0.0s finished\n"
     ]
    }
   ],
   "source": [
    "rf = RandomForestRegressor(n_jobs=-1, n_estimators=50, verbose=3)\n",
    "rf.fit(X,Y)\n",
    "ranks[\"RF\"] = ranking(rf.feature_importances_, colnames);"
   ]
  },
  {
   "cell_type": "markdown",
   "metadata": {
    "_cell_guid": "20ed4bd0-29b6-86a8-0bb8-cd34424376d5",
    "_uuid": "37dd6667f94db4526867b21b3375df16954610ef"
   },
   "source": [
    "# 6. Creating the Feature Ranking Matrix\n",
    "\n",
    "We combine the scores from the various methods above and output it in a matrix form for convenient viewing as such:"
   ]
  },
  {
   "cell_type": "code",
   "execution_count": 16,
   "metadata": {
    "_cell_guid": "b6eb5b25-cc7e-f1eb-6a7b-8f591b7e560e",
    "_uuid": "e09a8414122d190ae530b4dcc8b59bf7c6a4d82a",
    "collapsed": true
   },
   "outputs": [
    {
     "name": "stdout",
     "output_type": "stream",
     "text": [
      "\tLasso\tLinReg\tRF\tRFE\tRidge\trlasso/Stability\tMean\n",
      "TTM Rev Growth\t0.37\t0.0\t0.35\t0.0\t1.0\t0.98\t0.45\n",
      "NTM Rev Growth\t1.0\t0.85\t1.0\t1.0\t0.9\t1.0\t0.96\n",
      "GP Margin\t0.13\t1.0\t0.06\t0.8\t0.2\t0.33\t0.42\n",
      "R&D Margin\t0.0\t0.21\t0.0\t0.2\t0.0\t0.0\t0.07\n",
      "S&M Margin\t0.0\t0.76\t0.0\t0.6\t0.02\t0.0\t0.23\n",
      "EBITDA Margin\t0.0\t0.39\t0.07\t0.4\t0.15\t0.06\t0.18\n"
     ]
    }
   ],
   "source": [
    "# Create empty dictionary to store the mean value calculated from all the scores\n",
    "r = {}\n",
    "for name in colnames:\n",
    "    r[name] = round(np.mean([ranks[method][name] \n",
    "                             for method in ranks.keys()]), 2)\n",
    " \n",
    "methods = sorted(ranks.keys())\n",
    "ranks[\"Mean\"] = r\n",
    "methods.append(\"Mean\")\n",
    " \n",
    "print(\"\\t%s\" % \"\\t\".join(methods))\n",
    "for name in colnames:\n",
    "    print(\"%s\\t%s\" % (name, \"\\t\".join(map(str, \n",
    "                         [ranks[method][name] for method in methods]))))"
   ]
  },
  {
   "cell_type": "markdown",
   "metadata": {
    "_cell_guid": "5d9d44d0-fd8d-894e-657f-81762195499c",
    "_uuid": "4b68741c8ffc59327db34488273b990a5fa6c6aa"
   },
   "source": [
    "Now, with the matrix above, the numbers and layout does not seem very easy or pleasant to the eye. Therefore, let's just collate the mean ranking score attributed to each of the feature and plot that via Seaborn's factorplot."
   ]
  },
  {
   "cell_type": "code",
   "execution_count": 17,
   "metadata": {
    "_cell_guid": "daae301e-e669-b2b6-6978-cbcad579696c",
    "_uuid": "d798434946ba4507b1138a5ece8647c757b763b9",
    "collapsed": true
   },
   "outputs": [],
   "source": [
    "# Put the mean scores into a Pandas dataframe\n",
    "meanplot = pd.DataFrame(list(r.items()), columns= ['Feature','Mean Ranking'])\n",
    "\n",
    "# Sort the dataframe\n",
    "meanplot = meanplot.sort_values('Mean Ranking', ascending=False)"
   ]
  },
  {
   "cell_type": "code",
   "execution_count": 18,
   "metadata": {
    "_cell_guid": "2bdfa64e-d23d-d042-5e9d-080beb245ece",
    "_uuid": "3f78ab9b8271d36d4405ef83b3fac1609f2c6e2a",
    "collapsed": true
   },
   "outputs": [
    {
     "name": "stderr",
     "output_type": "stream",
     "text": [
      "C:\\ProgramData\\Anaconda3\\lib\\site-packages\\seaborn\\categorical.py:3666: UserWarning: The `factorplot` function has been renamed to `catplot`. The original name will be removed in a future release. Please update your code. Note that the default `kind` in `factorplot` (`'point'`) has changed `'strip'` in `catplot`.\n",
      "  warnings.warn(msg)\n",
      "C:\\ProgramData\\Anaconda3\\lib\\site-packages\\seaborn\\categorical.py:3672: UserWarning: The `size` paramter has been renamed to `height`; please update your code.\n",
      "  warnings.warn(msg, UserWarning)\n"
     ]
    },
    {
     "data": {
      "text/plain": [
       "<seaborn.axisgrid.FacetGrid at 0x261f38a8390>"
      ]
     },
     "execution_count": 18,
     "metadata": {},
     "output_type": "execute_result"
    },
    {
     "data": {
      "image/png": "[encoded data removed]",
      "text/plain": [
       "<Figure size 1915.2x1008 with 1 Axes>"
      ]
     },
     "metadata": {
      "needs_background": "light"
     },
     "output_type": "display_data"
    }
   ],
   "source": [
    "# Let's plot the ranking of the features\n",
    "sns.factorplot(x=\"Mean Ranking\", y=\"Feature\", data = meanplot, kind=\"bar\", \n",
    "               size=14, aspect=1.9, palette='coolwarm')"
   ]
  },
  {
   "cell_type": "code",
   "execution_count": 20,
   "metadata": {},
   "outputs": [
    {
     "data": {
      "text/html": [
       "<div>\n",
       "<style scoped>\n",
       "    .dataframe tbody tr th:only-of-type {\n",
       "        vertical-align: middle;\n",
       "    }\n",
       "\n",
       "    .dataframe tbody tr th {\n",
       "        vertical-align: top;\n",
       "    }\n",
       "\n",
       "    .dataframe thead th {\n",
       "        text-align: right;\n",
       "    }\n",
       "</style>\n",
       "<table border=\"1\" class=\"dataframe\">\n",
       "  <thead>\n",
       "    <tr style=\"text-align: right;\">\n",
       "      <th></th>\n",
       "      <th>TTM Rev Growth</th>\n",
       "      <th>NTM Rev Growth</th>\n",
       "      <th>GP Margin</th>\n",
       "    </tr>\n",
       "  </thead>\n",
       "  <tbody>\n",
       "    <tr>\n",
       "      <th>0</th>\n",
       "      <td>1.730068</td>\n",
       "      <td>0.760249</td>\n",
       "      <td>0.805111</td>\n",
       "    </tr>\n",
       "    <tr>\n",
       "      <th>1</th>\n",
       "      <td>2.773790</td>\n",
       "      <td>0.308145</td>\n",
       "      <td>0.704052</td>\n",
       "    </tr>\n",
       "    <tr>\n",
       "      <th>2</th>\n",
       "      <td>1.945274</td>\n",
       "      <td>0.412487</td>\n",
       "      <td>0.720585</td>\n",
       "    </tr>\n",
       "    <tr>\n",
       "      <th>3</th>\n",
       "      <td>1.072875</td>\n",
       "      <td>0.324274</td>\n",
       "      <td>0.812349</td>\n",
       "    </tr>\n",
       "    <tr>\n",
       "      <th>4</th>\n",
       "      <td>0.509411</td>\n",
       "      <td>0.567047</td>\n",
       "      <td>0.863696</td>\n",
       "    </tr>\n",
       "  </tbody>\n",
       "</table>\n",
       "</div>"
      ],
      "text/plain": [
       "   TTM Rev Growth  NTM Rev Growth  GP Margin\n",
       "0        1.730068        0.760249   0.805111\n",
       "1        2.773790        0.308145   0.704052\n",
       "2        1.945274        0.412487   0.720585\n",
       "3        1.072875        0.324274   0.812349\n",
       "4        0.509411        0.567047   0.863696"
      ]
     },
     "execution_count": 20,
     "metadata": {},
     "output_type": "execute_result"
    }
   ],
   "source": [
    "house.head()"
   ]
  },
  {
   "cell_type": "code",
   "execution_count": null,
   "metadata": {},
   "outputs": [],
   "source": [
    "# Store the column/feature names into a list \"colnames\"\n",
    "colnames = house.columns\n",
    "X = house.as_matrix()"
   ]
  },
  {
   "cell_type": "code",
   "execution_count": 19,
   "metadata": {},
   "outputs": [
    {
     "name": "stderr",
     "output_type": "stream",
     "text": [
      "C:\\ProgramData\\Anaconda3\\lib\\site-packages\\ipykernel_launcher.py:4: FutureWarning: Method .as_matrix will be removed in a future version. Use .values instead.\n",
      "  after removing the cwd from sys.path.\n"
     ]
    }
   ],
   "source": [
    "# Store the column/feature names into a list \"colnames\"\n",
    "colnames = house.columns\n",
    "house = house.drop(['R&D Margin','S&M Margin','EBITDA Margin'], axis=1)\n",
    "X = house.as_matrix()"
   ]
  },
  {
   "cell_type": "code",
   "execution_count": 21,
   "metadata": {},
   "outputs": [],
   "source": [
    "X_train, X_test, y_train, y_test = train_test_split(X, Y, test_size = 0.20, random_state=3)"
   ]
  },
  {
   "cell_type": "code",
   "execution_count": 22,
   "metadata": {},
   "outputs": [
    {
     "name": "stdout",
     "output_type": "stream",
     "text": [
      "(88, 3)\n",
      "(22, 3)\n",
      "(22, 3)\n"
     ]
    }
   ],
   "source": [
    "thresh = 1 * 10**(-3)\n",
    "model = XGBRegressor()\n",
    "model.fit(X_train, y_train)\n",
    "#select features using threshold\n",
    "selection = SelectFromModel(model, threshold = thresh, prefit=True)\n",
    "select_X_train = selection.transform(X_train)\n",
    "# eval model\n",
    "select_X_val = selection.transform(X_test)\n",
    "# test \n",
    "select_X_test = selection.transform(X_test)\n",
    "print(select_X_train.shape)\n",
    "print(select_X_val.shape)\n",
    "print(select_X_test.shape)"
   ]
  },
  {
   "cell_type": "code",
   "execution_count": 23,
   "metadata": {},
   "outputs": [
    {
     "name": "stdout",
     "output_type": "stream",
     "text": [
      "Scaled_Ridge: 0.039092 (+/- 0.849662)\n",
      "Scaled_Lasso: 0.052001 (+/- 0.611679)\n",
      "Scaled_Elastic: 0.103056 (+/- 0.509205)\n",
      "Scaled_SVR: -0.033147 (+/- 1.032826)\n",
      "Scaled_RF_reg: 0.036708 (+/- 0.601797)\n",
      "Scaled_ET_reg: -0.112730 (+/- 0.892690)\n",
      "Scaled_BR_reg: -0.021402 (+/- 0.741557)\n",
      "Scaled_Hub-Reg: -0.001370 (+/- 0.890045)\n",
      "Scaled_BayRidge: 0.046771 (+/- 0.834465)\n",
      "Scaled_XGB_reg: 0.201225 (+/- 0.509263)\n",
      "Scaled_DT_reg: -0.419734 (+/- 1.061765)\n",
      "Scaled_KNN_reg: -0.026504 (+/- 0.661057)\n",
      "Scaled_ADA-Reg: -0.010191 (+/- 0.912215)\n",
      "Scaled_Linear: 0.032674 (+/- 0.859365)\n",
      "Scaled_Gboost-Reg: 0.081430 (+/- 0.666687)\n",
      "Scaled_RFR_PCA: -0.239167 (+/- 1.083221)\n",
      "Scaled_XGBR_PCA: -0.450886 (+/- 1.399133)\n"
     ]
    },
    {
     "data": {
      "image/png": "[encoded data removed]",
      "text/plain": [
       "<Figure size 1080x432 with 1 Axes>"
      ]
     },
     "metadata": {
      "needs_background": "light"
     },
     "output_type": "display_data"
    }
   ],
   "source": [
    "pipelines = []\n",
    "seed = 2\n",
    "\n",
    "pipelines.append(\n",
    "                (\"Scaled_Ridge\", \n",
    "                 Pipeline([\n",
    "                     (\"Scaler\", StandardScaler()), \n",
    "                     (\"Ridge\", Ridge(random_state=seed, tol=10 ))\n",
    "                      ]))\n",
    "                )\n",
    "pipelines.append(\n",
    "                (\"Scaled_Lasso\", \n",
    "                 Pipeline([\n",
    "                     (\"Scaler\", StandardScaler()), \n",
    "                     (\"Lasso\", Lasso(random_state=seed, tol=1))\n",
    "                      ]))\n",
    "                )\n",
    "pipelines.append(\n",
    "                (\"Scaled_Elastic\", \n",
    "                 Pipeline([\n",
    "                     (\"Scaler\", StandardScaler()), \n",
    "                     (\"Lasso\", ElasticNet(random_state=seed))\n",
    "                      ]))\n",
    "                )\n",
    "\n",
    "pipelines.append(\n",
    "                (\"Scaled_SVR\",\n",
    "                 Pipeline([\n",
    "                     (\"Scaler\", StandardScaler()),\n",
    "                     (\"SVR\",  SVR(kernel='linear', C=1e2, degree=5))\n",
    "                 ])\n",
    "                )\n",
    "                )\n",
    "\n",
    "pipelines.append(\n",
    "                (\"Scaled_RF_reg\",\n",
    "                 Pipeline([\n",
    "                     (\"Scaler\", StandardScaler()),\n",
    "                     (\"RF\", RandomForestRegressor(random_state=seed))\n",
    "                 ])\n",
    "                )\n",
    "                )\n",
    "\n",
    "pipelines.append(\n",
    "                (\"Scaled_ET_reg\",\n",
    "                 Pipeline([\n",
    "                     (\"Scaler\", StandardScaler()),\n",
    "                     (\"ET\", ExtraTreesRegressor(random_state=seed))\n",
    "                 ])\n",
    "                )\n",
    "                )\n",
    "pipelines.append(\n",
    "                (\"Scaled_BR_reg\",\n",
    "                 Pipeline([\n",
    "                     (\"Scaler\", StandardScaler()),\n",
    "                     (\"BR\", BaggingRegressor(random_state=seed))\n",
    "                 ]))) \n",
    "\n",
    "pipelines.append(\n",
    "                (\"Scaled_Hub-Reg\",\n",
    "                 Pipeline([\n",
    "                     (\"Scaler\", StandardScaler()),\n",
    "                     (\"Hub-Reg\", HuberRegressor())\n",
    "                 ]))) \n",
    "pipelines.append(\n",
    "                (\"Scaled_BayRidge\",\n",
    "                 Pipeline([\n",
    "                     (\"Scaler\", StandardScaler()),\n",
    "                     (\"BR\", BayesianRidge())\n",
    "                 ]))) \n",
    "\n",
    "pipelines.append(\n",
    "                (\"Scaled_XGB_reg\",\n",
    "                 Pipeline([\n",
    "                     (\"Scaler\", StandardScaler()),\n",
    "                     (\"XGBR\", XGBRegressor(seed=seed))\n",
    "                 ]))) \n",
    "\n",
    "pipelines.append(\n",
    "                (\"Scaled_DT_reg\",\n",
    "                 Pipeline([\n",
    "                     (\"Scaler\", StandardScaler()),\n",
    "                     (\"DT_reg\", DecisionTreeRegressor())\n",
    "                 ]))) \n",
    "\n",
    "pipelines.append(\n",
    "                (\"Scaled_KNN_reg\",\n",
    "                 Pipeline([\n",
    "                     (\"Scaler\", StandardScaler()),\n",
    "                     (\"KNN_reg\", KNeighborsRegressor())\n",
    "                 ])))\n",
    "pipelines.append(\n",
    "                (\"Scaled_ADA-Reg\",\n",
    "                 Pipeline([\n",
    "                     (\"Scaler\", StandardScaler()),\n",
    "                     (\"ADA-reg\", AdaBoostRegressor())\n",
    "                 ]))) \n",
    "\n",
    "pipelines.append(\n",
    "                (\"Scaled_Linear\",\n",
    "                 Pipeline([\n",
    "                     (\"Scaler\", StandardScaler()),\n",
    "                     (\"Linear\", LinearRegression())\n",
    "                 ]))) \n",
    "\n",
    "pipelines.append(\n",
    "                (\"Scaled_Gboost-Reg\",\n",
    "                 Pipeline([\n",
    "                     (\"Scaler\", StandardScaler()),\n",
    "                     (\"GBoost-Reg\", GradientBoostingRegressor())\n",
    "                 ])))\n",
    "\n",
    "pipelines.append(\n",
    "                (\"Scaled_RFR_PCA\",\n",
    "                 Pipeline([\n",
    "                     (\"Scaler\", StandardScaler()),\n",
    "                     (\"PCA\", PCA(n_components=3)),\n",
    "                     (\"XGB\", RandomForestRegressor())\n",
    "                 ])))\n",
    "\n",
    "pipelines.append(\n",
    "                (\"Scaled_XGBR_PCA\",\n",
    "                 Pipeline([\n",
    "                     (\"Scaler\", StandardScaler()),\n",
    "                     (\"PCA\", PCA(n_components=3)),\n",
    "                     (\"XGB\", XGBRegressor())\n",
    "                 ])))\n",
    "\n",
    "#'neg_mean_absolute_error', 'neg_mean_squared_error','r2'\n",
    "scoring = 'r2'\n",
    "n_folds = 10\n",
    "\n",
    "results, names  = [], [] \n",
    "\n",
    "for name, model  in pipelines:\n",
    "    kfold = KFold(n_splits=n_folds, random_state=seed)\n",
    "    cv_results = cross_val_score(model, X_train, y_train, cv= kfold,\n",
    "                                 scoring=scoring, n_jobs=-1)    \n",
    "    names.append(name)\n",
    "    results.append(cv_results)    \n",
    "    msg = \"%s: %f (+/- %f)\" % (name, cv_results.mean(),  cv_results.std())\n",
    "    print(msg)\n",
    "    \n",
    "# boxplot algorithm comparison\n",
    "fig = plt.figure(figsize=(15,6))\n",
    "fig.suptitle('Algorithm Comparison', fontsize=22)\n",
    "ax = fig.add_subplot(111)\n",
    "sns.boxplot(x=names, y=results)\n",
    "ax.set_xticklabels(names)\n",
    "ax.set_xlabel(\"Algorithmn Name\", fontsize=20)\n",
    "ax.set_ylabel(\"R Squared Score of Models\", fontsize=18)\n",
    "ax.set_xticklabels(ax.get_xticklabels(),rotation=45)\n",
    "plt.show()"
   ]
  },
  {
   "cell_type": "code",
   "execution_count": null,
   "metadata": {},
   "outputs": [],
   "source": [
    "pipelines = []\n",
    "seed = 2\n",
    "\n",
    "pipelines.append(\n",
    "                (\"Scaled_Ridge\", \n",
    "                 Pipeline([\n",
    "                     (\"Scaler\", StandardScaler()), \n",
    "                     (\"Ridge\", Ridge(random_state=seed, tol=10 ))\n",
    "                      ]))\n",
    "                )\n",
    "pipelines.append(\n",
    "                (\"Scaled_Lasso\", \n",
    "                 Pipeline([\n",
    "                     (\"Scaler\", StandardScaler()), \n",
    "                     (\"Lasso\", Lasso(random_state=seed, tol=1))\n",
    "                      ]))\n",
    "                )\n",
    "pipelines.append(\n",
    "                (\"Scaled_Elastic\", \n",
    "                 Pipeline([\n",
    "                     (\"Scaler\", StandardScaler()), \n",
    "                     (\"Lasso\", ElasticNet(random_state=seed))\n",
    "                      ]))\n",
    "                )\n",
    "\n",
    "pipelines.append(\n",
    "                (\"Scaled_SVR\",\n",
    "                 Pipeline([\n",
    "                     (\"Scaler\", StandardScaler()),\n",
    "                     (\"SVR\",  SVR(kernel='linear', C=1e2, degree=5))\n",
    "                 ])\n",
    "                )\n",
    "                )\n",
    "\n",
    "pipelines.append(\n",
    "                (\"Scaled_RF_reg\",\n",
    "                 Pipeline([\n",
    "                     (\"Scaler\", StandardScaler()),\n",
    "                     (\"RF\", RandomForestRegressor(random_state=seed))\n",
    "                 ])\n",
    "                )\n",
    "                )\n",
    "\n",
    "pipelines.append(\n",
    "                (\"Scaled_ET_reg\",\n",
    "                 Pipeline([\n",
    "                     (\"Scaler\", StandardScaler()),\n",
    "                     (\"ET\", ExtraTreesRegressor(random_state=seed))\n",
    "                 ])\n",
    "                )\n",
    "                )\n",
    "pipelines.append(\n",
    "                (\"Scaled_BR_reg\",\n",
    "                 Pipeline([\n",
    "                     (\"Scaler\", StandardScaler()),\n",
    "                     (\"BR\", BaggingRegressor(random_state=seed))\n",
    "                 ]))) \n",
    "\n",
    "pipelines.append(\n",
    "                (\"Scaled_Hub-Reg\",\n",
    "                 Pipeline([\n",
    "                     (\"Scaler\", StandardScaler()),\n",
    "                     (\"Hub-Reg\", HuberRegressor())\n",
    "                 ]))) \n",
    "pipelines.append(\n",
    "                (\"Scaled_BayRidge\",\n",
    "                 Pipeline([\n",
    "                     (\"Scaler\", StandardScaler()),\n",
    "                     (\"BR\", BayesianRidge())\n",
    "                 ]))) \n",
    "\n",
    "pipelines.append(\n",
    "                (\"Scaled_XGB_reg\",\n",
    "                 Pipeline([\n",
    "                     (\"Scaler\", StandardScaler()),\n",
    "                     (\"XGBR\", XGBRegressor(seed=seed))\n",
    "                 ]))) \n",
    "\n",
    "pipelines.append(\n",
    "                (\"Scaled_DT_reg\",\n",
    "                 Pipeline([\n",
    "                     (\"Scaler\", StandardScaler()),\n",
    "                     (\"DT_reg\", DecisionTreeRegressor())\n",
    "                 ]))) \n",
    "\n",
    "pipelines.append(\n",
    "                (\"Scaled_KNN_reg\",\n",
    "                 Pipeline([\n",
    "                     (\"Scaler\", StandardScaler()),\n",
    "                     (\"KNN_reg\", KNeighborsRegressor())\n",
    "                 ])))\n",
    "pipelines.append(\n",
    "                (\"Scaled_ADA-Reg\",\n",
    "                 Pipeline([\n",
    "                     (\"Scaler\", StandardScaler()),\n",
    "                     (\"ADA-reg\", AdaBoostRegressor())\n",
    "                 ]))) \n",
    "\n",
    "pipelines.append(\n",
    "                (\"Scaled_Linear\",\n",
    "                 Pipeline([\n",
    "                     (\"Scaler\", StandardScaler()),\n",
    "                     (\"Linear\", LinearRegression())\n",
    "                 ]))) \n",
    "\n",
    "pipelines.append(\n",
    "                (\"Scaled_Gboost-Reg\",\n",
    "                 Pipeline([\n",
    "                     (\"Scaler\", StandardScaler()),\n",
    "                     (\"GBoost-Reg\", GradientBoostingRegressor())\n",
    "                 ])))\n",
    "\n",
    "pipelines.append(\n",
    "                (\"Scaled_RFR_PCA\",\n",
    "                 Pipeline([\n",
    "                     (\"Scaler\", StandardScaler()),\n",
    "                     (\"PCA\", PCA(n_components=3)),\n",
    "                     (\"XGB\", RandomForestRegressor())\n",
    "                 ])))\n",
    "\n",
    "pipelines.append(\n",
    "                (\"Scaled_XGBR_PCA\",\n",
    "                 Pipeline([\n",
    "                     (\"Scaler\", StandardScaler()),\n",
    "                     (\"PCA\", PCA(n_components=3)),\n",
    "                     (\"XGB\", XGBRegressor())\n",
    "                 ])))\n",
    "\n",
    "#'neg_mean_absolute_error', 'neg_mean_squared_error','r2'\n",
    "scoring = 'r2'\n",
    "n_folds = 10\n",
    "\n",
    "results, names  = [], [] \n",
    "\n",
    "for name, model  in pipelines:\n",
    "    kfold = KFold(n_splits=n_folds, random_state=seed)\n",
    "    cv_results = cross_val_score(model, X_train, y_train, cv= kfold,\n",
    "                                 scoring=scoring, n_jobs=-1)    \n",
    "    names.append(name)\n",
    "    results.append(cv_results)    \n",
    "    msg = \"%s: %f (+/- %f)\" % (name, cv_results.mean(),  cv_results.std())\n",
    "    print(msg)\n",
    "    \n",
    "# boxplot algorithm comparison\n",
    "fig = plt.figure(figsize=(15,6))\n",
    "fig.suptitle('Algorithm Comparison', fontsize=22)\n",
    "ax = fig.add_subplot(111)\n",
    "sns.boxplot(x=names, y=results)\n",
    "ax.set_xticklabels(names)\n",
    "ax.set_xlabel(\"Algorithmn Name\", fontsize=20)\n",
    "ax.set_ylabel(\"R Squared Score of Models\", fontsize=18)\n",
    "ax.set_xticklabels(ax.get_xticklabels(),rotation=45)\n",
    "plt.show()"
   ]
  },
  {
   "cell_type": "code",
   "execution_count": null,
   "metadata": {},
   "outputs": [],
   "source": [
    "pipelines = []\n",
    "seed = 2\n",
    "\n",
    "pipelines.append(\n",
    "                (\"Scaled_Ridge\", \n",
    "                 Pipeline([\n",
    "                     (\"Scaler\", StandardScaler()), \n",
    "                     (\"Ridge\", Ridge(random_state=seed, tol=10 ))\n",
    "                      ]))\n",
    "                )\n",
    "pipelines.append(\n",
    "                (\"Scaled_Lasso\", \n",
    "                 Pipeline([\n",
    "                     (\"Scaler\", StandardScaler()), \n",
    "                     (\"Lasso\", Lasso(random_state=seed, tol=1))\n",
    "                      ]))\n",
    "                )\n",
    "pipelines.append(\n",
    "                (\"Scaled_Elastic\", \n",
    "                 Pipeline([\n",
    "                     (\"Scaler\", StandardScaler()), \n",
    "                     (\"Lasso\", ElasticNet(random_state=seed))\n",
    "                      ]))\n",
    "                )\n",
    "\n",
    "pipelines.append(\n",
    "                (\"Scaled_SVR\",\n",
    "                 Pipeline([\n",
    "                     (\"Scaler\", StandardScaler()),\n",
    "                     (\"SVR\",  SVR(kernel='linear', C=1e2, degree=5))\n",
    "                 ])\n",
    "                )\n",
    "                )\n",
    "\n",
    "\n",
    "pipelines.append(\n",
    "                (\"Scaled_ET_reg\",\n",
    "                 Pipeline([\n",
    "                     (\"Scaler\", StandardScaler()),\n",
    "                     (\"ET\", ExtraTreesRegressor(random_state=seed))\n",
    "                 ])\n",
    "                )\n",
    "                )\n",
    "\n",
    "\n",
    "pipelines.append(\n",
    "                (\"Scaled_Hub-Reg\",\n",
    "                 Pipeline([\n",
    "                     (\"Scaler\", StandardScaler()),\n",
    "                     (\"Hub-Reg\", HuberRegressor())\n",
    "                 ]))) \n",
    "pipelines.append(\n",
    "                (\"Scaled_BayRidge\",\n",
    "                 Pipeline([\n",
    "                     (\"Scaler\", StandardScaler()),\n",
    "                     (\"BR\", BayesianRidge())\n",
    "                 ]))) \n",
    "\n",
    "pipelines.append(\n",
    "                (\"Scaled_KNN_reg\",\n",
    "                 Pipeline([\n",
    "                     (\"Scaler\", StandardScaler()),\n",
    "                     (\"KNN_reg\", KNeighborsRegressor())\n",
    "                 ])))\n",
    "\n",
    "pipelines.append(\n",
    "                (\"Scaled_Linear\",\n",
    "                 Pipeline([\n",
    "                     (\"Scaler\", StandardScaler()),\n",
    "                     (\"Linear\", LinearRegression())\n",
    "                 ]))) \n",
    "\n",
    "pipelines.append(\n",
    "                (\"Scaled_RFR_PCA\",\n",
    "                 Pipeline([\n",
    "                     (\"Scaler\", StandardScaler()),\n",
    "                     (\"PCA\", PCA(n_components=3)),\n",
    "                     (\"XGB\", RandomForestRegressor())\n",
    "                 ])))\n",
    "\n",
    "#'neg_mean_absolute_error', 'neg_mean_squared_error','r2'\n",
    "scoring = 'r2'\n",
    "n_folds = 3\n",
    "\n",
    "results, names  = [], [] \n",
    "\n",
    "for name, model  in pipelines:\n",
    "    kfold = KFold(n_splits=n_folds, random_state=seed)\n",
    "    cv_results = cross_val_score(model, X_train, y_train, cv= kfold,\n",
    "                                 scoring=scoring, n_jobs=-1)    \n",
    "    names.append(name)\n",
    "    results.append(cv_results)    \n",
    "    msg = \"%s: %f (+/- %f)\" % (name, cv_results.mean(),  cv_results.std())\n",
    "    print(msg)\n",
    "    \n",
    "# boxplot algorithm comparison\n",
    "fig = plt.figure(figsize=(15,6))\n",
    "fig.suptitle('Algorithm Comparison', fontsize=22)\n",
    "ax = fig.add_subplot(111)\n",
    "sns.boxplot(x=names, y=results)\n",
    "ax.set_xticklabels(names)\n",
    "ax.set_xlabel(\"Algorithmn Name\", fontsize=20)\n",
    "ax.set_ylabel(\"R Squared Score of Models\", fontsize=18)\n",
    "ax.set_xticklabels(ax.get_xticklabels(),rotation=45)\n",
    "plt.show()"
   ]
  },
  {
   "cell_type": "code",
   "execution_count": null,
   "metadata": {},
   "outputs": [],
   "source": [
    "Linear = pipelines[-2][1]\n",
    "\n",
    "param_grid_rf =  [ { \n",
    "       }]\n",
    "\n",
    "grid_rf = GridSearchCV(estimator=Linear,\n",
    "                               param_grid= param_grid_rf,\n",
    "                               scoring= 'neg_mean_squared_error',\n",
    "                               cv = KFold(n_splits= 3, random_state= seed, shuffle=True),\n",
    "                               verbose = 1 )\n",
    "# Fit grid\n",
    "grid_rf.fit(select_X_train, y_train)\n",
    "\n",
    "# Best score and best parameters\n",
    "print('-------Best score----------')\n",
    "print(grid_rf.best_score_ )\n",
    "print('-------Best params----------')\n",
    "print(grid_rf.best_params_)          "
   ]
  },
  {
   "cell_type": "code",
   "execution_count": null,
   "metadata": {},
   "outputs": [],
   "source": [
    "pipelines[-4][1]"
   ]
  },
  {
   "cell_type": "code",
   "execution_count": null,
   "metadata": {},
   "outputs": [],
   "source": [
    "Ridge = pipelines[-10][1]\n",
    "\n",
    "param_grid_rf =  [ { \n",
    "       }]\n",
    "\n",
    "grid_rf = GridSearchCV(estimator=Ridge,\n",
    "                               param_grid= param_grid_rf,\n",
    "                               scoring= 'neg_mean_squared_error',\n",
    "                               cv = KFold(n_splits= 3, random_state= seed, shuffle=True),\n",
    "                               verbose = 1 )\n",
    "# Fit grid\n",
    "grid_rf.fit(select_X_train, y_train)\n",
    "\n",
    "# Best score and best parameters\n",
    "print('-------Best score----------')\n",
    "print(grid_rf.best_score_ )\n",
    "print('-------Best params----------')\n",
    "print(grid_rf.best_params_)          "
   ]
  },
  {
   "cell_type": "code",
   "execution_count": null,
   "metadata": {},
   "outputs": [],
   "source": [
    "def plot_learning_curve(train_sizes, train_scores, test_scores, title, alpha=0.1):\n",
    "    train_scores = -train_scores\n",
    "    test_scores = -test_scores\n",
    "    train_mean = np.mean(train_scores, axis=1)\n",
    "    train_std = np.std(train_scores, axis=1)\n",
    "    test_mean = np.mean(test_scores, axis=1)\n",
    "    test_std = np.std(test_scores, axis=1)\n",
    "    plt.plot(train_sizes, train_mean, label='train score', color='blue', marker='o')\n",
    "    plt.fill_between(train_sizes,train_mean + train_std,\n",
    "                    train_mean - train_std, color='blue', alpha=alpha)\n",
    "    plt.plot(train_sizes, test_mean, label='test score', color='red',marker='o')\n",
    "    plt.fill_between(train_sizes,test_mean + test_std, test_mean - test_std , color='red', alpha=alpha)\n",
    "    plt.title(title)\n",
    "    plt.xlabel('Number of training points')\n",
    "    plt.ylabel(r'Mean Squared Error')\n",
    "    plt.grid(ls='--')\n",
    "    plt.legend(loc='best')\n",
    "    plt.show() \n",
    "    \n",
    "# Plot the learning curve\n",
    "plt.figure(figsize=(9,6))\n",
    "train_sizes, train_scores, test_scores = learning_curve(\n",
    "                                            grid_rf.best_estimator_ , X= select_X_train, y = y_train, \n",
    "                                            cv= 3,  scoring='neg_mean_squared_error')\n",
    "\n",
    "plot_learning_curve(train_sizes, train_scores, test_scores, title='Learning curve for RF Regressor') "
   ]
  },
  {
   "cell_type": "code",
   "execution_count": null,
   "metadata": {},
   "outputs": [],
   "source": [
    "best_model = clone(grid_rf.best_estimator_)\n",
    "best_model.fit(select_X_train, y_train)\n",
    "y_pred_train = best_model.predict(select_X_train)\n",
    "\n",
    "print( \"Training Root Mean Squared Error %.2f\" %( MSE(y_train, y_pred_train)**(1/2) ) )"
   ]
  },
  {
   "cell_type": "code",
   "execution_count": null,
   "metadata": {},
   "outputs": [],
   "source": [
    "y_pred_val = best_model.predict(select_X_val)\n",
    "print(\"Root Mean Squared Error on Holdout Set %f\" %(MSE(y_test, y_pred_val)**(1/2)))"
   ]
  },
  {
   "cell_type": "code",
   "execution_count": null,
   "metadata": {},
   "outputs": [],
   "source": [
    "x15= range(14)\n",
    "plt.plot(x15,x15)\n",
    "plt.scatter(y_pred_val, y_test)\n",
    "plt.suptitle(\"Actual vs. Predicted\")\n",
    "plt.xlabel(\"y predicted\")\n",
    "plt.ylabel(\"Actutal\")\n",
    "plt.show()"
   ]
  },
  {
   "cell_type": "code",
   "execution_count": null,
   "metadata": {},
   "outputs": [],
   "source": [
    "plt.scatter(y_pred_val, y_test - y_pred_val)\n",
    "plt.suptitle(\"Residual plot for the hold out set\")\n",
    "plt.xlabel(\"y predicted\")\n",
    "plt.ylabel(\"residual\")\n",
    "plt.show()"
   ]
  },
  {
   "cell_type": "code",
   "execution_count": null,
   "metadata": {},
   "outputs": [],
   "source": [
    "plt.scatter(y_pred_val, y_test)"
   ]
  },
  {
   "cell_type": "code",
   "execution_count": null,
   "metadata": {},
   "outputs": [],
   "source": [
    "pipelines[-5][1]"
   ]
  },
  {
   "cell_type": "code",
   "execution_count": null,
   "metadata": {},
   "outputs": [],
   "source": [
    "AB = pipelines[-5][1]\n",
    "\n",
    "param_grid_rf =  [ { \n",
    "    'ADA-reg__base_estimator' : [DecisionTreeRegressor(max_depth=10),DecisionTreeRegressor(max_depth=11),DecisionTreeRegressor(max_depth=4)],\n",
    "    'ADA-reg__n_estimators' : [25,50,100,150,200,250],\n",
    "    'ADA-reg__random_state' : [0],\n",
    "       }]\n",
    "\n",
    "grid_rf = GridSearchCV(estimator=AB,\n",
    "                               param_grid= param_grid_rf,\n",
    "                               scoring= 'neg_mean_squared_error',\n",
    "                               cv = KFold(n_splits= 3, random_state= seed, shuffle=True),\n",
    "                               verbose = 1 )\n",
    "# Fit grid\n",
    "grid_rf.fit(select_X_train, y_train)\n",
    "\n",
    "# Best score and best parameters\n",
    "print('-------Best score----------')\n",
    "print(grid_rf.best_score_ )\n",
    "print('-------Best params----------')\n",
    "print(grid_rf.best_params_)          "
   ]
  },
  {
   "cell_type": "code",
   "execution_count": null,
   "metadata": {},
   "outputs": [],
   "source": [
    "def plot_learning_curve(train_sizes, train_scores, test_scores, title, alpha=0.1):\n",
    "    train_scores = -train_scores\n",
    "    test_scores = -test_scores\n",
    "    train_mean = np.mean(train_scores, axis=1)\n",
    "    train_std = np.std(train_scores, axis=1)\n",
    "    test_mean = np.mean(test_scores, axis=1)\n",
    "    test_std = np.std(test_scores, axis=1)\n",
    "    plt.plot(train_sizes, train_mean, label='train score', color='blue', marker='o')\n",
    "    plt.fill_between(train_sizes,train_mean + train_std,\n",
    "                    train_mean - train_std, color='blue', alpha=alpha)\n",
    "    plt.plot(train_sizes, test_mean, label='test score', color='red',marker='o')\n",
    "    plt.fill_between(train_sizes,test_mean + test_std, test_mean - test_std , color='red', alpha=alpha)\n",
    "    plt.title(title)\n",
    "    plt.xlabel('Number of training points')\n",
    "    plt.ylabel(r'Mean Squared Error')\n",
    "    plt.grid(ls='--')\n",
    "    plt.legend(loc='best')\n",
    "    plt.show() \n",
    "    \n",
    "# Plot the learning curve\n",
    "plt.figure(figsize=(9,6))\n",
    "train_sizes, train_scores, test_scores = learning_curve(\n",
    "                                            grid_rf.best_estimator_ , X= select_X_train, y = y_train, \n",
    "                                            cv= 3,  scoring='neg_mean_squared_error')\n",
    "\n",
    "plot_learning_curve(train_sizes, train_scores, test_scores, title='Learning curve for RF Regressor') "
   ]
  },
  {
   "cell_type": "code",
   "execution_count": null,
   "metadata": {},
   "outputs": [],
   "source": [
    "best_model = clone(grid_rf.best_estimator_)\n",
    "best_model.fit(select_X_train, y_train)\n",
    "y_pred_train = best_model.predict(select_X_train)\n",
    "\n",
    "print( \"Training Root Mean Squared Error %.2f\" %( MSE(y_train, y_pred_train)**(1/2) ) )"
   ]
  },
  {
   "cell_type": "code",
   "execution_count": null,
   "metadata": {},
   "outputs": [],
   "source": [
    "y_pred_val = best_model.predict(select_X_val)\n",
    "print(\"Root Mean Squared Error on Holdout Set %f\" %(MSE(y_test, y_pred_val)**(1/2)))"
   ]
  },
  {
   "cell_type": "code",
   "execution_count": null,
   "metadata": {},
   "outputs": [],
   "source": [
    "best_model"
   ]
  },
  {
   "cell_type": "code",
   "execution_count": null,
   "metadata": {},
   "outputs": [],
   "source": [
    "plt.scatter(y_pred_val, y_test - y_pred_val)\n",
    "plt.suptitle(\"Residual plot for the hold out set\")\n",
    "plt.xlabel(\"y predicted\")\n",
    "plt.ylabel(\"residual\")\n",
    "plt.show()"
   ]
  },
  {
   "cell_type": "code",
   "execution_count": null,
   "metadata": {},
   "outputs": [],
   "source": [
    "x15=range(15)\n",
    "plt.plot(x15,x15)\n",
    "plt.scatter(y_pred_val, y_test)\n",
    "plt.suptitle(\"Actual vs. Predicted\")\n",
    "plt.xlabel(\"y predicted\")\n",
    "plt.ylabel(\"y actual\")\n",
    "plt.show()"
   ]
  },
  {
   "cell_type": "code",
   "execution_count": null,
   "metadata": {},
   "outputs": [],
   "source": [
    "pipelines[-2][1]"
   ]
  },
  {
   "cell_type": "code",
   "execution_count": null,
   "metadata": {},
   "outputs": [],
   "source": [
    "Linear = pipelines[-2][1]\n",
    "\n",
    "param_grid_rf =  [ { \n",
    "\n",
    "       }]\n",
    "\n",
    "grid_rf = GridSearchCV(estimator=Linear,\n",
    "                               param_grid= param_grid_rf,\n",
    "                               scoring= 'neg_mean_squared_error',\n",
    "                               cv = KFold(n_splits= 3, random_state= seed, shuffle=True),\n",
    "                               verbose = 1 )\n",
    "# Fit grid\n",
    "grid_rf.fit(select_X_train, y_train)\n",
    "\n",
    "# Best score and best parameters\n",
    "print('-------Best score----------')\n",
    "print(grid_rf.best_score_ )\n",
    "print('-------Best params----------')\n",
    "print(grid_rf.best_params_)          "
   ]
  },
  {
   "cell_type": "code",
   "execution_count": null,
   "metadata": {},
   "outputs": [],
   "source": [
    "def plot_learning_curve(train_sizes, train_scores, test_scores, title, alpha=0.1):\n",
    "    train_scores = -train_scores\n",
    "    test_scores = -test_scores\n",
    "    train_mean = np.mean(train_scores, axis=1)\n",
    "    train_std = np.std(train_scores, axis=1)\n",
    "    test_mean = np.mean(test_scores, axis=1)\n",
    "    test_std = np.std(test_scores, axis=1)\n",
    "    plt.plot(train_sizes, train_mean, label='train score', color='blue', marker='o')\n",
    "    plt.fill_between(train_sizes,train_mean + train_std,\n",
    "                    train_mean - train_std, color='blue', alpha=alpha)\n",
    "    plt.plot(train_sizes, test_mean, label='test score', color='red',marker='o')\n",
    "    plt.fill_between(train_sizes,test_mean + test_std, test_mean - test_std , color='red', alpha=alpha)\n",
    "    plt.title(title)\n",
    "    plt.xlabel('Number of training points')\n",
    "    plt.ylabel(r'Mean Squared Error')\n",
    "    plt.grid(ls='--')\n",
    "    plt.legend(loc='best')\n",
    "    plt.show() \n",
    "    \n",
    "# Plot the learning curve\n",
    "plt.figure(figsize=(9,6))\n",
    "train_sizes, train_scores, test_scores = learning_curve(\n",
    "                                            grid_rf.best_estimator_ , X= select_X_train, y = y_train, \n",
    "                                            cv= 3,  scoring='neg_mean_squared_error')\n",
    "\n",
    "plot_learning_curve(train_sizes, train_scores, test_scores, title='Learning curve for RF Regressor') "
   ]
  },
  {
   "cell_type": "code",
   "execution_count": null,
   "metadata": {},
   "outputs": [],
   "source": [
    "best_model = clone(grid_rf.best_estimator_)\n",
    "best_model.fit(select_X_train, y_train)\n",
    "y_pred_train = best_model.predict(select_X_train)\n",
    "\n",
    "print( \"Training Root Mean Squared Error %.2f\" %( MSE(y_train, y_pred_train)**(1/2) ) )"
   ]
  },
  {
   "cell_type": "code",
   "execution_count": null,
   "metadata": {},
   "outputs": [],
   "source": [
    "y_pred_val = best_model.predict(select_X_val)\n",
    "print(\"Root Mean Squared Error on Holdout Set %f\" %(MSE(y_test, y_pred_val)**(1/2)))"
   ]
  },
  {
   "cell_type": "code",
   "execution_count": null,
   "metadata": {},
   "outputs": [],
   "source": [
    "databricks = [1.24719232418189,0.951862931344295,0.671300585943595,0.981899434820076,-1.14895360823323]\n",
    "db = pd.DataFrame([databricks])\n",
    "db = db.as_matrix()"
   ]
  },
  {
   "cell_type": "code",
   "execution_count": null,
   "metadata": {},
   "outputs": [],
   "source": [
    "best_model"
   ]
  },
  {
   "cell_type": "code",
   "execution_count": null,
   "metadata": {},
   "outputs": [],
   "source": [
    "db_pred = best_model.predict(db)"
   ]
  },
  {
   "cell_type": "code",
   "execution_count": null,
   "metadata": {},
   "outputs": [],
   "source": [
    "actualdb = db_pred\n",
    "actualdb"
   ]
  },
  {
   "cell_type": "code",
   "execution_count": null,
   "metadata": {},
   "outputs": [],
   "source": [
    "house.head()"
   ]
  },
  {
   "cell_type": "code",
   "execution_count": null,
   "metadata": {},
   "outputs": [],
   "source": [
    "best_model"
   ]
  },
  {
   "cell_type": "code",
   "execution_count": null,
   "metadata": {},
   "outputs": [],
   "source": [
    "y_test_val = y_test.values()"
   ]
  },
  {
   "cell_type": "code",
   "execution_count": null,
   "metadata": {},
   "outputs": [],
   "source": [
    "y_test"
   ]
  },
  {
   "cell_type": "code",
   "execution_count": null,
   "metadata": {},
   "outputs": [],
   "source": [
    "yhat = best_model.predict(select_X_val).flatten()\n",
    "SS_Residual1 = sum((y_test-yhat)**2)\n",
    "std_err1 = math.sqrt(SS_Residual1/121)\n",
    "moe_1 = std_err1 * 1.1 * t\n",
    "print (std_err1,moe_1)\n",
    "SS_Total = sum((y_val-np.mean(y_val))**2)\n",
    "r_squared = 1 - (float(SS_Residual1))/SS_Total\n",
    "adjusted_r_squared = 1 - (1-r_squared)*(len(y_val)-1)/(len(y_val)-x.shape[1]-1)\n",
    "print (r_squared,adjusted_r_squared)"
   ]
  },
  {
   "cell_type": "code",
   "execution_count": null,
   "metadata": {},
   "outputs": [],
   "source": [
    "import math"
   ]
  },
  {
   "cell_type": "code",
   "execution_count": null,
   "metadata": {},
   "outputs": [],
   "source": [
    "t = 1.98062600245909 #consistent with sample size at 95% confidence interval"
   ]
  },
  {
   "cell_type": "code",
   "execution_count": null,
   "metadata": {},
   "outputs": [],
   "source": []
  }
 ],
 "metadata": {
  "_change_revision": 0,
  "_is_fork": false,
  "kernelspec": {
   "display_name": "Python 3",
   "language": "python",
   "name": "python3"
  },
  "language_info": {
   "codemirror_mode": {
    "name": "ipython",
    "version": 3
   },
   "file_extension": ".py",
   "mimetype": "text/x-python",
   "name": "python",
   "nbconvert_exporter": "python",
   "pygments_lexer": "ipython3",
   "version": "3.7.0"
  }
 },
 "nbformat": 4,
 "nbformat_minor": 2
}
