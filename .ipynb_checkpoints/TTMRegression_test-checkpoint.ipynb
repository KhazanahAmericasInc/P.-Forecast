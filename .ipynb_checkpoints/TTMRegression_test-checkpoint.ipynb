{
 "cells": [
  {
   "cell_type": "raw",
   "metadata": {},
   "source": [
    "Import"
   ]
  },
  {
   "cell_type": "code",
   "execution_count": 1,
   "metadata": {},
   "outputs": [
    {
     "name": "stderr",
     "output_type": "stream",
     "text": [
      "C:\\ProgramData\\Anaconda3\\lib\\site-packages\\sklearn\\ensemble\\weight_boosting.py:29: DeprecationWarning: numpy.core.umath_tests is an internal NumPy module and should not be imported. It will be removed in a future NumPy release.\n",
      "  from numpy.core.umath_tests import inner1d\n"
     ]
    }
   ],
   "source": [
    "from sklearn import tree\n",
    "from sklearn.tree import DecisionTreeRegressor  \n",
    "from sklearn.linear_model import LinearRegression\n",
    "from sklearn.model_selection import train_test_split  \n",
    "import pandas as pd \n",
    "import numpy as np \n",
    "import statsmodels.api as sm\n",
    "import matplotlib.pyplot as plt  \n",
    "%matplotlib inline\n",
    "from sklearn import ensemble\n",
    "from collections import defaultdict\n",
    "import plotly.plotly as py\n",
    "import plotly.graph_objs as go\n",
    "from plotly import tools\n",
    "from mpl_toolkits.mplot3d import Axes3D\n",
    "from scipy import stats\n",
    "import math\n",
    "from sklearn.metrics import mean_squared_error"
   ]
  },
  {
   "cell_type": "code",
   "execution_count": 2,
   "metadata": {},
   "outputs": [],
   "source": [
    "df = pd.read_csv('NewCompsData.csv', names=['Company', 'Type','Ev/Rev Multiple','Rev Growth','GP Margin','R&D Margin', 'S&M Margin', 'EBITDA Margin', 'Profit Margin'])\n",
    "df = df.drop([0],axis=0)\n",
    "df[['Ev/Rev Multiple','Rev Growth','GP Margin','R&D Margin', 'S&M Margin', 'EBITDA Margin', 'Profit Margin']] = df[['Ev/Rev Multiple','Rev Growth','GP Margin','R&D Margin', 'S&M Margin', 'EBITDA Margin', 'Profit Margin']].apply(pd.to_numeric)\n",
    "x = df[['Rev Growth','GP Margin','R&D Margin', 'S&M Margin', 'EBITDA Margin', 'Profit Margin']] #use\n",
    "y = df[['Ev/Rev Multiple']]\n",
    "a = df[['Rev Growth','GP Margin','EBITDA Margin']] #use\n",
    "b = df[['Rev Growth','GP Margin','EBITDA Margin','R&D Margin',]] #use\n",
    "c = df[['Rev Growth','GP Margin','EBITDA Margin','S&M Margin']] #use\n",
    "d = df[['Rev Growth','GP Margin','EBITDA Margin', 'Profit Margin']] #use\n",
    "e = df[['Rev Growth','GP Margin', 'EBITDA Margin','R&D Margin', 'S&M Margin']] #use\n",
    "f = df[['Rev Growth','GP Margin', 'EBITDA Margin','R&D Margin', 'Profit Margin']] #use\n",
    "g = df[['Rev Growth','GP Margin', 'EBITDA Margin','S&M Margin', 'Profit Margin']] #use"
   ]
  },
  {
   "cell_type": "code",
   "execution_count": 148,
   "metadata": {},
   "outputs": [],
   "source": [
    "databricks = [0.951862931344295,0.671300585943595,0.577080777881529,0.981899434820076,0.261273981475219,-1.14895360823323,-1.11333236039661]\n",
    "db = pd.DataFrame([databricks], columns = ['Rev Growth','GP Margin','R&D Margin', 'S&M Margin', 'G&A Margin','EBITDA Margin', 'Profit Margin'])\n",
    "db = db.drop(['G&A Margin'], axis=1)\n",
    "db2 = db.drop(['R&D Margin', 'S&M Margin','EBITDA Margin', 'Profit Margin'],axis=1)\n",
    "db3 = db.drop(['R&D Margin', 'S&M Margin'],axis=1) #AB\n",
    "db4 = db.drop(['R&D Margin', 'Profit Margin'],axis=1) #LM\n",
    "db5 = db.drop(['R&D Margin'],axis=1)\n",
    "db6 = db.drop(['Profit Margin'],axis=1)\n",
    "d_test = 1600/66.65488\n",
    "t = 1.98062600245909 #consistent with sample size at 95% confidence interval"
   ]
  },
  {
   "cell_type": "code",
   "execution_count": 172,
   "metadata": {},
   "outputs": [
    {
     "data": {
      "text/html": [
       "<div>\n",
       "<style scoped>\n",
       "    .dataframe tbody tr th:only-of-type {\n",
       "        vertical-align: middle;\n",
       "    }\n",
       "\n",
       "    .dataframe tbody tr th {\n",
       "        vertical-align: top;\n",
       "    }\n",
       "\n",
       "    .dataframe thead th {\n",
       "        text-align: right;\n",
       "    }\n",
       "</style>\n",
       "<table border=\"1\" class=\"dataframe\">\n",
       "  <thead>\n",
       "    <tr style=\"text-align: right;\">\n",
       "      <th></th>\n",
       "      <th>Rev Growth</th>\n",
       "      <th>GP Margin</th>\n",
       "      <th>R&amp;D Margin</th>\n",
       "      <th>S&amp;M Margin</th>\n",
       "      <th>EBITDA Margin</th>\n",
       "    </tr>\n",
       "  </thead>\n",
       "  <tbody>\n",
       "    <tr>\n",
       "      <th>0</th>\n",
       "      <td>0.951863</td>\n",
       "      <td>0.671301</td>\n",
       "      <td>0.577081</td>\n",
       "      <td>0.981899</td>\n",
       "      <td>-1.148954</td>\n",
       "    </tr>\n",
       "  </tbody>\n",
       "</table>\n",
       "</div>"
      ],
      "text/plain": [
       "   Rev Growth  GP Margin  R&D Margin  S&M Margin  EBITDA Margin\n",
       "0    0.951863   0.671301    0.577081    0.981899      -1.148954"
      ]
     },
     "execution_count": 172,
     "metadata": {},
     "output_type": "execute_result"
    }
   ],
   "source": [
    "db6"
   ]
  },
  {
   "cell_type": "code",
   "execution_count": 4,
   "metadata": {},
   "outputs": [],
   "source": [
    "GM = df[['GP Margin']]\n",
    "RG = df[['Rev Growth']]\n",
    "RD = df[['R&D Margin']]\n",
    "SM = df[['S&M Margin']]\n",
    "EM = df[['EBITDA Margin']]\n",
    "NM = df[['Profit Margin']]"
   ]
  },
  {
   "cell_type": "raw",
   "metadata": {},
   "source": [
    "Models "
   ]
  },
  {
   "cell_type": "code",
   "execution_count": 157,
   "metadata": {},
   "outputs": [],
   "source": [
    "x_train1, x_test1, y_train1, y_test1 = train_test_split(x, y, test_size=0.3, random_state=0)#ALL"
   ]
  },
  {
   "cell_type": "code",
   "execution_count": 158,
   "metadata": {},
   "outputs": [],
   "source": [
    "x_train0, x_test0, y_train0, y_test0 = train_test_split(c, y, test_size=0.3, random_state=0)#LM"
   ]
  },
  {
   "cell_type": "code",
   "execution_count": 159,
   "metadata": {},
   "outputs": [],
   "source": [
    "x_train, x_test, y_train, y_test = train_test_split(d, y, test_size=0.3, random_state=0)#AB"
   ]
  },
  {
   "cell_type": "code",
   "execution_count": 160,
   "metadata": {},
   "outputs": [],
   "source": [
    "x_train2, x_test2, y_train2, y_test2 = train_test_split(g, y, test_size=0.3, random_state=0)#ALL"
   ]
  },
  {
   "cell_type": "code",
   "execution_count": 161,
   "metadata": {},
   "outputs": [],
   "source": [
    "x_train3, x_test3, y_train3, y_test3 = train_test_split(e, y, test_size=0.3, random_state=0)#ALL"
   ]
  },
  {
   "cell_type": "code",
   "execution_count": 162,
   "metadata": {},
   "outputs": [],
   "source": [
    "y_val = y.values.flatten()\n",
    "ytest_val = y_test.values.flatten()"
   ]
  },
  {
   "cell_type": "code",
   "execution_count": 163,
   "metadata": {},
   "outputs": [
    {
     "data": {
      "text/plain": [
       "0.4967192656016839"
      ]
     },
     "execution_count": 163,
     "metadata": {},
     "output_type": "execute_result"
    }
   ],
   "source": [
    "model2 = ensemble.AdaBoostRegressor(random_state=0)\n",
    "model2 = model2.fit(x_train,y_train.values.ravel())\n",
    "model2.score(x_test,y_test)"
   ]
  },
  {
   "cell_type": "code",
   "execution_count": 164,
   "metadata": {},
   "outputs": [
    {
     "data": {
      "text/plain": [
       "0.30804628300726644"
      ]
     },
     "execution_count": 164,
     "metadata": {},
     "output_type": "execute_result"
    }
   ],
   "source": [
    "model = LinearRegression()\n",
    "model = model.fit(x_train0, y_train0)\n",
    "model.score(x_test0,y_test0)"
   ]
  },
  {
   "cell_type": "code",
   "execution_count": 165,
   "metadata": {},
   "outputs": [
    {
     "name": "stdout",
     "output_type": "stream",
     "text": [
      "The coefficient for Rev Growth is 14.147587578957872\n",
      "The coefficient for GP Margin is 11.63085906280803\n",
      "The coefficient for EBITDA Margin is -7.02880923393045\n",
      "The coefficient for S&M Margin is -7.843558824125033\n",
      "The intercept for our model is -0.9161478104081455\n"
     ]
    }
   ],
   "source": [
    "for idx, col_name in enumerate(x_train0.columns):\n",
    "    print(\"The coefficient for {} is {}\".format(col_name, model.coef_[0][idx]))\n",
    "intercept = model.intercept_[0]\n",
    "print(\"The intercept for our model is {}\".format(intercept))"
   ]
  },
  {
   "cell_type": "code",
   "execution_count": 166,
   "metadata": {},
   "outputs": [
    {
     "data": {
      "text/plain": [
       "0.44658180451426915"
      ]
     },
     "execution_count": 166,
     "metadata": {},
     "output_type": "execute_result"
    }
   ],
   "source": [
    "model3 = ensemble.AdaBoostRegressor(random_state=0)\n",
    "model3 = model3.fit(x_train1,y_train1.values.ravel())\n",
    "model3.score(x_test1,y_test1)"
   ]
  },
  {
   "cell_type": "code",
   "execution_count": 167,
   "metadata": {},
   "outputs": [
    {
     "data": {
      "text/plain": [
       "0.44658180451426915"
      ]
     },
     "execution_count": 167,
     "metadata": {},
     "output_type": "execute_result"
    }
   ],
   "source": [
    "model3 = ensemble.AdaBoostRegressor(random_state=0)\n",
    "model3 = model3.fit(x_train1,y_train1.values.ravel())\n",
    "model3.score(x_test1,y_test1)"
   ]
  },
  {
   "cell_type": "code",
   "execution_count": 168,
   "metadata": {},
   "outputs": [
    {
     "data": {
      "text/plain": [
       "0.43140875343274515"
      ]
     },
     "execution_count": 168,
     "metadata": {},
     "output_type": "execute_result"
    }
   ],
   "source": [
    "model4 = ensemble.AdaBoostRegressor(random_state=0)\n",
    "model4 = model4.fit(x_train2,y_train2.values.ravel())\n",
    "model4.score(x_test2,y_test2)"
   ]
  },
  {
   "cell_type": "code",
   "execution_count": 169,
   "metadata": {},
   "outputs": [
    {
     "data": {
      "text/plain": [
       "0.3603633431286841"
      ]
     },
     "execution_count": 169,
     "metadata": {},
     "output_type": "execute_result"
    }
   ],
   "source": [
    "model5 = ensemble.AdaBoostRegressor(random_state=0)\n",
    "model5 = model5.fit(x_train3,y_train3.values.ravel())\n",
    "model5.score(x_test3,y_test3)"
   ]
  },
  {
   "cell_type": "code",
   "execution_count": 171,
   "metadata": {},
   "outputs": [
    {
     "name": "stdout",
     "output_type": "stream",
     "text": [
      "[[22.46852028]] [17.24465707] [22.46783098] [12.66547882] [9.18356419]\n"
     ]
    }
   ],
   "source": [
    "print (model.predict(db4), model2.predict(db3), model3.predict(db),model4.predict(db5),model5.predict(db6) )"
   ]
  },
  {
   "cell_type": "raw",
   "metadata": {},
   "source": [
    "Calculating Stats (FULL SAMPLE)"
   ]
  },
  {
   "cell_type": "code",
   "execution_count": 15,
   "metadata": {},
   "outputs": [
    {
     "name": "stdout",
     "output_type": "stream",
     "text": [
      "3.2196767219064504 7.014672978412176\n",
      "0.39521070352664434 0.3633796879227835\n"
     ]
    }
   ],
   "source": [
    "yhat = model.predict(c).flatten()\n",
    "SS_Residual1 = sum((y_val-yhat)**2)\n",
    "std_err1 = math.sqrt(SS_Residual1/121)\n",
    "moe_1 = std_err1 * 1.1 * t\n",
    "print (std_err1,moe_1)\n",
    "SS_Total = sum((y_val-np.mean(y_val))**2)\n",
    "r_squared = 1 - (float(SS_Residual1))/SS_Total\n",
    "adjusted_r_squared = 1 - (1-r_squared)*(len(y_val)-1)/(len(y_val)-x.shape[1]-1)\n",
    "print (r_squared,adjusted_r_squared)"
   ]
  },
  {
   "cell_type": "code",
   "execution_count": 16,
   "metadata": {},
   "outputs": [
    {
     "name": "stdout",
     "output_type": "stream",
     "text": [
      "2.224548345950982 4.846598127489662\n",
      "0.7112890482227185 0.6960937349712826\n"
     ]
    }
   ],
   "source": [
    "yhat = model2.predict(d)\n",
    "yhat = yhat.flatten()\n",
    "SS_Residual2 = sum((y_val-yhat)**2)\n",
    "std_err2 = math.sqrt(SS_Residual2/121)\n",
    "moe_2 = std_err2 * 1.1 * t\n",
    "print (std_err2,moe_2)\n",
    "SS_Total = sum((y_val-np.mean(y_val))**2)\n",
    "r_squared = 1 - (float(SS_Residual2))/SS_Total\n",
    "adjusted_r_squared = 1 - (1-r_squared)*(len(y_val)-1)/(len(y_val)-x.shape[1]-1)\n",
    "print (r_squared,adjusted_r_squared)"
   ]
  },
  {
   "cell_type": "raw",
   "metadata": {},
   "source": [
    "Stats (TEST SAMPLE)"
   ]
  },
  {
   "cell_type": "code",
   "execution_count": 17,
   "metadata": {},
   "outputs": [
    {
     "name": "stdout",
     "output_type": "stream",
     "text": [
      "2.047365220843568 4.460571272226486\n",
      "3.7024324584598096\n",
      "0.30804628300726655 0.22155206838317487\n"
     ]
    }
   ],
   "source": [
    "yhat = model.predict(x_test0).flatten()\n",
    "SS_Residual1 = sum((ytest_val-yhat)**2)\n",
    "std_err1 = math.sqrt(SS_Residual1/121)\n",
    "moe_1 = std_err1 * 1.1 * t\n",
    "print (std_err1,moe_1)\n",
    "\n",
    "regression_model_mse = mean_squared_error(yhat, ytest_val)\n",
    "print (math.sqrt(regression_model_mse))\n",
    "\n",
    "SS_Total = sum((ytest_val-np.mean(ytest_val))**2)\n",
    "r_squared = 1 - (float(SS_Residual1))/SS_Total\n",
    "adjusted_r_squared = 1 - (1-r_squared)*(len(ytest_val)-1)/(len(ytest_val)-x_test.shape[1]-1)\n",
    "print (r_squared,adjusted_r_squared)"
   ]
  },
  {
   "cell_type": "code",
   "execution_count": 18,
   "metadata": {},
   "outputs": [
    {
     "name": "stdout",
     "output_type": "stream",
     "text": [
      "1.7460712085463137 3.8041454415711975\n",
      "3.1575757229286086\n",
      "0.496719265601684 0.43380917380189454\n"
     ]
    }
   ],
   "source": [
    "yhat = model2.predict(x_test).flatten()\n",
    "SS_Residual1 = sum((ytest_val-yhat)**2)\n",
    "std_err1 = math.sqrt(SS_Residual1/121)\n",
    "moe_1 = std_err1 * 1.1 * t\n",
    "print (std_err1,moe_1)\n",
    "\n",
    "regression_model_mse = mean_squared_error(yhat, ytest_val)\n",
    "print (math.sqrt(regression_model_mse))\n",
    "\n",
    "SS_Total = sum((ytest_val-np.mean(ytest_val))**2)\n",
    "r_squared = 1 - (float(SS_Residual1))/SS_Total\n",
    "adjusted_r_squared = 1 - (1-r_squared)*(len(ytest_val)-1)/(len(ytest_val)-x_test.shape[1]-1)\n",
    "print (r_squared,adjusted_r_squared)"
   ]
  },
  {
   "cell_type": "code",
   "execution_count": 97,
   "metadata": {},
   "outputs": [
    {
     "name": "stdout",
     "output_type": "stream",
     "text": [
      "1.830979640488994 3.9891344745182677\n",
      "3.3111231854042953\n",
      "0.4465818045142691 0.3774045300785527\n"
     ]
    }
   ],
   "source": [
    "yhat = model3.predict(x_test1).flatten()\n",
    "SS_Residual1 = sum((ytest_val-yhat)**2)\n",
    "std_err1 = math.sqrt(SS_Residual1/121)\n",
    "moe_1 = std_err1 * 1.1 * t\n",
    "print (std_err1,moe_1)\n",
    "\n",
    "regression_model_mse = mean_squared_error(yhat, ytest_val)\n",
    "print (math.sqrt(regression_model_mse))\n",
    "\n",
    "SS_Total = sum((ytest_val-np.mean(ytest_val))**2)\n",
    "r_squared = 1 - (float(SS_Residual1))/SS_Total\n",
    "adjusted_r_squared = 1 - (1-r_squared)*(len(ytest_val)-1)/(len(ytest_val)-x_test.shape[1]-1)\n",
    "print (r_squared,adjusted_r_squared)"
   ]
  },
  {
   "cell_type": "code",
   "execution_count": 95,
   "metadata": {},
   "outputs": [
    {
     "data": {
      "image/png": "[encoded data removed]",
      "text/plain": [
       "<Figure size 432x288 with 1 Axes>"
      ]
     },
     "metadata": {
      "needs_background": "light"
     },
     "output_type": "display_data"
    }
   ],
   "source": [
    "x23 = range(25)\n",
    "y23 = range(25)\n",
    "h = model2.predict(x_test)\n",
    "plt.scatter(y_test,h, c=\"g\")\n",
    "plt.plot(x23,y23, c=\"k\")\n",
    "plt.xlabel(\"True Values\")\n",
    "plt.ylabel(\"Predictions\")\n",
    "plt.savefig(\"graph.svg\")"
   ]
  },
  {
   "cell_type": "code",
   "execution_count": 96,
   "metadata": {},
   "outputs": [
    {
     "data": {
      "image/png": "[encoded data removed]",
      "text/plain": [
       "<Figure size 432x288 with 1 Axes>"
      ]
     },
     "metadata": {
      "needs_background": "light"
     },
     "output_type": "display_data"
    }
   ],
   "source": [
    "x23 = range(25)\n",
    "y23 = range(25)\n",
    "h = model3.predict(x_test1)\n",
    "plt.scatter(y_test0,h, c=\"g\")\n",
    "plt.plot(x23,y23, c=\"k\")\n",
    "plt.xlabel(\"True Values\")\n",
    "plt.ylabel(\"Predictions\")\n",
    "plt.savefig(\"graph.svg\")"
   ]
  },
  {
   "cell_type": "code",
   "execution_count": 129,
   "metadata": {},
   "outputs": [
    {
     "data": {
      "image/png": "[encoded data removed]",
      "text/plain": [
       "<Figure size 432x288 with 1 Axes>"
      ]
     },
     "metadata": {
      "needs_background": "light"
     },
     "output_type": "display_data"
    }
   ],
   "source": [
    "x23 = range(25)\n",
    "y23 = range(25)\n",
    "h = model4.predict(x_test2)\n",
    "plt.scatter(y_test0,h, c=\"g\")\n",
    "plt.plot(x23,y23, c=\"k\")\n",
    "plt.xlabel(\"True Values\")\n",
    "plt.ylabel(\"Predictions\")\n",
    "plt.savefig(\"graph.svg\")"
   ]
  },
  {
   "cell_type": "code",
   "execution_count": 69,
   "metadata": {},
   "outputs": [
    {
     "data": {
      "image/png": "[encoded data removed]",
      "text/plain": [
       "<Figure size 432x288 with 1 Axes>"
      ]
     },
     "metadata": {
      "needs_background": "light"
     },
     "output_type": "display_data"
    }
   ],
   "source": [
    "x23 = range(25)\n",
    "y23 = range(25)\n",
    "h = model.predict(x_test0)\n",
    "plt.scatter(y_test0,h, c=\"g\")\n",
    "plt.plot(x23,y23, c=\"k\")\n",
    "plt.xlabel(\"True Values\")\n",
    "plt.ylabel(\"Predictions\")\n",
    "plt.savefig(\"graph.svg\")"
   ]
  },
  {
   "cell_type": "code",
   "execution_count": 21,
   "metadata": {},
   "outputs": [
    {
     "data": {
      "image/png": "[encoded data removed]",
      "text/plain": [
       "<Figure size 432x288 with 1 Axes>"
      ]
     },
     "metadata": {
      "needs_background": "light"
     },
     "output_type": "display_data"
    }
   ],
   "source": [
    "x23 = range(25)\n",
    "y23 = range(25)\n",
    "h = model.predict(x_test0)\n",
    "i = model2.predict(x_test)\n",
    "plt.scatter(y_test,h,label = \"Linear\", c=\"b\")\n",
    "plt.scatter(y_test,i,label = \"Boosted\", c=\"r\")\n",
    "plt.plot(x23,y23, c=\"k\")\n",
    "plt.legend()\n",
    "plt.xlabel(\"True Values\")\n",
    "plt.ylabel(\"Predictions\")\n",
    "plt.savefig(\"graph.svg\")"
   ]
  },
  {
   "cell_type": "code",
   "execution_count": 22,
   "metadata": {},
   "outputs": [
    {
     "data": {
      "image/png": "[encoded data removed]",
      "text/plain": [
       "<Figure size 432x288 with 1 Axes>"
      ]
     },
     "metadata": {
      "needs_background": "light"
     },
     "output_type": "display_data"
    }
   ],
   "source": [
    "x23 = range(100)\n",
    "y23 = range(100)\n",
    "h = model.predict(db4)\n",
    "i = model2.predict(db3)\n",
    "plt.scatter(d_test,h,label = \"Linear\", c=\"b\")\n",
    "plt.scatter(d_test,i,label = \"Boosted\", c=\"r\")\n",
    "plt.scatter(d_test,d_test,label = \"Actual\", c=\"g\")\n",
    "plt.legend()\n",
    "plt.xlabel(\"True Values\")\n",
    "plt.ylabel(\"Predictions\")\n",
    "plt.savefig(\"graph.svg\")"
   ]
  },
  {
   "cell_type": "code",
   "execution_count": 142,
   "metadata": {},
   "outputs": [],
   "source": [
    "y_val = y.values.flatten()\n",
    "ytest_val = y_test.values.flatten()"
   ]
  },
  {
   "cell_type": "code",
   "execution_count": 143,
   "metadata": {},
   "outputs": [
    {
     "name": "stdout",
     "output_type": "stream",
     "text": [
      "0.13138669783694612\n",
      "0.2336413862766601\n",
      "0.20639897386275474\n",
      "0.22714836046629494\n",
      "0.16769072533525498\n",
      "0.19421222211760136\n",
      "0.1213720647091533\n",
      "0.18311031794646926\n"
     ]
    }
   ],
   "source": [
    "variables = [x,a,b,c,d,e,f,g]\n",
    "for q in variables:\n",
    "    x_train, x_test, y_train, y_test = train_test_split(q, y, test_size=0.2, random_state=0)  \n",
    "    model = LinearRegression()\n",
    "    model.fit(x_train, y_train)\n",
    "    model.score(x_test,y_test)\n",
    "    yhat = model.predict(x_test).flatten()\n",
    "    SS_Residual1 = sum((ytest_val-yhat)**2)\n",
    "    std_err1 = math.sqrt(SS_Residual1/121)\n",
    "    moe_1 = std_err1 * 1.1 * t\n",
    "    SS_Total = sum((ytest_val-np.mean(ytest_val))**2)\n",
    "    r_squared = 1 - (float(SS_Residual1))/SS_Total\n",
    "    adjusted_r_squared = 1 - (1-r_squared)*(len(ytest_val)-1)/(len(ytest_val)-x_test.shape[1]-1)\n",
    "    print (adjusted_r_squared)"
   ]
  },
  {
   "cell_type": "code",
   "execution_count": null,
   "metadata": {},
   "outputs": [],
   "source": [
    "variables = [x,a,b,c,d,e,f,g]\n",
    "for q in variables:\n",
    "    x_train, x_test, y_train, y_test = train_test_split(q, y, test_size=0.2, random_state=0)  \n",
    "    model2 = ensemble.AdaBoostRegressor(random_state=0)\n",
    "    model2.fit(x_train, y_train.values.ravel())\n",
    "    model2.score(x_test,y_test)\n",
    "    yhat = model2.predict(x_test).flatten()\n",
    "    SS_Residual1 = sum((ytest_val-yhat)**2)\n",
    "    SS_Total = sum((ytest_val-np.mean(ytest_val))**2)\n",
    "    r_squared = 1 - (float(SS_Residual1))/SS_Total\n",
    "    adjusted_r_squared = 1 - (1-r_squared)*(len(ytest_val)-1)/(len(ytest_val)-x_test.shape[1]-1)\n",
    "    print (adjusted_r_squared)"
   ]
  },
  {
   "cell_type": "code",
   "execution_count": 137,
   "metadata": {},
   "outputs": [
    {
     "ename": "ValueError",
     "evalue": "operands could not be broadcast together with shapes (25,) (37,) ",
     "output_type": "error",
     "traceback": [
      "\u001b[1;31m---------------------------------------------------------------------------\u001b[0m",
      "\u001b[1;31mValueError\u001b[0m                                Traceback (most recent call last)",
      "\u001b[1;32m<ipython-input-137-e588a6d6cfa2>\u001b[0m in \u001b[0;36m<module>\u001b[1;34m()\u001b[0m\n\u001b[0;32m      9\u001b[0m         \u001b[0mmodel2\u001b[0m\u001b[1;33m.\u001b[0m\u001b[0mfit\u001b[0m\u001b[1;33m(\u001b[0m\u001b[0mx_train\u001b[0m\u001b[1;33m,\u001b[0m\u001b[0my_train\u001b[0m\u001b[1;33m.\u001b[0m\u001b[0mvalues\u001b[0m\u001b[1;33m.\u001b[0m\u001b[0mravel\u001b[0m\u001b[1;33m(\u001b[0m\u001b[1;33m)\u001b[0m\u001b[1;33m)\u001b[0m\u001b[1;33m\u001b[0m\u001b[0m\n\u001b[0;32m     10\u001b[0m         \u001b[0myhat\u001b[0m \u001b[1;33m=\u001b[0m \u001b[0mmodel2\u001b[0m\u001b[1;33m.\u001b[0m\u001b[0mpredict\u001b[0m\u001b[1;33m(\u001b[0m\u001b[0mx_test\u001b[0m\u001b[1;33m)\u001b[0m\u001b[1;33m.\u001b[0m\u001b[0mflatten\u001b[0m\u001b[1;33m(\u001b[0m\u001b[1;33m)\u001b[0m\u001b[1;33m\u001b[0m\u001b[0m\n\u001b[1;32m---> 11\u001b[1;33m         \u001b[0mSS_Residual1\u001b[0m \u001b[1;33m=\u001b[0m \u001b[0msum\u001b[0m\u001b[1;33m(\u001b[0m\u001b[1;33m(\u001b[0m\u001b[0mytest_val\u001b[0m\u001b[1;33m-\u001b[0m\u001b[0myhat\u001b[0m\u001b[1;33m)\u001b[0m\u001b[1;33m**\u001b[0m\u001b[1;36m2\u001b[0m\u001b[1;33m)\u001b[0m\u001b[1;33m\u001b[0m\u001b[0m\n\u001b[0m\u001b[0;32m     12\u001b[0m         \u001b[0mSS_Total\u001b[0m \u001b[1;33m=\u001b[0m \u001b[0msum\u001b[0m\u001b[1;33m(\u001b[0m\u001b[1;33m(\u001b[0m\u001b[0mytest_val\u001b[0m\u001b[1;33m-\u001b[0m\u001b[0mnp\u001b[0m\u001b[1;33m.\u001b[0m\u001b[0mmean\u001b[0m\u001b[1;33m(\u001b[0m\u001b[0mytest_val\u001b[0m\u001b[1;33m)\u001b[0m\u001b[1;33m)\u001b[0m\u001b[1;33m**\u001b[0m\u001b[1;36m2\u001b[0m\u001b[1;33m)\u001b[0m\u001b[1;33m\u001b[0m\u001b[0m\n\u001b[0;32m     13\u001b[0m         \u001b[0mr_squared\u001b[0m \u001b[1;33m=\u001b[0m \u001b[1;36m1\u001b[0m \u001b[1;33m-\u001b[0m \u001b[1;33m(\u001b[0m\u001b[0mfloat\u001b[0m\u001b[1;33m(\u001b[0m\u001b[0mSS_Residual1\u001b[0m\u001b[1;33m)\u001b[0m\u001b[1;33m)\u001b[0m\u001b[1;33m/\u001b[0m\u001b[0mSS_Total\u001b[0m\u001b[1;33m\u001b[0m\u001b[0m\n",
      "\u001b[1;31mValueError\u001b[0m: operands could not be broadcast together with shapes (25,) (37,) "
     ]
    }
   ],
   "source": [
    "variables = [x,a,b,c,d,e,f,g] \n",
    "state = range (100)\n",
    "newdata={}\n",
    "for w in state:\n",
    "    col = []\n",
    "    for q in variables:\n",
    "        x_train, x_test, y_train, y_test = train_test_split(q, y, test_size=0.3, random_state=0)  \n",
    "        model2 = ensemble.AdaBoostRegressor(random_state=w)\n",
    "        model2.fit(x_train,y_train.values.ravel())\n",
    "        yhat = model2.predict(x_test).flatten()\n",
    "        SS_Residual1 = sum((ytest_val-yhat)**2)\n",
    "        SS_Total = sum((ytest_val-np.mean(ytest_val))**2)\n",
    "        r_squared = 1 - (float(SS_Residual1))/SS_Total\n",
    "        adjusted_r_squared = 1 - (1-r_squared)*(len(ytest_val)-1)/(len(ytest_val)-x_test.shape[1]-1)\n",
    "        col.append(adjusted_r_squared)\n",
    "        newdata[\"State{}\".format(w)] = col\n",
    "newcol = pd.DataFrame (newdata)      \n",
    "newcol.idxmax().value_counts()"
   ]
  },
  {
   "cell_type": "code",
   "execution_count": 27,
   "metadata": {},
   "outputs": [
    {
     "data": {
      "text/html": [
       "<div>\n",
       "<style scoped>\n",
       "    .dataframe tbody tr th:only-of-type {\n",
       "        vertical-align: middle;\n",
       "    }\n",
       "\n",
       "    .dataframe tbody tr th {\n",
       "        vertical-align: top;\n",
       "    }\n",
       "\n",
       "    .dataframe thead th {\n",
       "        text-align: right;\n",
       "    }\n",
       "</style>\n",
       "<table border=\"1\" class=\"dataframe\">\n",
       "  <thead>\n",
       "    <tr style=\"text-align: right;\">\n",
       "      <th></th>\n",
       "      <th>State0</th>\n",
       "      <th>State1</th>\n",
       "      <th>State2</th>\n",
       "      <th>State3</th>\n",
       "      <th>State4</th>\n",
       "      <th>State5</th>\n",
       "      <th>State6</th>\n",
       "      <th>State7</th>\n",
       "      <th>State8</th>\n",
       "      <th>State9</th>\n",
       "      <th>...</th>\n",
       "      <th>State90</th>\n",
       "      <th>State91</th>\n",
       "      <th>State92</th>\n",
       "      <th>State93</th>\n",
       "      <th>State94</th>\n",
       "      <th>State95</th>\n",
       "      <th>State96</th>\n",
       "      <th>State97</th>\n",
       "      <th>State98</th>\n",
       "      <th>State99</th>\n",
       "    </tr>\n",
       "  </thead>\n",
       "  <tbody>\n",
       "    <tr>\n",
       "      <th>0</th>\n",
       "      <td>0.335898</td>\n",
       "      <td>0.299079</td>\n",
       "      <td>0.386248</td>\n",
       "      <td>0.328908</td>\n",
       "      <td>0.330181</td>\n",
       "      <td>0.265094</td>\n",
       "      <td>0.333157</td>\n",
       "      <td>0.276001</td>\n",
       "      <td>0.378216</td>\n",
       "      <td>0.382251</td>\n",
       "      <td>...</td>\n",
       "      <td>0.357402</td>\n",
       "      <td>0.354564</td>\n",
       "      <td>0.399918</td>\n",
       "      <td>0.304921</td>\n",
       "      <td>0.293643</td>\n",
       "      <td>0.368276</td>\n",
       "      <td>0.327333</td>\n",
       "      <td>0.386976</td>\n",
       "      <td>0.344627</td>\n",
       "      <td>0.324676</td>\n",
       "    </tr>\n",
       "    <tr>\n",
       "      <th>1</th>\n",
       "      <td>0.329745</td>\n",
       "      <td>0.304742</td>\n",
       "      <td>0.365891</td>\n",
       "      <td>0.344132</td>\n",
       "      <td>0.319577</td>\n",
       "      <td>0.354536</td>\n",
       "      <td>0.346416</td>\n",
       "      <td>0.323752</td>\n",
       "      <td>0.326920</td>\n",
       "      <td>0.303988</td>\n",
       "      <td>...</td>\n",
       "      <td>0.301728</td>\n",
       "      <td>0.356891</td>\n",
       "      <td>0.309530</td>\n",
       "      <td>0.386174</td>\n",
       "      <td>0.344702</td>\n",
       "      <td>0.275576</td>\n",
       "      <td>0.363210</td>\n",
       "      <td>0.328270</td>\n",
       "      <td>0.285100</td>\n",
       "      <td>0.321659</td>\n",
       "    </tr>\n",
       "    <tr>\n",
       "      <th>2</th>\n",
       "      <td>0.314420</td>\n",
       "      <td>0.309893</td>\n",
       "      <td>0.277877</td>\n",
       "      <td>0.258011</td>\n",
       "      <td>0.351497</td>\n",
       "      <td>0.354208</td>\n",
       "      <td>0.304090</td>\n",
       "      <td>0.305624</td>\n",
       "      <td>0.349668</td>\n",
       "      <td>0.331640</td>\n",
       "      <td>...</td>\n",
       "      <td>0.307459</td>\n",
       "      <td>0.294962</td>\n",
       "      <td>0.248021</td>\n",
       "      <td>0.296326</td>\n",
       "      <td>0.299185</td>\n",
       "      <td>0.283718</td>\n",
       "      <td>0.296078</td>\n",
       "      <td>0.300521</td>\n",
       "      <td>0.352547</td>\n",
       "      <td>0.283531</td>\n",
       "    </tr>\n",
       "    <tr>\n",
       "      <th>3</th>\n",
       "      <td>0.245354</td>\n",
       "      <td>0.236943</td>\n",
       "      <td>0.365842</td>\n",
       "      <td>0.320966</td>\n",
       "      <td>0.333836</td>\n",
       "      <td>0.357292</td>\n",
       "      <td>0.301765</td>\n",
       "      <td>0.294350</td>\n",
       "      <td>0.274776</td>\n",
       "      <td>0.328835</td>\n",
       "      <td>...</td>\n",
       "      <td>0.284660</td>\n",
       "      <td>0.328001</td>\n",
       "      <td>0.257320</td>\n",
       "      <td>0.280147</td>\n",
       "      <td>0.275691</td>\n",
       "      <td>0.269740</td>\n",
       "      <td>0.305126</td>\n",
       "      <td>0.288684</td>\n",
       "      <td>0.273502</td>\n",
       "      <td>0.319394</td>\n",
       "    </tr>\n",
       "    <tr>\n",
       "      <th>4</th>\n",
       "      <td>0.433809</td>\n",
       "      <td>0.411325</td>\n",
       "      <td>0.481714</td>\n",
       "      <td>0.402041</td>\n",
       "      <td>0.375902</td>\n",
       "      <td>0.347886</td>\n",
       "      <td>0.377985</td>\n",
       "      <td>0.367582</td>\n",
       "      <td>0.361261</td>\n",
       "      <td>0.348550</td>\n",
       "      <td>...</td>\n",
       "      <td>0.506867</td>\n",
       "      <td>0.419217</td>\n",
       "      <td>0.464211</td>\n",
       "      <td>0.416328</td>\n",
       "      <td>0.432556</td>\n",
       "      <td>0.426827</td>\n",
       "      <td>0.411457</td>\n",
       "      <td>0.381519</td>\n",
       "      <td>0.457069</td>\n",
       "      <td>0.451215</td>\n",
       "    </tr>\n",
       "    <tr>\n",
       "      <th>5</th>\n",
       "      <td>0.257196</td>\n",
       "      <td>0.250061</td>\n",
       "      <td>0.273605</td>\n",
       "      <td>0.246503</td>\n",
       "      <td>0.259174</td>\n",
       "      <td>0.242864</td>\n",
       "      <td>0.216707</td>\n",
       "      <td>0.280587</td>\n",
       "      <td>0.288378</td>\n",
       "      <td>0.240351</td>\n",
       "      <td>...</td>\n",
       "      <td>0.244982</td>\n",
       "      <td>0.330481</td>\n",
       "      <td>0.284138</td>\n",
       "      <td>0.233632</td>\n",
       "      <td>0.273709</td>\n",
       "      <td>0.207566</td>\n",
       "      <td>0.206005</td>\n",
       "      <td>0.312377</td>\n",
       "      <td>0.308918</td>\n",
       "      <td>0.293250</td>\n",
       "    </tr>\n",
       "    <tr>\n",
       "      <th>6</th>\n",
       "      <td>0.328678</td>\n",
       "      <td>0.400687</td>\n",
       "      <td>0.440470</td>\n",
       "      <td>0.384383</td>\n",
       "      <td>0.390282</td>\n",
       "      <td>0.359303</td>\n",
       "      <td>0.400105</td>\n",
       "      <td>0.365762</td>\n",
       "      <td>0.366391</td>\n",
       "      <td>0.382665</td>\n",
       "      <td>...</td>\n",
       "      <td>0.395338</td>\n",
       "      <td>0.336655</td>\n",
       "      <td>0.323958</td>\n",
       "      <td>0.358609</td>\n",
       "      <td>0.417113</td>\n",
       "      <td>0.381638</td>\n",
       "      <td>0.392529</td>\n",
       "      <td>0.404595</td>\n",
       "      <td>0.411447</td>\n",
       "      <td>0.383017</td>\n",
       "    </tr>\n",
       "    <tr>\n",
       "      <th>7</th>\n",
       "      <td>0.339700</td>\n",
       "      <td>0.392394</td>\n",
       "      <td>0.383345</td>\n",
       "      <td>0.395234</td>\n",
       "      <td>0.414307</td>\n",
       "      <td>0.369760</td>\n",
       "      <td>0.328483</td>\n",
       "      <td>0.470962</td>\n",
       "      <td>0.353901</td>\n",
       "      <td>0.408689</td>\n",
       "      <td>...</td>\n",
       "      <td>0.425912</td>\n",
       "      <td>0.418623</td>\n",
       "      <td>0.448716</td>\n",
       "      <td>0.360939</td>\n",
       "      <td>0.361136</td>\n",
       "      <td>0.369977</td>\n",
       "      <td>0.382849</td>\n",
       "      <td>0.390431</td>\n",
       "      <td>0.388456</td>\n",
       "      <td>0.321762</td>\n",
       "    </tr>\n",
       "  </tbody>\n",
       "</table>\n",
       "<p>8 rows × 100 columns</p>\n",
       "</div>"
      ],
      "text/plain": [
       "     State0    State1    State2    State3    State4    State5    State6  \\\n",
       "0  0.335898  0.299079  0.386248  0.328908  0.330181  0.265094  0.333157   \n",
       "1  0.329745  0.304742  0.365891  0.344132  0.319577  0.354536  0.346416   \n",
       "2  0.314420  0.309893  0.277877  0.258011  0.351497  0.354208  0.304090   \n",
       "3  0.245354  0.236943  0.365842  0.320966  0.333836  0.357292  0.301765   \n",
       "4  0.433809  0.411325  0.481714  0.402041  0.375902  0.347886  0.377985   \n",
       "5  0.257196  0.250061  0.273605  0.246503  0.259174  0.242864  0.216707   \n",
       "6  0.328678  0.400687  0.440470  0.384383  0.390282  0.359303  0.400105   \n",
       "7  0.339700  0.392394  0.383345  0.395234  0.414307  0.369760  0.328483   \n",
       "\n",
       "     State7    State8    State9    ...      State90   State91   State92  \\\n",
       "0  0.276001  0.378216  0.382251    ...     0.357402  0.354564  0.399918   \n",
       "1  0.323752  0.326920  0.303988    ...     0.301728  0.356891  0.309530   \n",
       "2  0.305624  0.349668  0.331640    ...     0.307459  0.294962  0.248021   \n",
       "3  0.294350  0.274776  0.328835    ...     0.284660  0.328001  0.257320   \n",
       "4  0.367582  0.361261  0.348550    ...     0.506867  0.419217  0.464211   \n",
       "5  0.280587  0.288378  0.240351    ...     0.244982  0.330481  0.284138   \n",
       "6  0.365762  0.366391  0.382665    ...     0.395338  0.336655  0.323958   \n",
       "7  0.470962  0.353901  0.408689    ...     0.425912  0.418623  0.448716   \n",
       "\n",
       "    State93   State94   State95   State96   State97   State98   State99  \n",
       "0  0.304921  0.293643  0.368276  0.327333  0.386976  0.344627  0.324676  \n",
       "1  0.386174  0.344702  0.275576  0.363210  0.328270  0.285100  0.321659  \n",
       "2  0.296326  0.299185  0.283718  0.296078  0.300521  0.352547  0.283531  \n",
       "3  0.280147  0.275691  0.269740  0.305126  0.288684  0.273502  0.319394  \n",
       "4  0.416328  0.432556  0.426827  0.411457  0.381519  0.457069  0.451215  \n",
       "5  0.233632  0.273709  0.207566  0.206005  0.312377  0.308918  0.293250  \n",
       "6  0.358609  0.417113  0.381638  0.392529  0.404595  0.411447  0.383017  \n",
       "7  0.360939  0.361136  0.369977  0.382849  0.390431  0.388456  0.321762  \n",
       "\n",
       "[8 rows x 100 columns]"
      ]
     },
     "execution_count": 27,
     "metadata": {},
     "output_type": "execute_result"
    }
   ],
   "source": [
    "newcol"
   ]
  },
  {
   "cell_type": "code",
   "execution_count": 28,
   "metadata": {},
   "outputs": [],
   "source": [
    "x_train, x_test, y_train, y_test = train_test_split(x, y, test_size=0.1, random_state=0)  \n",
    "model2 = ensemble.AdaBoostRegressor(random_state=0)\n",
    "model2 = model2.fit(x_train,y_train.values.ravel())"
   ]
  },
  {
   "cell_type": "code",
   "execution_count": 29,
   "metadata": {},
   "outputs": [
    {
     "data": {
      "text/plain": [
       "Text(0,0.5,'Predictions')"
      ]
     },
     "execution_count": 29,
     "metadata": {},
     "output_type": "execute_result"
    },
    {
     "data": {
      "image/png": "[encoded data removed]",
      "text/plain": [
       "<Figure size 432x288 with 1 Axes>"
      ]
     },
     "metadata": {
      "needs_background": "light"
     },
     "output_type": "display_data"
    }
   ],
   "source": [
    "x23 = range(25)\n",
    "y23 = range(25)\n",
    "h = model2.predict(x)\n",
    "plt.scatter(y,h, c=\"g\")\n",
    "plt.plot(x23,y23)\n",
    "plt.xlabel(\"True Values\")\n",
    "plt.ylabel(\"Predictions\")"
   ]
  },
  {
   "cell_type": "code",
   "execution_count": 30,
   "metadata": {},
   "outputs": [
    {
     "data": {
      "text/plain": [
       "0.511175394347045"
      ]
     },
     "execution_count": 30,
     "metadata": {},
     "output_type": "execute_result"
    }
   ],
   "source": [
    "model = LinearRegression()\n",
    "model.fit(x_train, y_train)\n",
    "model.score(x_test,y_test)"
   ]
  },
  {
   "cell_type": "code",
   "execution_count": 31,
   "metadata": {},
   "outputs": [
    {
     "data": {
      "text/plain": [
       "Text(0,0.5,'Predictions')"
      ]
     },
     "execution_count": 31,
     "metadata": {},
     "output_type": "execute_result"
    },
    {
     "data": {
      "image/png": "[encoded data removed]",
      "text/plain": [
       "<Figure size 432x288 with 1 Axes>"
      ]
     },
     "metadata": {
      "needs_background": "light"
     },
     "output_type": "display_data"
    }
   ],
   "source": [
    "x23 = range(25)\n",
    "y23 = range(25)\n",
    "h = model.predict(x)\n",
    "plt.scatter(y,h, c=\"r\")\n",
    "plt.plot(x23,y23)\n",
    "plt.xlabel(\"True Values\")\n",
    "plt.ylabel(\"Predictions\")"
   ]
  },
  {
   "cell_type": "code",
   "execution_count": 32,
   "metadata": {},
   "outputs": [
    {
     "data": {
      "text/plain": [
       "Text(0,0.5,'Predictions')"
      ]
     },
     "execution_count": 32,
     "metadata": {},
     "output_type": "execute_result"
    },
    {
     "data": {
      "image/png": "[encoded data removed]",
      "text/plain": [
       "<Figure size 432x288 with 1 Axes>"
      ]
     },
     "metadata": {
      "needs_background": "light"
     },
     "output_type": "display_data"
    }
   ],
   "source": [
    "x23 = range(25)\n",
    "y23 = range(25)\n",
    "jk = model.predict(x_test)\n",
    "jj = model2.predict(x_test)\n",
    "plt.scatter(y_test,jj, c=\"g\")\n",
    "plt.scatter(y_test,jk, c=\"r\")\n",
    "plt.plot(x23,y23)\n",
    "plt.xlabel(\"True Values\")\n",
    "plt.ylabel(\"Predictions\")"
   ]
  },
  {
   "cell_type": "code",
   "execution_count": 33,
   "metadata": {},
   "outputs": [
    {
     "data": {
      "text/plain": [
       "AdaBoostRegressor(base_estimator=None, learning_rate=1.0, loss='linear',\n",
       "         n_estimators=50, random_state=0)"
      ]
     },
     "execution_count": 33,
     "metadata": {},
     "output_type": "execute_result"
    }
   ],
   "source": [
    "model2"
   ]
  },
  {
   "cell_type": "code",
   "execution_count": 34,
   "metadata": {},
   "outputs": [
    {
     "data": {
      "text/plain": [
       "array([20.10815778])"
      ]
     },
     "execution_count": 34,
     "metadata": {},
     "output_type": "execute_result"
    }
   ],
   "source": [
    "model2.predict(db)"
   ]
  },
  {
   "cell_type": "code",
   "execution_count": 35,
   "metadata": {},
   "outputs": [],
   "source": [
    "y_1 = model2.predict(x_test)\n",
    "y_4 = model.predict(x_test)"
   ]
  },
  {
   "cell_type": "code",
   "execution_count": 36,
   "metadata": {},
   "outputs": [],
   "source": [
    "y_2 = y_test.values\n",
    "x_1 = range(13)"
   ]
  },
  {
   "cell_type": "code",
   "execution_count": 37,
   "metadata": {},
   "outputs": [
    {
     "data": {
      "text/plain": [
       "0.6579966139922042"
      ]
     },
     "execution_count": 37,
     "metadata": {},
     "output_type": "execute_result"
    }
   ],
   "source": [
    "model2.score(x_test,y_test)"
   ]
  },
  {
   "cell_type": "code",
   "execution_count": 38,
   "metadata": {},
   "outputs": [
    {
     "data": {
      "text/plain": [
       "0.511175394347045"
      ]
     },
     "execution_count": 38,
     "metadata": {},
     "output_type": "execute_result"
    }
   ],
   "source": [
    "model.score(x_test,y_test)"
   ]
  },
  {
   "cell_type": "code",
   "execution_count": 39,
   "metadata": {},
   "outputs": [
    {
     "data": {
      "text/plain": [
       "0.4334614023195167"
      ]
     },
     "execution_count": 39,
     "metadata": {},
     "output_type": "execute_result"
    }
   ],
   "source": [
    "model.score(x,y)"
   ]
  },
  {
   "cell_type": "code",
   "execution_count": 40,
   "metadata": {},
   "outputs": [
    {
     "data": {
      "text/plain": [
       "0.7577158661764984"
      ]
     },
     "execution_count": 40,
     "metadata": {},
     "output_type": "execute_result"
    }
   ],
   "source": [
    "model2.score(x,y)"
   ]
  },
  {
   "cell_type": "code",
   "execution_count": 41,
   "metadata": {},
   "outputs": [
    {
     "data": {
      "image/png": "[encoded data removed]",
      "text/plain": [
       "<Figure size 432x288 with 1 Axes>"
      ]
     },
     "metadata": {
      "needs_background": "light"
     },
     "output_type": "display_data"
    }
   ],
   "source": [
    "plt.figure()\n",
    "plt.scatter(x_1,y_2, c=\"k\", label=\"actual samples\")\n",
    "plt.plot(x_1, y_1, c=\"g\", label=\"boosted\", linewidth=2)\n",
    "plt.plot(x_1, y_4, c=\"r\", label=\"linear\", linewidth=2)\n",
    "plt.xlabel(\"company\")\n",
    "plt.ylabel(\"multiple\")\n",
    "plt.legend()\n",
    "plt.show()"
   ]
  },
  {
   "cell_type": "code",
   "execution_count": 42,
   "metadata": {},
   "outputs": [],
   "source": [
    "y_1 = model2.predict(x)\n",
    "y_4 = model.predict(x)\n",
    "y_2 = y.values\n",
    "x_1 = range(121)"
   ]
  },
  {
   "cell_type": "code",
   "execution_count": 43,
   "metadata": {},
   "outputs": [
    {
     "data": {
      "image/png": "[encoded data removed]",
      "text/plain": [
       "<Figure size 432x288 with 1 Axes>"
      ]
     },
     "metadata": {
      "needs_background": "light"
     },
     "output_type": "display_data"
    }
   ],
   "source": [
    "plt.figure()\n",
    "plt.scatter(x_1,y_2, c=\"k\", label=\"training samples\")\n",
    "plt.scatter(x_1, y_1, c=\"g\", label=\"boosted\", linewidth=2)\n",
    "plt.scatter(x_1, y_4, c=\"r\", label=\"linear\", linewidth=2)\n",
    "plt.xlabel(\"company\")\n",
    "plt.ylabel(\"multiple\")\n",
    "plt.title(\"Boosted Decision Tree Regression\")\n",
    "plt.legend()\n",
    "plt.show()"
   ]
  },
  {
   "cell_type": "code",
   "execution_count": 44,
   "metadata": {},
   "outputs": [
    {
     "ename": "AttributeError",
     "evalue": "'numpy.ndarray' object has no attribute 'values'",
     "output_type": "error",
     "traceback": [
      "\u001b[1;31m---------------------------------------------------------------------------\u001b[0m",
      "\u001b[1;31mAttributeError\u001b[0m                            Traceback (most recent call last)",
      "\u001b[1;32m<ipython-input-44-5653a7a80188>\u001b[0m in \u001b[0;36m<module>\u001b[1;34m()\u001b[0m\n\u001b[0;32m      4\u001b[0m \u001b[0my_3\u001b[0m \u001b[1;33m=\u001b[0m \u001b[0md\u001b[0m\u001b[1;33m.\u001b[0m\u001b[0mvalues\u001b[0m\u001b[1;33m\u001b[0m\u001b[0m\n\u001b[0;32m      5\u001b[0m \u001b[0my_5\u001b[0m \u001b[1;33m=\u001b[0m \u001b[0me\u001b[0m\u001b[1;33m.\u001b[0m\u001b[0mvalues\u001b[0m\u001b[1;33m\u001b[0m\u001b[0m\n\u001b[1;32m----> 6\u001b[1;33m \u001b[0my_6\u001b[0m \u001b[1;33m=\u001b[0m \u001b[0mh\u001b[0m\u001b[1;33m.\u001b[0m\u001b[0mvalues\u001b[0m\u001b[1;33m\u001b[0m\u001b[0m\n\u001b[0m\u001b[0;32m      7\u001b[0m \u001b[0my_7\u001b[0m \u001b[1;33m=\u001b[0m \u001b[0mi\u001b[0m\u001b[1;33m.\u001b[0m\u001b[0mvalues\u001b[0m\u001b[1;33m\u001b[0m\u001b[0m\n\u001b[0;32m      8\u001b[0m \u001b[0my_8\u001b[0m \u001b[1;33m=\u001b[0m \u001b[0mj\u001b[0m\u001b[1;33m.\u001b[0m\u001b[0mvalues\u001b[0m\u001b[1;33m\u001b[0m\u001b[0m\n",
      "\u001b[1;31mAttributeError\u001b[0m: 'numpy.ndarray' object has no attribute 'values'"
     ]
    }
   ],
   "source": [
    "y_1 = model2.predict(x)\n",
    "y_4 = model.predict(x)\n",
    "y_2 = y.values\n",
    "y_3 = d.values\n",
    "y_5 = e.values\n",
    "y_6 = h.values\n",
    "y_7 = i.values\n",
    "y_8 = j.values\n",
    "y_9 = k.values\n",
    "x_1 = range(136)"
   ]
  },
  {
   "cell_type": "code",
   "execution_count": null,
   "metadata": {},
   "outputs": [],
   "source": [
    "plt.figure()\n",
    "plt.scatter(x_1,y_2, c=\"k\", label=\"actual values\")\n",
    "plt.scatter(x_1,y_1, c=\"g\", label=\"boosted model\")\n",
    "plt.scatter(x_1,y_4, c=\"r\", label=\"linear model\")\n",
    "plt.xlabel(\"Company #\")\n",
    "plt.ylabel(\"Multiple\")\n",
    "plt.legend()\n",
    "plt.show()"
   ]
  },
  {
   "cell_type": "code",
   "execution_count": null,
   "metadata": {},
   "outputs": [],
   "source": [
    "model.predict(db)"
   ]
  },
  {
   "cell_type": "code",
   "execution_count": null,
   "metadata": {},
   "outputs": [],
   "source": [
    "model2.predict(db)"
   ]
  },
  {
   "cell_type": "code",
   "execution_count": null,
   "metadata": {},
   "outputs": [],
   "source": [
    "fig = plt.figure()\n",
    "ax = fig.add_subplot(111, projection='3d')\n",
    "X, Y, Z = y_2,y_3,y_5 #Multiple, GP Margin, Rev Growth\n",
    "ax.scatter(Y,X,Z)\n",
    "A, B = y_1, y_4\n",
    "ax.scatter(Y,A,Z)\n",
    "ax.scatter(Y,B,Z)\n",
    "ax.set_xlabel('GP Margin')\n",
    "ax.set_ylabel('Multiple')\n",
    "ax.set_zlabel('Rev Growth')\n",
    "plt.show() "
   ]
  },
  {
   "cell_type": "code",
   "execution_count": null,
   "metadata": {},
   "outputs": [],
   "source": [
    "fig = plt.figure()\n",
    "ax = fig.add_subplot(111, projection='3d')\n",
    "X, Y, Z = y_2,y_3,y_5 #Multiple, GP Margin, Rev Growth\n",
    "ax.scatter(Y,X,Z)\n",
    "A, B = y_1, y_4\n",
    "ax.scatter(Y,B,Z)\n",
    "ax.set_xlabel('GP Margin')\n",
    "ax.set_ylabel('Multiple')\n",
    "ax.set_zlabel('Rev Growth')\n",
    "plt.show() "
   ]
  },
  {
   "cell_type": "code",
   "execution_count": null,
   "metadata": {},
   "outputs": [],
   "source": [
    "fig = plt.figure()\n",
    "ax = fig.add_subplot(111, projection='3d')\n",
    "X, Y, Z = y_2,y_3,y_5 #Multiple, GP Margin, Rev Growth\n",
    "ax.scatter(Y,X,Z)\n",
    "A, B = y_1, y_4\n",
    "ax.scatter(Y,A,Z)\n",
    "ax.set_xlabel('GP Margin')\n",
    "ax.set_ylabel('Multiple')\n",
    "ax.set_zlabel('Rev Growth')\n",
    "plt.show() "
   ]
  },
  {
   "cell_type": "code",
   "execution_count": null,
   "metadata": {},
   "outputs": [],
   "source": [
    "fig = plt.figure()\n",
    "ax = fig.add_subplot(111, projection='3d')\n",
    "X, Y, Z = y_2,y_3,y_5 #Multiple, GP Margin, Rev Growth\n",
    "ax.scatter(Y,X,Z)\n",
    "A, B = y_1, y_4\n",
    "ax.set_xlabel('GP Margin')\n",
    "ax.set_ylabel('Multiple')\n",
    "ax.set_zlabel('Rev Growth')\n",
    "plt.show() "
   ]
  },
  {
   "cell_type": "code",
   "execution_count": null,
   "metadata": {},
   "outputs": [],
   "source": [
    "model2.score(x,y)"
   ]
  },
  {
   "cell_type": "code",
   "execution_count": null,
   "metadata": {},
   "outputs": [],
   "source": [
    "model.score(x,y)"
   ]
  },
  {
   "cell_type": "code",
   "execution_count": null,
   "metadata": {},
   "outputs": [],
   "source": [
    "model2.get_params()"
   ]
  },
  {
   "cell_type": "code",
   "execution_count": null,
   "metadata": {},
   "outputs": [],
   "source": [
    "plt.figure()\n",
    "plt.scatter(y_3,y_2, c=\"k\", label=\"actual values\")\n",
    "plt.xlabel(\"GP Margin\")\n",
    "plt.ylabel(\"Multiple\")\n",
    "plt.legend()\n",
    "plt.show()"
   ]
  },
  {
   "cell_type": "code",
   "execution_count": null,
   "metadata": {},
   "outputs": [],
   "source": [
    "plt.figure()\n",
    "plt.scatter(y_5,y_2, c=\"k\", label=\"actual values\")\n",
    "plt.xlabel(\"Rev Growth\")\n",
    "plt.ylabel(\"Multiple\")\n",
    "plt.legend()\n",
    "plt.show()"
   ]
  },
  {
   "cell_type": "code",
   "execution_count": null,
   "metadata": {},
   "outputs": [],
   "source": [
    "plt.figure()\n",
    "plt.scatter(y_6,y_2, c=\"k\", label=\"actual values\")\n",
    "plt.xlabel(\"R&D Margin\")\n",
    "plt.ylabel(\"Multiple\")\n",
    "plt.legend()\n",
    "plt.show()"
   ]
  },
  {
   "cell_type": "code",
   "execution_count": null,
   "metadata": {},
   "outputs": [],
   "source": [
    "plt.figure()\n",
    "plt.scatter(y_7,y_2, c=\"k\", label=\"actual values\")\n",
    "plt.xlabel(\"S&M Margin\")\n",
    "plt.ylabel(\"Multiple\")\n",
    "plt.legend()\n",
    "plt.show()"
   ]
  },
  {
   "cell_type": "code",
   "execution_count": null,
   "metadata": {},
   "outputs": [],
   "source": [
    "plt.figure()\n",
    "plt.scatter(y_8,y_2, c=\"k\", label=\"actual values\")\n",
    "plt.xlabel(\"EBITDA Margin\")\n",
    "plt.ylabel(\"Multiple\")\n",
    "plt.legend()\n",
    "plt.show()"
   ]
  },
  {
   "cell_type": "code",
   "execution_count": null,
   "metadata": {},
   "outputs": [],
   "source": [
    "plt.figure()\n",
    "plt.scatter(y_9,y_2, c=\"k\", label=\"actual values\")\n",
    "plt.xlabel(\"Profit Margin\")\n",
    "plt.ylabel(\"Multiple\")\n",
    "plt.legend()\n",
    "plt.show()"
   ]
  },
  {
   "cell_type": "code",
   "execution_count": null,
   "metadata": {},
   "outputs": [],
   "source": []
  },
  {
   "cell_type": "code",
   "execution_count": null,
   "metadata": {},
   "outputs": [],
   "source": []
  },
  {
   "cell_type": "code",
   "execution_count": null,
   "metadata": {},
   "outputs": [],
   "source": []
  },
  {
   "cell_type": "code",
   "execution_count": null,
   "metadata": {},
   "outputs": [],
   "source": []
  },
  {
   "cell_type": "code",
   "execution_count": null,
   "metadata": {},
   "outputs": [],
   "source": []
  },
  {
   "cell_type": "code",
   "execution_count": null,
   "metadata": {},
   "outputs": [],
   "source": []
  },
  {
   "cell_type": "code",
   "execution_count": null,
   "metadata": {},
   "outputs": [],
   "source": []
  },
  {
   "cell_type": "code",
   "execution_count": null,
   "metadata": {},
   "outputs": [],
   "source": []
  },
  {
   "cell_type": "code",
   "execution_count": null,
   "metadata": {},
   "outputs": [],
   "source": []
  },
  {
   "cell_type": "code",
   "execution_count": null,
   "metadata": {},
   "outputs": [],
   "source": []
  },
  {
   "cell_type": "code",
   "execution_count": null,
   "metadata": {},
   "outputs": [],
   "source": []
  },
  {
   "cell_type": "code",
   "execution_count": null,
   "metadata": {},
   "outputs": [],
   "source": []
  },
  {
   "cell_type": "code",
   "execution_count": null,
   "metadata": {},
   "outputs": [],
   "source": []
  },
  {
   "cell_type": "code",
   "execution_count": null,
   "metadata": {},
   "outputs": [],
   "source": []
  }
 ],
 "metadata": {
  "kernelspec": {
   "display_name": "Python 3",
   "language": "python",
   "name": "python3"
  },
  "language_info": {
   "codemirror_mode": {
    "name": "ipython",
    "version": 3
   },
   "file_extension": ".py",
   "mimetype": "text/x-python",
   "name": "python",
   "nbconvert_exporter": "python",
   "pygments_lexer": "ipython3",
   "version": "3.7.0"
  }
 },
 "nbformat": 4,
 "nbformat_minor": 2
}
