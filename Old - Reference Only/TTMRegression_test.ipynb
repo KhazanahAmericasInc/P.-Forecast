{
 "cells": [
  {
   "cell_type": "raw",
   "metadata": {},
   "source": [
    "Import"
   ]
  },
  {
   "cell_type": "code",
   "execution_count": 1,
   "metadata": {},
   "outputs": [
    {
     "name": "stderr",
     "output_type": "stream",
     "text": [
      "C:\\ProgramData\\Anaconda3\\lib\\site-packages\\sklearn\\ensemble\\weight_boosting.py:29: DeprecationWarning: numpy.core.umath_tests is an internal NumPy module and should not be imported. It will be removed in a future NumPy release.\n",
      "  from numpy.core.umath_tests import inner1d\n"
     ]
    }
   ],
   "source": [
    "from sklearn import tree\n",
    "from sklearn.tree import DecisionTreeRegressor  \n",
    "from sklearn.linear_model import LinearRegression\n",
    "from sklearn.model_selection import train_test_split  \n",
    "import pandas as pd \n",
    "import numpy as np \n",
    "import statsmodels.api as sm\n",
    "import matplotlib.pyplot as plt  \n",
    "%matplotlib inline\n",
    "from sklearn import ensemble\n",
    "from collections import defaultdict\n",
    "import plotly.plotly as py\n",
    "import plotly.graph_objs as go\n",
    "from plotly import tools\n",
    "from mpl_toolkits.mplot3d import Axes3D\n",
    "from scipy import stats\n",
    "import math\n",
    "from sklearn.metrics import mean_squared_error"
   ]
  },
  {
   "cell_type": "code",
   "execution_count": 2,
   "metadata": {},
   "outputs": [],
   "source": [
    "df = pd.read_csv('NewCompsData.csv', names=['Company', 'Type','Ev/Rev Multiple','Rev Growth','GP Margin','R&D Margin', 'S&M Margin', 'EBITDA Margin', 'Profit Margin'])\n",
    "df = df.drop([0],axis=0)\n",
    "df[['Ev/Rev Multiple','Rev Growth','GP Margin','R&D Margin', 'S&M Margin', 'EBITDA Margin', 'Profit Margin']] = df[['Ev/Rev Multiple','Rev Growth','GP Margin','R&D Margin', 'S&M Margin', 'EBITDA Margin', 'Profit Margin']].apply(pd.to_numeric)\n",
    "x = df[['Rev Growth','GP Margin','R&D Margin', 'S&M Margin', 'EBITDA Margin', 'Profit Margin']] #use\n",
    "y = df[['Ev/Rev Multiple']]\n",
    "a = df[['Rev Growth','GP Margin','EBITDA Margin']] #use\n",
    "b = df[['Rev Growth','GP Margin','EBITDA Margin','R&D Margin',]] #use\n",
    "c = df[['Rev Growth','GP Margin','EBITDA Margin','S&M Margin']] #use\n",
    "d = df[['Rev Growth','GP Margin','EBITDA Margin', 'Profit Margin']] #use\n",
    "e = df[['Rev Growth','GP Margin', 'EBITDA Margin','R&D Margin', 'S&M Margin']] #use\n",
    "f = df[['Rev Growth','GP Margin', 'EBITDA Margin','R&D Margin', 'Profit Margin']] #use\n",
    "g = df[['Rev Growth','GP Margin', 'EBITDA Margin','S&M Margin', 'Profit Margin']] #use"
   ]
  },
  {
   "cell_type": "code",
   "execution_count": 3,
   "metadata": {},
   "outputs": [],
   "source": [
    "databricks = [0.951862931344295,0.671300585943595,0.577080777881529,0.981899434820076,0.261273981475219,-1.14895360823323,-1.11333236039661]\n",
    "db = pd.DataFrame([databricks], columns = ['Rev Growth','GP Margin','R&D Margin', 'S&M Margin', 'G&A Margin','EBITDA Margin', 'Profit Margin'])\n",
    "db = db.drop(['G&A Margin'], axis=1)\n",
    "db3 = db.drop(['R&D Margin', 'S&M Margin'],axis=1) #AB\n",
    "db4 = db.drop(['R&D Margin', 'Profit Margin'],axis=1) #LM\n",
    "db5 = db.drop(['R&D Margin'],axis=1)\n",
    "db6 = db.drop(['Profit Margin'],axis=1)\n",
    "db_test = 1600/66.65488\n",
    "t = 1.98062600245909 #consistent with sample size at 95% confidence interval"
   ]
  },
  {
   "cell_type": "code",
   "execution_count": 4,
   "metadata": {},
   "outputs": [],
   "source": [
    "GM = df[['GP Margin']]\n",
    "RG = df[['Rev Growth']]\n",
    "RD = df[['R&D Margin']]\n",
    "SM = df[['S&M Margin']]\n",
    "EM = df[['EBITDA Margin']]\n",
    "NM = df[['Profit Margin']]"
   ]
  },
  {
   "cell_type": "raw",
   "metadata": {},
   "source": [
    "Models "
   ]
  },
  {
   "cell_type": "code",
   "execution_count": 5,
   "metadata": {},
   "outputs": [],
   "source": [
    "x_train1, x_test1, y_train1, y_test1 = train_test_split(x, y, test_size=0.3, random_state=0)#ALL"
   ]
  },
  {
   "cell_type": "code",
   "execution_count": 6,
   "metadata": {},
   "outputs": [],
   "source": [
    "x_train0, x_test0, y_train0, y_test0 = train_test_split(c, y, test_size=0.3, random_state=0)#LM"
   ]
  },
  {
   "cell_type": "code",
   "execution_count": 7,
   "metadata": {},
   "outputs": [],
   "source": [
    "x_train, x_test, y_train, y_test = train_test_split(d, y, test_size=0.3, random_state=0)#AB"
   ]
  },
  {
   "cell_type": "code",
   "execution_count": 8,
   "metadata": {},
   "outputs": [],
   "source": [
    "x_train2, x_test2, y_train2, y_test2 = train_test_split(g, y, test_size=0.3, random_state=0)#ALL"
   ]
  },
  {
   "cell_type": "code",
   "execution_count": 9,
   "metadata": {},
   "outputs": [],
   "source": [
    "x_train3, x_test3, y_train3, y_test3 = train_test_split(e, y, test_size=0.3, random_state=0)#ALL"
   ]
  },
  {
   "cell_type": "code",
   "execution_count": 10,
   "metadata": {},
   "outputs": [],
   "source": [
    "y_val = y.values.flatten()\n",
    "ytest_val = y_test.values.flatten()"
   ]
  },
  {
   "cell_type": "code",
   "execution_count": 12,
   "metadata": {},
   "outputs": [
    {
     "data": {
      "text/plain": [
       "0.30804628300726644"
      ]
     },
     "execution_count": 12,
     "metadata": {},
     "output_type": "execute_result"
    }
   ],
   "source": [
    "model = LinearRegression()\n",
    "model = model.fit(x_train0, y_train0)\n",
    "model.score(x_test0,y_test0)"
   ]
  },
  {
   "cell_type": "code",
   "execution_count": 11,
   "metadata": {},
   "outputs": [
    {
     "data": {
      "text/plain": [
       "0.4967192656016839"
      ]
     },
     "execution_count": 11,
     "metadata": {},
     "output_type": "execute_result"
    }
   ],
   "source": [
    "model2 = ensemble.AdaBoostRegressor(random_state=0)\n",
    "model2 = model2.fit(x_train,y_train.values.ravel())\n",
    "model2.score(x_test,y_test)"
   ]
  },
  {
   "cell_type": "code",
   "execution_count": 13,
   "metadata": {},
   "outputs": [
    {
     "name": "stdout",
     "output_type": "stream",
     "text": [
      "The coefficient for Rev Growth is 14.147587578957872\n",
      "The coefficient for GP Margin is 11.63085906280803\n",
      "The coefficient for EBITDA Margin is -7.02880923393045\n",
      "The coefficient for S&M Margin is -7.843558824125033\n",
      "The intercept for our model is -0.9161478104081455\n"
     ]
    }
   ],
   "source": [
    "for idx, col_name in enumerate(x_train0.columns):\n",
    "    print(\"The coefficient for {} is {}\".format(col_name, model.coef_[0][idx]))\n",
    "intercept = model.intercept_[0]\n",
    "print(\"The intercept for our model is {}\".format(intercept))"
   ]
  },
  {
   "cell_type": "code",
   "execution_count": 14,
   "metadata": {},
   "outputs": [
    {
     "data": {
      "text/plain": [
       "0.44658180451426915"
      ]
     },
     "execution_count": 14,
     "metadata": {},
     "output_type": "execute_result"
    }
   ],
   "source": [
    "model3 = ensemble.AdaBoostRegressor(random_state=0)\n",
    "model3 = model3.fit(x_train1,y_train1.values.ravel())\n",
    "model3.score(x_test1,y_test1)"
   ]
  },
  {
   "cell_type": "code",
   "execution_count": 15,
   "metadata": {},
   "outputs": [
    {
     "data": {
      "text/plain": [
       "0.44658180451426915"
      ]
     },
     "execution_count": 15,
     "metadata": {},
     "output_type": "execute_result"
    }
   ],
   "source": [
    "model3 = ensemble.AdaBoostRegressor(random_state=0)\n",
    "model3 = model3.fit(x_train1,y_train1.values.ravel())\n",
    "model3.score(x_test1,y_test1)"
   ]
  },
  {
   "cell_type": "code",
   "execution_count": 16,
   "metadata": {},
   "outputs": [
    {
     "data": {
      "text/plain": [
       "0.43140875343274515"
      ]
     },
     "execution_count": 16,
     "metadata": {},
     "output_type": "execute_result"
    }
   ],
   "source": [
    "model4 = ensemble.AdaBoostRegressor(random_state=0)\n",
    "model4 = model4.fit(x_train2,y_train2.values.ravel())\n",
    "model4.score(x_test2,y_test2)"
   ]
  },
  {
   "cell_type": "code",
   "execution_count": 17,
   "metadata": {},
   "outputs": [
    {
     "data": {
      "text/plain": [
       "0.3603633431286841"
      ]
     },
     "execution_count": 17,
     "metadata": {},
     "output_type": "execute_result"
    }
   ],
   "source": [
    "model5 = ensemble.AdaBoostRegressor(random_state=0)\n",
    "model5 = model5.fit(x_train3,y_train3.values.ravel())\n",
    "model5.score(x_test3,y_test3)"
   ]
  },
  {
   "cell_type": "code",
   "execution_count": 18,
   "metadata": {},
   "outputs": [
    {
     "data": {
      "text/plain": [
       "0.5603732316676755"
      ]
     },
     "execution_count": 18,
     "metadata": {},
     "output_type": "execute_result"
    }
   ],
   "source": [
    "model6 = ensemble.GradientBoostingRegressor(random_state=0)\n",
    "model6 = model6.fit(x_train,y_train.values.ravel())\n",
    "model6.score(x_test,y_test)"
   ]
  },
  {
   "cell_type": "code",
   "execution_count": 19,
   "metadata": {},
   "outputs": [
    {
     "name": "stdout",
     "output_type": "stream",
     "text": [
      "[[22.46852028]] [17.24465707] [22.46783098] [12.66547882] [9.18356419] [15.09069799]\n"
     ]
    }
   ],
   "source": [
    "print (model.predict(db4), model2.predict(db3), model3.predict(db),model4.predict(db5),model5.predict(db6),model6.predict(db3) )"
   ]
  },
  {
   "cell_type": "raw",
   "metadata": {},
   "source": [
    "Calculating Stats (FULL SAMPLE)"
   ]
  },
  {
   "cell_type": "code",
   "execution_count": 20,
   "metadata": {},
   "outputs": [
    {
     "name": "stdout",
     "output_type": "stream",
     "text": [
      "3.2196767219064504 7.014672978412176\n",
      "0.39521070352664434 0.3633796879227835\n"
     ]
    }
   ],
   "source": [
    "yhat = model.predict(c).flatten()\n",
    "SS_Residual1 = sum((y_val-yhat)**2)\n",
    "std_err1 = math.sqrt(SS_Residual1/121)\n",
    "moe_1 = std_err1 * 1.1 * t\n",
    "print (std_err1,moe_1)\n",
    "SS_Total = sum((y_val-np.mean(y_val))**2)\n",
    "r_squared = 1 - (float(SS_Residual1))/SS_Total\n",
    "adjusted_r_squared = 1 - (1-r_squared)*(len(y_val)-1)/(len(y_val)-x.shape[1]-1)\n",
    "print (r_squared,adjusted_r_squared)"
   ]
  },
  {
   "cell_type": "code",
   "execution_count": 21,
   "metadata": {},
   "outputs": [
    {
     "name": "stdout",
     "output_type": "stream",
     "text": [
      "2.224548345950982 4.846598127489662\n",
      "0.7112890482227185 0.6960937349712826\n"
     ]
    }
   ],
   "source": [
    "yhat = model2.predict(d)\n",
    "yhat = yhat.flatten()\n",
    "SS_Residual2 = sum((y_val-yhat)**2)\n",
    "std_err2 = math.sqrt(SS_Residual2/121)\n",
    "moe_2 = std_err2 * 1.1 * t\n",
    "print (std_err2,moe_2)\n",
    "SS_Total = sum((y_val-np.mean(y_val))**2)\n",
    "r_squared = 1 - (float(SS_Residual2))/SS_Total\n",
    "adjusted_r_squared = 1 - (1-r_squared)*(len(y_val)-1)/(len(y_val)-x.shape[1]-1)\n",
    "print (r_squared,adjusted_r_squared)"
   ]
  },
  {
   "cell_type": "raw",
   "metadata": {},
   "source": [
    "Stats (TEST SAMPLE)"
   ]
  },
  {
   "cell_type": "code",
   "execution_count": 22,
   "metadata": {},
   "outputs": [
    {
     "name": "stdout",
     "output_type": "stream",
     "text": [
      "2.047365220843568 4.460571272226486\n",
      "3.7024324584598096\n",
      "0.30804628300726655 0.22155206838317487\n"
     ]
    }
   ],
   "source": [
    "yhat = model.predict(x_test0).flatten()\n",
    "SS_Residual1 = sum((ytest_val-yhat)**2)\n",
    "std_err1 = math.sqrt(SS_Residual1/121)\n",
    "moe_1 = std_err1 * 1.1 * t\n",
    "print (std_err1,moe_1)\n",
    "\n",
    "regression_model_mse = mean_squared_error(yhat, ytest_val)\n",
    "print (math.sqrt(regression_model_mse))\n",
    "\n",
    "SS_Total = sum((ytest_val-np.mean(ytest_val))**2)\n",
    "r_squared = 1 - (float(SS_Residual1))/SS_Total\n",
    "adjusted_r_squared = 1 - (1-r_squared)*(len(ytest_val)-1)/(len(ytest_val)-x_test.shape[1]-1)\n",
    "print (r_squared,adjusted_r_squared)"
   ]
  },
  {
   "cell_type": "code",
   "execution_count": 23,
   "metadata": {},
   "outputs": [
    {
     "name": "stdout",
     "output_type": "stream",
     "text": [
      "1.7460712085463137 3.8041454415711975\n",
      "3.1575757229286086\n",
      "0.496719265601684 0.43380917380189454\n"
     ]
    }
   ],
   "source": [
    "yhat = model2.predict(x_test).flatten()\n",
    "SS_Residual1 = sum((ytest_val-yhat)**2)\n",
    "std_err1 = math.sqrt(SS_Residual1/121)\n",
    "moe_1 = std_err1 * 1.1 * t\n",
    "print (std_err1,moe_1)\n",
    "\n",
    "regression_model_mse = mean_squared_error(yhat, ytest_val)\n",
    "print (math.sqrt(regression_model_mse))\n",
    "\n",
    "SS_Total = sum((ytest_val-np.mean(ytest_val))**2)\n",
    "r_squared = 1 - (float(SS_Residual1))/SS_Total\n",
    "adjusted_r_squared = 1 - (1-r_squared)*(len(ytest_val)-1)/(len(ytest_val)-x_test.shape[1]-1)\n",
    "print (r_squared,adjusted_r_squared)"
   ]
  },
  {
   "cell_type": "code",
   "execution_count": 24,
   "metadata": {},
   "outputs": [
    {
     "name": "stdout",
     "output_type": "stream",
     "text": [
      "1.830979640488994 3.9891344745182677\n",
      "3.3111231854042953\n",
      "0.4465818045142691 0.3774045300785527\n"
     ]
    }
   ],
   "source": [
    "yhat = model3.predict(x_test1).flatten()\n",
    "SS_Residual1 = sum((ytest_val-yhat)**2)\n",
    "std_err1 = math.sqrt(SS_Residual1/121)\n",
    "moe_1 = std_err1 * 1.1 * t\n",
    "print (std_err1,moe_1)\n",
    "\n",
    "regression_model_mse = mean_squared_error(yhat, ytest_val)\n",
    "print (math.sqrt(regression_model_mse))\n",
    "\n",
    "SS_Total = sum((ytest_val-np.mean(ytest_val))**2)\n",
    "r_squared = 1 - (float(SS_Residual1))/SS_Total\n",
    "adjusted_r_squared = 1 - (1-r_squared)*(len(ytest_val)-1)/(len(ytest_val)-x_test.shape[1]-1)\n",
    "print (r_squared,adjusted_r_squared)"
   ]
  },
  {
   "cell_type": "code",
   "execution_count": 25,
   "metadata": {},
   "outputs": [
    {
     "data": {
      "image/png": "[encoded data removed]",
      "text/plain": [
       "<Figure size 432x288 with 1 Axes>"
      ]
     },
     "metadata": {
      "needs_background": "light"
     },
     "output_type": "display_data"
    }
   ],
   "source": [
    "x23 = range(25)\n",
    "y23 = range(25)\n",
    "h = model2.predict(x_test)\n",
    "plt.scatter(y_test,h, c=\"g\")\n",
    "plt.plot(x23,y23, c=\"k\")\n",
    "plt.xlabel(\"True Values\")\n",
    "plt.ylabel(\"Predictions\")\n",
    "plt.savefig(\"graph.svg\")"
   ]
  },
  {
   "cell_type": "code",
   "execution_count": 26,
   "metadata": {},
   "outputs": [
    {
     "data": {
      "image/png": "[encoded data removed]",
      "text/plain": [
       "<Figure size 432x288 with 1 Axes>"
      ]
     },
     "metadata": {
      "needs_background": "light"
     },
     "output_type": "display_data"
    }
   ],
   "source": [
    "x23 = range(25)\n",
    "y23 = range(25)\n",
    "h = model3.predict(x_test1)\n",
    "plt.scatter(y_test1,h, c=\"g\")\n",
    "plt.plot(x23,y23, c=\"k\")\n",
    "plt.xlabel(\"True Values\")\n",
    "plt.ylabel(\"Predictions\")\n",
    "plt.savefig(\"graph.svg\")"
   ]
  },
  {
   "cell_type": "code",
   "execution_count": 27,
   "metadata": {},
   "outputs": [
    {
     "data": {
      "image/png": "[encoded data removed]",
      "text/plain": [
       "<Figure size 432x288 with 1 Axes>"
      ]
     },
     "metadata": {
      "needs_background": "light"
     },
     "output_type": "display_data"
    }
   ],
   "source": [
    "x23 = range(25)\n",
    "y23 = range(25)\n",
    "h = model.predict(x_test0)\n",
    "plt.scatter(y_test0,h, c=\"g\")\n",
    "plt.plot(x23,y23, c=\"k\")\n",
    "plt.xlabel(\"True Values\")\n",
    "plt.ylabel(\"Predictions\")\n",
    "plt.savefig(\"graph.svg\")"
   ]
  },
  {
   "cell_type": "code",
   "execution_count": 28,
   "metadata": {},
   "outputs": [
    {
     "data": {
      "image/png": "[encoded data removed]",
      "text/plain": [
       "<Figure size 432x288 with 1 Axes>"
      ]
     },
     "metadata": {
      "needs_background": "light"
     },
     "output_type": "display_data"
    }
   ],
   "source": [
    "x23 = range(25)\n",
    "y23 = range(25)\n",
    "h = model.predict(x_test0)\n",
    "i = model2.predict(x_test)\n",
    "plt.scatter(y_test,h,label = \"Linear\", c=\"b\")\n",
    "plt.scatter(y_test,i,label = \"Boosted\", c=\"r\")\n",
    "plt.plot(x23,y23, c=\"k\")\n",
    "plt.legend()\n",
    "plt.xlabel(\"True Values\")\n",
    "plt.ylabel(\"Predictions\")\n",
    "plt.savefig(\"graph.svg\")"
   ]
  },
  {
   "cell_type": "code",
   "execution_count": 31,
   "metadata": {},
   "outputs": [
    {
     "data": {
      "image/png": "[encoded data removed]",
      "text/plain": [
       "<Figure size 432x288 with 1 Axes>"
      ]
     },
     "metadata": {
      "needs_background": "light"
     },
     "output_type": "display_data"
    }
   ],
   "source": [
    "velo = [2.73,0.28,1.31,1.10,0.28,-3.69,-3.81]\n",
    "vc = pd.DataFrame([velo], columns = ['Rev Growth','GP Margin','R&D Margin', 'S&M Margin', 'G&A Margin','EBITDA Margin', 'Profit Margin'])\n",
    "vc = vc.drop(['G&A Margin'], axis=1)\n",
    "vc3 = vc.drop(['R&D Margin', 'S&M Margin'],axis=1) #AB\n",
    "vc4 = vc.drop(['R&D Margin', 'Profit Margin'],axis=1) #LM\n",
    "vc5 = vc.drop(['R&D Margin'],axis=1)\n",
    "vc6 = vc.drop(['Profit Margin'],axis=1)\n",
    "vc_test = 285/61\n",
    "t = 1.98062600245909 #consistent with sample size at 95% confidence interval\n",
    "x23 = range(100)\n",
    "y23 = range(100)\n",
    "vcp1 = model.predict(vc4)\n",
    "plt.scatter(vc_test,vcp1,label = \"Linear\", c=\"b\")\n",
    "vcp2 = model2.predict(vc3)\n",
    "plt.scatter(vc_test,vcp1,label = \"Boosted\", c=\"r\")\n",
    "plt.scatter(vc_test,vc_test,label = \"Actual\", c=\"g\")\n",
    "plt.legend()\n",
    "plt.xlabel(\"True Values\")\n",
    "plt.ylabel(\"Predictions\")\n",
    "plt.savefig(\"graph.svg\")"
   ]
  },
  {
   "cell_type": "code",
   "execution_count": 32,
   "metadata": {},
   "outputs": [
    {
     "data": {
      "image/png": "[encoded data removed]",
      "text/plain": [
       "<Figure size 432x288 with 1 Axes>"
      ]
     },
     "metadata": {
      "needs_background": "light"
     },
     "output_type": "display_data"
    }
   ],
   "source": [
    "crowd = [0.433,0.547,0.472,0.901,0.240,-0.967,-1.086]\n",
    "cr = pd.DataFrame([crowd], columns = ['Rev Growth','GP Margin','R&D Margin', 'S&M Margin', 'G&A Margin','EBITDA Margin', 'Profit Margin'])\n",
    "cr = cr.drop(['G&A Margin'], axis=1)\n",
    "cr3 = cr.drop(['R&D Margin', 'S&M Margin'],axis=1) #AB\n",
    "cr4 = cr.drop(['R&D Margin', 'Profit Margin'],axis=1) #LM\n",
    "cr_test = 3150/115.567\n",
    "t = 1.98062600245909 #consistent with sample size at 95% confidence interval\n",
    "x23 = range(100)\n",
    "y23 = range(100)\n",
    "crp1 = model.predict(cr4)\n",
    "plt.scatter(cr_test,crp1,label = \"Linear\", c=\"b\")\n",
    "crp2 = model2.predict(cr3)\n",
    "plt.scatter(cr_test,crp2,label = \"Boosted\", c=\"r\")\n",
    "plt.scatter(cr_test,cr_test,label = \"Actual\", c=\"g\")\n",
    "plt.legend()\n",
    "plt.xlabel(\"True Values\")\n",
    "plt.ylabel(\"Predictions\")\n",
    "plt.savefig(\"graph.svg\")"
   ]
  },
  {
   "cell_type": "code",
   "execution_count": 33,
   "metadata": {},
   "outputs": [
    {
     "data": {
      "image/png": "[encoded data removed]",
      "text/plain": [
       "<Figure size 432x288 with 1 Axes>"
      ]
     },
     "metadata": {
      "needs_background": "light"
     },
     "output_type": "display_data"
    }
   ],
   "source": [
    "meso = [1.685,.73,0.506,0.375,0.119,-3.25,-3.25]\n",
    "ms = pd.DataFrame([meso], columns = ['Rev Growth','GP Margin','R&D Margin', 'S&M Margin', 'G&A Margin','EBITDA Margin', 'Profit Margin'])\n",
    "ms = ms.drop(['G&A Margin'], axis=1)\n",
    "ms3 = ms.drop(['R&D Margin', 'S&M Margin'],axis=1) #AB\n",
    "ms4 = ms.drop(['R&D Margin', 'Profit Margin'],axis=1) #LM\n",
    "ms_test = 650/10.8\n",
    "t = 1.98062600245909 #consistent with sample size at 95% confidence interval\n",
    "x23 = range(100)\n",
    "y23 = range(100)\n",
    "msp1 = model.predict(ms4)\n",
    "plt.scatter(ms_test,msp1,label = \"Linear\", c=\"b\")\n",
    "msp2 = model2.predict(ms3)\n",
    "plt.scatter(ms_test,msp2,label = \"Boosted\", c=\"r\")\n",
    "plt.scatter(ms_test,ms_test,label = \"Actual\", c=\"g\")\n",
    "plt.legend()\n",
    "plt.xlabel(\"True Values\")\n",
    "plt.ylabel(\"Predictions\")\n",
    "plt.savefig(\"graph.svg\")"
   ]
  },
  {
   "cell_type": "code",
   "execution_count": 34,
   "metadata": {},
   "outputs": [
    {
     "data": {
      "image/png": "[encoded data removed]",
      "text/plain": [
       "<Figure size 432x288 with 1 Axes>"
      ]
     },
     "metadata": {
      "needs_background": "light"
     },
     "output_type": "display_data"
    }
   ],
   "source": [
    "meso = [.672,.73,0.506,0.375,0.119,-3.25,-3.25]\n",
    "ms = pd.DataFrame([meso], columns = ['Rev Growth','GP Margin','R&D Margin', 'S&M Margin', 'G&A Margin','EBITDA Margin', 'Profit Margin'])\n",
    "ms = ms.drop(['G&A Margin'], axis=1)\n",
    "ms3 = ms.drop(['R&D Margin', 'S&M Margin'],axis=1) #AB\n",
    "ms4 = ms.drop(['R&D Margin', 'Profit Margin'],axis=1) #LM\n",
    "ms_test = 650/19\n",
    "t = 1.98062600245909 #consistent with sample size at 95% confidence interval\n",
    "x23 = range(100)\n",
    "y23 = range(100)\n",
    "msp1 = model.predict(ms4)\n",
    "plt.scatter(ms_test,msp1,label = \"Linear\", c=\"b\")\n",
    "msp2 = model2.predict(ms3)\n",
    "plt.scatter(ms_test,msp2,label = \"Boosted\", c=\"r\")\n",
    "plt.scatter(ms_test,ms_test,label = \"Actual\", c=\"g\")\n",
    "plt.legend()\n",
    "plt.xlabel(\"True Values\")\n",
    "plt.ylabel(\"Predictions\")\n",
    "plt.savefig(\"graph.svg\")"
   ]
  },
  {
   "cell_type": "code",
   "execution_count": 35,
   "metadata": {},
   "outputs": [
    {
     "data": {
      "image/png": "[encoded data removed]",
      "text/plain": [
       "<Figure size 432x288 with 1 Axes>"
      ]
     },
     "metadata": {
      "needs_background": "light"
     },
     "output_type": "display_data"
    }
   ],
   "source": [
    "beam = [3.5341,0.82,0.12,0.09,0.240,-1.480,-1.02]\n",
    "bm = pd.DataFrame([beam], columns = ['Rev Growth','GP Margin','R&D Margin', 'S&M Margin', 'G&A Margin','EBITDA Margin', 'Profit Margin'])\n",
    "bm = bm.drop(['G&A Margin'], axis=1)\n",
    "bm3 = bm.drop(['R&D Margin', 'S&M Margin'],axis=1) #AB\n",
    "bm4 = bm.drop(['R&D Margin', 'Profit Margin'],axis=1) #LM\n",
    "bm_test = 350/24\n",
    "t = 1.98062600245909 #consistent with sample size at 95% confidence interval\n",
    "x23 = range(100)\n",
    "y23 = range(100)\n",
    "h = model.predict(bm4)\n",
    "plt.scatter(bm_test,h,label = \"Linear\", c=\"b\")\n",
    "l = model2.predict(bm3)\n",
    "plt.scatter(bm_test,l,label = \"Boosted\", c=\"r\")\n",
    "plt.scatter(bm_test,bm_test,label = \"Actual\", c=\"g\")\n",
    "plt.legend()\n",
    "plt.xlabel(\"True Values\")\n",
    "plt.ylabel(\"Predictions\")\n",
    "plt.savefig(\"graph.svg\")"
   ]
  },
  {
   "cell_type": "code",
   "execution_count": 36,
   "metadata": {},
   "outputs": [
    {
     "data": {
      "image/png": "[encoded data removed]",
      "text/plain": [
       "<Figure size 432x288 with 1 Axes>"
      ]
     },
     "metadata": {
      "needs_background": "light"
     },
     "output_type": "display_data"
    }
   ],
   "source": [
    "beam = [3.5341,0.82,0.12,0.09,0.240,-1.480,-1.02]\n",
    "bm = pd.DataFrame([beam], columns = ['Rev Growth','GP Margin','R&D Margin', 'S&M Margin', 'G&A Margin','EBITDA Margin', 'Profit Margin'])\n",
    "bm = bm.drop(['G&A Margin'], axis=1)\n",
    "bm3 = bm.drop(['R&D Margin', 'S&M Margin'],axis=1) #AB\n",
    "bm4 = bm.drop(['R&D Margin', 'Profit Margin'],axis=1) #LM\n",
    "bm_test = 350/24\n",
    "t = 1.98062600245909 #consistent with sample size at 95% confidence interval\n",
    "x23 = range(100)\n",
    "y23 = range(100)\n",
    "h = model.predict(bm4)\n",
    "l = model2.predict(bm3)\n",
    "dbp1 = model.predict(db4)\n",
    "dbp2 = model2.predict(db3)\n",
    "plt.scatter(db_test,dbp1, label = \"Linear\", c=\"b\")\n",
    "plt.scatter(db_test,dbp2, label = \"Boosted\", c=\"r\")\n",
    "plt.scatter(db_test,db_test, label = \"Actual\", c=\"g\")\n",
    "plt.scatter(bm_test,h,  c=\"b\")\n",
    "plt.scatter(bm_test,l, c=\"r\")\n",
    "plt.scatter(bm_test,bm_test, c=\"g\")\n",
    "plt.scatter(cr_test,crp1,c=\"b\")\n",
    "plt.scatter(cr_test,crp2,c=\"r\")\n",
    "plt.scatter(cr_test,cr_test, c= \"g\")\n",
    "plt.scatter(vc_test,vcp1, c=\"b\")\n",
    "plt.scatter(vc_test,vcp2, c=\"r\")\n",
    "plt.scatter(vc_test,vc_test, c= \"g\")\n",
    "plt.scatter(ms_test,msp1, c=\"b\")\n",
    "plt.scatter(ms_test,msp2,c=\"r\")\n",
    "plt.scatter(ms_test,ms_test, c=\"g\")\n",
    "plt.legend()\n",
    "plt.xlabel(\"True Values\")\n",
    "plt.ylabel(\"Predictions\")\n",
    "plt.savefig(\"graph.svg\")"
   ]
  },
  {
   "cell_type": "code",
   "execution_count": 38,
   "metadata": {},
   "outputs": [],
   "source": [
    "y_val = y.values.flatten()\n",
    "ytest_val = y_test.values.flatten()"
   ]
  },
  {
   "cell_type": "code",
   "execution_count": null,
   "metadata": {},
   "outputs": [],
   "source": [
    "variables = [x,a,b,c,d,e,f,g]\n",
    "for q in variables:\n",
    "    x_train, x_test, y_train, y_test = train_test_split(q, y, test_size=0.2, random_state=0)  \n",
    "    model = LinearRegression()\n",
    "    model.fit(x_train, y_train)\n",
    "    model.score(x_test,y_test)\n",
    "    yhat = model.predict(x_test).flatten()\n",
    "    SS_Residual1 = sum((ytest_val-yhat)**2)\n",
    "    std_err1 = math.sqrt(SS_Residual1/121)\n",
    "    moe_1 = std_err1 * 1.1 * t\n",
    "    SS_Total = sum((ytest_val-np.mean(ytest_val))**2)\n",
    "    r_squared = 1 - (float(SS_Residual1))/SS_Total\n",
    "    adjusted_r_squared = 1 - (1-r_squared)*(len(ytest_val)-1)/(len(ytest_val)-x_test.shape[1]-1)\n",
    "    print (adjusted_r_squared)"
   ]
  },
  {
   "cell_type": "code",
   "execution_count": null,
   "metadata": {},
   "outputs": [],
   "source": [
    "variables = [x,a,b,c,d,e,f,g] \n",
    "state = range (100)\n",
    "newdata={}\n",
    "for w in state:\n",
    "    col = []\n",
    "    for q in variables:\n",
    "        x_train, x_test, y_train, y_test = train_test_split(q, y, test_size=0.3, random_state=0)  \n",
    "        model2 = ensemble.AdaBoostRegressor(random_state=w)\n",
    "        model2.fit(x_train,y_train.values.ravel())\n",
    "        yhat = model2.predict(x_test).flatten()\n",
    "        SS_Residual1 = sum((ytest_val-yhat)**2)\n",
    "        SS_Total = sum((ytest_val-np.mean(ytest_val))**2)\n",
    "        r_squared = 1 - (float(SS_Residual1))/SS_Total\n",
    "        adjusted_r_squared = 1 - (1-r_squared)*(len(ytest_val)-1)/(len(ytest_val)-x_test.shape[1]-1)\n",
    "        col.append(adjusted_r_squared)\n",
    "        newdata[\"State{}\".format(w)] = col\n",
    "newcol = pd.DataFrame (newdata)      \n",
    "newcol.idxmax().value_counts()"
   ]
  },
  {
   "cell_type": "code",
   "execution_count": 7,
   "metadata": {},
   "outputs": [
    {
     "name": "stderr",
     "output_type": "stream",
     "text": [
      "C:\\ProgramData\\Anaconda3\\lib\\site-packages\\sklearn\\cross_validation.py:41: DeprecationWarning:\n",
      "\n",
      "This module was deprecated in version 0.18 in favor of the model_selection module into which all the refactored classes and functions are moved. Also note that the interface of the new CV iterators are different from that of this module. This module will be removed in 0.20.\n",
      "\n",
      "C:\\ProgramData\\Anaconda3\\lib\\site-packages\\sklearn\\grid_search.py:42: DeprecationWarning:\n",
      "\n",
      "This module was deprecated in version 0.18 in favor of the model_selection module into which all the refactored classes and functions are moved. This module will be removed in 0.20.\n",
      "\n"
     ]
    }
   ],
   "source": [
    "from sklearn.model_selection import train_test_split, KFold, cross_val_score # to split the data\n",
    "from sklearn.metrics import explained_variance_score, median_absolute_error, r2_score, mean_squared_error, accuracy_score, confusion_matrix, classification_report, fbeta_score #To evaluate our model\n",
    "\n",
    "from sklearn.grid_search import GridSearchCV"
   ]
  },
  {
   "cell_type": "code",
   "execution_count": 8,
   "metadata": {},
   "outputs": [],
   "source": [
    "from sklearn.linear_model import SGDRegressor\n",
    "from sklearn.model_selection import KFold, cross_val_score, train_test_split # Model evaluation\n",
    "from sklearn.preprocessing import LabelEncoder, OneHotEncoder, StandardScaler # Preprocessing\n",
    "from sklearn.linear_model import Lasso, Ridge, ElasticNet, RANSACRegressor, SGDRegressor, HuberRegressor, BayesianRidge # Linear models\n",
    "from sklearn.ensemble import RandomForestRegressor, BaggingRegressor, AdaBoostRegressor, GradientBoostingRegressor, ExtraTreesRegressor  # Ensemble methods\n",
    "from xgboost import XGBRegressor, plot_importance # XGBoost\n",
    "from sklearn.svm import SVR, SVC, LinearSVC  # Support Vector Regression\n",
    "from sklearn.tree import DecisionTreeRegressor # Decision Tree Regression\n",
    "from sklearn.neighbors import KNeighborsRegressor\n",
    "from sklearn.pipeline import Pipeline # Streaming pipelines\n",
    "from sklearn.decomposition import KernelPCA, PCA # Dimensionality reduction\n",
    "from sklearn.feature_selection import SelectFromModel # Dimensionality reduction\n",
    "from sklearn.model_selection import learning_curve, validation_curve, GridSearchCV # Model evaluation\n",
    "from sklearn.base import clone # Clone estimator\n",
    "from sklearn.metrics import mean_squared_error as MSE"
   ]
  },
  {
   "cell_type": "code",
   "execution_count": 10,
   "metadata": {},
   "outputs": [
    {
     "name": "stdout",
     "output_type": "stream",
     "text": [
      "Scaled_Ridge: 0.077322 (+/- 0.552417)\n",
      "Scaled_Lasso: 0.117250 (+/- 0.207435)\n",
      "Scaled_Elastic: 0.105756 (+/- 0.162348)\n",
      "Scaled_SVR: -0.102575 (+/- 1.028295)\n",
      "Scaled_RF_reg: 0.075222 (+/- 0.310849)\n",
      "Scaled_ET_reg: 0.305532 (+/- 0.213292)\n",
      "Scaled_BR_reg: 0.061751 (+/- 0.312636)\n",
      "Scaled_Hub-Reg: -0.147794 (+/- 0.998319)\n",
      "Scaled_BayRidge: 0.075080 (+/- 0.497712)\n",
      "Scaled_XGB_reg: 0.181799 (+/- 0.305442)\n",
      "Scaled_DT_reg: -1.559795 (+/- 1.324117)\n",
      "Scaled_KNN_reg: 0.226448 (+/- 0.290944)\n",
      "Scaled_ADA-Reg: 0.304142 (+/- 0.237146)\n",
      "Scaled_Linear: 0.069847 (+/- 0.569790)\n",
      "Scaled_Gboost-Reg: 0.023154 (+/- 0.472579)\n",
      "Scaled_RFR_PCA: 0.091061 (+/- 0.369901)\n",
      "Scaled_XGBR_PCA: -0.009483 (+/- 0.402974)\n"
     ]
    },
    {
     "ename": "NameError",
     "evalue": "name 'sns' is not defined",
     "output_type": "error",
     "traceback": [
      "\u001b[1;31m---------------------------------------------------------------------------\u001b[0m",
      "\u001b[1;31mNameError\u001b[0m                                 Traceback (most recent call last)",
      "\u001b[1;32m<ipython-input-10-521784c09827>\u001b[0m in \u001b[0;36m<module>\u001b[1;34m()\u001b[0m\n\u001b[0;32m    146\u001b[0m \u001b[0mfig\u001b[0m\u001b[1;33m.\u001b[0m\u001b[0msuptitle\u001b[0m\u001b[1;33m(\u001b[0m\u001b[1;34m'Algorithm Comparison'\u001b[0m\u001b[1;33m,\u001b[0m \u001b[0mfontsize\u001b[0m\u001b[1;33m=\u001b[0m\u001b[1;36m22\u001b[0m\u001b[1;33m)\u001b[0m\u001b[1;33m\u001b[0m\u001b[0m\n\u001b[0;32m    147\u001b[0m \u001b[0max\u001b[0m \u001b[1;33m=\u001b[0m \u001b[0mfig\u001b[0m\u001b[1;33m.\u001b[0m\u001b[0madd_subplot\u001b[0m\u001b[1;33m(\u001b[0m\u001b[1;36m111\u001b[0m\u001b[1;33m)\u001b[0m\u001b[1;33m\u001b[0m\u001b[0m\n\u001b[1;32m--> 148\u001b[1;33m \u001b[0msns\u001b[0m\u001b[1;33m.\u001b[0m\u001b[0mboxplot\u001b[0m\u001b[1;33m(\u001b[0m\u001b[0mx\u001b[0m\u001b[1;33m=\u001b[0m\u001b[0mnames\u001b[0m\u001b[1;33m,\u001b[0m \u001b[0my\u001b[0m\u001b[1;33m=\u001b[0m\u001b[0mresults\u001b[0m\u001b[1;33m)\u001b[0m\u001b[1;33m\u001b[0m\u001b[0m\n\u001b[0m\u001b[0;32m    149\u001b[0m \u001b[0max\u001b[0m\u001b[1;33m.\u001b[0m\u001b[0mset_xticklabels\u001b[0m\u001b[1;33m(\u001b[0m\u001b[0mnames\u001b[0m\u001b[1;33m)\u001b[0m\u001b[1;33m\u001b[0m\u001b[0m\n\u001b[0;32m    150\u001b[0m \u001b[0max\u001b[0m\u001b[1;33m.\u001b[0m\u001b[0mset_xlabel\u001b[0m\u001b[1;33m(\u001b[0m\u001b[1;34m\"Algorithmn Name\"\u001b[0m\u001b[1;33m,\u001b[0m \u001b[0mfontsize\u001b[0m\u001b[1;33m=\u001b[0m\u001b[1;36m20\u001b[0m\u001b[1;33m)\u001b[0m\u001b[1;33m\u001b[0m\u001b[0m\n",
      "\u001b[1;31mNameError\u001b[0m: name 'sns' is not defined"
     ]
    },
    {
     "data": {
      "image/png": "[encoded data removed]",
      "text/plain": [
       "<Figure size 1080x432 with 1 Axes>"
      ]
     },
     "metadata": {
      "needs_background": "light"
     },
     "output_type": "display_data"
    }
   ],
   "source": [
    "pipelines = []\n",
    "seed = 2\n",
    "\n",
    "pipelines.append(\n",
    "                (\"Scaled_Ridge\", \n",
    "                 Pipeline([\n",
    "                     (\"Scaler\", StandardScaler()), \n",
    "                     (\"Ridge\", Ridge(random_state=seed, tol=10 ))\n",
    "                      ]))\n",
    "                )\n",
    "pipelines.append(\n",
    "                (\"Scaled_Lasso\", \n",
    "                 Pipeline([\n",
    "                     (\"Scaler\", StandardScaler()), \n",
    "                     (\"Lasso\", Lasso(random_state=seed, tol=1))\n",
    "                      ]))\n",
    "                )\n",
    "pipelines.append(\n",
    "                (\"Scaled_Elastic\", \n",
    "                 Pipeline([\n",
    "                     (\"Scaler\", StandardScaler()), \n",
    "                     (\"Lasso\", ElasticNet(random_state=seed))\n",
    "                      ]))\n",
    "                )\n",
    "\n",
    "pipelines.append(\n",
    "                (\"Scaled_SVR\",\n",
    "                 Pipeline([\n",
    "                     (\"Scaler\", StandardScaler()),\n",
    "                     (\"SVR\",  SVR(kernel='linear', C=1e2, degree=5))\n",
    "                 ])\n",
    "                )\n",
    "                )\n",
    "\n",
    "pipelines.append(\n",
    "                (\"Scaled_RF_reg\",\n",
    "                 Pipeline([\n",
    "                     (\"Scaler\", StandardScaler()),\n",
    "                     (\"RF\", RandomForestRegressor(random_state=seed))\n",
    "                 ])\n",
    "                )\n",
    "                )\n",
    "\n",
    "pipelines.append(\n",
    "                (\"Scaled_ET_reg\",\n",
    "                 Pipeline([\n",
    "                     (\"Scaler\", StandardScaler()),\n",
    "                     (\"ET\", ExtraTreesRegressor(random_state=seed))\n",
    "                 ])\n",
    "                )\n",
    "                )\n",
    "pipelines.append(\n",
    "                (\"Scaled_BR_reg\",\n",
    "                 Pipeline([\n",
    "                     (\"Scaler\", StandardScaler()),\n",
    "                     (\"BR\", BaggingRegressor(random_state=seed))\n",
    "                 ]))) \n",
    "\n",
    "pipelines.append(\n",
    "                (\"Scaled_Hub-Reg\",\n",
    "                 Pipeline([\n",
    "                     (\"Scaler\", StandardScaler()),\n",
    "                     (\"Hub-Reg\", HuberRegressor())\n",
    "                 ]))) \n",
    "pipelines.append(\n",
    "                (\"Scaled_BayRidge\",\n",
    "                 Pipeline([\n",
    "                     (\"Scaler\", StandardScaler()),\n",
    "                     (\"BR\", BayesianRidge())\n",
    "                 ]))) \n",
    "\n",
    "pipelines.append(\n",
    "                (\"Scaled_XGB_reg\",\n",
    "                 Pipeline([\n",
    "                     (\"Scaler\", StandardScaler()),\n",
    "                     (\"XGBR\", XGBRegressor(seed=seed))\n",
    "                 ]))) \n",
    "\n",
    "pipelines.append(\n",
    "                (\"Scaled_DT_reg\",\n",
    "                 Pipeline([\n",
    "                     (\"Scaler\", StandardScaler()),\n",
    "                     (\"DT_reg\", DecisionTreeRegressor())\n",
    "                 ]))) \n",
    "\n",
    "pipelines.append(\n",
    "                (\"Scaled_KNN_reg\",\n",
    "                 Pipeline([\n",
    "                     (\"Scaler\", StandardScaler()),\n",
    "                     (\"KNN_reg\", KNeighborsRegressor())\n",
    "                 ])))\n",
    "pipelines.append(\n",
    "                (\"Scaled_ADA-Reg\",\n",
    "                 Pipeline([\n",
    "                     (\"Scaler\", StandardScaler()),\n",
    "                     (\"ADA-reg\", AdaBoostRegressor())\n",
    "                 ]))) \n",
    "\n",
    "pipelines.append(\n",
    "                (\"Scaled_Linear\",\n",
    "                 Pipeline([\n",
    "                     (\"Scaler\", StandardScaler()),\n",
    "                     (\"Linear\", LinearRegression())\n",
    "                 ]))) \n",
    "\n",
    "pipelines.append(\n",
    "                (\"Scaled_Gboost-Reg\",\n",
    "                 Pipeline([\n",
    "                     (\"Scaler\", StandardScaler()),\n",
    "                     (\"GBoost-Reg\", GradientBoostingRegressor())\n",
    "                 ])))\n",
    "\n",
    "pipelines.append(\n",
    "                (\"Scaled_RFR_PCA\",\n",
    "                 Pipeline([\n",
    "                     (\"Scaler\", StandardScaler()),\n",
    "                     (\"PCA\", PCA(n_components=3)),\n",
    "                     (\"XGB\", RandomForestRegressor())\n",
    "                 ])))\n",
    "\n",
    "pipelines.append(\n",
    "                (\"Scaled_XGBR_PCA\",\n",
    "                 Pipeline([\n",
    "                     (\"Scaler\", StandardScaler()),\n",
    "                     (\"PCA\", PCA(n_components=3)),\n",
    "                     (\"XGB\", XGBRegressor())\n",
    "                 ])))\n",
    "\n",
    "#'neg_mean_absolute_error', 'neg_mean_squared_error','r2'\n",
    "scoring = 'r2'\n",
    "n_folds = 7\n",
    "\n",
    "results, names  = [], [] \n",
    "\n",
    "for name, model  in pipelines:\n",
    "    kfold = KFold(n_splits=n_folds, random_state=seed)\n",
    "    cv_results = cross_val_score(model, x_train1, y_train1, cv= kfold,\n",
    "                                 scoring=scoring, n_jobs=-1)    \n",
    "    names.append(name)\n",
    "    results.append(cv_results)    \n",
    "    msg = \"%s: %f (+/- %f)\" % (name, cv_results.mean(),  cv_results.std())\n",
    "    print(msg)\n",
    "    \n",
    "# boxplot algorithm comparison\n",
    "fig = plt.figure(figsize=(15,6))\n",
    "fig.suptitle('Algorithm Comparison', fontsize=22)\n",
    "ax = fig.add_subplot(111)\n",
    "sns.boxplot(x=names, y=results)\n",
    "ax.set_xticklabels(names)\n",
    "ax.set_xlabel(\"Algorithmn Name\", fontsize=20)\n",
    "ax.set_ylabel(\"R Squared Score of Models\", fontsize=18)\n",
    "ax.set_xticklabels(ax.get_xticklabels(),rotation=45)\n",
    "plt.show()"
   ]
  },
  {
   "cell_type": "code",
   "execution_count": null,
   "metadata": {},
   "outputs": [],
   "source": []
  }
 ],
 "metadata": {
  "kernelspec": {
   "display_name": "Python 3",
   "language": "python",
   "name": "python3"
  },
  "language_info": {
   "codemirror_mode": {
    "name": "ipython",
    "version": 3
   },
   "file_extension": ".py",
   "mimetype": "text/x-python",
   "name": "python",
   "nbconvert_exporter": "python",
   "pygments_lexer": "ipython3",
   "version": "3.7.0"
  }
 },
 "nbformat": 4,
 "nbformat_minor": 2
}
