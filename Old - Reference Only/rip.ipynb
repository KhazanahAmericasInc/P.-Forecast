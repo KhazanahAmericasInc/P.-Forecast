{
 "cells": [
  {
   "cell_type": "raw",
   "metadata": {},
   "source": [
    "Import"
   ]
  },
  {
   "cell_type": "code",
   "execution_count": 69,
   "metadata": {},
   "outputs": [],
   "source": [
    "from sklearn import tree\n",
    "from sklearn.tree import DecisionTreeRegressor  \n",
    "from sklearn.linear_model import LinearRegression\n",
    "from sklearn.model_selection import train_test_split  \n",
    "import pandas as pd \n",
    "import numpy as np \n",
    "import statsmodels.api as sm\n",
    "import matplotlib.pyplot as plt  \n",
    "%matplotlib inline\n",
    "from sklearn import ensemble\n",
    "from collections import defaultdict\n",
    "import plotly.plotly as py\n",
    "import plotly.graph_objs as go\n",
    "from plotly import tools\n",
    "from mpl_toolkits.mplot3d import Axes3D\n",
    "from scipy import stats\n",
    "import math\n",
    "from sklearn.metrics import mean_squared_error"
   ]
  },
  {
   "cell_type": "code",
   "execution_count": 70,
   "metadata": {},
   "outputs": [],
   "source": [
    "import pandas as pd\n",
    "import numpy as np\n",
    "from matplotlib import pyplot as plt\n",
    "import seaborn as sns\n",
    "%matplotlib inline\n",
    "from sklearn.feature_selection import RFE, f_regression\n",
    "from sklearn.linear_model import (LinearRegression, Ridge, Lasso, RandomizedLasso)\n",
    "from sklearn.preprocessing import MinMaxScaler\n",
    "from sklearn.ensemble import RandomForestRegressor\n",
    "from sklearn.model_selection import train_test_split, KFold, cross_val_score # to split the data\n",
    "from sklearn.metrics import explained_variance_score, median_absolute_error, r2_score, mean_squared_error, accuracy_score, confusion_matrix, classification_report, fbeta_score #To evaluate our model\n",
    "from sklearn.grid_search import GridSearchCV\n",
    "from sklearn.linear_model import SGDRegressor\n",
    "from sklearn.model_selection import KFold, cross_val_score, train_test_split # Model evaluation\n",
    "from sklearn.preprocessing import LabelEncoder, OneHotEncoder, StandardScaler # Preprocessing\n",
    "from sklearn.linear_model import Lasso, Ridge, ElasticNet, RANSACRegressor, SGDRegressor, HuberRegressor, BayesianRidge # Linear models\n",
    "from sklearn.ensemble import RandomForestRegressor, BaggingRegressor, AdaBoostRegressor, GradientBoostingRegressor, ExtraTreesRegressor  # Ensemble methods\n",
    "from xgboost import XGBRegressor, plot_importance # XGBoost\n",
    "from sklearn.svm import SVR, SVC, LinearSVC  # Support Vector Regression\n",
    "from sklearn.tree import DecisionTreeRegressor # Decision Tree Regression\n",
    "from sklearn.neighbors import KNeighborsRegressor\n",
    "from sklearn.pipeline import Pipeline # Streaming pipelines\n",
    "from sklearn.decomposition import KernelPCA, PCA # Dimensionality reduction\n",
    "from sklearn.feature_selection import SelectFromModel # Dimensionality reduction\n",
    "from sklearn.model_selection import learning_curve, validation_curve, GridSearchCV # Model evaluation\n",
    "from sklearn.base import clone # Clone estimator\n",
    "from sklearn.metrics import mean_squared_error as MSE"
   ]
  },
  {
   "cell_type": "code",
   "execution_count": 71,
   "metadata": {},
   "outputs": [],
   "source": [
    "df = pd.read_csv('NewCompsData.csv', names=['Company', 'Type','Ev/Rev Multiple','Rev Growth','GP Margin','R&D Margin', 'S&M Margin', 'EBITDA Margin', 'Profit Margin'])\n",
    "df = df.drop([0],axis=0)\n",
    "df[['Ev/Rev Multiple','Rev Growth','GP Margin','R&D Margin', 'S&M Margin', 'EBITDA Margin', 'Profit Margin']] = df[['Ev/Rev Multiple','Rev Growth','GP Margin','R&D Margin', 'S&M Margin', 'EBITDA Margin', 'Profit Margin']].apply(pd.to_numeric)\n",
    "x = df[['Rev Growth','GP Margin','R&D Margin', 'S&M Margin', 'EBITDA Margin', 'Profit Margin']] #use\n",
    "y = df[['Ev/Rev Multiple']]\n",
    "a = df[['Rev Growth','GP Margin','EBITDA Margin']] #use\n",
    "b = df[['Rev Growth','GP Margin','EBITDA Margin','R&D Margin',]] #use\n",
    "c = df[['Rev Growth','GP Margin','EBITDA Margin','S&M Margin']] #use\n",
    "d = df[['Rev Growth','GP Margin','EBITDA Margin', 'Profit Margin']] #use\n",
    "e = df[['Rev Growth','GP Margin', 'EBITDA Margin','R&D Margin', 'S&M Margin']] #use\n",
    "f = df[['Rev Growth','GP Margin', 'EBITDA Margin','R&D Margin', 'Profit Margin']] #use\n",
    "g = df[['Rev Growth','GP Margin', 'EBITDA Margin','S&M Margin', 'Profit Margin']] #use"
   ]
  },
  {
   "cell_type": "code",
   "execution_count": 153,
   "metadata": {},
   "outputs": [
    {
     "data": {
      "text/html": [
       "<div>\n",
       "<style scoped>\n",
       "    .dataframe tbody tr th:only-of-type {\n",
       "        vertical-align: middle;\n",
       "    }\n",
       "\n",
       "    .dataframe tbody tr th {\n",
       "        vertical-align: top;\n",
       "    }\n",
       "\n",
       "    .dataframe thead th {\n",
       "        text-align: right;\n",
       "    }\n",
       "</style>\n",
       "<table border=\"1\" class=\"dataframe\">\n",
       "  <thead>\n",
       "    <tr style=\"text-align: right;\">\n",
       "      <th></th>\n",
       "      <th>Ev/Rev Multiple</th>\n",
       "      <th>Rev Growth</th>\n",
       "      <th>GP Margin</th>\n",
       "      <th>R&amp;D Margin</th>\n",
       "      <th>S&amp;M Margin</th>\n",
       "      <th>EBITDA Margin</th>\n",
       "      <th>Profit Margin</th>\n",
       "    </tr>\n",
       "  </thead>\n",
       "  <tbody>\n",
       "    <tr>\n",
       "      <th>count</th>\n",
       "      <td>121.000000</td>\n",
       "      <td>121.000000</td>\n",
       "      <td>121.000000</td>\n",
       "      <td>121.000000</td>\n",
       "      <td>121.000000</td>\n",
       "      <td>121.000000</td>\n",
       "      <td>121.000000</td>\n",
       "    </tr>\n",
       "    <tr>\n",
       "      <th>mean</th>\n",
       "      <td>7.369778</td>\n",
       "      <td>0.220629</td>\n",
       "      <td>0.698376</td>\n",
       "      <td>0.197773</td>\n",
       "      <td>0.340789</td>\n",
       "      <td>0.023270</td>\n",
       "      <td>-0.063558</td>\n",
       "    </tr>\n",
       "    <tr>\n",
       "      <th>std</th>\n",
       "      <td>4.157309</td>\n",
       "      <td>0.218678</td>\n",
       "      <td>0.131003</td>\n",
       "      <td>0.098734</td>\n",
       "      <td>0.179802</td>\n",
       "      <td>0.254226</td>\n",
       "      <td>0.234884</td>\n",
       "    </tr>\n",
       "    <tr>\n",
       "      <th>min</th>\n",
       "      <td>1.256451</td>\n",
       "      <td>-0.032420</td>\n",
       "      <td>0.250568</td>\n",
       "      <td>0.025551</td>\n",
       "      <td>0.032649</td>\n",
       "      <td>-1.461760</td>\n",
       "      <td>-1.626940</td>\n",
       "    </tr>\n",
       "    <tr>\n",
       "      <th>25%</th>\n",
       "      <td>4.297306</td>\n",
       "      <td>0.084931</td>\n",
       "      <td>0.604804</td>\n",
       "      <td>0.134940</td>\n",
       "      <td>0.204343</td>\n",
       "      <td>-0.124852</td>\n",
       "      <td>-0.182875</td>\n",
       "    </tr>\n",
       "    <tr>\n",
       "      <th>50%</th>\n",
       "      <td>6.524922</td>\n",
       "      <td>0.180033</td>\n",
       "      <td>0.712518</td>\n",
       "      <td>0.182285</td>\n",
       "      <td>0.306999</td>\n",
       "      <td>0.042781</td>\n",
       "      <td>-0.021799</td>\n",
       "    </tr>\n",
       "    <tr>\n",
       "      <th>75%</th>\n",
       "      <td>9.666730</td>\n",
       "      <td>0.290122</td>\n",
       "      <td>0.797740</td>\n",
       "      <td>0.233048</td>\n",
       "      <td>0.442356</td>\n",
       "      <td>0.194883</td>\n",
       "      <td>0.085428</td>\n",
       "    </tr>\n",
       "    <tr>\n",
       "      <th>max</th>\n",
       "      <td>22.467831</td>\n",
       "      <td>1.444345</td>\n",
       "      <td>0.949200</td>\n",
       "      <td>0.721140</td>\n",
       "      <td>1.214496</td>\n",
       "      <td>0.500626</td>\n",
       "      <td>0.433661</td>\n",
       "    </tr>\n",
       "  </tbody>\n",
       "</table>\n",
       "</div>"
      ],
      "text/plain": [
       "       Ev/Rev Multiple  Rev Growth   GP Margin  R&D Margin  S&M Margin  \\\n",
       "count       121.000000  121.000000  121.000000  121.000000  121.000000   \n",
       "mean          7.369778    0.220629    0.698376    0.197773    0.340789   \n",
       "std           4.157309    0.218678    0.131003    0.098734    0.179802   \n",
       "min           1.256451   -0.032420    0.250568    0.025551    0.032649   \n",
       "25%           4.297306    0.084931    0.604804    0.134940    0.204343   \n",
       "50%           6.524922    0.180033    0.712518    0.182285    0.306999   \n",
       "75%           9.666730    0.290122    0.797740    0.233048    0.442356   \n",
       "max          22.467831    1.444345    0.949200    0.721140    1.214496   \n",
       "\n",
       "       EBITDA Margin  Profit Margin  \n",
       "count     121.000000     121.000000  \n",
       "mean        0.023270      -0.063558  \n",
       "std         0.254226       0.234884  \n",
       "min        -1.461760      -1.626940  \n",
       "25%        -0.124852      -0.182875  \n",
       "50%         0.042781      -0.021799  \n",
       "75%         0.194883       0.085428  \n",
       "max         0.500626       0.433661  "
      ]
     },
     "execution_count": 153,
     "metadata": {},
     "output_type": "execute_result"
    }
   ],
   "source": [
    "df.describe()"
   ]
  },
  {
   "cell_type": "code",
   "execution_count": 72,
   "metadata": {},
   "outputs": [],
   "source": [
    "databricks = [0.951862931344295,0.671300585943595,0.577080777881529,0.981899434820076,0.261273981475219,-1.14895360823323,-1.11333236039661]\n",
    "db = pd.DataFrame([databricks], columns = ['Rev Growth','GP Margin','R&D Margin', 'S&M Margin', 'G&A Margin','EBITDA Margin', 'Profit Margin'])\n",
    "db = db.drop(['G&A Margin'], axis=1)\n",
    "db3 = db.drop(['R&D Margin', 'S&M Margin'],axis=1) #AB\n",
    "db4 = db.drop(['R&D Margin', 'Profit Margin'],axis=1) #LM\n",
    "db5 = db.drop(['R&D Margin'],axis=1)\n",
    "db6 = db.drop(['Profit Margin'],axis=1)\n",
    "db_test = 1600/66.65488\n",
    "t = 1.98062600245909 #consistent with sample size at 95% confidence interval"
   ]
  },
  {
   "cell_type": "code",
   "execution_count": 73,
   "metadata": {},
   "outputs": [],
   "source": [
    "GM = df[['GP Margin']]\n",
    "RG = df[['Rev Growth']]\n",
    "RD = df[['R&D Margin']]\n",
    "SM = df[['S&M Margin']]\n",
    "EM = df[['EBITDA Margin']]\n",
    "NM = df[['Profit Margin']]"
   ]
  },
  {
   "cell_type": "raw",
   "metadata": {},
   "source": [
    "Models "
   ]
  },
  {
   "cell_type": "code",
   "execution_count": 74,
   "metadata": {},
   "outputs": [],
   "source": [
    "x_train1, x_test1, y_train1, y_test1 = train_test_split(x, y, test_size=0.3, random_state=0)#ALL"
   ]
  },
  {
   "cell_type": "code",
   "execution_count": 75,
   "metadata": {},
   "outputs": [],
   "source": [
    "x_train0, x_test0, y_train0, y_test0 = train_test_split(c, y, test_size=0.3, random_state=0)#LM"
   ]
  },
  {
   "cell_type": "code",
   "execution_count": 76,
   "metadata": {},
   "outputs": [],
   "source": [
    "x_train, x_test, y_train, y_test = train_test_split(d, y, test_size=0.3, random_state=0)#AB"
   ]
  },
  {
   "cell_type": "code",
   "execution_count": 77,
   "metadata": {},
   "outputs": [],
   "source": [
    "x_train2, x_test2, y_train2, y_test2 = train_test_split(g, y, test_size=0.3, random_state=0)#ALL"
   ]
  },
  {
   "cell_type": "code",
   "execution_count": 78,
   "metadata": {},
   "outputs": [],
   "source": [
    "x_train3, x_test3, y_train3, y_test3 = train_test_split(e, y, test_size=0.3, random_state=0)#ALL"
   ]
  },
  {
   "cell_type": "code",
   "execution_count": 79,
   "metadata": {},
   "outputs": [],
   "source": [
    "y_val = y.values.flatten()\n",
    "ytest_val = y_test.values.flatten()\n",
    "ytrain_val = y_train.values.flatten()"
   ]
  },
  {
   "cell_type": "code",
   "execution_count": 125,
   "metadata": {},
   "outputs": [
    {
     "data": {
      "text/plain": [
       "0.30804628300726644"
      ]
     },
     "execution_count": 125,
     "metadata": {},
     "output_type": "execute_result"
    }
   ],
   "source": [
    "model = LinearRegression()\n",
    "model = model.fit(x_train0, y_train0)\n",
    "model.score(x_test0,y_test0)"
   ]
  },
  {
   "cell_type": "code",
   "execution_count": 152,
   "metadata": {},
   "outputs": [
    {
     "data": {
      "text/plain": [
       "0.4870663506135585"
      ]
     },
     "execution_count": 152,
     "metadata": {},
     "output_type": "execute_result"
    }
   ],
   "source": [
    "model2 = ensemble.AdaBoostRegressor(DecisionTreeRegressor(max_depth=9),random_state=0)\n",
    "model2 = model2.fit(x_train,y_train.values.ravel())\n",
    "model2.score(x_test,y_test)"
   ]
  },
  {
   "cell_type": "code",
   "execution_count": 82,
   "metadata": {},
   "outputs": [
    {
     "name": "stdout",
     "output_type": "stream",
     "text": [
      "The coefficient for Rev Growth is 14.147587578957872\n",
      "The coefficient for GP Margin is 11.63085906280803\n",
      "The coefficient for EBITDA Margin is -7.02880923393045\n",
      "The coefficient for S&M Margin is -7.843558824125033\n",
      "The intercept for our model is -0.9161478104081455\n"
     ]
    }
   ],
   "source": [
    "for idx, col_name in enumerate(x_train0.columns):\n",
    "    print(\"The coefficient for {} is {}\".format(col_name, model.coef_[0][idx]))\n",
    "intercept = model.intercept_[0]\n",
    "print(\"The intercept for our model is {}\".format(intercept))"
   ]
  },
  {
   "cell_type": "code",
   "execution_count": 40,
   "metadata": {},
   "outputs": [
    {
     "data": {
      "text/html": [
       "<div>\n",
       "<style scoped>\n",
       "    .dataframe tbody tr th:only-of-type {\n",
       "        vertical-align: middle;\n",
       "    }\n",
       "\n",
       "    .dataframe tbody tr th {\n",
       "        vertical-align: top;\n",
       "    }\n",
       "\n",
       "    .dataframe thead th {\n",
       "        text-align: right;\n",
       "    }\n",
       "</style>\n",
       "<table border=\"1\" class=\"dataframe\">\n",
       "  <thead>\n",
       "    <tr style=\"text-align: right;\">\n",
       "      <th></th>\n",
       "      <th>Rev Growth</th>\n",
       "      <th>GP Margin</th>\n",
       "      <th>EBITDA Margin</th>\n",
       "      <th>S&amp;M Margin</th>\n",
       "    </tr>\n",
       "  </thead>\n",
       "  <tbody>\n",
       "    <tr>\n",
       "      <th>76</th>\n",
       "      <td>0.184811</td>\n",
       "      <td>0.680254</td>\n",
       "      <td>-0.429359</td>\n",
       "      <td>0.726084</td>\n",
       "    </tr>\n",
       "    <tr>\n",
       "      <th>101</th>\n",
       "      <td>0.177927</td>\n",
       "      <td>0.949200</td>\n",
       "      <td>0.311017</td>\n",
       "      <td>0.123116</td>\n",
       "    </tr>\n",
       "    <tr>\n",
       "      <th>92</th>\n",
       "      <td>0.241613</td>\n",
       "      <td>0.715213</td>\n",
       "      <td>0.133657</td>\n",
       "      <td>0.342987</td>\n",
       "    </tr>\n",
       "    <tr>\n",
       "      <th>106</th>\n",
       "      <td>0.013955</td>\n",
       "      <td>0.803981</td>\n",
       "      <td>0.093816</td>\n",
       "      <td>0.344453</td>\n",
       "    </tr>\n",
       "    <tr>\n",
       "      <th>85</th>\n",
       "      <td>0.178063</td>\n",
       "      <td>0.703654</td>\n",
       "      <td>-0.213805</td>\n",
       "      <td>0.504471</td>\n",
       "    </tr>\n",
       "    <tr>\n",
       "      <th>91</th>\n",
       "      <td>0.088235</td>\n",
       "      <td>0.666299</td>\n",
       "      <td>0.106348</td>\n",
       "      <td>0.312515</td>\n",
       "    </tr>\n",
       "    <tr>\n",
       "      <th>67</th>\n",
       "      <td>0.216651</td>\n",
       "      <td>0.776422</td>\n",
       "      <td>-0.066416</td>\n",
       "      <td>0.541185</td>\n",
       "    </tr>\n",
       "    <tr>\n",
       "      <th>28</th>\n",
       "      <td>0.246186</td>\n",
       "      <td>0.762424</td>\n",
       "      <td>0.003408</td>\n",
       "      <td>0.447258</td>\n",
       "    </tr>\n",
       "    <tr>\n",
       "      <th>19</th>\n",
       "      <td>0.337773</td>\n",
       "      <td>0.666697</td>\n",
       "      <td>0.061529</td>\n",
       "      <td>0.283701</td>\n",
       "    </tr>\n",
       "    <tr>\n",
       "      <th>100</th>\n",
       "      <td>0.174726</td>\n",
       "      <td>0.754747</td>\n",
       "      <td>-0.322065</td>\n",
       "      <td>0.586534</td>\n",
       "    </tr>\n",
       "    <tr>\n",
       "      <th>12</th>\n",
       "      <td>0.170749</td>\n",
       "      <td>0.749036</td>\n",
       "      <td>0.131057</td>\n",
       "      <td>0.429765</td>\n",
       "    </tr>\n",
       "    <tr>\n",
       "      <th>63</th>\n",
       "      <td>0.114556</td>\n",
       "      <td>0.692305</td>\n",
       "      <td>-0.009594</td>\n",
       "      <td>0.220816</td>\n",
       "    </tr>\n",
       "    <tr>\n",
       "      <th>72</th>\n",
       "      <td>0.244709</td>\n",
       "      <td>0.619476</td>\n",
       "      <td>0.188348</td>\n",
       "      <td>0.173594</td>\n",
       "    </tr>\n",
       "    <tr>\n",
       "      <th>57</th>\n",
       "      <td>0.189515</td>\n",
       "      <td>0.767918</td>\n",
       "      <td>0.262802</td>\n",
       "      <td>0.249984</td>\n",
       "    </tr>\n",
       "    <tr>\n",
       "      <th>99</th>\n",
       "      <td>0.251313</td>\n",
       "      <td>0.705952</td>\n",
       "      <td>-0.217695</td>\n",
       "      <td>0.452918</td>\n",
       "    </tr>\n",
       "    <tr>\n",
       "      <th>87</th>\n",
       "      <td>-0.014085</td>\n",
       "      <td>0.830308</td>\n",
       "      <td>0.354250</td>\n",
       "      <td>0.239717</td>\n",
       "    </tr>\n",
       "    <tr>\n",
       "      <th>2</th>\n",
       "      <td>1.003083</td>\n",
       "      <td>0.412074</td>\n",
       "      <td>0.344202</td>\n",
       "      <td>0.054476</td>\n",
       "    </tr>\n",
       "    <tr>\n",
       "      <th>74</th>\n",
       "      <td>0.255078</td>\n",
       "      <td>0.744378</td>\n",
       "      <td>-0.342540</td>\n",
       "      <td>0.639559</td>\n",
       "    </tr>\n",
       "    <tr>\n",
       "      <th>43</th>\n",
       "      <td>0.045616</td>\n",
       "      <td>0.553518</td>\n",
       "      <td>0.194883</td>\n",
       "      <td>0.208302</td>\n",
       "    </tr>\n",
       "    <tr>\n",
       "      <th>42</th>\n",
       "      <td>0.089842</td>\n",
       "      <td>0.655664</td>\n",
       "      <td>0.019566</td>\n",
       "      <td>0.360865</td>\n",
       "    </tr>\n",
       "    <tr>\n",
       "      <th>5</th>\n",
       "      <td>-0.011801</td>\n",
       "      <td>0.787860</td>\n",
       "      <td>0.264346</td>\n",
       "      <td>0.330019</td>\n",
       "    </tr>\n",
       "    <tr>\n",
       "      <th>16</th>\n",
       "      <td>0.028701</td>\n",
       "      <td>0.662050</td>\n",
       "      <td>0.352205</td>\n",
       "      <td>0.188041</td>\n",
       "    </tr>\n",
       "    <tr>\n",
       "      <th>18</th>\n",
       "      <td>0.075706</td>\n",
       "      <td>0.732172</td>\n",
       "      <td>0.138202</td>\n",
       "      <td>0.301814</td>\n",
       "    </tr>\n",
       "    <tr>\n",
       "      <th>53</th>\n",
       "      <td>0.084931</td>\n",
       "      <td>0.560691</td>\n",
       "      <td>0.138235</td>\n",
       "      <td>0.217998</td>\n",
       "    </tr>\n",
       "    <tr>\n",
       "      <th>41</th>\n",
       "      <td>0.081155</td>\n",
       "      <td>0.781623</td>\n",
       "      <td>0.344776</td>\n",
       "      <td>0.306999</td>\n",
       "    </tr>\n",
       "    <tr>\n",
       "      <th>39</th>\n",
       "      <td>0.314129</td>\n",
       "      <td>0.814915</td>\n",
       "      <td>-0.054056</td>\n",
       "      <td>0.398134</td>\n",
       "    </tr>\n",
       "    <tr>\n",
       "      <th>6</th>\n",
       "      <td>0.028465</td>\n",
       "      <td>0.847022</td>\n",
       "      <td>0.306661</td>\n",
       "      <td>0.345940</td>\n",
       "    </tr>\n",
       "    <tr>\n",
       "      <th>54</th>\n",
       "      <td>0.025401</td>\n",
       "      <td>0.717006</td>\n",
       "      <td>0.030305</td>\n",
       "      <td>0.462609</td>\n",
       "    </tr>\n",
       "    <tr>\n",
       "      <th>111</th>\n",
       "      <td>0.358231</td>\n",
       "      <td>0.545704</td>\n",
       "      <td>0.031302</td>\n",
       "      <td>0.211617</td>\n",
       "    </tr>\n",
       "    <tr>\n",
       "      <th>116</th>\n",
       "      <td>0.192841</td>\n",
       "      <td>0.852529</td>\n",
       "      <td>0.049642</td>\n",
       "      <td>0.493029</td>\n",
       "    </tr>\n",
       "    <tr>\n",
       "      <th>...</th>\n",
       "      <td>...</td>\n",
       "      <td>...</td>\n",
       "      <td>...</td>\n",
       "      <td>...</td>\n",
       "    </tr>\n",
       "    <tr>\n",
       "      <th>21</th>\n",
       "      <td>0.060125</td>\n",
       "      <td>0.871180</td>\n",
       "      <td>-0.124852</td>\n",
       "      <td>0.521215</td>\n",
       "    </tr>\n",
       "    <tr>\n",
       "      <th>114</th>\n",
       "      <td>0.135668</td>\n",
       "      <td>0.514784</td>\n",
       "      <td>0.052352</td>\n",
       "      <td>0.141762</td>\n",
       "    </tr>\n",
       "    <tr>\n",
       "      <th>73</th>\n",
       "      <td>0.237610</td>\n",
       "      <td>0.732678</td>\n",
       "      <td>0.062447</td>\n",
       "      <td>0.429732</td>\n",
       "    </tr>\n",
       "    <tr>\n",
       "      <th>78</th>\n",
       "      <td>0.180909</td>\n",
       "      <td>0.707510</td>\n",
       "      <td>0.245784</td>\n",
       "      <td>0.203684</td>\n",
       "    </tr>\n",
       "    <tr>\n",
       "      <th>26</th>\n",
       "      <td>0.182361</td>\n",
       "      <td>0.665907</td>\n",
       "      <td>-0.192137</td>\n",
       "      <td>0.562251</td>\n",
       "    </tr>\n",
       "    <tr>\n",
       "      <th>38</th>\n",
       "      <td>0.080988</td>\n",
       "      <td>0.840969</td>\n",
       "      <td>0.356364</td>\n",
       "      <td>0.285105</td>\n",
       "    </tr>\n",
       "    <tr>\n",
       "      <th>82</th>\n",
       "      <td>0.327743</td>\n",
       "      <td>0.692236</td>\n",
       "      <td>-0.200809</td>\n",
       "      <td>0.382633</td>\n",
       "    </tr>\n",
       "    <tr>\n",
       "      <th>107</th>\n",
       "      <td>0.034475</td>\n",
       "      <td>0.514730</td>\n",
       "      <td>0.020636</td>\n",
       "      <td>0.229493</td>\n",
       "    </tr>\n",
       "    <tr>\n",
       "      <th>47</th>\n",
       "      <td>0.198892</td>\n",
       "      <td>0.604804</td>\n",
       "      <td>0.123202</td>\n",
       "      <td>0.252920</td>\n",
       "    </tr>\n",
       "    <tr>\n",
       "      <th>110</th>\n",
       "      <td>-0.032420</td>\n",
       "      <td>0.589410</td>\n",
       "      <td>-0.083201</td>\n",
       "      <td>0.265861</td>\n",
       "    </tr>\n",
       "    <tr>\n",
       "      <th>40</th>\n",
       "      <td>0.180640</td>\n",
       "      <td>0.756063</td>\n",
       "      <td>0.134723</td>\n",
       "      <td>0.207098</td>\n",
       "    </tr>\n",
       "    <tr>\n",
       "      <th>103</th>\n",
       "      <td>0.017802</td>\n",
       "      <td>0.811736</td>\n",
       "      <td>0.164929</td>\n",
       "      <td>0.376742</td>\n",
       "    </tr>\n",
       "    <tr>\n",
       "      <th>66</th>\n",
       "      <td>0.523886</td>\n",
       "      <td>0.524159</td>\n",
       "      <td>-0.236580</td>\n",
       "      <td>0.435233</td>\n",
       "    </tr>\n",
       "    <tr>\n",
       "      <th>59</th>\n",
       "      <td>0.760249</td>\n",
       "      <td>0.805111</td>\n",
       "      <td>-0.403603</td>\n",
       "      <td>0.655488</td>\n",
       "    </tr>\n",
       "    <tr>\n",
       "      <th>13</th>\n",
       "      <td>0.418614</td>\n",
       "      <td>0.564649</td>\n",
       "      <td>-0.048479</td>\n",
       "      <td>0.264411</td>\n",
       "    </tr>\n",
       "    <tr>\n",
       "      <th>108</th>\n",
       "      <td>0.110902</td>\n",
       "      <td>0.713954</td>\n",
       "      <td>0.092240</td>\n",
       "      <td>0.294061</td>\n",
       "    </tr>\n",
       "    <tr>\n",
       "      <th>89</th>\n",
       "      <td>0.134347</td>\n",
       "      <td>0.713896</td>\n",
       "      <td>-0.216066</td>\n",
       "      <td>0.373038</td>\n",
       "    </tr>\n",
       "    <tr>\n",
       "      <th>71</th>\n",
       "      <td>0.234901</td>\n",
       "      <td>0.495053</td>\n",
       "      <td>-0.035297</td>\n",
       "      <td>0.191310</td>\n",
       "    </tr>\n",
       "    <tr>\n",
       "      <th>88</th>\n",
       "      <td>0.215361</td>\n",
       "      <td>0.712518</td>\n",
       "      <td>-0.527208</td>\n",
       "      <td>0.646997</td>\n",
       "    </tr>\n",
       "    <tr>\n",
       "      <th>37</th>\n",
       "      <td>0.278704</td>\n",
       "      <td>0.830895</td>\n",
       "      <td>-0.005895</td>\n",
       "      <td>0.540269</td>\n",
       "    </tr>\n",
       "    <tr>\n",
       "      <th>22</th>\n",
       "      <td>0.248444</td>\n",
       "      <td>0.836270</td>\n",
       "      <td>0.297439</td>\n",
       "      <td>0.302216</td>\n",
       "    </tr>\n",
       "    <tr>\n",
       "      <th>84</th>\n",
       "      <td>0.398830</td>\n",
       "      <td>0.780031</td>\n",
       "      <td>-0.296943</td>\n",
       "      <td>0.661609</td>\n",
       "    </tr>\n",
       "    <tr>\n",
       "      <th>10</th>\n",
       "      <td>0.288999</td>\n",
       "      <td>0.792802</td>\n",
       "      <td>-0.177660</td>\n",
       "      <td>0.558176</td>\n",
       "    </tr>\n",
       "    <tr>\n",
       "      <th>104</th>\n",
       "      <td>0.178453</td>\n",
       "      <td>0.540853</td>\n",
       "      <td>-0.128056</td>\n",
       "      <td>0.313385</td>\n",
       "    </tr>\n",
       "    <tr>\n",
       "      <th>117</th>\n",
       "      <td>0.008429</td>\n",
       "      <td>0.777169</td>\n",
       "      <td>-0.040007</td>\n",
       "      <td>0.438124</td>\n",
       "    </tr>\n",
       "    <tr>\n",
       "      <th>68</th>\n",
       "      <td>0.185186</td>\n",
       "      <td>0.845335</td>\n",
       "      <td>0.115185</td>\n",
       "      <td>0.430087</td>\n",
       "    </tr>\n",
       "    <tr>\n",
       "      <th>65</th>\n",
       "      <td>0.072713</td>\n",
       "      <td>0.853301</td>\n",
       "      <td>0.028357</td>\n",
       "      <td>0.578816</td>\n",
       "    </tr>\n",
       "    <tr>\n",
       "      <th>118</th>\n",
       "      <td>0.048298</td>\n",
       "      <td>0.790222</td>\n",
       "      <td>-0.033833</td>\n",
       "      <td>0.494868</td>\n",
       "    </tr>\n",
       "    <tr>\n",
       "      <th>48</th>\n",
       "      <td>0.074866</td>\n",
       "      <td>0.656267</td>\n",
       "      <td>-0.161626</td>\n",
       "      <td>0.468643</td>\n",
       "    </tr>\n",
       "    <tr>\n",
       "      <th>45</th>\n",
       "      <td>0.213140</td>\n",
       "      <td>0.688601</td>\n",
       "      <td>-0.159579</td>\n",
       "      <td>0.404948</td>\n",
       "    </tr>\n",
       "  </tbody>\n",
       "</table>\n",
       "<p>84 rows × 4 columns</p>\n",
       "</div>"
      ],
      "text/plain": [
       "     Rev Growth  GP Margin  EBITDA Margin  S&M Margin\n",
       "76     0.184811   0.680254      -0.429359    0.726084\n",
       "101    0.177927   0.949200       0.311017    0.123116\n",
       "92     0.241613   0.715213       0.133657    0.342987\n",
       "106    0.013955   0.803981       0.093816    0.344453\n",
       "85     0.178063   0.703654      -0.213805    0.504471\n",
       "91     0.088235   0.666299       0.106348    0.312515\n",
       "67     0.216651   0.776422      -0.066416    0.541185\n",
       "28     0.246186   0.762424       0.003408    0.447258\n",
       "19     0.337773   0.666697       0.061529    0.283701\n",
       "100    0.174726   0.754747      -0.322065    0.586534\n",
       "12     0.170749   0.749036       0.131057    0.429765\n",
       "63     0.114556   0.692305      -0.009594    0.220816\n",
       "72     0.244709   0.619476       0.188348    0.173594\n",
       "57     0.189515   0.767918       0.262802    0.249984\n",
       "99     0.251313   0.705952      -0.217695    0.452918\n",
       "87    -0.014085   0.830308       0.354250    0.239717\n",
       "2      1.003083   0.412074       0.344202    0.054476\n",
       "74     0.255078   0.744378      -0.342540    0.639559\n",
       "43     0.045616   0.553518       0.194883    0.208302\n",
       "42     0.089842   0.655664       0.019566    0.360865\n",
       "5     -0.011801   0.787860       0.264346    0.330019\n",
       "16     0.028701   0.662050       0.352205    0.188041\n",
       "18     0.075706   0.732172       0.138202    0.301814\n",
       "53     0.084931   0.560691       0.138235    0.217998\n",
       "41     0.081155   0.781623       0.344776    0.306999\n",
       "39     0.314129   0.814915      -0.054056    0.398134\n",
       "6      0.028465   0.847022       0.306661    0.345940\n",
       "54     0.025401   0.717006       0.030305    0.462609\n",
       "111    0.358231   0.545704       0.031302    0.211617\n",
       "116    0.192841   0.852529       0.049642    0.493029\n",
       "..          ...        ...            ...         ...\n",
       "21     0.060125   0.871180      -0.124852    0.521215\n",
       "114    0.135668   0.514784       0.052352    0.141762\n",
       "73     0.237610   0.732678       0.062447    0.429732\n",
       "78     0.180909   0.707510       0.245784    0.203684\n",
       "26     0.182361   0.665907      -0.192137    0.562251\n",
       "38     0.080988   0.840969       0.356364    0.285105\n",
       "82     0.327743   0.692236      -0.200809    0.382633\n",
       "107    0.034475   0.514730       0.020636    0.229493\n",
       "47     0.198892   0.604804       0.123202    0.252920\n",
       "110   -0.032420   0.589410      -0.083201    0.265861\n",
       "40     0.180640   0.756063       0.134723    0.207098\n",
       "103    0.017802   0.811736       0.164929    0.376742\n",
       "66     0.523886   0.524159      -0.236580    0.435233\n",
       "59     0.760249   0.805111      -0.403603    0.655488\n",
       "13     0.418614   0.564649      -0.048479    0.264411\n",
       "108    0.110902   0.713954       0.092240    0.294061\n",
       "89     0.134347   0.713896      -0.216066    0.373038\n",
       "71     0.234901   0.495053      -0.035297    0.191310\n",
       "88     0.215361   0.712518      -0.527208    0.646997\n",
       "37     0.278704   0.830895      -0.005895    0.540269\n",
       "22     0.248444   0.836270       0.297439    0.302216\n",
       "84     0.398830   0.780031      -0.296943    0.661609\n",
       "10     0.288999   0.792802      -0.177660    0.558176\n",
       "104    0.178453   0.540853      -0.128056    0.313385\n",
       "117    0.008429   0.777169      -0.040007    0.438124\n",
       "68     0.185186   0.845335       0.115185    0.430087\n",
       "65     0.072713   0.853301       0.028357    0.578816\n",
       "118    0.048298   0.790222      -0.033833    0.494868\n",
       "48     0.074866   0.656267      -0.161626    0.468643\n",
       "45     0.213140   0.688601      -0.159579    0.404948\n",
       "\n",
       "[84 rows x 4 columns]"
      ]
     },
     "execution_count": 40,
     "metadata": {},
     "output_type": "execute_result"
    }
   ],
   "source": [
    "x_train0"
   ]
  },
  {
   "cell_type": "code",
   "execution_count": 83,
   "metadata": {},
   "outputs": [
    {
     "data": {
      "text/plain": [
       "0.44658180451426915"
      ]
     },
     "execution_count": 83,
     "metadata": {},
     "output_type": "execute_result"
    }
   ],
   "source": [
    "model3 = ensemble.AdaBoostRegressor(random_state=0)\n",
    "model3 = model3.fit(x_train1,y_train1.values.ravel())\n",
    "model3.score(x_test1,y_test1)"
   ]
  },
  {
   "cell_type": "code",
   "execution_count": 84,
   "metadata": {},
   "outputs": [
    {
     "data": {
      "text/plain": [
       "0.44658180451426915"
      ]
     },
     "execution_count": 84,
     "metadata": {},
     "output_type": "execute_result"
    }
   ],
   "source": [
    "model3 = ensemble.AdaBoostRegressor(random_state=0)\n",
    "model3 = model3.fit(x_train1,y_train1.values.ravel())\n",
    "model3.score(x_test1,y_test1)"
   ]
  },
  {
   "cell_type": "code",
   "execution_count": 85,
   "metadata": {},
   "outputs": [
    {
     "data": {
      "text/plain": [
       "0.43140875343274515"
      ]
     },
     "execution_count": 85,
     "metadata": {},
     "output_type": "execute_result"
    }
   ],
   "source": [
    "model4 = ensemble.AdaBoostRegressor(random_state=0)\n",
    "model4 = model4.fit(x_train2,y_train2.values.ravel())\n",
    "model4.score(x_test2,y_test2)"
   ]
  },
  {
   "cell_type": "code",
   "execution_count": 86,
   "metadata": {},
   "outputs": [
    {
     "data": {
      "text/plain": [
       "0.3603633431286841"
      ]
     },
     "execution_count": 86,
     "metadata": {},
     "output_type": "execute_result"
    }
   ],
   "source": [
    "model5 = ensemble.AdaBoostRegressor(random_state=0)\n",
    "model5 = model5.fit(x_train3,y_train3.values.ravel())\n",
    "model5.score(x_test3,y_test3)"
   ]
  },
  {
   "cell_type": "code",
   "execution_count": 87,
   "metadata": {},
   "outputs": [
    {
     "data": {
      "text/plain": [
       "0.5603732316676755"
      ]
     },
     "execution_count": 87,
     "metadata": {},
     "output_type": "execute_result"
    }
   ],
   "source": [
    "model6 = ensemble.GradientBoostingRegressor(random_state=0)\n",
    "model6 = model6.fit(x_train,y_train.values.ravel())\n",
    "model6.score(x_test,y_test)"
   ]
  },
  {
   "cell_type": "code",
   "execution_count": 88,
   "metadata": {},
   "outputs": [
    {
     "name": "stdout",
     "output_type": "stream",
     "text": [
      "[[22.46852028]] [17.24465707] [22.46783098] [12.66547882] [9.18356419] [15.09069799]\n"
     ]
    }
   ],
   "source": [
    "print (model.predict(db4), model2.predict(db3), model3.predict(db),model4.predict(db5),model5.predict(db6),model6.predict(db3) )"
   ]
  },
  {
   "cell_type": "raw",
   "metadata": {},
   "source": [
    "Calculating Stats (FULL SAMPLE)"
   ]
  },
  {
   "cell_type": "code",
   "execution_count": 90,
   "metadata": {},
   "outputs": [
    {
     "name": "stdout",
     "output_type": "stream",
     "text": [
      "3.2196767219064504 7.014672978412176\n",
      "0.39521070352664434 0.3633796879227835\n"
     ]
    }
   ],
   "source": [
    "yhat = model.predict(c).flatten()\n",
    "SS_Residual1 = sum((y_val-yhat)**2)\n",
    "std_err1 = math.sqrt(SS_Residual1/121)\n",
    "moe_1 = std_err1 * 1.1 * t\n",
    "print (std_err1,moe_1)\n",
    "SS_Total = sum((y_val-np.mean(y_val))**2)\n",
    "r_squared = 1 - (float(SS_Residual1))/SS_Total\n",
    "adjusted_r_squared = 1 - (1-r_squared)*(len(y_val)-1)/(len(y_val)-x.shape[1]-1)\n",
    "print (r_squared,adjusted_r_squared)"
   ]
  },
  {
   "cell_type": "code",
   "execution_count": 91,
   "metadata": {},
   "outputs": [
    {
     "name": "stdout",
     "output_type": "stream",
     "text": [
      "2.224548345950982 4.846598127489662\n",
      "0.7112890482227185 0.6960937349712826\n"
     ]
    }
   ],
   "source": [
    "yhat = model2.predict(d)\n",
    "yhat = yhat.flatten()\n",
    "SS_Residual2 = sum((y_val-yhat)**2)\n",
    "std_err2 = math.sqrt(SS_Residual2/121)\n",
    "moe_2 = std_err2 * 1.1 * t\n",
    "print (std_err2,moe_2)\n",
    "SS_Total = sum((y_val-np.mean(y_val))**2)\n",
    "r_squared = 1 - (float(SS_Residual2))/SS_Total\n",
    "adjusted_r_squared = 1 - (1-r_squared)*(len(y_val)-1)/(len(y_val)-x.shape[1]-1)\n",
    "print (r_squared,adjusted_r_squared)"
   ]
  },
  {
   "cell_type": "raw",
   "metadata": {},
   "source": [
    "Stats (TEST SAMPLE)"
   ]
  },
  {
   "cell_type": "code",
   "execution_count": 92,
   "metadata": {},
   "outputs": [
    {
     "name": "stdout",
     "output_type": "stream",
     "text": [
      "2.047365220843568 4.460571272226486\n",
      "3.7024324584598096\n",
      "0.30804628300726655 0.22155206838317487\n"
     ]
    }
   ],
   "source": [
    "yhat = model.predict(x_test0).flatten()\n",
    "SS_Residual1 = sum((ytest_val-yhat)**2)\n",
    "std_err1 = math.sqrt(SS_Residual1/121)\n",
    "moe_1 = std_err1 * 1.1 * t\n",
    "print (std_err1,moe_1)\n",
    "\n",
    "regression_model_mse = mean_squared_error(yhat, ytest_val)\n",
    "print (math.sqrt(regression_model_mse))\n",
    "\n",
    "SS_Total = sum((ytest_val-np.mean(ytest_val))**2)\n",
    "r_squared = 1 - (float(SS_Residual1))/SS_Total\n",
    "adjusted_r_squared = 1 - (1-r_squared)*(len(ytest_val)-1)/(len(ytest_val)-x_test.shape[1]-1)\n",
    "print (r_squared,adjusted_r_squared)"
   ]
  },
  {
   "cell_type": "code",
   "execution_count": 93,
   "metadata": {},
   "outputs": [
    {
     "name": "stdout",
     "output_type": "stream",
     "text": [
      "1.7460712085463137 3.8041454415711975\n",
      "3.1575757229286086\n",
      "0.496719265601684 0.43380917380189454\n"
     ]
    }
   ],
   "source": [
    "yhat = model2.predict(x_test).flatten()\n",
    "SS_Residual1 = sum((ytest_val-yhat)**2)\n",
    "std_err1 = math.sqrt(SS_Residual1/121)\n",
    "moe_1 = std_err1 * 1.1 * t\n",
    "print (std_err1,moe_1)\n",
    "\n",
    "regression_model_mse = mean_squared_error(yhat, ytest_val)\n",
    "print (math.sqrt(regression_model_mse))\n",
    "\n",
    "SS_Total = sum((ytest_val-np.mean(ytest_val))**2)\n",
    "r_squared = 1 - (float(SS_Residual1))/SS_Total\n",
    "adjusted_r_squared = 1 - (1-r_squared)*(len(ytest_val)-1)/(len(ytest_val)-x_test.shape[1]-1)\n",
    "print (r_squared,adjusted_r_squared)"
   ]
  },
  {
   "cell_type": "code",
   "execution_count": 94,
   "metadata": {},
   "outputs": [
    {
     "name": "stdout",
     "output_type": "stream",
     "text": [
      "1.830979640488994 3.9891344745182677\n",
      "3.3111231854042953\n",
      "0.4465818045142691 0.3774045300785527\n"
     ]
    }
   ],
   "source": [
    "yhat = model3.predict(x_test1).flatten()\n",
    "SS_Residual1 = sum((ytest_val-yhat)**2)\n",
    "std_err1 = math.sqrt(SS_Residual1/121)\n",
    "moe_1 = std_err1 * 1.1 * t\n",
    "print (std_err1,moe_1)\n",
    "\n",
    "regression_model_mse = mean_squared_error(yhat, ytest_val)\n",
    "print (math.sqrt(regression_model_mse))\n",
    "\n",
    "SS_Total = sum((ytest_val-np.mean(ytest_val))**2)\n",
    "r_squared = 1 - (float(SS_Residual1))/SS_Total\n",
    "adjusted_r_squared = 1 - (1-r_squared)*(len(ytest_val)-1)/(len(ytest_val)-x_test.shape[1]-1)\n",
    "print (r_squared,adjusted_r_squared)"
   ]
  },
  {
   "cell_type": "code",
   "execution_count": 132,
   "metadata": {},
   "outputs": [
    {
     "data": {
      "image/png": "[encoded data removed]",
      "text/plain": [
       "<Figure size 432x288 with 1 Axes>"
      ]
     },
     "metadata": {
      "needs_background": "light"
     },
     "output_type": "display_data"
    }
   ],
   "source": [
    "x23 = range(25)\n",
    "y23 = range(25)\n",
    "h = model2.predict(x_test)\n",
    "plt.scatter(y_test,h, c=\"g\")\n",
    "plt.plot(x23,y23, c=\"k\")\n",
    "plt.xlabel(\"True Values\")\n",
    "plt.ylabel(\"Predictions\")\n",
    "plt.savefig(\"graph.svg\")"
   ]
  },
  {
   "cell_type": "code",
   "execution_count": 144,
   "metadata": {},
   "outputs": [
    {
     "data": {
      "image/png": "[encoded data removed]",
      "text/plain": [
       "<Figure size 432x288 with 1 Axes>"
      ]
     },
     "metadata": {
      "needs_background": "light"
     },
     "output_type": "display_data"
    }
   ],
   "source": [
    "def plot_learning_curve(train_sizes, train_scores, test_scores, title, alpha=0.1):\n",
    "    train_scores = -train_scores\n",
    "    test_scores = -test_scores\n",
    "    train_mean = np.mean(train_scores, axis=1)\n",
    "    train_std = np.std(train_scores, axis=1)\n",
    "    test_mean = np.mean(test_scores, axis=1)\n",
    "    test_std = np.std(test_scores, axis=1)\n",
    "    plt.plot(train_sizes, train_mean, label='train score', color='blue', marker='o')\n",
    "    plt.fill_between(train_sizes,train_mean + train_std,\n",
    "                    train_mean - train_std, color='blue', alpha=alpha)\n",
    "    plt.plot(train_sizes, test_mean, label='test score', color='red',marker='o')\n",
    "    plt.fill_between(train_sizes,test_mean + test_std, test_mean - test_std , color='red', alpha=alpha)\n",
    "    plt.title(title)\n",
    "    plt.xlabel('Number of training points')\n",
    "    plt.ylabel(r'Mean Squared Error')\n",
    "    plt.grid(ls='--')\n",
    "    plt.legend(loc='best')\n",
    "    plt.show() \n",
    "    \n",
    "# Plot the learning curve\n",
    "plt.figure()\n",
    "train_sizes, train_scores, test_scores = learning_curve(\n",
    "                                            model2, X= x_train, y = ytrain_val, \n",
    "                                            cv= 3,  scoring='neg_mean_squared_error')\n",
    "\n",
    "plot_learning_curve(train_sizes, train_scores, test_scores, title='Learning curve for RF Regressor') "
   ]
  },
  {
   "cell_type": "code",
   "execution_count": 139,
   "metadata": {},
   "outputs": [
    {
     "name": "stdout",
     "output_type": "stream",
     "text": [
      "Training Root Mean Squared Error 0.34\n"
     ]
    },
    {
     "name": "stderr",
     "output_type": "stream",
     "text": [
      "C:\\ProgramData\\Anaconda3\\lib\\site-packages\\sklearn\\utils\\validation.py:578: DataConversionWarning:\n",
      "\n",
      "A column-vector y was passed when a 1d array was expected. Please change the shape of y to (n_samples, ), for example using ravel().\n",
      "\n"
     ]
    }
   ],
   "source": [
    "best_model = clone(model2)\n",
    "best_model.fit(x_train, y_train)\n",
    "y_pred_train = model2.predict(x_train)\n",
    "\n",
    "print( \"Training Root Mean Squared Error %.2f\" %( MSE(y_train, y_pred_train)**(1/2)))"
   ]
  },
  {
   "cell_type": "code",
   "execution_count": 141,
   "metadata": {},
   "outputs": [
    {
     "data": {
      "text/plain": [
       "<matplotlib.collections.PathCollection at 0x2968ee53470>"
      ]
     },
     "execution_count": 141,
     "metadata": {},
     "output_type": "execute_result"
    },
    {
     "data": {
      "image/png": "[encoded data removed]",
      "text/plain": [
       "<Figure size 432x288 with 1 Axes>"
      ]
     },
     "metadata": {
      "needs_background": "light"
     },
     "output_type": "display_data"
    }
   ],
   "source": [
    "plt.scatter(y_pred_train, y_train)"
   ]
  },
  {
   "cell_type": "code",
   "execution_count": 142,
   "metadata": {},
   "outputs": [
    {
     "data": {
      "text/plain": [
       "array([ 3.99454805, 13.07916859,  5.47094954,  3.0304768 ,  6.52492179,\n",
       "        5.69244286, 10.6739201 ,  9.78354475,  8.63178225,  4.02792443,\n",
       "        7.20065257,  6.47357623, 12.17994135,  9.9139303 ,  5.47094954,\n",
       "        3.49212786,  8.4059795 ,  9.05145434,  4.29730555,  5.21939517,\n",
       "        3.49212786,  3.9623645 ,  8.6072937 ,  7.05736597,  3.65598436,\n",
       "        8.09039773,  4.96264693,  4.56664775, 13.29596562,  4.18297826,\n",
       "        5.48553055, 10.73443143, 11.05783691,  5.48553055,  8.80580838,\n",
       "        3.35054997,  8.53156218,  4.49080743, 11.85648084,  5.19454454,\n",
       "        5.50556778,  7.72639986,  6.50295851,  6.41658722,  6.8152068 ,\n",
       "        8.43144049, 17.24465707, 15.77760471,  6.87166276,  2.34077074,\n",
       "        3.17163954,  8.8287788 ,  9.16235139,  4.76039301,  7.49446165,\n",
       "        2.5730514 ,  6.75344914, 10.87628624,  5.39720353,  3.68769072,\n",
       "       11.84840509,  2.34077074,  8.48214724,  3.03242824,  6.6975161 ,\n",
       "        3.40510199, 13.11747675, 22.46783098, 13.78150188,  2.98726037,\n",
       "        6.02972031,  9.5690336 ,  4.44630766, 11.57891232, 14.87319187,\n",
       "        8.91615601,  8.91615601,  2.25803763,  2.09464877,  7.20065257,\n",
       "        4.02792443,  3.17006192,  5.39720353, 14.86141948])"
      ]
     },
     "execution_count": 142,
     "metadata": {},
     "output_type": "execute_result"
    }
   ],
   "source": [
    "y_pred_train"
   ]
  },
  {
   "cell_type": "code",
   "execution_count": 143,
   "metadata": {},
   "outputs": [
    {
     "data": {
      "text/html": [
       "<div>\n",
       "<style scoped>\n",
       "    .dataframe tbody tr th:only-of-type {\n",
       "        vertical-align: middle;\n",
       "    }\n",
       "\n",
       "    .dataframe tbody tr th {\n",
       "        vertical-align: top;\n",
       "    }\n",
       "\n",
       "    .dataframe thead th {\n",
       "        text-align: right;\n",
       "    }\n",
       "</style>\n",
       "<table border=\"1\" class=\"dataframe\">\n",
       "  <thead>\n",
       "    <tr style=\"text-align: right;\">\n",
       "      <th></th>\n",
       "      <th>Ev/Rev Multiple</th>\n",
       "    </tr>\n",
       "  </thead>\n",
       "  <tbody>\n",
       "    <tr>\n",
       "      <th>76</th>\n",
       "      <td>3.994548</td>\n",
       "    </tr>\n",
       "    <tr>\n",
       "      <th>101</th>\n",
       "      <td>13.079169</td>\n",
       "    </tr>\n",
       "    <tr>\n",
       "      <th>92</th>\n",
       "      <td>4.656080</td>\n",
       "    </tr>\n",
       "    <tr>\n",
       "      <th>106</th>\n",
       "      <td>1.419239</td>\n",
       "    </tr>\n",
       "    <tr>\n",
       "      <th>85</th>\n",
       "      <td>6.524922</td>\n",
       "    </tr>\n",
       "    <tr>\n",
       "      <th>91</th>\n",
       "      <td>5.692443</td>\n",
       "    </tr>\n",
       "    <tr>\n",
       "      <th>67</th>\n",
       "      <td>10.673920</td>\n",
       "    </tr>\n",
       "    <tr>\n",
       "      <th>28</th>\n",
       "      <td>9.783545</td>\n",
       "    </tr>\n",
       "    <tr>\n",
       "      <th>19</th>\n",
       "      <td>8.631782</td>\n",
       "    </tr>\n",
       "    <tr>\n",
       "      <th>100</th>\n",
       "      <td>3.684081</td>\n",
       "    </tr>\n",
       "    <tr>\n",
       "      <th>12</th>\n",
       "      <td>7.579031</td>\n",
       "    </tr>\n",
       "    <tr>\n",
       "      <th>63</th>\n",
       "      <td>6.473576</td>\n",
       "    </tr>\n",
       "    <tr>\n",
       "      <th>72</th>\n",
       "      <td>12.179941</td>\n",
       "    </tr>\n",
       "    <tr>\n",
       "      <th>57</th>\n",
       "      <td>9.913930</td>\n",
       "    </tr>\n",
       "    <tr>\n",
       "      <th>99</th>\n",
       "      <td>5.470950</td>\n",
       "    </tr>\n",
       "    <tr>\n",
       "      <th>87</th>\n",
       "      <td>3.492128</td>\n",
       "    </tr>\n",
       "    <tr>\n",
       "      <th>2</th>\n",
       "      <td>8.405980</td>\n",
       "    </tr>\n",
       "    <tr>\n",
       "      <th>74</th>\n",
       "      <td>9.051454</td>\n",
       "    </tr>\n",
       "    <tr>\n",
       "      <th>43</th>\n",
       "      <td>4.297306</td>\n",
       "    </tr>\n",
       "    <tr>\n",
       "      <th>42</th>\n",
       "      <td>4.566648</td>\n",
       "    </tr>\n",
       "    <tr>\n",
       "      <th>5</th>\n",
       "      <td>3.030477</td>\n",
       "    </tr>\n",
       "    <tr>\n",
       "      <th>16</th>\n",
       "      <td>3.962365</td>\n",
       "    </tr>\n",
       "    <tr>\n",
       "      <th>18</th>\n",
       "      <td>8.607294</td>\n",
       "    </tr>\n",
       "    <tr>\n",
       "      <th>53</th>\n",
       "      <td>7.057366</td>\n",
       "    </tr>\n",
       "    <tr>\n",
       "      <th>41</th>\n",
       "      <td>3.596182</td>\n",
       "    </tr>\n",
       "    <tr>\n",
       "      <th>39</th>\n",
       "      <td>8.090398</td>\n",
       "    </tr>\n",
       "    <tr>\n",
       "      <th>6</th>\n",
       "      <td>4.962647</td>\n",
       "    </tr>\n",
       "    <tr>\n",
       "      <th>54</th>\n",
       "      <td>5.219395</td>\n",
       "    </tr>\n",
       "    <tr>\n",
       "      <th>111</th>\n",
       "      <td>13.295966</td>\n",
       "    </tr>\n",
       "    <tr>\n",
       "      <th>116</th>\n",
       "      <td>4.182978</td>\n",
       "    </tr>\n",
       "    <tr>\n",
       "      <th>...</th>\n",
       "      <td>...</td>\n",
       "    </tr>\n",
       "    <tr>\n",
       "      <th>21</th>\n",
       "      <td>7.494462</td>\n",
       "    </tr>\n",
       "    <tr>\n",
       "      <th>114</th>\n",
       "      <td>2.573051</td>\n",
       "    </tr>\n",
       "    <tr>\n",
       "      <th>73</th>\n",
       "      <td>6.753449</td>\n",
       "    </tr>\n",
       "    <tr>\n",
       "      <th>78</th>\n",
       "      <td>10.876286</td>\n",
       "    </tr>\n",
       "    <tr>\n",
       "      <th>26</th>\n",
       "      <td>5.397204</td>\n",
       "    </tr>\n",
       "    <tr>\n",
       "      <th>38</th>\n",
       "      <td>3.687691</td>\n",
       "    </tr>\n",
       "    <tr>\n",
       "      <th>82</th>\n",
       "      <td>11.848405</td>\n",
       "    </tr>\n",
       "    <tr>\n",
       "      <th>107</th>\n",
       "      <td>2.084547</td>\n",
       "    </tr>\n",
       "    <tr>\n",
       "      <th>47</th>\n",
       "      <td>8.482147</td>\n",
       "    </tr>\n",
       "    <tr>\n",
       "      <th>110</th>\n",
       "      <td>3.032428</td>\n",
       "    </tr>\n",
       "    <tr>\n",
       "      <th>40</th>\n",
       "      <td>6.697516</td>\n",
       "    </tr>\n",
       "    <tr>\n",
       "      <th>103</th>\n",
       "      <td>3.126123</td>\n",
       "    </tr>\n",
       "    <tr>\n",
       "      <th>66</th>\n",
       "      <td>13.117477</td>\n",
       "    </tr>\n",
       "    <tr>\n",
       "      <th>59</th>\n",
       "      <td>22.467831</td>\n",
       "    </tr>\n",
       "    <tr>\n",
       "      <th>13</th>\n",
       "      <td>13.781502</td>\n",
       "    </tr>\n",
       "    <tr>\n",
       "      <th>108</th>\n",
       "      <td>2.987260</td>\n",
       "    </tr>\n",
       "    <tr>\n",
       "      <th>89</th>\n",
       "      <td>6.029720</td>\n",
       "    </tr>\n",
       "    <tr>\n",
       "      <th>71</th>\n",
       "      <td>9.569034</td>\n",
       "    </tr>\n",
       "    <tr>\n",
       "      <th>88</th>\n",
       "      <td>4.446308</td>\n",
       "    </tr>\n",
       "    <tr>\n",
       "      <th>37</th>\n",
       "      <td>11.578912</td>\n",
       "    </tr>\n",
       "    <tr>\n",
       "      <th>22</th>\n",
       "      <td>14.873192</td>\n",
       "    </tr>\n",
       "    <tr>\n",
       "      <th>84</th>\n",
       "      <td>8.916156</td>\n",
       "    </tr>\n",
       "    <tr>\n",
       "      <th>10</th>\n",
       "      <td>8.822883</td>\n",
       "    </tr>\n",
       "    <tr>\n",
       "      <th>104</th>\n",
       "      <td>2.258038</td>\n",
       "    </tr>\n",
       "    <tr>\n",
       "      <th>117</th>\n",
       "      <td>1.256451</td>\n",
       "    </tr>\n",
       "    <tr>\n",
       "      <th>68</th>\n",
       "      <td>7.200653</td>\n",
       "    </tr>\n",
       "    <tr>\n",
       "      <th>65</th>\n",
       "      <td>3.170062</td>\n",
       "    </tr>\n",
       "    <tr>\n",
       "      <th>118</th>\n",
       "      <td>2.094649</td>\n",
       "    </tr>\n",
       "    <tr>\n",
       "      <th>48</th>\n",
       "      <td>4.027924</td>\n",
       "    </tr>\n",
       "    <tr>\n",
       "      <th>45</th>\n",
       "      <td>14.861419</td>\n",
       "    </tr>\n",
       "  </tbody>\n",
       "</table>\n",
       "<p>84 rows × 1 columns</p>\n",
       "</div>"
      ],
      "text/plain": [
       "     Ev/Rev Multiple\n",
       "76          3.994548\n",
       "101        13.079169\n",
       "92          4.656080\n",
       "106         1.419239\n",
       "85          6.524922\n",
       "91          5.692443\n",
       "67         10.673920\n",
       "28          9.783545\n",
       "19          8.631782\n",
       "100         3.684081\n",
       "12          7.579031\n",
       "63          6.473576\n",
       "72         12.179941\n",
       "57          9.913930\n",
       "99          5.470950\n",
       "87          3.492128\n",
       "2           8.405980\n",
       "74          9.051454\n",
       "43          4.297306\n",
       "42          4.566648\n",
       "5           3.030477\n",
       "16          3.962365\n",
       "18          8.607294\n",
       "53          7.057366\n",
       "41          3.596182\n",
       "39          8.090398\n",
       "6           4.962647\n",
       "54          5.219395\n",
       "111        13.295966\n",
       "116         4.182978\n",
       "..               ...\n",
       "21          7.494462\n",
       "114         2.573051\n",
       "73          6.753449\n",
       "78         10.876286\n",
       "26          5.397204\n",
       "38          3.687691\n",
       "82         11.848405\n",
       "107         2.084547\n",
       "47          8.482147\n",
       "110         3.032428\n",
       "40          6.697516\n",
       "103         3.126123\n",
       "66         13.117477\n",
       "59         22.467831\n",
       "13         13.781502\n",
       "108         2.987260\n",
       "89          6.029720\n",
       "71          9.569034\n",
       "88          4.446308\n",
       "37         11.578912\n",
       "22         14.873192\n",
       "84          8.916156\n",
       "10          8.822883\n",
       "104         2.258038\n",
       "117         1.256451\n",
       "68          7.200653\n",
       "65          3.170062\n",
       "118         2.094649\n",
       "48          4.027924\n",
       "45         14.861419\n",
       "\n",
       "[84 rows x 1 columns]"
      ]
     },
     "execution_count": 143,
     "metadata": {},
     "output_type": "execute_result"
    }
   ],
   "source": [
    "y_train"
   ]
  },
  {
   "cell_type": "code",
   "execution_count": 136,
   "metadata": {},
   "outputs": [
    {
     "name": "stdout",
     "output_type": "stream",
     "text": [
      "Root Mean Squared Error on Holdout Set 3.091905\n"
     ]
    }
   ],
   "source": [
    "y_pred_val = best_model.predict(x_test)\n",
    "print(\"Root Mean Squared Error on Holdout Set %f\" %(MSE(y_test, y_pred_val)**(1/2)))"
   ]
  },
  {
   "cell_type": "code",
   "execution_count": 137,
   "metadata": {},
   "outputs": [
    {
     "data": {
      "image/png": "[encoded data removed]",
      "text/plain": [
       "<Figure size 432x288 with 1 Axes>"
      ]
     },
     "metadata": {
      "needs_background": "light"
     },
     "output_type": "display_data"
    }
   ],
   "source": [
    "x15 = range(15)\n",
    "plt.plot(x15,x15)\n",
    "plt.scatter(y_pred_val, y_test)\n",
    "plt.suptitle(\"Residual plot for the hold out set\")\n",
    "plt.xlabel(\"y predicted\")\n",
    "plt.ylabel(\"Residual\")\n",
    "plt.show()"
   ]
  },
  {
   "cell_type": "code",
   "execution_count": 100,
   "metadata": {},
   "outputs": [
    {
     "ename": "ValueError",
     "evalue": "Unable to coerce to Series, length must be 1: given 37",
     "output_type": "error",
     "traceback": [
      "\u001b[1;31m---------------------------------------------------------------------------\u001b[0m",
      "\u001b[1;31mValueError\u001b[0m                                Traceback (most recent call last)",
      "\u001b[1;32m<ipython-input-100-c5f65be4bbab>\u001b[0m in \u001b[0;36m<module>\u001b[1;34m()\u001b[0m\n\u001b[1;32m----> 1\u001b[1;33m \u001b[0mplt\u001b[0m\u001b[1;33m.\u001b[0m\u001b[0mscatter\u001b[0m\u001b[1;33m(\u001b[0m\u001b[0my_pred_val\u001b[0m\u001b[1;33m,\u001b[0m \u001b[0my_test\u001b[0m \u001b[1;33m-\u001b[0m \u001b[0my_pred_val\u001b[0m\u001b[1;33m)\u001b[0m\u001b[1;33m\u001b[0m\u001b[0m\n\u001b[0m\u001b[0;32m      2\u001b[0m \u001b[0mplt\u001b[0m\u001b[1;33m.\u001b[0m\u001b[0msuptitle\u001b[0m\u001b[1;33m(\u001b[0m\u001b[1;34m\"Residual plot for the hold out set\"\u001b[0m\u001b[1;33m)\u001b[0m\u001b[1;33m\u001b[0m\u001b[0m\n\u001b[0;32m      3\u001b[0m \u001b[0mplt\u001b[0m\u001b[1;33m.\u001b[0m\u001b[0mxlabel\u001b[0m\u001b[1;33m(\u001b[0m\u001b[1;34m\"y predicted\"\u001b[0m\u001b[1;33m)\u001b[0m\u001b[1;33m\u001b[0m\u001b[0m\n\u001b[0;32m      4\u001b[0m \u001b[0mplt\u001b[0m\u001b[1;33m.\u001b[0m\u001b[0mylabel\u001b[0m\u001b[1;33m(\u001b[0m\u001b[1;34m\"residual\"\u001b[0m\u001b[1;33m)\u001b[0m\u001b[1;33m\u001b[0m\u001b[0m\n\u001b[0;32m      5\u001b[0m \u001b[0mplt\u001b[0m\u001b[1;33m.\u001b[0m\u001b[0mshow\u001b[0m\u001b[1;33m(\u001b[0m\u001b[1;33m)\u001b[0m\u001b[1;33m\u001b[0m\u001b[0m\n",
      "\u001b[1;32mC:\\ProgramData\\Anaconda3\\lib\\site-packages\\pandas\\core\\ops.py\u001b[0m in \u001b[0;36mf\u001b[1;34m(self, other, axis, level, fill_value)\u001b[0m\n\u001b[0;32m   1545\u001b[0m     \u001b[1;32mdef\u001b[0m \u001b[0mf\u001b[0m\u001b[1;33m(\u001b[0m\u001b[0mself\u001b[0m\u001b[1;33m,\u001b[0m \u001b[0mother\u001b[0m\u001b[1;33m,\u001b[0m \u001b[0maxis\u001b[0m\u001b[1;33m=\u001b[0m\u001b[0mdefault_axis\u001b[0m\u001b[1;33m,\u001b[0m \u001b[0mlevel\u001b[0m\u001b[1;33m=\u001b[0m\u001b[1;32mNone\u001b[0m\u001b[1;33m,\u001b[0m \u001b[0mfill_value\u001b[0m\u001b[1;33m=\u001b[0m\u001b[1;32mNone\u001b[0m\u001b[1;33m)\u001b[0m\u001b[1;33m:\u001b[0m\u001b[1;33m\u001b[0m\u001b[0m\n\u001b[0;32m   1546\u001b[0m \u001b[1;33m\u001b[0m\u001b[0m\n\u001b[1;32m-> 1547\u001b[1;33m         \u001b[0mother\u001b[0m \u001b[1;33m=\u001b[0m \u001b[0m_align_method_FRAME\u001b[0m\u001b[1;33m(\u001b[0m\u001b[0mself\u001b[0m\u001b[1;33m,\u001b[0m \u001b[0mother\u001b[0m\u001b[1;33m,\u001b[0m \u001b[0maxis\u001b[0m\u001b[1;33m)\u001b[0m\u001b[1;33m\u001b[0m\u001b[0m\n\u001b[0m\u001b[0;32m   1548\u001b[0m \u001b[1;33m\u001b[0m\u001b[0m\n\u001b[0;32m   1549\u001b[0m         \u001b[1;32mif\u001b[0m \u001b[0misinstance\u001b[0m\u001b[1;33m(\u001b[0m\u001b[0mother\u001b[0m\u001b[1;33m,\u001b[0m \u001b[0mABCDataFrame\u001b[0m\u001b[1;33m)\u001b[0m\u001b[1;33m:\u001b[0m  \u001b[1;31m# Another DataFrame\u001b[0m\u001b[1;33m\u001b[0m\u001b[0m\n",
      "\u001b[1;32mC:\\ProgramData\\Anaconda3\\lib\\site-packages\\pandas\\core\\ops.py\u001b[0m in \u001b[0;36m_align_method_FRAME\u001b[1;34m(left, right, axis)\u001b[0m\n\u001b[0;32m   1461\u001b[0m \u001b[1;33m\u001b[0m\u001b[0m\n\u001b[0;32m   1462\u001b[0m         \u001b[1;32mif\u001b[0m \u001b[0mright\u001b[0m\u001b[1;33m.\u001b[0m\u001b[0mndim\u001b[0m \u001b[1;33m==\u001b[0m \u001b[1;36m1\u001b[0m\u001b[1;33m:\u001b[0m\u001b[1;33m\u001b[0m\u001b[0m\n\u001b[1;32m-> 1463\u001b[1;33m             \u001b[0mright\u001b[0m \u001b[1;33m=\u001b[0m \u001b[0mto_series\u001b[0m\u001b[1;33m(\u001b[0m\u001b[0mright\u001b[0m\u001b[1;33m)\u001b[0m\u001b[1;33m\u001b[0m\u001b[0m\n\u001b[0m\u001b[0;32m   1464\u001b[0m \u001b[1;33m\u001b[0m\u001b[0m\n\u001b[0;32m   1465\u001b[0m         \u001b[1;32melif\u001b[0m \u001b[0mright\u001b[0m\u001b[1;33m.\u001b[0m\u001b[0mndim\u001b[0m \u001b[1;33m==\u001b[0m \u001b[1;36m2\u001b[0m\u001b[1;33m:\u001b[0m\u001b[1;33m\u001b[0m\u001b[0m\n",
      "\u001b[1;32mC:\\ProgramData\\Anaconda3\\lib\\site-packages\\pandas\\core\\ops.py\u001b[0m in \u001b[0;36mto_series\u001b[1;34m(right)\u001b[0m\n\u001b[0;32m   1454\u001b[0m             \u001b[1;32mif\u001b[0m \u001b[0mlen\u001b[0m\u001b[1;33m(\u001b[0m\u001b[0mleft\u001b[0m\u001b[1;33m.\u001b[0m\u001b[0mcolumns\u001b[0m\u001b[1;33m)\u001b[0m \u001b[1;33m!=\u001b[0m \u001b[0mlen\u001b[0m\u001b[1;33m(\u001b[0m\u001b[0mright\u001b[0m\u001b[1;33m)\u001b[0m\u001b[1;33m:\u001b[0m\u001b[1;33m\u001b[0m\u001b[0m\n\u001b[0;32m   1455\u001b[0m                 raise ValueError(msg.format(req_len=len(left.columns),\n\u001b[1;32m-> 1456\u001b[1;33m                                             given_len=len(right)))\n\u001b[0m\u001b[0;32m   1457\u001b[0m             \u001b[0mright\u001b[0m \u001b[1;33m=\u001b[0m \u001b[0mleft\u001b[0m\u001b[1;33m.\u001b[0m\u001b[0m_constructor_sliced\u001b[0m\u001b[1;33m(\u001b[0m\u001b[0mright\u001b[0m\u001b[1;33m,\u001b[0m \u001b[0mindex\u001b[0m\u001b[1;33m=\u001b[0m\u001b[0mleft\u001b[0m\u001b[1;33m.\u001b[0m\u001b[0mcolumns\u001b[0m\u001b[1;33m)\u001b[0m\u001b[1;33m\u001b[0m\u001b[0m\n\u001b[0;32m   1458\u001b[0m         \u001b[1;32mreturn\u001b[0m \u001b[0mright\u001b[0m\u001b[1;33m\u001b[0m\u001b[0m\n",
      "\u001b[1;31mValueError\u001b[0m: Unable to coerce to Series, length must be 1: given 37"
     ]
    }
   ],
   "source": [
    "plt.scatter(y_pred_val, y_test - y_pred_val)\n",
    "plt.suptitle(\"Residual plot for the hold out set\")\n",
    "plt.xlabel(\"y predicted\")\n",
    "plt.ylabel(\"residual\")\n",
    "plt.show()"
   ]
  },
  {
   "cell_type": "code",
   "execution_count": 102,
   "metadata": {},
   "outputs": [],
   "source": [
    "yt = y_test"
   ]
  },
  {
   "cell_type": "code",
   "execution_count": 103,
   "metadata": {},
   "outputs": [
    {
     "name": "stdout",
     "output_type": "stream",
     "text": [
      "[10.96161103 11.97772742 12.26403182 12.95795004 13.16519302]\n",
      "     Ev/Rev Multiple\n",
      "109        10.846570\n",
      "62         14.554802\n",
      "4          16.244587\n",
      "97          4.386132\n",
      "7           5.040378\n"
     ]
    },
    {
     "ename": "ValueError",
     "evalue": "Unable to coerce to Series, length must be 1: given 5",
     "output_type": "error",
     "traceback": [
      "\u001b[1;31m---------------------------------------------------------------------------\u001b[0m",
      "\u001b[1;31mValueError\u001b[0m                                Traceback (most recent call last)",
      "\u001b[1;32m<ipython-input-103-9e6b6491ac0c>\u001b[0m in \u001b[0;36m<module>\u001b[1;34m()\u001b[0m\n\u001b[0;32m      5\u001b[0m \u001b[0myt_max\u001b[0m \u001b[1;33m=\u001b[0m \u001b[0my_test\u001b[0m\u001b[1;33m[\u001b[0m\u001b[1;33m-\u001b[0m\u001b[1;36m5\u001b[0m\u001b[1;33m:\u001b[0m\u001b[1;33m]\u001b[0m\u001b[1;33m\u001b[0m\u001b[0m\n\u001b[0;32m      6\u001b[0m \u001b[0mprint\u001b[0m\u001b[1;33m(\u001b[0m\u001b[0myt_max\u001b[0m\u001b[1;33m)\u001b[0m\u001b[1;33m\u001b[0m\u001b[0m\n\u001b[1;32m----> 7\u001b[1;33m \u001b[0mymax_dif\u001b[0m \u001b[1;33m=\u001b[0m \u001b[0myt_max\u001b[0m \u001b[1;33m-\u001b[0m \u001b[0mypred_max\u001b[0m\u001b[1;33m\u001b[0m\u001b[0m\n\u001b[0m\u001b[0;32m      8\u001b[0m \u001b[0mstats\u001b[0m\u001b[1;33m.\u001b[0m\u001b[0mdescribe\u001b[0m\u001b[1;33m(\u001b[0m\u001b[0mymax_dif\u001b[0m\u001b[1;33m)\u001b[0m\u001b[1;33m\u001b[0m\u001b[0m\n",
      "\u001b[1;32mC:\\ProgramData\\Anaconda3\\lib\\site-packages\\pandas\\core\\ops.py\u001b[0m in \u001b[0;36mf\u001b[1;34m(self, other, axis, level, fill_value)\u001b[0m\n\u001b[0;32m   1545\u001b[0m     \u001b[1;32mdef\u001b[0m \u001b[0mf\u001b[0m\u001b[1;33m(\u001b[0m\u001b[0mself\u001b[0m\u001b[1;33m,\u001b[0m \u001b[0mother\u001b[0m\u001b[1;33m,\u001b[0m \u001b[0maxis\u001b[0m\u001b[1;33m=\u001b[0m\u001b[0mdefault_axis\u001b[0m\u001b[1;33m,\u001b[0m \u001b[0mlevel\u001b[0m\u001b[1;33m=\u001b[0m\u001b[1;32mNone\u001b[0m\u001b[1;33m,\u001b[0m \u001b[0mfill_value\u001b[0m\u001b[1;33m=\u001b[0m\u001b[1;32mNone\u001b[0m\u001b[1;33m)\u001b[0m\u001b[1;33m:\u001b[0m\u001b[1;33m\u001b[0m\u001b[0m\n\u001b[0;32m   1546\u001b[0m \u001b[1;33m\u001b[0m\u001b[0m\n\u001b[1;32m-> 1547\u001b[1;33m         \u001b[0mother\u001b[0m \u001b[1;33m=\u001b[0m \u001b[0m_align_method_FRAME\u001b[0m\u001b[1;33m(\u001b[0m\u001b[0mself\u001b[0m\u001b[1;33m,\u001b[0m \u001b[0mother\u001b[0m\u001b[1;33m,\u001b[0m \u001b[0maxis\u001b[0m\u001b[1;33m)\u001b[0m\u001b[1;33m\u001b[0m\u001b[0m\n\u001b[0m\u001b[0;32m   1548\u001b[0m \u001b[1;33m\u001b[0m\u001b[0m\n\u001b[0;32m   1549\u001b[0m         \u001b[1;32mif\u001b[0m \u001b[0misinstance\u001b[0m\u001b[1;33m(\u001b[0m\u001b[0mother\u001b[0m\u001b[1;33m,\u001b[0m \u001b[0mABCDataFrame\u001b[0m\u001b[1;33m)\u001b[0m\u001b[1;33m:\u001b[0m  \u001b[1;31m# Another DataFrame\u001b[0m\u001b[1;33m\u001b[0m\u001b[0m\n",
      "\u001b[1;32mC:\\ProgramData\\Anaconda3\\lib\\site-packages\\pandas\\core\\ops.py\u001b[0m in \u001b[0;36m_align_method_FRAME\u001b[1;34m(left, right, axis)\u001b[0m\n\u001b[0;32m   1461\u001b[0m \u001b[1;33m\u001b[0m\u001b[0m\n\u001b[0;32m   1462\u001b[0m         \u001b[1;32mif\u001b[0m \u001b[0mright\u001b[0m\u001b[1;33m.\u001b[0m\u001b[0mndim\u001b[0m \u001b[1;33m==\u001b[0m \u001b[1;36m1\u001b[0m\u001b[1;33m:\u001b[0m\u001b[1;33m\u001b[0m\u001b[0m\n\u001b[1;32m-> 1463\u001b[1;33m             \u001b[0mright\u001b[0m \u001b[1;33m=\u001b[0m \u001b[0mto_series\u001b[0m\u001b[1;33m(\u001b[0m\u001b[0mright\u001b[0m\u001b[1;33m)\u001b[0m\u001b[1;33m\u001b[0m\u001b[0m\n\u001b[0m\u001b[0;32m   1464\u001b[0m \u001b[1;33m\u001b[0m\u001b[0m\n\u001b[0;32m   1465\u001b[0m         \u001b[1;32melif\u001b[0m \u001b[0mright\u001b[0m\u001b[1;33m.\u001b[0m\u001b[0mndim\u001b[0m \u001b[1;33m==\u001b[0m \u001b[1;36m2\u001b[0m\u001b[1;33m:\u001b[0m\u001b[1;33m\u001b[0m\u001b[0m\n",
      "\u001b[1;32mC:\\ProgramData\\Anaconda3\\lib\\site-packages\\pandas\\core\\ops.py\u001b[0m in \u001b[0;36mto_series\u001b[1;34m(right)\u001b[0m\n\u001b[0;32m   1454\u001b[0m             \u001b[1;32mif\u001b[0m \u001b[0mlen\u001b[0m\u001b[1;33m(\u001b[0m\u001b[0mleft\u001b[0m\u001b[1;33m.\u001b[0m\u001b[0mcolumns\u001b[0m\u001b[1;33m)\u001b[0m \u001b[1;33m!=\u001b[0m \u001b[0mlen\u001b[0m\u001b[1;33m(\u001b[0m\u001b[0mright\u001b[0m\u001b[1;33m)\u001b[0m\u001b[1;33m:\u001b[0m\u001b[1;33m\u001b[0m\u001b[0m\n\u001b[0;32m   1455\u001b[0m                 raise ValueError(msg.format(req_len=len(left.columns),\n\u001b[1;32m-> 1456\u001b[1;33m                                             given_len=len(right)))\n\u001b[0m\u001b[0;32m   1457\u001b[0m             \u001b[0mright\u001b[0m \u001b[1;33m=\u001b[0m \u001b[0mleft\u001b[0m\u001b[1;33m.\u001b[0m\u001b[0m_constructor_sliced\u001b[0m\u001b[1;33m(\u001b[0m\u001b[0mright\u001b[0m\u001b[1;33m,\u001b[0m \u001b[0mindex\u001b[0m\u001b[1;33m=\u001b[0m\u001b[0mleft\u001b[0m\u001b[1;33m.\u001b[0m\u001b[0mcolumns\u001b[0m\u001b[1;33m)\u001b[0m\u001b[1;33m\u001b[0m\u001b[0m\n\u001b[0;32m   1458\u001b[0m         \u001b[1;32mreturn\u001b[0m \u001b[0mright\u001b[0m\u001b[1;33m\u001b[0m\u001b[0m\n",
      "\u001b[1;31mValueError\u001b[0m: Unable to coerce to Series, length must be 1: given 5"
     ]
    }
   ],
   "source": [
    "y_pred_val.sort()\n",
    "ypred_max = y_pred_val[-5:]\n",
    "print (ypred_max)\n",
    "y.values.sort()\n",
    "yt_max = y_test[-5:]\n",
    "print(yt_max)\n",
    "ymax_dif = yt_max - ypred_max\n",
    "stats.describe(ymax_dif)"
   ]
  },
  {
   "cell_type": "code",
   "execution_count": 105,
   "metadata": {},
   "outputs": [
    {
     "data": {
      "image/png": "[encoded data removed]",
      "text/plain": [
       "<Figure size 432x288 with 1 Axes>"
      ]
     },
     "metadata": {
      "needs_background": "light"
     },
     "output_type": "display_data"
    }
   ],
   "source": [
    "x23 = range(20)\n",
    "y23 = range(20)\n",
    "h = model3.predict(x_test1)\n",
    "plt.scatter(y_test1,h, c=\"g\")\n",
    "plt.plot(x23,y23, c=\"k\")\n",
    "plt.xlabel(\"True Values\")\n",
    "plt.ylabel(\"Predictions\")\n",
    "plt.savefig(\"graph.svg\")"
   ]
  },
  {
   "cell_type": "code",
   "execution_count": 106,
   "metadata": {},
   "outputs": [
    {
     "data": {
      "image/png": "[encoded data removed]",
      "text/plain": [
       "<Figure size 432x288 with 1 Axes>"
      ]
     },
     "metadata": {
      "needs_background": "light"
     },
     "output_type": "display_data"
    }
   ],
   "source": [
    "x23 = range(25)\n",
    "y23 = range(25)\n",
    "h = model.predict(x_test0)\n",
    "plt.scatter(y_test0,h, c=\"g\")\n",
    "plt.plot(x23,y23, c=\"k\")\n",
    "plt.xlabel(\"True Values\")\n",
    "plt.ylabel(\"Predictions\")\n",
    "plt.savefig(\"graph.svg\")"
   ]
  },
  {
   "cell_type": "code",
   "execution_count": 107,
   "metadata": {},
   "outputs": [
    {
     "data": {
      "image/png": "[encoded data removed]",
      "text/plain": [
       "<Figure size 432x288 with 1 Axes>"
      ]
     },
     "metadata": {
      "needs_background": "light"
     },
     "output_type": "display_data"
    }
   ],
   "source": [
    "x23 = range(25)\n",
    "y23 = range(25)\n",
    "h = model.predict(x_test0)\n",
    "i = model2.predict(x_test)\n",
    "plt.scatter(y_test,h,label = \"Linear\", c=\"b\")\n",
    "plt.scatter(y_test,i,label = \"Boosted\", c=\"r\")\n",
    "plt.plot(x23,y23, c=\"k\")\n",
    "plt.legend()\n",
    "plt.xlabel(\"True Values\")\n",
    "plt.ylabel(\"Predictions\")\n",
    "plt.savefig(\"graph.svg\")"
   ]
  },
  {
   "cell_type": "code",
   "execution_count": 108,
   "metadata": {},
   "outputs": [
    {
     "data": {
      "image/png": "[encoded data removed]",
      "text/plain": [
       "<Figure size 432x288 with 1 Axes>"
      ]
     },
     "metadata": {
      "needs_background": "light"
     },
     "output_type": "display_data"
    }
   ],
   "source": [
    "velo = [2.73,0.28,1.31,1.10,0.28,-3.69,-3.81]\n",
    "vc = pd.DataFrame([velo], columns = ['Rev Growth','GP Margin','R&D Margin', 'S&M Margin', 'G&A Margin','EBITDA Margin', 'Profit Margin'])\n",
    "vc = vc.drop(['G&A Margin'], axis=1)\n",
    "vc3 = vc.drop(['R&D Margin', 'S&M Margin'],axis=1) #AB\n",
    "vc4 = vc.drop(['R&D Margin', 'Profit Margin'],axis=1) #LM\n",
    "vc5 = vc.drop(['R&D Margin'],axis=1)\n",
    "vc6 = vc.drop(['Profit Margin'],axis=1)\n",
    "vc_test = 285/61\n",
    "t = 1.98062600245909 #consistent with sample size at 95% confidence interval\n",
    "x23 = range(100)\n",
    "y23 = range(100)\n",
    "vcp1 = model.predict(vc4)\n",
    "plt.scatter(vc_test,vcp1,label = \"Linear\", c=\"b\")\n",
    "vcp2 = model2.predict(vc3)\n",
    "plt.scatter(vc_test,vcp1,label = \"Boosted\", c=\"r\")\n",
    "plt.scatter(vc_test,vc_test,label = \"Actual\", c=\"g\")\n",
    "plt.legend()\n",
    "plt.xlabel(\"True Values\")\n",
    "plt.ylabel(\"Predictions\")\n",
    "plt.savefig(\"graph.svg\")"
   ]
  },
  {
   "cell_type": "code",
   "execution_count": 109,
   "metadata": {},
   "outputs": [
    {
     "data": {
      "image/png": "[encoded data removed]",
      "text/plain": [
       "<Figure size 432x288 with 1 Axes>"
      ]
     },
     "metadata": {
      "needs_background": "light"
     },
     "output_type": "display_data"
    }
   ],
   "source": [
    "crowd = [0.433,0.547,0.472,0.901,0.240,-0.967,-1.086]\n",
    "cr = pd.DataFrame([crowd], columns = ['Rev Growth','GP Margin','R&D Margin', 'S&M Margin', 'G&A Margin','EBITDA Margin', 'Profit Margin'])\n",
    "cr = cr.drop(['G&A Margin'], axis=1)\n",
    "cr3 = cr.drop(['R&D Margin', 'S&M Margin'],axis=1) #AB\n",
    "cr4 = cr.drop(['R&D Margin', 'Profit Margin'],axis=1) #LM\n",
    "cr_test = 3150/115.567\n",
    "t = 1.98062600245909 #consistent with sample size at 95% confidence interval\n",
    "x23 = range(100)\n",
    "y23 = range(100)\n",
    "crp1 = model.predict(cr4)\n",
    "plt.scatter(cr_test,crp1,label = \"Linear\", c=\"b\")\n",
    "crp2 = model2.predict(cr3)\n",
    "plt.scatter(cr_test,crp2,label = \"Boosted\", c=\"r\")\n",
    "plt.scatter(cr_test,cr_test,label = \"Actual\", c=\"g\")\n",
    "plt.legend()\n",
    "plt.xlabel(\"True Values\")\n",
    "plt.ylabel(\"Predictions\")\n",
    "plt.savefig(\"graph.svg\")"
   ]
  },
  {
   "cell_type": "code",
   "execution_count": 120,
   "metadata": {},
   "outputs": [
    {
     "ename": "NotFittedError",
     "evalue": "This StandardScaler instance is not fitted yet. Call 'fit' with appropriate arguments before using this method.",
     "output_type": "error",
     "traceback": [
      "\u001b[1;31m---------------------------------------------------------------------------\u001b[0m",
      "\u001b[1;31mNotFittedError\u001b[0m                            Traceback (most recent call last)",
      "\u001b[1;32m<ipython-input-120-3ad27fe8e2a5>\u001b[0m in \u001b[0;36m<module>\u001b[1;34m()\u001b[0m\n\u001b[0;32m      8\u001b[0m \u001b[0mx23\u001b[0m \u001b[1;33m=\u001b[0m \u001b[0mrange\u001b[0m\u001b[1;33m(\u001b[0m\u001b[1;36m100\u001b[0m\u001b[1;33m)\u001b[0m\u001b[1;33m\u001b[0m\u001b[0m\n\u001b[0;32m      9\u001b[0m \u001b[0my23\u001b[0m \u001b[1;33m=\u001b[0m \u001b[0mrange\u001b[0m\u001b[1;33m(\u001b[0m\u001b[1;36m100\u001b[0m\u001b[1;33m)\u001b[0m\u001b[1;33m\u001b[0m\u001b[0m\n\u001b[1;32m---> 10\u001b[1;33m \u001b[0mmsp1\u001b[0m \u001b[1;33m=\u001b[0m \u001b[0mmodel\u001b[0m\u001b[1;33m.\u001b[0m\u001b[0mpredict\u001b[0m\u001b[1;33m(\u001b[0m\u001b[0mms4\u001b[0m\u001b[1;33m)\u001b[0m\u001b[1;33m\u001b[0m\u001b[0m\n\u001b[0m\u001b[0;32m     11\u001b[0m \u001b[0mplt\u001b[0m\u001b[1;33m.\u001b[0m\u001b[0mscatter\u001b[0m\u001b[1;33m(\u001b[0m\u001b[0mms_test\u001b[0m\u001b[1;33m,\u001b[0m\u001b[0mmsp1\u001b[0m\u001b[1;33m,\u001b[0m\u001b[0mlabel\u001b[0m \u001b[1;33m=\u001b[0m \u001b[1;34m\"Linear\"\u001b[0m\u001b[1;33m,\u001b[0m \u001b[0mc\u001b[0m\u001b[1;33m=\u001b[0m\u001b[1;34m\"b\"\u001b[0m\u001b[1;33m)\u001b[0m\u001b[1;33m\u001b[0m\u001b[0m\n\u001b[0;32m     12\u001b[0m \u001b[0mmsp2\u001b[0m \u001b[1;33m=\u001b[0m \u001b[0mmodel2\u001b[0m\u001b[1;33m.\u001b[0m\u001b[0mpredict\u001b[0m\u001b[1;33m(\u001b[0m\u001b[0mms3\u001b[0m\u001b[1;33m)\u001b[0m\u001b[1;33m\u001b[0m\u001b[0m\n",
      "\u001b[1;32mC:\\ProgramData\\Anaconda3\\lib\\site-packages\\sklearn\\utils\\metaestimators.py\u001b[0m in \u001b[0;36m<lambda>\u001b[1;34m(*args, **kwargs)\u001b[0m\n\u001b[0;32m    113\u001b[0m \u001b[1;33m\u001b[0m\u001b[0m\n\u001b[0;32m    114\u001b[0m         \u001b[1;31m# lambda, but not partial, allows help() to work with update_wrapper\u001b[0m\u001b[1;33m\u001b[0m\u001b[1;33m\u001b[0m\u001b[0m\n\u001b[1;32m--> 115\u001b[1;33m         \u001b[0mout\u001b[0m \u001b[1;33m=\u001b[0m \u001b[1;32mlambda\u001b[0m \u001b[1;33m*\u001b[0m\u001b[0margs\u001b[0m\u001b[1;33m,\u001b[0m \u001b[1;33m**\u001b[0m\u001b[0mkwargs\u001b[0m\u001b[1;33m:\u001b[0m \u001b[0mself\u001b[0m\u001b[1;33m.\u001b[0m\u001b[0mfn\u001b[0m\u001b[1;33m(\u001b[0m\u001b[0mobj\u001b[0m\u001b[1;33m,\u001b[0m \u001b[1;33m*\u001b[0m\u001b[0margs\u001b[0m\u001b[1;33m,\u001b[0m \u001b[1;33m**\u001b[0m\u001b[0mkwargs\u001b[0m\u001b[1;33m)\u001b[0m\u001b[1;33m\u001b[0m\u001b[0m\n\u001b[0m\u001b[0;32m    116\u001b[0m         \u001b[1;31m# update the docstring of the returned function\u001b[0m\u001b[1;33m\u001b[0m\u001b[1;33m\u001b[0m\u001b[0m\n\u001b[0;32m    117\u001b[0m         \u001b[0mupdate_wrapper\u001b[0m\u001b[1;33m(\u001b[0m\u001b[0mout\u001b[0m\u001b[1;33m,\u001b[0m \u001b[0mself\u001b[0m\u001b[1;33m.\u001b[0m\u001b[0mfn\u001b[0m\u001b[1;33m)\u001b[0m\u001b[1;33m\u001b[0m\u001b[0m\n",
      "\u001b[1;32mC:\\ProgramData\\Anaconda3\\lib\\site-packages\\sklearn\\pipeline.py\u001b[0m in \u001b[0;36mpredict\u001b[1;34m(self, X)\u001b[0m\n\u001b[0;32m    304\u001b[0m         \u001b[1;32mfor\u001b[0m \u001b[0mname\u001b[0m\u001b[1;33m,\u001b[0m \u001b[0mtransform\u001b[0m \u001b[1;32min\u001b[0m \u001b[0mself\u001b[0m\u001b[1;33m.\u001b[0m\u001b[0msteps\u001b[0m\u001b[1;33m[\u001b[0m\u001b[1;33m:\u001b[0m\u001b[1;33m-\u001b[0m\u001b[1;36m1\u001b[0m\u001b[1;33m]\u001b[0m\u001b[1;33m:\u001b[0m\u001b[1;33m\u001b[0m\u001b[0m\n\u001b[0;32m    305\u001b[0m             \u001b[1;32mif\u001b[0m \u001b[0mtransform\u001b[0m \u001b[1;32mis\u001b[0m \u001b[1;32mnot\u001b[0m \u001b[1;32mNone\u001b[0m\u001b[1;33m:\u001b[0m\u001b[1;33m\u001b[0m\u001b[0m\n\u001b[1;32m--> 306\u001b[1;33m                 \u001b[0mXt\u001b[0m \u001b[1;33m=\u001b[0m \u001b[0mtransform\u001b[0m\u001b[1;33m.\u001b[0m\u001b[0mtransform\u001b[0m\u001b[1;33m(\u001b[0m\u001b[0mXt\u001b[0m\u001b[1;33m)\u001b[0m\u001b[1;33m\u001b[0m\u001b[0m\n\u001b[0m\u001b[0;32m    307\u001b[0m         \u001b[1;32mreturn\u001b[0m \u001b[0mself\u001b[0m\u001b[1;33m.\u001b[0m\u001b[0msteps\u001b[0m\u001b[1;33m[\u001b[0m\u001b[1;33m-\u001b[0m\u001b[1;36m1\u001b[0m\u001b[1;33m]\u001b[0m\u001b[1;33m[\u001b[0m\u001b[1;33m-\u001b[0m\u001b[1;36m1\u001b[0m\u001b[1;33m]\u001b[0m\u001b[1;33m.\u001b[0m\u001b[0mpredict\u001b[0m\u001b[1;33m(\u001b[0m\u001b[0mXt\u001b[0m\u001b[1;33m)\u001b[0m\u001b[1;33m\u001b[0m\u001b[0m\n\u001b[0;32m    308\u001b[0m \u001b[1;33m\u001b[0m\u001b[0m\n",
      "\u001b[1;32mC:\\ProgramData\\Anaconda3\\lib\\site-packages\\sklearn\\preprocessing\\data.py\u001b[0m in \u001b[0;36mtransform\u001b[1;34m(self, X, y, copy)\u001b[0m\n\u001b[0;32m    675\u001b[0m                           DeprecationWarning)\n\u001b[0;32m    676\u001b[0m \u001b[1;33m\u001b[0m\u001b[0m\n\u001b[1;32m--> 677\u001b[1;33m         \u001b[0mcheck_is_fitted\u001b[0m\u001b[1;33m(\u001b[0m\u001b[0mself\u001b[0m\u001b[1;33m,\u001b[0m \u001b[1;34m'scale_'\u001b[0m\u001b[1;33m)\u001b[0m\u001b[1;33m\u001b[0m\u001b[0m\n\u001b[0m\u001b[0;32m    678\u001b[0m \u001b[1;33m\u001b[0m\u001b[0m\n\u001b[0;32m    679\u001b[0m         \u001b[0mcopy\u001b[0m \u001b[1;33m=\u001b[0m \u001b[0mcopy\u001b[0m \u001b[1;32mif\u001b[0m \u001b[0mcopy\u001b[0m \u001b[1;32mis\u001b[0m \u001b[1;32mnot\u001b[0m \u001b[1;32mNone\u001b[0m \u001b[1;32melse\u001b[0m \u001b[0mself\u001b[0m\u001b[1;33m.\u001b[0m\u001b[0mcopy\u001b[0m\u001b[1;33m\u001b[0m\u001b[0m\n",
      "\u001b[1;32mC:\\ProgramData\\Anaconda3\\lib\\site-packages\\sklearn\\utils\\validation.py\u001b[0m in \u001b[0;36mcheck_is_fitted\u001b[1;34m(estimator, attributes, msg, all_or_any)\u001b[0m\n\u001b[0;32m    766\u001b[0m \u001b[1;33m\u001b[0m\u001b[0m\n\u001b[0;32m    767\u001b[0m     \u001b[1;32mif\u001b[0m \u001b[1;32mnot\u001b[0m \u001b[0mall_or_any\u001b[0m\u001b[1;33m(\u001b[0m\u001b[1;33m[\u001b[0m\u001b[0mhasattr\u001b[0m\u001b[1;33m(\u001b[0m\u001b[0mestimator\u001b[0m\u001b[1;33m,\u001b[0m \u001b[0mattr\u001b[0m\u001b[1;33m)\u001b[0m \u001b[1;32mfor\u001b[0m \u001b[0mattr\u001b[0m \u001b[1;32min\u001b[0m \u001b[0mattributes\u001b[0m\u001b[1;33m]\u001b[0m\u001b[1;33m)\u001b[0m\u001b[1;33m:\u001b[0m\u001b[1;33m\u001b[0m\u001b[0m\n\u001b[1;32m--> 768\u001b[1;33m         \u001b[1;32mraise\u001b[0m \u001b[0mNotFittedError\u001b[0m\u001b[1;33m(\u001b[0m\u001b[0mmsg\u001b[0m \u001b[1;33m%\u001b[0m \u001b[1;33m{\u001b[0m\u001b[1;34m'name'\u001b[0m\u001b[1;33m:\u001b[0m \u001b[0mtype\u001b[0m\u001b[1;33m(\u001b[0m\u001b[0mestimator\u001b[0m\u001b[1;33m)\u001b[0m\u001b[1;33m.\u001b[0m\u001b[0m__name__\u001b[0m\u001b[1;33m}\u001b[0m\u001b[1;33m)\u001b[0m\u001b[1;33m\u001b[0m\u001b[0m\n\u001b[0m\u001b[0;32m    769\u001b[0m \u001b[1;33m\u001b[0m\u001b[0m\n\u001b[0;32m    770\u001b[0m \u001b[1;33m\u001b[0m\u001b[0m\n",
      "\u001b[1;31mNotFittedError\u001b[0m: This StandardScaler instance is not fitted yet. Call 'fit' with appropriate arguments before using this method."
     ]
    }
   ],
   "source": [
    "meso = [1.685,.73,0.506,0.375,0.119,-3.25,-3.25]\n",
    "ms = pd.DataFrame([meso], columns = ['Rev Growth','GP Margin','R&D Margin', 'S&M Margin', 'G&A Margin','EBITDA Margin', 'Profit Margin'])\n",
    "ms = ms.drop(['G&A Margin'], axis=1)\n",
    "ms3 = ms.drop(['R&D Margin', 'S&M Margin'],axis=1) #AB\n",
    "ms4 = ms.drop(['R&D Margin', 'Profit Margin'],axis=1) #LM\n",
    "ms_test = 650/10.8\n",
    "t = 1.98062600245909 #consistent with sample size at 95% confidence interval\n",
    "x23 = range(100)\n",
    "y23 = range(100)\n",
    "msp1 = model.predict(ms4)\n",
    "plt.scatter(ms_test,msp1,label = \"Linear\", c=\"b\")\n",
    "msp2 = model2.predict(ms3)\n",
    "plt.scatter(ms_test,msp2,label = \"Boosted\", c=\"r\")\n",
    "plt.scatter(ms_test,ms_test,label = \"Actual\", c=\"g\")\n",
    "plt.legend()\n",
    "plt.xlabel(\"True Values\")\n",
    "plt.ylabel(\"Predictions\")\n",
    "plt.savefig(\"graph.svg\")"
   ]
  },
  {
   "cell_type": "code",
   "execution_count": 111,
   "metadata": {},
   "outputs": [
    {
     "data": {
      "image/png": "[encoded data removed]",
      "text/plain": [
       "<Figure size 432x288 with 1 Axes>"
      ]
     },
     "metadata": {
      "needs_background": "light"
     },
     "output_type": "display_data"
    }
   ],
   "source": [
    "meso = [.672,.73,0.506,0.375,0.119,-3.25,-3.25]\n",
    "ms = pd.DataFrame([meso], columns = ['Rev Growth','GP Margin','R&D Margin', 'S&M Margin', 'G&A Margin','EBITDA Margin', 'Profit Margin'])\n",
    "ms = ms.drop(['G&A Margin'], axis=1)\n",
    "ms3 = ms.drop(['R&D Margin', 'S&M Margin'],axis=1) #AB\n",
    "ms4 = ms.drop(['R&D Margin', 'Profit Margin'],axis=1) #LM\n",
    "ms_test = 650/19\n",
    "t = 1.98062600245909 #consistent with sample size at 95% confidence interval\n",
    "x23 = range(100)\n",
    "y23 = range(100)\n",
    "msp1 = model.predict(ms4)\n",
    "plt.scatter(ms_test,msp1,label = \"Linear\", c=\"b\")\n",
    "msp2 = model2.predict(ms3)\n",
    "plt.scatter(ms_test,msp2,label = \"Boosted\", c=\"r\")\n",
    "plt.scatter(ms_test,ms_test,label = \"Actual\", c=\"g\")\n",
    "plt.legend()\n",
    "plt.xlabel(\"True Values\")\n",
    "plt.ylabel(\"Predictions\")\n",
    "plt.savefig(\"graph.svg\")"
   ]
  },
  {
   "cell_type": "code",
   "execution_count": 112,
   "metadata": {},
   "outputs": [
    {
     "data": {
      "image/png": "[encoded data removed]",
      "text/plain": [
       "<Figure size 432x288 with 1 Axes>"
      ]
     },
     "metadata": {
      "needs_background": "light"
     },
     "output_type": "display_data"
    }
   ],
   "source": [
    "beam = [3.5341,0.82,0.12,0.09,0.240,-1.480,-1.02]\n",
    "bm = pd.DataFrame([beam], columns = ['Rev Growth','GP Margin','R&D Margin', 'S&M Margin', 'G&A Margin','EBITDA Margin', 'Profit Margin'])\n",
    "bm = bm.drop(['G&A Margin'], axis=1)\n",
    "bm3 = bm.drop(['R&D Margin', 'S&M Margin'],axis=1) #AB\n",
    "bm4 = bm.drop(['R&D Margin', 'Profit Margin'],axis=1) #LM\n",
    "bm_test = 350/24\n",
    "t = 1.98062600245909 #consistent with sample size at 95% confidence interval\n",
    "x23 = range(100)\n",
    "y23 = range(100)\n",
    "h = model.predict(bm4)\n",
    "plt.scatter(bm_test,h,label = \"Linear\", c=\"b\")\n",
    "l = model2.predict(bm3)\n",
    "plt.scatter(bm_test,l,label = \"Boosted\", c=\"r\")\n",
    "plt.scatter(bm_test,bm_test,label = \"Actual\", c=\"g\")\n",
    "plt.legend()\n",
    "plt.xlabel(\"True Values\")\n",
    "plt.ylabel(\"Predictions\")\n",
    "plt.savefig(\"graph.svg\")"
   ]
  },
  {
   "cell_type": "code",
   "execution_count": 113,
   "metadata": {},
   "outputs": [
    {
     "data": {
      "image/png": "[encoded data removed]",
      "text/plain": [
       "<Figure size 432x288 with 1 Axes>"
      ]
     },
     "metadata": {
      "needs_background": "light"
     },
     "output_type": "display_data"
    }
   ],
   "source": [
    "beam = [3.5341,0.82,0.12,0.09,0.240,-1.480,-1.02]\n",
    "bm = pd.DataFrame([beam], columns = ['Rev Growth','GP Margin','R&D Margin', 'S&M Margin', 'G&A Margin','EBITDA Margin', 'Profit Margin'])\n",
    "bm = bm.drop(['G&A Margin'], axis=1)\n",
    "bm3 = bm.drop(['R&D Margin', 'S&M Margin'],axis=1) #AB\n",
    "bm4 = bm.drop(['R&D Margin', 'Profit Margin'],axis=1) #LM\n",
    "bm_test = 350/24\n",
    "t = 1.98062600245909 #consistent with sample size at 95% confidence interval\n",
    "x23 = range(100)\n",
    "y23 = range(100)\n",
    "h = model.predict(bm4)\n",
    "l = model2.predict(bm3)\n",
    "dbp1 = model.predict(db4)\n",
    "dbp2 = model2.predict(db3)\n",
    "plt.scatter(db_test,dbp1, label = \"Linear\", c=\"b\")\n",
    "plt.scatter(db_test,dbp2, label = \"Boosted\", c=\"r\")\n",
    "plt.scatter(db_test,db_test, label = \"Actual\", c=\"g\")\n",
    "plt.scatter(bm_test,h,  c=\"b\")\n",
    "plt.scatter(bm_test,l, c=\"r\")\n",
    "plt.scatter(bm_test,bm_test, c=\"g\")\n",
    "plt.scatter(cr_test,crp1,c=\"b\")\n",
    "plt.scatter(cr_test,crp2,c=\"r\")\n",
    "plt.scatter(cr_test,cr_test, c= \"g\")\n",
    "plt.scatter(vc_test,vcp1, c=\"b\")\n",
    "plt.scatter(vc_test,vcp2, c=\"r\")\n",
    "plt.scatter(vc_test,vc_test, c= \"g\")\n",
    "plt.scatter(ms_test,msp1, c=\"b\")\n",
    "plt.scatter(ms_test,msp2,c=\"r\")\n",
    "plt.scatter(ms_test,ms_test, c=\"g\")\n",
    "plt.legend()\n",
    "plt.xlabel(\"True Values\")\n",
    "plt.ylabel(\"Predictions\")\n",
    "plt.savefig(\"graph.svg\")"
   ]
  },
  {
   "cell_type": "code",
   "execution_count": 121,
   "metadata": {},
   "outputs": [
    {
     "data": {
      "text/plain": [
       "<matplotlib.collections.PathCollection at 0x2968f2b7080>"
      ]
     },
     "execution_count": 121,
     "metadata": {},
     "output_type": "execute_result"
    },
    {
     "data": {
      "image/png": "[encoded data removed]",
      "text/plain": [
       "<Figure size 432x288 with 1 Axes>"
      ]
     },
     "metadata": {
      "needs_background": "light"
     },
     "output_type": "display_data"
    }
   ],
   "source": [
    "plt.scatter(db_test,dbp1, label = \"Linear\", c=\"b\")\n",
    "plt.scatter(db_test,dbp2, label = \"Boosted\", c=\"r\")\n",
    "plt.scatter(db_test,db_test, label = \"Actual\", c=\"g\")"
   ]
  },
  {
   "cell_type": "code",
   "execution_count": 114,
   "metadata": {},
   "outputs": [],
   "source": [
    "y_val = y.values.flatten()\n",
    "ytest_val = y_test.values.flatten()"
   ]
  },
  {
   "cell_type": "code",
   "execution_count": 115,
   "metadata": {},
   "outputs": [
    {
     "ename": "ValueError",
     "evalue": "operands could not be broadcast together with shapes (37,) (25,) ",
     "output_type": "error",
     "traceback": [
      "\u001b[1;31m---------------------------------------------------------------------------\u001b[0m",
      "\u001b[1;31mValueError\u001b[0m                                Traceback (most recent call last)",
      "\u001b[1;32m<ipython-input-115-b19366f7435d>\u001b[0m in \u001b[0;36m<module>\u001b[1;34m()\u001b[0m\n\u001b[0;32m      6\u001b[0m     \u001b[0mmodel\u001b[0m\u001b[1;33m.\u001b[0m\u001b[0mscore\u001b[0m\u001b[1;33m(\u001b[0m\u001b[0mx_test\u001b[0m\u001b[1;33m,\u001b[0m\u001b[0my_test\u001b[0m\u001b[1;33m)\u001b[0m\u001b[1;33m\u001b[0m\u001b[0m\n\u001b[0;32m      7\u001b[0m     \u001b[0myhat\u001b[0m \u001b[1;33m=\u001b[0m \u001b[0mmodel\u001b[0m\u001b[1;33m.\u001b[0m\u001b[0mpredict\u001b[0m\u001b[1;33m(\u001b[0m\u001b[0mx_test\u001b[0m\u001b[1;33m)\u001b[0m\u001b[1;33m.\u001b[0m\u001b[0mflatten\u001b[0m\u001b[1;33m(\u001b[0m\u001b[1;33m)\u001b[0m\u001b[1;33m\u001b[0m\u001b[0m\n\u001b[1;32m----> 8\u001b[1;33m     \u001b[0mSS_Residual1\u001b[0m \u001b[1;33m=\u001b[0m \u001b[0msum\u001b[0m\u001b[1;33m(\u001b[0m\u001b[1;33m(\u001b[0m\u001b[0mytest_val\u001b[0m\u001b[1;33m-\u001b[0m\u001b[0myhat\u001b[0m\u001b[1;33m)\u001b[0m\u001b[1;33m**\u001b[0m\u001b[1;36m2\u001b[0m\u001b[1;33m)\u001b[0m\u001b[1;33m\u001b[0m\u001b[0m\n\u001b[0m\u001b[0;32m      9\u001b[0m     \u001b[0mstd_err1\u001b[0m \u001b[1;33m=\u001b[0m \u001b[0mmath\u001b[0m\u001b[1;33m.\u001b[0m\u001b[0msqrt\u001b[0m\u001b[1;33m(\u001b[0m\u001b[0mSS_Residual1\u001b[0m\u001b[1;33m/\u001b[0m\u001b[1;36m121\u001b[0m\u001b[1;33m)\u001b[0m\u001b[1;33m\u001b[0m\u001b[0m\n\u001b[0;32m     10\u001b[0m     \u001b[0mmoe_1\u001b[0m \u001b[1;33m=\u001b[0m \u001b[0mstd_err1\u001b[0m \u001b[1;33m*\u001b[0m \u001b[1;36m1.1\u001b[0m \u001b[1;33m*\u001b[0m \u001b[0mt\u001b[0m\u001b[1;33m\u001b[0m\u001b[0m\n",
      "\u001b[1;31mValueError\u001b[0m: operands could not be broadcast together with shapes (37,) (25,) "
     ]
    }
   ],
   "source": [
    "variables = [x,a,b,c,d,e,f,g]\n",
    "for q in variables:\n",
    "    x_train, x_test, y_train, y_test = train_test_split(q, y, test_size=0.2, random_state=0)  \n",
    "    model = LinearRegression()\n",
    "    model.fit(x_train, y_train)\n",
    "    model.score(x_test,y_test)\n",
    "    yhat = model.predict(x_test).flatten()\n",
    "    SS_Residual1 = sum((ytest_val-yhat)**2)\n",
    "    std_err1 = math.sqrt(SS_Residual1/121)\n",
    "    moe_1 = std_err1 * 1.1 * t\n",
    "    SS_Total = sum((ytest_val-np.mean(ytest_val))**2)\n",
    "    r_squared = 1 - (float(SS_Residual1))/SS_Total\n",
    "    adjusted_r_squared = 1 - (1-r_squared)*(len(ytest_val)-1)/(len(ytest_val)-x_test.shape[1]-1)\n",
    "    print (adjusted_r_squared)"
   ]
  },
  {
   "cell_type": "code",
   "execution_count": 116,
   "metadata": {},
   "outputs": [
    {
     "data": {
      "text/plain": [
       "4    58\n",
       "7    22\n",
       "6    18\n",
       "1     1\n",
       "0     1\n",
       "dtype: int64"
      ]
     },
     "execution_count": 116,
     "metadata": {},
     "output_type": "execute_result"
    }
   ],
   "source": [
    "variables = [x,a,b,c,d,e,f,g] \n",
    "state = range (100)\n",
    "newdata={}\n",
    "for w in state:\n",
    "    col = []\n",
    "    for q in variables:\n",
    "        x_train, x_test, y_train, y_test = train_test_split(q, y, test_size=0.3, random_state=0)  \n",
    "        model2 = ensemble.AdaBoostRegressor(random_state=w)\n",
    "        model2.fit(x_train,y_train.values.ravel())\n",
    "        yhat = model2.predict(x_test).flatten()\n",
    "        SS_Residual1 = sum((ytest_val-yhat)**2)\n",
    "        SS_Total = sum((ytest_val-np.mean(ytest_val))**2)\n",
    "        r_squared = 1 - (float(SS_Residual1))/SS_Total\n",
    "        adjusted_r_squared = 1 - (1-r_squared)*(len(ytest_val)-1)/(len(ytest_val)-x_test.shape[1]-1)\n",
    "        col.append(adjusted_r_squared)\n",
    "        newdata[\"State{}\".format(w)] = col\n",
    "newcol = pd.DataFrame (newdata)      \n",
    "newcol.idxmax().value_counts()"
   ]
  },
  {
   "cell_type": "code",
   "execution_count": 117,
   "metadata": {},
   "outputs": [],
   "source": [
    "from sklearn.model_selection import train_test_split, KFold, cross_val_score # to split the data\n",
    "from sklearn.metrics import explained_variance_score, median_absolute_error, r2_score, mean_squared_error, accuracy_score, confusion_matrix, classification_report, fbeta_score #To evaluate our model\n",
    "\n",
    "from sklearn.grid_search import GridSearchCV"
   ]
  },
  {
   "cell_type": "code",
   "execution_count": 118,
   "metadata": {},
   "outputs": [],
   "source": [
    "from sklearn.linear_model import SGDRegressor\n",
    "from sklearn.model_selection import KFold, cross_val_score, train_test_split # Model evaluation\n",
    "from sklearn.preprocessing import LabelEncoder, OneHotEncoder, StandardScaler # Preprocessing\n",
    "from sklearn.linear_model import Lasso, Ridge, ElasticNet, RANSACRegressor, SGDRegressor, HuberRegressor, BayesianRidge # Linear models\n",
    "from sklearn.ensemble import RandomForestRegressor, BaggingRegressor, AdaBoostRegressor, GradientBoostingRegressor, ExtraTreesRegressor  # Ensemble methods\n",
    "from xgboost import XGBRegressor, plot_importance # XGBoost\n",
    "from sklearn.svm import SVR, SVC, LinearSVC  # Support Vector Regression\n",
    "from sklearn.tree import DecisionTreeRegressor # Decision Tree Regression\n",
    "from sklearn.neighbors import KNeighborsRegressor\n",
    "from sklearn.pipeline import Pipeline # Streaming pipelines\n",
    "from sklearn.decomposition import KernelPCA, PCA # Dimensionality reduction\n",
    "from sklearn.feature_selection import SelectFromModel # Dimensionality reduction\n",
    "from sklearn.model_selection import learning_curve, validation_curve, GridSearchCV # Model evaluation\n",
    "from sklearn.base import clone # Clone estimator\n",
    "from sklearn.metrics import mean_squared_error as MSE"
   ]
  },
  {
   "cell_type": "code",
   "execution_count": 122,
   "metadata": {},
   "outputs": [
    {
     "name": "stdout",
     "output_type": "stream",
     "text": [
      "Scaled_Ridge: 0.076473 (+/- 0.484741)\n",
      "Scaled_Lasso: 0.117250 (+/- 0.207435)\n",
      "Scaled_Elastic: 0.112937 (+/- 0.157539)\n",
      "Scaled_SVR: -0.167045 (+/- 0.984365)\n",
      "Scaled_RF_reg: 0.026864 (+/- 0.325945)\n",
      "Scaled_ET_reg: 0.278666 (+/- 0.220991)\n",
      "Scaled_BR_reg: 0.095905 (+/- 0.315426)\n",
      "Scaled_Hub-Reg: -0.159451 (+/- 0.941134)\n",
      "Scaled_BayRidge: 0.073528 (+/- 0.446911)\n",
      "Scaled_XGB_reg: 0.113765 (+/- 0.310067)\n",
      "Scaled_DT_reg: -0.912743 (+/- 1.150611)\n",
      "Scaled_KNN_reg: 0.160201 (+/- 0.249122)\n",
      "Scaled_ADA-Reg: 0.173902 (+/- 0.336624)\n",
      "Scaled_Linear: 0.072070 (+/- 0.499535)\n",
      "Scaled_Gboost-Reg: 0.040962 (+/- 0.368392)\n",
      "Scaled_RFR_PCA: 0.089247 (+/- 0.354739)\n",
      "Scaled_XGBR_PCA: -0.032488 (+/- 0.400904)\n"
     ]
    },
    {
     "data": {
      "image/png": "[encoded data removed]",
      "text/plain": [
       "<Figure size 1080x432 with 1 Axes>"
      ]
     },
     "metadata": {
      "needs_background": "light"
     },
     "output_type": "display_data"
    }
   ],
   "source": [
    "pipelines = []\n",
    "seed = 2\n",
    "\n",
    "pipelines.append(\n",
    "                (\"Scaled_Ridge\", \n",
    "                 Pipeline([\n",
    "                     (\"Scaler\", StandardScaler()), \n",
    "                     (\"Ridge\", Ridge(random_state=seed, tol=10 ))\n",
    "                      ]))\n",
    "                )\n",
    "pipelines.append(\n",
    "                (\"Scaled_Lasso\", \n",
    "                 Pipeline([\n",
    "                     (\"Scaler\", StandardScaler()), \n",
    "                     (\"Lasso\", Lasso(random_state=seed, tol=1))\n",
    "                      ]))\n",
    "                )\n",
    "pipelines.append(\n",
    "                (\"Scaled_Elastic\", \n",
    "                 Pipeline([\n",
    "                     (\"Scaler\", StandardScaler()), \n",
    "                     (\"Lasso\", ElasticNet(random_state=seed))\n",
    "                      ]))\n",
    "                )\n",
    "\n",
    "pipelines.append(\n",
    "                (\"Scaled_SVR\",\n",
    "                 Pipeline([\n",
    "                     (\"Scaler\", StandardScaler()),\n",
    "                     (\"SVR\",  SVR(kernel='linear', C=1e2, degree=5))\n",
    "                 ])\n",
    "                )\n",
    "                )\n",
    "\n",
    "pipelines.append(\n",
    "                (\"Scaled_RF_reg\",\n",
    "                 Pipeline([\n",
    "                     (\"Scaler\", StandardScaler()),\n",
    "                     (\"RF\", RandomForestRegressor(random_state=seed))\n",
    "                 ])\n",
    "                )\n",
    "                )\n",
    "\n",
    "pipelines.append(\n",
    "                (\"Scaled_ET_reg\",\n",
    "                 Pipeline([\n",
    "                     (\"Scaler\", StandardScaler()),\n",
    "                     (\"ET\", ExtraTreesRegressor(random_state=seed))\n",
    "                 ])\n",
    "                )\n",
    "                )\n",
    "pipelines.append(\n",
    "                (\"Scaled_BR_reg\",\n",
    "                 Pipeline([\n",
    "                     (\"Scaler\", StandardScaler()),\n",
    "                     (\"BR\", BaggingRegressor(random_state=seed))\n",
    "                 ]))) \n",
    "\n",
    "pipelines.append(\n",
    "                (\"Scaled_Hub-Reg\",\n",
    "                 Pipeline([\n",
    "                     (\"Scaler\", StandardScaler()),\n",
    "                     (\"Hub-Reg\", HuberRegressor())\n",
    "                 ]))) \n",
    "pipelines.append(\n",
    "                (\"Scaled_BayRidge\",\n",
    "                 Pipeline([\n",
    "                     (\"Scaler\", StandardScaler()),\n",
    "                     (\"BR\", BayesianRidge())\n",
    "                 ]))) \n",
    "\n",
    "pipelines.append(\n",
    "                (\"Scaled_XGB_reg\",\n",
    "                 Pipeline([\n",
    "                     (\"Scaler\", StandardScaler()),\n",
    "                     (\"XGBR\", XGBRegressor(seed=seed))\n",
    "                 ]))) \n",
    "\n",
    "pipelines.append(\n",
    "                (\"Scaled_DT_reg\",\n",
    "                 Pipeline([\n",
    "                     (\"Scaler\", StandardScaler()),\n",
    "                     (\"DT_reg\", DecisionTreeRegressor())\n",
    "                 ]))) \n",
    "\n",
    "pipelines.append(\n",
    "                (\"Scaled_KNN_reg\",\n",
    "                 Pipeline([\n",
    "                     (\"Scaler\", StandardScaler()),\n",
    "                     (\"KNN_reg\", KNeighborsRegressor())\n",
    "                 ])))\n",
    "pipelines.append(\n",
    "                (\"Scaled_ADA-Reg\",\n",
    "                 Pipeline([\n",
    "                     (\"Scaler\", StandardScaler()),\n",
    "                     (\"ADA-reg\", AdaBoostRegressor())\n",
    "                 ]))) \n",
    "\n",
    "pipelines.append(\n",
    "                (\"Scaled_Linear\",\n",
    "                 Pipeline([\n",
    "                     (\"Scaler\", StandardScaler()),\n",
    "                     (\"Linear\", LinearRegression())\n",
    "                 ]))) \n",
    "\n",
    "pipelines.append(\n",
    "                (\"Scaled_Gboost-Reg\",\n",
    "                 Pipeline([\n",
    "                     (\"Scaler\", StandardScaler()),\n",
    "                     (\"GBoost-Reg\", GradientBoostingRegressor())\n",
    "                 ])))\n",
    "\n",
    "pipelines.append(\n",
    "                (\"Scaled_RFR_PCA\",\n",
    "                 Pipeline([\n",
    "                     (\"Scaler\", StandardScaler()),\n",
    "                     (\"PCA\", PCA(n_components=3)),\n",
    "                     (\"XGB\", RandomForestRegressor())\n",
    "                 ])))\n",
    "\n",
    "pipelines.append(\n",
    "                (\"Scaled_XGBR_PCA\",\n",
    "                 Pipeline([\n",
    "                     (\"Scaler\", StandardScaler()),\n",
    "                     (\"PCA\", PCA(n_components=3)),\n",
    "                     (\"XGB\", XGBRegressor())\n",
    "                 ])))\n",
    "\n",
    "#'neg_mean_absolute_error', 'neg_mean_squared_error','r2'\n",
    "scoring = 'r2'\n",
    "n_folds = 7\n",
    "\n",
    "results, names  = [], [] \n",
    "\n",
    "for name, model  in pipelines:\n",
    "    kfold = KFold(n_splits=n_folds, random_state=seed)\n",
    "    cv_results = cross_val_score(model, x_train0, y_train0, cv= kfold,\n",
    "                                 scoring=scoring, n_jobs=-1)    \n",
    "    names.append(name)\n",
    "    results.append(cv_results)    \n",
    "    msg = \"%s: %f (+/- %f)\" % (name, cv_results.mean(),  cv_results.std())\n",
    "    print(msg)\n",
    "    \n",
    "# boxplot algorithm comparison\n",
    "fig = plt.figure(figsize=(15,6))\n",
    "fig.suptitle('Algorithm Comparison', fontsize=22)\n",
    "ax = fig.add_subplot(111)\n",
    "sns.boxplot(x=names, y=results)\n",
    "ax.set_xticklabels(names)\n",
    "ax.set_xlabel(\"Algorithmn Name\", fontsize=20)\n",
    "ax.set_ylabel(\"R Squared Score of Models\", fontsize=18)\n",
    "ax.set_xticklabels(ax.get_xticklabels(),rotation=45)\n",
    "plt.show()"
   ]
  },
  {
   "cell_type": "code",
   "execution_count": null,
   "metadata": {},
   "outputs": [],
   "source": []
  }
 ],
 "metadata": {
  "kernelspec": {
   "display_name": "Python 3",
   "language": "python",
   "name": "python3"
  },
  "language_info": {
   "codemirror_mode": {
    "name": "ipython",
    "version": 3
   },
   "file_extension": ".py",
   "mimetype": "text/x-python",
   "name": "python",
   "nbconvert_exporter": "python",
   "pygments_lexer": "ipython3",
   "version": "3.7.0"
  }
 },
 "nbformat": 4,
 "nbformat_minor": 2
}
