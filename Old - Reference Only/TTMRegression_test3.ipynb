{
 "cells": [
  {
   "cell_type": "raw",
   "metadata": {},
   "source": [
    "IMPORT"
   ]
  },
  {
   "cell_type": "code",
   "execution_count": 1,
   "metadata": {},
   "outputs": [
    {
     "name": "stderr",
     "output_type": "stream",
     "text": [
      "C:\\ProgramData\\Anaconda3\\lib\\site-packages\\sklearn\\ensemble\\weight_boosting.py:29: DeprecationWarning: numpy.core.umath_tests is an internal NumPy module and should not be imported. It will be removed in a future NumPy release.\n",
      "  from numpy.core.umath_tests import inner1d\n"
     ]
    }
   ],
   "source": [
    "from sklearn import tree\n",
    "from sklearn.tree import DecisionTreeRegressor  \n",
    "from sklearn.linear_model import LinearRegression\n",
    "from sklearn.model_selection import train_test_split  \n",
    "import pandas as pd \n",
    "import numpy as np \n",
    "import statsmodels.api as sm\n",
    "import matplotlib.pyplot as plt  \n",
    "%matplotlib inline\n",
    "from sklearn import ensemble\n",
    "from collections import defaultdict\n",
    "import plotly.plotly as py\n",
    "import plotly.graph_objs as go\n",
    "from plotly import tools\n",
    "from mpl_toolkits.mplot3d import Axes3D\n",
    "from scipy import stats\n",
    "import math\n",
    "from sklearn.metrics import mean_squared_error\n",
    "import sys"
   ]
  },
  {
   "cell_type": "code",
   "execution_count": 2,
   "metadata": {},
   "outputs": [],
   "source": [
    "df = pd.read_csv('NewCompsData5.csv', names=['Company','EV','TTM Revenue','Ev/Rev Multiple','Rev Growth','GP Margin','R&D Margin', 'S&M Margin', 'EBITDA Margin', 'Profit Margin'])\n",
    "df[['EV','TTM Revenue','Ev/Rev Multiple','Rev Growth','GP Margin','R&D Margin', 'S&M Margin', 'EBITDA Margin', 'Profit Margin']] = df[['EV', 'TTM Revenue','Ev/Rev Multiple','Rev Growth','GP Margin','R&D Margin', 'S&M Margin', 'EBITDA Margin', 'Profit Margin']].apply(pd.to_numeric)\n",
    "x = df[['EV', 'TTM Revenue','Rev Growth','GP Margin','R&D Margin', 'S&M Margin', 'EBITDA Margin', 'Profit Margin']] #use\n",
    "y = df[['Ev/Rev Multiple']]\n",
    "a = df[['EV', 'TTM Revenue','Rev Growth','GP Margin','EBITDA Margin']] #use\n",
    "b = df[['EV', 'TTM Revenue','Rev Growth','GP Margin','EBITDA Margin','R&D Margin',]] #use\n",
    "c = df[['EV', 'TTM Revenue','Rev Growth','GP Margin','EBITDA Margin','S&M Margin']] #use\n",
    "d = df[['EV', 'TTM Revenue','Rev Growth','GP Margin','EBITDA Margin', 'Profit Margin']] #use\n",
    "e = df[['EV', 'TTM Revenue','Rev Growth','GP Margin', 'EBITDA Margin','R&D Margin', 'S&M Margin']] #use\n",
    "f = df[['EV', 'TTM Revenue','Rev Growth','GP Margin', 'EBITDA Margin','R&D Margin', 'Profit Margin']] #use\n",
    "g = df[['EV', 'TTM Revenue','Rev Growth','GP Margin', 'EBITDA Margin','S&M Margin', 'Profit Margin']] #use"
   ]
  },
  {
   "cell_type": "code",
   "execution_count": 3,
   "metadata": {},
   "outputs": [],
   "source": [
    "databricks = [0.951862931344295,0.671300585943595,0.577080777881529,0.981899434820076,0.261273981475219,-1.14895360823323,-1.11333236039661]\n",
    "db = pd.DataFrame([databricks], columns = ['Rev Growth','GP Margin','R&D Margin', 'S&M Margin', 'G&A Margin','EBITDA Margin', 'Profit Margin'])\n",
    "db = db.drop(['G&A Margin'], axis=1)\n",
    "db3 = db.drop(['R&D Margin', 'S&M Margin'],axis=1) #AB\n",
    "db4 = db.drop(['R&D Margin', 'Profit Margin'],axis=1) #LM\n",
    "db5 = db.drop(['R&D Margin'],axis=1)\n",
    "db6 = db.drop(['Profit Margin'],axis=1)\n",
    "db_test = 1600/66.65488\n",
    "t = 1.98062600245909 #consistent with sample size at 95% confidence interval"
   ]
  },
  {
   "cell_type": "raw",
   "metadata": {},
   "source": [
    "Models "
   ]
  },
  {
   "cell_type": "code",
   "execution_count": 12,
   "metadata": {},
   "outputs": [
    {
     "ename": "NameError",
     "evalue": "name 'x_train4' is not defined",
     "output_type": "error",
     "traceback": [
      "\u001b[1;31m---------------------------------------------------------------------------\u001b[0m",
      "\u001b[1;31mNameError\u001b[0m                                 Traceback (most recent call last)",
      "\u001b[1;32m<ipython-input-12-9586019a3278>\u001b[0m in \u001b[0;36m<module>\u001b[1;34m()\u001b[0m\n\u001b[0;32m     27\u001b[0m         \u001b[0mprint\u001b[0m \u001b[1;33m(\u001b[0m\u001b[0mr_squared\u001b[0m\u001b[1;33m,\u001b[0m\u001b[0madjusted_r_squared\u001b[0m\u001b[1;33m)\u001b[0m\u001b[1;33m\u001b[0m\u001b[0m\n\u001b[0;32m     28\u001b[0m \u001b[1;33m\u001b[0m\u001b[0m\n\u001b[1;32m---> 29\u001b[1;33m \u001b[0mm1\u001b[0m \u001b[1;33m=\u001b[0m \u001b[0mCalculatingStats\u001b[0m\u001b[1;33m(\u001b[0m\u001b[0ma\u001b[0m\u001b[1;33m,\u001b[0m \u001b[0mx_train4\u001b[0m\u001b[1;33m,\u001b[0m \u001b[0mx_test4\u001b[0m\u001b[1;33m,\u001b[0m \u001b[0my_train4\u001b[0m\u001b[1;33m,\u001b[0m \u001b[0my_test4\u001b[0m\u001b[1;33m)\u001b[0m\u001b[1;33m\u001b[0m\u001b[0m\n\u001b[0m\u001b[0;32m     30\u001b[0m \u001b[0mm1\u001b[0m\u001b[1;33m.\u001b[0m\u001b[0mmyfunc\u001b[0m\u001b[1;33m(\u001b[0m\u001b[1;33m)\u001b[0m\u001b[1;33m\u001b[0m\u001b[0m\n\u001b[0;32m     31\u001b[0m \u001b[1;33m\u001b[0m\u001b[0m\n",
      "\u001b[1;31mNameError\u001b[0m: name 'x_train4' is not defined"
     ]
    }
   ],
   "source": [
    "class CalculatingStats:\n",
    "  def __init__(model, variable, xtrain, xtest, ytrain, ytest):\n",
    "    model.variable = variable\n",
    "    model.xtrain = xtrain\n",
    "    model.xtest = xtest\n",
    "    model.ytrain = ytrain\n",
    "    model.ytest = ytest\n",
    "    \n",
    "    def myfunc(model):  \n",
    "        model.xtrain, model.xtest, model.ytrain, model.ytest = train_test_split(a, y, test_size=0.3, random_state=0)#ALL\n",
    "        \n",
    "        model = LinearRegression()\n",
    "        model = model.fit(x_train4, y_train4) \n",
    "        model.score(x_test4,y_test4)\n",
    "            \n",
    "        y_val = y.values.flatten()\n",
    "        ytest_val = model.ytest.values.flatten()\n",
    "\n",
    "        yhat = model.predict(model.variable).flatten()\n",
    "        SS_Residual1 = sum((y_val-yhat)**2)\n",
    "        std_err1 = math.sqrt(SS_Residual1/121)\n",
    "        moe_1 = std_err1 * 1.1 * t\n",
    "        print (std_err1,moe_1)\n",
    "        SS_Total = sum((y_val-np.mean(y_val))**2)\n",
    "        r_squared = 1 - (float(SS_Residual1))/SS_Total\n",
    "        adjusted_r_squared = 1 - (1-r_squared)*(len(y_val)-1)/(len(y_val)-x.shape[1]-1)\n",
    "        print (r_squared,adjusted_r_squared)\n",
    "\n",
    "m1 = CalculatingStats(a, x_train4, x_test4, y_train4, y_test4)\n",
    "m1.myfunc()\n",
    "\n",
    "class Person:\n",
    "  def __init__(mysillyobject, name, age):\n",
    "    mysillyobject.name = name\n",
    "    mysillyobject.age = age\n",
    "\n",
    "  def myfunc(abc):\n",
    "    print(\"Hello my name is \" + abc.name)\n",
    "\n",
    "p1 = Person(\"John\", 36)\n",
    "p1.myfunc()"
   ]
  },
  {
   "cell_type": "code",
   "execution_count": 30,
   "metadata": {},
   "outputs": [],
   "source": [
    "x_train, x_test, y_train, y_test = train_test_split(x, y, test_size=0.3, random_state=0)#ALL"
   ]
  },
  {
   "cell_type": "code",
   "execution_count": 31,
   "metadata": {},
   "outputs": [],
   "source": [
    "def model (xvar, yvar):\n",
    "        \n",
    "        model = LinearRegression()\n",
    "        model = model.fit(x_train, y_train) \n",
    "        model.score(x_test,y_test)\n",
    "            \n",
    "        y_val = yvar.values.flatten()\n",
    "        ytest_val = y_test.values.flatten()\n",
    "\n",
    "        yhat = model.predict(model.variable).flatten()\n",
    "        SS_Residual1 = sum((y_val-yhat)**2)\n",
    "        std_err1 = math.sqrt(SS_Residual1/121)\n",
    "        moe_1 = std_err1 * 1.1 * t\n",
    "        print (std_err1,moe_1)\n",
    "        SS_Total = sum((y_val-np.mean(y_val))**2)\n",
    "        r_squared = 1 - (float(SS_Residual1))/SS_Total\n",
    "        adjusted_r_squared = 1 - (1-r_squared)*(len(y_val)-1)/(len(y_val)-x.shape[1]-1)\n",
    "        print (r_squared,adjusted_r_squared)"
   ]
  },
  {
   "cell_type": "code",
   "execution_count": 32,
   "metadata": {},
   "outputs": [
    {
     "ename": "AttributeError",
     "evalue": "'LinearRegression' object has no attribute 'variable'",
     "output_type": "error",
     "traceback": [
      "\u001b[1;31m---------------------------------------------------------------------------\u001b[0m",
      "\u001b[1;31mAttributeError\u001b[0m                            Traceback (most recent call last)",
      "\u001b[1;32m<ipython-input-32-728bd1cd8b16>\u001b[0m in \u001b[0;36m<module>\u001b[1;34m()\u001b[0m\n\u001b[1;32m----> 1\u001b[1;33m \u001b[0mmodel\u001b[0m \u001b[1;33m(\u001b[0m\u001b[0mx\u001b[0m\u001b[1;33m,\u001b[0m \u001b[0my\u001b[0m \u001b[1;33m)\u001b[0m\u001b[1;33m\u001b[0m\u001b[0m\n\u001b[0m",
      "\u001b[1;32m<ipython-input-31-9647a156b291>\u001b[0m in \u001b[0;36mmodel\u001b[1;34m(xvar, yvar)\u001b[0m\n\u001b[0;32m      8\u001b[0m         \u001b[0mytest_val\u001b[0m \u001b[1;33m=\u001b[0m \u001b[0my_test\u001b[0m\u001b[1;33m.\u001b[0m\u001b[0mvalues\u001b[0m\u001b[1;33m.\u001b[0m\u001b[0mflatten\u001b[0m\u001b[1;33m(\u001b[0m\u001b[1;33m)\u001b[0m\u001b[1;33m\u001b[0m\u001b[0m\n\u001b[0;32m      9\u001b[0m \u001b[1;33m\u001b[0m\u001b[0m\n\u001b[1;32m---> 10\u001b[1;33m         \u001b[0myhat\u001b[0m \u001b[1;33m=\u001b[0m \u001b[0mmodel\u001b[0m\u001b[1;33m.\u001b[0m\u001b[0mpredict\u001b[0m\u001b[1;33m(\u001b[0m\u001b[0mmodel\u001b[0m\u001b[1;33m.\u001b[0m\u001b[0mvariable\u001b[0m\u001b[1;33m)\u001b[0m\u001b[1;33m.\u001b[0m\u001b[0mflatten\u001b[0m\u001b[1;33m(\u001b[0m\u001b[1;33m)\u001b[0m\u001b[1;33m\u001b[0m\u001b[0m\n\u001b[0m\u001b[0;32m     11\u001b[0m         \u001b[0mSS_Residual1\u001b[0m \u001b[1;33m=\u001b[0m \u001b[0msum\u001b[0m\u001b[1;33m(\u001b[0m\u001b[1;33m(\u001b[0m\u001b[0my_val\u001b[0m\u001b[1;33m-\u001b[0m\u001b[0myhat\u001b[0m\u001b[1;33m)\u001b[0m\u001b[1;33m**\u001b[0m\u001b[1;36m2\u001b[0m\u001b[1;33m)\u001b[0m\u001b[1;33m\u001b[0m\u001b[0m\n\u001b[0;32m     12\u001b[0m         \u001b[0mstd_err1\u001b[0m \u001b[1;33m=\u001b[0m \u001b[0mmath\u001b[0m\u001b[1;33m.\u001b[0m\u001b[0msqrt\u001b[0m\u001b[1;33m(\u001b[0m\u001b[0mSS_Residual1\u001b[0m\u001b[1;33m/\u001b[0m\u001b[1;36m121\u001b[0m\u001b[1;33m)\u001b[0m\u001b[1;33m\u001b[0m\u001b[0m\n",
      "\u001b[1;31mAttributeError\u001b[0m: 'LinearRegression' object has no attribute 'variable'"
     ]
    }
   ],
   "source": [
    "model (x, y )"
   ]
  },
  {
   "cell_type": "code",
   "execution_count": 5,
   "metadata": {},
   "outputs": [],
   "source": [
    "x_train1, x_test1, y_train1, y_test1 = train_test_split(x, y, test_size=0.3, random_state=0)#ALL"
   ]
  },
  {
   "cell_type": "code",
   "execution_count": 6,
   "metadata": {},
   "outputs": [],
   "source": [
    "x_train0, x_test0, y_train0, y_test0 = train_test_split(c, y, test_size=0.3, random_state=0)#LM"
   ]
  },
  {
   "cell_type": "code",
   "execution_count": 7,
   "metadata": {},
   "outputs": [],
   "source": [
    "x_train, x_test, y_train, y_test = train_test_split(d, y, test_size=0.3, random_state=0)#AB"
   ]
  },
  {
   "cell_type": "code",
   "execution_count": 8,
   "metadata": {},
   "outputs": [],
   "source": [
    "x_train2, x_test2, y_train2, y_test2 = train_test_split(g, y, test_size=0.3, random_state=0)#ALL"
   ]
  },
  {
   "cell_type": "code",
   "execution_count": 9,
   "metadata": {},
   "outputs": [],
   "source": [
    "x_train3, x_test3, y_train3, y_test3 = train_test_split(e, y, test_size=0.3, random_state=0)#ALL"
   ]
  },
  {
   "cell_type": "code",
   "execution_count": 10,
   "metadata": {},
   "outputs": [],
   "source": [
    "x_train, x_test, y_train, y_test = train_test_split(a, y, test_size=0.3, random_state=0)#ALL"
   ]
  },
  {
   "cell_type": "raw",
   "metadata": {},
   "source": [
    "INPUT VARS"
   ]
  },
  {
   "cell_type": "code",
   "execution_count": 11,
   "metadata": {},
   "outputs": [
    {
     "ename": "NameError",
     "evalue": "name 'xtrain2' is not defined",
     "output_type": "error",
     "traceback": [
      "\u001b[1;31m---------------------------------------------------------------------------\u001b[0m",
      "\u001b[1;31mNameError\u001b[0m                                 Traceback (most recent call last)",
      "\u001b[1;32m<ipython-input-11-42081d2ce10f>\u001b[0m in \u001b[0;36m<module>\u001b[1;34m()\u001b[0m\n\u001b[0;32m      1\u001b[0m \u001b[0mmodelvar\u001b[0m \u001b[1;33m=\u001b[0m \u001b[0ma\u001b[0m\u001b[1;33m\u001b[0m\u001b[0m\n\u001b[1;32m----> 2\u001b[1;33m \u001b[0mmodelxtrain\u001b[0m \u001b[1;33m=\u001b[0m \u001b[0mxtrain2\u001b[0m\u001b[1;33m\u001b[0m\u001b[0m\n\u001b[0m\u001b[0;32m      3\u001b[0m \u001b[0mmodel2var\u001b[0m \u001b[1;33m=\u001b[0m \u001b[0ma\u001b[0m\u001b[1;33m\u001b[0m\u001b[0m\n",
      "\u001b[1;31mNameError\u001b[0m: name 'xtrain2' is not defined"
     ]
    }
   ],
   "source": [
    "modelvar = a\n",
    "modelxtrain = xtrain2\n",
    "model2var = a"
   ]
  },
  {
   "cell_type": "code",
   "execution_count": null,
   "metadata": {},
   "outputs": [],
   "source": [
    "modelxtrain = \"xtrain%s\" % (modelnum)\n",
    "modelxtest = \"xtest%s\" % (modelnum)\n",
    "modelytrain = \"ytrain%s\" % (modelnum)\n",
    "modelytest = \"ytest%s\" % (modelnum)\n",
    "\n",
    "model2xtrain = \"xtrain%s\" % (model2num)\n",
    "model2xtest = \"xtest%s\" % (model2num)\n",
    "model2ytrain = \"ytrain%s\" % (modelnum)\n",
    "model2ytest = \"ytest%s\" % (modelnum)"
   ]
  },
  {
   "cell_type": "code",
   "execution_count": null,
   "metadata": {},
   "outputs": [],
   "source": [
    "modelxtrain"
   ]
  },
  {
   "cell_type": "raw",
   "metadata": {},
   "source": [
    "MODEL TRAINING"
   ]
  },
  {
   "cell_type": "code",
   "execution_count": null,
   "metadata": {},
   "outputs": [],
   "source": [
    "y_val = y.values.flatten()\n",
    "ytest_val = y_test.values.flatten()"
   ]
  },
  {
   "cell_type": "code",
   "execution_count": null,
   "metadata": {},
   "outputs": [],
   "source": [
    "model = LinearRegression()\n",
    "model = model.fit(x_train4, y_train4) \n",
    "model.score(x_test4,y_test4)"
   ]
  },
  {
   "cell_type": "code",
   "execution_count": null,
   "metadata": {},
   "outputs": [],
   "source": [
    "model2 = ensemble.AdaBoostRegressor(random_state=0)\n",
    "model2 = model2.fit(x_train4,y_train4.values.ravel())\n",
    "model2.score(x_test4,y_test4)"
   ]
  },
  {
   "cell_type": "code",
   "execution_count": null,
   "metadata": {},
   "outputs": [],
   "source": [
    "for idx, col_name in enumerate(modelxtrain.columns):\n",
    "    print(\"The coefficient for {} is {}\".format(col_name, model.coef_[0][idx]))\n",
    "intercept = model.intercept_[0]\n",
    "print(\"The intercept for our model is {}\".format(intercept))"
   ]
  },
  {
   "cell_type": "code",
   "execution_count": null,
   "metadata": {},
   "outputs": [],
   "source": [
    "model3 = ensemble.AdaBoostRegressor(random_state=0)\n",
    "model3 = model3.fit(x_train1,y_train1.values.ravel())\n",
    "model3.score(x_test1,y_test1)"
   ]
  },
  {
   "cell_type": "code",
   "execution_count": null,
   "metadata": {},
   "outputs": [],
   "source": [
    "model3 = ensemble.AdaBoostRegressor(random_state=0)\n",
    "model3 = model3.fit(x_train1,y_train1.values.ravel())\n",
    "model3.score(x_test1,y_test1)"
   ]
  },
  {
   "cell_type": "code",
   "execution_count": null,
   "metadata": {},
   "outputs": [],
   "source": [
    "model4 = ensemble.AdaBoostRegressor(random_state=0)\n",
    "model4 = model4.fit(x_train2,y_train2.values.ravel())\n",
    "model4.score(x_test2,y_test2)"
   ]
  },
  {
   "cell_type": "code",
   "execution_count": null,
   "metadata": {},
   "outputs": [],
   "source": [
    "model5 = ensemble.AdaBoostRegressor(random_state=0)\n",
    "model5 = model5.fit(x_train3,y_train3.values.ravel())\n",
    "model5.score(x_test3,y_test3)"
   ]
  },
  {
   "cell_type": "code",
   "execution_count": null,
   "metadata": {},
   "outputs": [],
   "source": [
    "model6 = ensemble.GradientBoostingRegressor(random_state=0)\n",
    "model6 = model6.fit(x_train,y_train.values.ravel())\n",
    "model6.score(x_test,y_test)"
   ]
  },
  {
   "cell_type": "code",
   "execution_count": null,
   "metadata": {},
   "outputs": [],
   "source": [
    "print (model.predict(db4), model2.predict(db3), model3.predict(db),model4.predict(db5),model5.predict(db6),model6.predict(db3) )"
   ]
  },
  {
   "cell_type": "raw",
   "metadata": {},
   "source": [
    "Calculating Stats (FULL SAMPLE)"
   ]
  },
  {
   "cell_type": "code",
   "execution_count": null,
   "metadata": {},
   "outputs": [],
   "source": [
    "class CalculatingStats:\n",
    "  def __init__(model, variable, xtrain, xtest, ytrain, ytest):\n",
    "    model.variable = variable\n",
    "    model.xtrain = xtrain\n",
    "    model.xtest = xtest\n",
    "    model.ytrain = ytrain\n",
    "    model.ytest = ytest\n",
    "    \n",
    "    def myfunc(model):  \n",
    "        model.xtrain, model.xtest, model.ytrain, model.ytest = train_test_split(a, y, test_size=0.3, random_state=0)#ALL\n",
    "        \n",
    "        y_val = y.values.flatten()\n",
    "        ytest_val = model.ytest.values.flatten()\n",
    "\n",
    "        yhat = model.predict(model.variable).flatten()\n",
    "        SS_Residual1 = sum((y_val-yhat)**2)\n",
    "        std_err1 = math.sqrt(SS_Residual1/121)\n",
    "        moe_1 = std_err1 * 1.1 * t\n",
    "        print (std_err1,moe_1)\n",
    "        SS_Total = sum((y_val-np.mean(y_val))**2)\n",
    "        r_squared = 1 - (float(SS_Residual1))/SS_Total\n",
    "        adjusted_r_squared = 1 - (1-r_squared)*(len(y_val)-1)/(len(y_val)-x.shape[1]-1)\n",
    "        print (r_squared,adjusted_r_squared)\n",
    "\n",
    "m1 = CalculatingStats(a, x_train4, x_test4, y_train4, y_test4)\n",
    "m1.myfunc()\n",
    "\n",
    "class Person:\n",
    "  def __init__(mysillyobject, name, age):\n",
    "    mysillyobject.name = name\n",
    "    mysillyobject.age = age\n",
    "\n",
    "  def myfunc(abc):\n",
    "    print(\"Hello my name is \" + abc.name)\n",
    "\n",
    "p1 = Person(\"John\", 36)\n",
    "p1.myfunc()"
   ]
  },
  {
   "cell_type": "code",
   "execution_count": null,
   "metadata": {},
   "outputs": [],
   "source": [
    "yhat = model2.predict(model2var)\n",
    "yhat = yhat.flatten()\n",
    "SS_Residual2 = sum((y_val-yhat)**2)\n",
    "std_err2 = math.sqrt(SS_Residual2/121)\n",
    "moe_2 = std_err2 * 1.1 * t\n",
    "print (std_err2,moe_2)\n",
    "SS_Total = sum((y_val-np.mean(y_val))**2)\n",
    "r_squared = 1 - (float(SS_Residual2))/SS_Total\n",
    "adjusted_r_squared = 1 - (1-r_squared)*(len(y_val)-1)/(len(y_val)-x.shape[1]-1)\n",
    "print (r_squared,adjusted_r_squared)"
   ]
  },
  {
   "cell_type": "raw",
   "metadata": {},
   "source": [
    "Stats (TEST SAMPLE)"
   ]
  },
  {
   "cell_type": "code",
   "execution_count": 33,
   "metadata": {},
   "outputs": [
    {
     "ename": "AttributeError",
     "evalue": "'function' object has no attribute 'predict'",
     "output_type": "error",
     "traceback": [
      "\u001b[1;31m---------------------------------------------------------------------------\u001b[0m",
      "\u001b[1;31mAttributeError\u001b[0m                            Traceback (most recent call last)",
      "\u001b[1;32m<ipython-input-33-cdb2864e7bbe>\u001b[0m in \u001b[0;36m<module>\u001b[1;34m()\u001b[0m\n\u001b[1;32m----> 1\u001b[1;33m \u001b[0myhat\u001b[0m \u001b[1;33m=\u001b[0m \u001b[0mmodel\u001b[0m\u001b[1;33m.\u001b[0m\u001b[0mpredict\u001b[0m\u001b[1;33m(\u001b[0m\u001b[0mx_test\u001b[0m\u001b[1;33m)\u001b[0m\u001b[1;33m.\u001b[0m\u001b[0mflatten\u001b[0m\u001b[1;33m(\u001b[0m\u001b[1;33m)\u001b[0m\u001b[1;33m\u001b[0m\u001b[0m\n\u001b[0m\u001b[0;32m      2\u001b[0m \u001b[0mSS_Residual1\u001b[0m \u001b[1;33m=\u001b[0m \u001b[0msum\u001b[0m\u001b[1;33m(\u001b[0m\u001b[1;33m(\u001b[0m\u001b[0mytest_val\u001b[0m\u001b[1;33m-\u001b[0m\u001b[0myhat\u001b[0m\u001b[1;33m)\u001b[0m\u001b[1;33m**\u001b[0m\u001b[1;36m2\u001b[0m\u001b[1;33m)\u001b[0m\u001b[1;33m\u001b[0m\u001b[0m\n\u001b[0;32m      3\u001b[0m \u001b[0mstd_err1\u001b[0m \u001b[1;33m=\u001b[0m \u001b[0mmath\u001b[0m\u001b[1;33m.\u001b[0m\u001b[0msqrt\u001b[0m\u001b[1;33m(\u001b[0m\u001b[0mSS_Residual1\u001b[0m\u001b[1;33m/\u001b[0m\u001b[1;36m121\u001b[0m\u001b[1;33m)\u001b[0m\u001b[1;33m\u001b[0m\u001b[0m\n\u001b[0;32m      4\u001b[0m \u001b[0mmoe_1\u001b[0m \u001b[1;33m=\u001b[0m \u001b[0mstd_err1\u001b[0m \u001b[1;33m*\u001b[0m \u001b[1;36m1.1\u001b[0m \u001b[1;33m*\u001b[0m \u001b[0mt\u001b[0m\u001b[1;33m\u001b[0m\u001b[0m\n\u001b[0;32m      5\u001b[0m \u001b[0mprint\u001b[0m \u001b[1;33m(\u001b[0m\u001b[0mstd_err1\u001b[0m\u001b[1;33m,\u001b[0m\u001b[0mmoe_1\u001b[0m\u001b[1;33m)\u001b[0m\u001b[1;33m\u001b[0m\u001b[0m\n",
      "\u001b[1;31mAttributeError\u001b[0m: 'function' object has no attribute 'predict'"
     ]
    }
   ],
   "source": [
    "yhat = model.predict(x_test).flatten()\n",
    "SS_Residual1 = sum((ytest_val-yhat)**2)\n",
    "std_err1 = math.sqrt(SS_Residual1/121)\n",
    "moe_1 = std_err1 * 1.1 * t\n",
    "print (std_err1,moe_1)\n",
    "\n",
    "regression_model_mse = mean_squared_error(yhat, ytest_val)\n",
    "print (math.sqrt(regression_model_mse))\n",
    "\n",
    "SS_Total = sum((ytest_val-np.mean(ytest_val))**2)\n",
    "r_squared = 1 - (float(SS_Residual1))/SS_Total\n",
    "adjusted_r_squared = 1 - (1-r_squared)*(len(ytest_val)-1)/(len(ytest_val)-x_test.shape[1]-1)\n",
    "print (r_squared,adjusted_r_squared)"
   ]
  },
  {
   "cell_type": "code",
   "execution_count": null,
   "metadata": {},
   "outputs": [],
   "source": [
    "yhat = model2.predict(x_test).flatten()\n",
    "SS_Residual1 = sum((ytest_val-yhat)**2)\n",
    "std_err1 = math.sqrt(SS_Residual1/121)\n",
    "moe_1 = std_err1 * 1.1 * t\n",
    "print (std_err1,moe_1)\n",
    "\n",
    "regression_model_mse = mean_squared_error(yhat, ytest_val)\n",
    "print (math.sqrt(regression_model_mse))\n",
    "\n",
    "SS_Total = sum((ytest_val-np.mean(ytest_val))**2)\n",
    "r_squared = 1 - (float(SS_Residual1))/SS_Total\n",
    "adjusted_r_squared = 1 - (1-r_squared)*(len(ytest_val)-1)/(len(ytest_val)-x_test.shape[1]-1)\n",
    "print (r_squared,adjusted_r_squared)"
   ]
  },
  {
   "cell_type": "code",
   "execution_count": null,
   "metadata": {},
   "outputs": [],
   "source": [
    "yhat = model3.predict(x_test1).flatten()\n",
    "SS_Residual1 = sum((ytest_val-yhat)**2)\n",
    "std_err1 = math.sqrt(SS_Residual1/121)\n",
    "moe_1 = std_err1 * 1.1 * t\n",
    "print (std_err1,moe_1)\n",
    "\n",
    "regression_model_mse = mean_squared_error(yhat, ytest_val)\n",
    "print (math.sqrt(regression_model_mse))\n",
    "\n",
    "SS_Total = sum((ytest_val-np.mean(ytest_val))**2)\n",
    "r_squared = 1 - (float(SS_Residual1))/SS_Total\n",
    "adjusted_r_squared = 1 - (1-r_squared)*(len(ytest_val)-1)/(len(ytest_val)-x_test.shape[1]-1)\n",
    "print (r_squared,adjusted_r_squared)"
   ]
  },
  {
   "cell_type": "code",
   "execution_count": null,
   "metadata": {},
   "outputs": [],
   "source": [
    "x23 = range(25)\n",
    "y23 = range(25)\n",
    "h = model2.predict(x_test)\n",
    "plt.scatter(y_test,h, c=\"g\")\n",
    "plt.plot(x23,y23, c=\"k\")\n",
    "plt.xlabel(\"True Values\")\n",
    "plt.ylabel(\"Predictions\")\n",
    "plt.savefig(\"graph.svg\")"
   ]
  },
  {
   "cell_type": "code",
   "execution_count": null,
   "metadata": {},
   "outputs": [],
   "source": [
    "x23 = range(25)\n",
    "y23 = range(42)\n",
    "h = model2.predict(x_test)\n",
    "plt.scatter(h,y23, c=\"g\")\n",
    "plt.scatter(y_test,y23, c=\"k\")\n",
    "plt.xlabel(\"True Values\")\n",
    "plt.ylabel(\"Multiple\")\n",
    "plt.savefig(\"graph.svg\")"
   ]
  },
  {
   "cell_type": "code",
   "execution_count": null,
   "metadata": {},
   "outputs": [],
   "source": [
    "y_test"
   ]
  },
  {
   "cell_type": "code",
   "execution_count": null,
   "metadata": {},
   "outputs": [],
   "source": [
    "x_test"
   ]
  },
  {
   "cell_type": "code",
   "execution_count": null,
   "metadata": {},
   "outputs": [],
   "source": [
    "x23 = range(25)\n",
    "y23 = range(25)\n",
    "h = model3.predict(x_test1)\n",
    "plt.scatter(y_test1,h, c=\"g\")\n",
    "plt.plot(x23,y23, c=\"k\")\n",
    "plt.xlabel(\"True Values\")\n",
    "plt.ylabel(\"Predictions\")\n",
    "plt.savefig(\"graph.svg\")"
   ]
  },
  {
   "cell_type": "code",
   "execution_count": null,
   "metadata": {},
   "outputs": [],
   "source": [
    "x23 = range(25)\n",
    "y23 = range(25)\n",
    "h = model.predict(x_test)\n",
    "plt.scatter(y_test,h, c=\"g\")\n",
    "plt.plot(x23,y23, c=\"k\")\n",
    "plt.xlabel(\"True Values\")\n",
    "plt.ylabel(\"Predictions\")\n",
    "plt.savefig(\"graph.svg\")"
   ]
  },
  {
   "cell_type": "code",
   "execution_count": null,
   "metadata": {},
   "outputs": [],
   "source": [
    "x23 = range(25)\n",
    "y23 = range(25)\n",
    "h = model.predict(x_test)\n",
    "i = model2.predict(x_test)\n",
    "plt.scatter(y_test,h,label = \"Linear\", c=\"b\")\n",
    "plt.scatter(y_test,i,label = \"Boosted\", c=\"r\")\n",
    "plt.plot(x23,y23, c=\"k\")\n",
    "plt.legend()\n",
    "plt.xlabel(\"True Values\")\n",
    "plt.ylabel(\"Predictions\")\n",
    "plt.savefig(\"graph.svg\")"
   ]
  },
  {
   "cell_type": "code",
   "execution_count": null,
   "metadata": {},
   "outputs": [],
   "source": [
    "velo = [2.73,0.28,1.31,1.10,0.28,-3.69,-3.81]\n",
    "vc = pd.DataFrame([velo], columns = ['Rev Growth','GP Margin','R&D Margin', 'S&M Margin', 'G&A Margin','EBITDA Margin', 'Profit Margin'])\n",
    "vc = vc.drop(['G&A Margin'], axis=1)\n",
    "vc3 = vc.drop(['R&D Margin', 'S&M Margin'],axis=1) #AB\n",
    "vc4 = vc.drop(['R&D Margin', 'Profit Margin'],axis=1) #LM\n",
    "vc5 = vc.drop(['R&D Margin'],axis=1)\n",
    "vc6 = vc.drop(['Profit Margin'],axis=1)\n",
    "vc_test = 285/61\n",
    "t = 1.98062600245909 #consistent with sample size at 95% confidence interval\n",
    "x23 = range(100)\n",
    "y23 = range(100)\n",
    "vcp1 = model.predict(vc4)\n",
    "plt.scatter(vc_test,vcp1,label = \"Linear\", c=\"b\")\n",
    "vcp2 = model2.predict(vc3)\n",
    "plt.scatter(vc_test,vcp1,label = \"Boosted\", c=\"r\")\n",
    "plt.scatter(vc_test,vc_test,label = \"Actual\", c=\"g\")\n",
    "plt.legend()\n",
    "plt.xlabel(\"True Values\")\n",
    "plt.ylabel(\"Predictions\")\n",
    "plt.savefig(\"graph.svg\")"
   ]
  },
  {
   "cell_type": "code",
   "execution_count": null,
   "metadata": {},
   "outputs": [],
   "source": [
    "crowd = [0.433,0.547,0.472,0.901,0.240,-0.967,-1.086]\n",
    "cr = pd.DataFrame([crowd], columns = ['Rev Growth','GP Margin','R&D Margin', 'S&M Margin', 'G&A Margin','EBITDA Margin', 'Profit Margin'])\n",
    "cr = cr.drop(['G&A Margin'], axis=1)\n",
    "cr3 = cr.drop(['R&D Margin', 'S&M Margin'],axis=1) #AB\n",
    "cr4 = cr.drop(['R&D Margin', 'Profit Margin'],axis=1) #LM\n",
    "cr_test = 3150/115.567\n",
    "t = 1.98062600245909 #consistent with sample size at 95% confidence interval\n",
    "x23 = range(100)\n",
    "y23 = range(100)\n",
    "crp1 = model.predict(cr4)\n",
    "plt.scatter(cr_test,crp1,label = \"Linear\", c=\"b\")\n",
    "crp2 = model2.predict(cr3)\n",
    "plt.scatter(cr_test,crp2,label = \"Boosted\", c=\"r\")\n",
    "plt.scatter(cr_test,cr_test,label = \"Actual\", c=\"g\")\n",
    "plt.legend()\n",
    "plt.xlabel(\"True Values\")\n",
    "plt.ylabel(\"Predictions\")\n",
    "plt.savefig(\"graph.svg\")"
   ]
  },
  {
   "cell_type": "code",
   "execution_count": null,
   "metadata": {},
   "outputs": [],
   "source": [
    "meso = [1.685,.73,0.506,0.375,0.119,-3.25,-3.25]\n",
    "ms = pd.DataFrame([meso], columns = ['Rev Growth','GP Margin','R&D Margin', 'S&M Margin', 'G&A Margin','EBITDA Margin', 'Profit Margin'])\n",
    "ms = ms.drop(['G&A Margin'], axis=1)\n",
    "ms3 = ms.drop(['R&D Margin', 'S&M Margin'],axis=1) #AB\n",
    "ms4 = ms.drop(['R&D Margin', 'Profit Margin'],axis=1) #LM\n",
    "ms_test = 650/10.8\n",
    "t = 1.98062600245909 #consistent with sample size at 95% confidence interval\n",
    "x23 = range(100)\n",
    "y23 = range(100)\n",
    "msp1 = model.predict(ms4)\n",
    "plt.scatter(ms_test,msp1,label = \"Linear\", c=\"b\")\n",
    "msp2 = model2.predict(ms3)\n",
    "plt.scatter(ms_test,msp2,label = \"Boosted\", c=\"r\")\n",
    "plt.scatter(ms_test,ms_test,label = \"Actual\", c=\"g\")\n",
    "plt.legend()\n",
    "plt.xlabel(\"True Values\")\n",
    "plt.ylabel(\"Predictions\")\n",
    "plt.savefig(\"graph.svg\")"
   ]
  },
  {
   "cell_type": "code",
   "execution_count": null,
   "metadata": {},
   "outputs": [],
   "source": [
    "meso = [.672,.73,0.506,0.375,0.119,-3.25,-3.25]\n",
    "ms = pd.DataFrame([meso], columns = ['Rev Growth','GP Margin','R&D Margin', 'S&M Margin', 'G&A Margin','EBITDA Margin', 'Profit Margin'])\n",
    "ms = ms.drop(['G&A Margin'], axis=1)\n",
    "ms3 = ms.drop(['R&D Margin', 'S&M Margin'],axis=1) #AB\n",
    "ms4 = ms.drop(['R&D Margin', 'Profit Margin'],axis=1) #LM\n",
    "ms_test = 650/19\n",
    "t = 1.98062600245909 #consistent with sample size at 95% confidence interval\n",
    "x23 = range(100)\n",
    "y23 = range(100)\n",
    "msp1 = model.predict(ms4)\n",
    "plt.scatter(ms_test,msp1,label = \"Linear\", c=\"b\")\n",
    "msp2 = model2.predict(ms3)\n",
    "plt.scatter(ms_test,msp2,label = \"Boosted\", c=\"r\")\n",
    "plt.scatter(ms_test,ms_test,label = \"Actual\", c=\"g\")\n",
    "plt.legend()\n",
    "plt.xlabel(\"True Values\")\n",
    "plt.ylabel(\"Predictions\")\n",
    "plt.savefig(\"graph.svg\")"
   ]
  },
  {
   "cell_type": "code",
   "execution_count": null,
   "metadata": {},
   "outputs": [],
   "source": [
    "beam = [3.5341,0.82,0.12,0.09,0.240,-1.480,-1.02]\n",
    "bm = pd.DataFrame([beam], columns = ['Rev Growth','GP Margin','R&D Margin', 'S&M Margin', 'G&A Margin','EBITDA Margin', 'Profit Margin'])\n",
    "bm = bm.drop(['G&A Margin'], axis=1)\n",
    "bm3 = bm.drop(['R&D Margin', 'S&M Margin'],axis=1) #AB\n",
    "bm4 = bm.drop(['R&D Margin', 'Profit Margin'],axis=1) #LM\n",
    "bm_test = 350/24\n",
    "t = 1.98062600245909 #consistent with sample size at 95% confidence interval\n",
    "x23 = range(100)\n",
    "y23 = range(100)\n",
    "h = model.predict(bm4)\n",
    "plt.scatter(bm_test,h,label = \"Linear\", c=\"b\")\n",
    "l = model2.predict(bm3)\n",
    "plt.scatter(bm_test,l,label = \"Boosted\", c=\"r\")\n",
    "plt.scatter(bm_test,bm_test,label = \"Actual\", c=\"g\")\n",
    "plt.legend()\n",
    "plt.xlabel(\"True Values\")\n",
    "plt.ylabel(\"Predictions\")\n",
    "plt.savefig(\"graph.svg\")"
   ]
  },
  {
   "cell_type": "code",
   "execution_count": null,
   "metadata": {},
   "outputs": [],
   "source": [
    "beam = [3.5341,0.82,0.12,0.09,0.240,-1.480,-1.02]\n",
    "bm = pd.DataFrame([beam], columns = ['Rev Growth','GP Margin','R&D Margin', 'S&M Margin', 'G&A Margin','EBITDA Margin', 'Profit Margin'])\n",
    "bm = bm.drop(['G&A Margin'], axis=1)\n",
    "bm3 = bm.drop(['R&D Margin', 'S&M Margin'],axis=1) #AB\n",
    "bm4 = bm.drop(['R&D Margin', 'Profit Margin'],axis=1) #LM\n",
    "bm_test = 350/24\n",
    "t = 1.98062600245909 #consistent with sample size at 95% confidence interval\n",
    "x23 = range(100)\n",
    "y23 = range(100)\n",
    "h = model.predict(bm4)\n",
    "l = model2.predict(bm3)\n",
    "dbp1 = model.predict(db4)\n",
    "dbp2 = model2.predict(db3)\n",
    "plt.scatter(db_test,dbp1, label = \"Linear\", c=\"b\")\n",
    "plt.scatter(db_test,dbp2, label = \"Boosted\", c=\"r\")\n",
    "plt.scatter(db_test,db_test, label = \"Actual\", c=\"g\")\n",
    "plt.scatter(bm_test,h,  c=\"b\")\n",
    "plt.scatter(bm_test,l, c=\"r\")\n",
    "plt.scatter(bm_test,bm_test, c=\"g\")\n",
    "plt.scatter(cr_test,crp1,c=\"b\")\n",
    "plt.scatter(cr_test,crp2,c=\"r\")\n",
    "plt.scatter(cr_test,cr_test, c= \"g\")\n",
    "plt.scatter(vc_test,vcp1, c=\"b\")\n",
    "plt.scatter(vc_test,vcp2, c=\"r\")\n",
    "plt.scatter(vc_test,vc_test, c= \"g\")\n",
    "plt.scatter(ms_test,msp1, c=\"b\")\n",
    "plt.scatter(ms_test,msp2,c=\"r\")\n",
    "plt.scatter(ms_test,ms_test, c=\"g\")\n",
    "plt.legend()\n",
    "plt.xlabel(\"True Values\")\n",
    "plt.ylabel(\"Predictions\")\n",
    "plt.savefig(\"graph.svg\")"
   ]
  },
  {
   "cell_type": "code",
   "execution_count": null,
   "metadata": {},
   "outputs": [],
   "source": [
    "y_val = y.values.flatten()\n",
    "ytest_val = y_test.values.flatten()"
   ]
  },
  {
   "cell_type": "code",
   "execution_count": null,
   "metadata": {},
   "outputs": [],
   "source": [
    "variables = [x,a,b,c,d,e,f,g]\n",
    "for q in variables:\n",
    "    x_train, x_test, y_train, y_test = train_test_split(q, y, test_size=0.2, random_state=0)  \n",
    "    model = LinearRegression()\n",
    "    model.fit(x_train, y_train)\n",
    "    model.score(x_test,y_test)\n",
    "    yhat = model.predict(x_test).flatten()\n",
    "    SS_Residual1 = sum((ytest_val-yhat)**2)\n",
    "    std_err1 = math.sqrt(SS_Residual1/121)\n",
    "    moe_1 = std_err1 * 1.1 * t\n",
    "    SS_Total = sum((ytest_val-np.mean(ytest_val))**2)\n",
    "    r_squared = 1 - (float(SS_Residual1))/SS_Total\n",
    "    adjusted_r_squared = 1 - (1-r_squared)*(len(ytest_val)-1)/(len(ytest_val)-x_test.shape[1]-1)\n",
    "    print (adjusted_r_squared)"
   ]
  },
  {
   "cell_type": "code",
   "execution_count": null,
   "metadata": {},
   "outputs": [],
   "source": [
    "variables = [x,a,b,c,d,e,f,g] \n",
    "state = range (100)\n",
    "newdata={}\n",
    "for w in state:\n",
    "    col = []\n",
    "    for q in variables:\n",
    "        x_train, x_test, y_train, y_test = train_test_split(q, y, test_size=0.3, random_state=0)  \n",
    "        model2 = ensemble.AdaBoostRegressor(random_state=w)\n",
    "        model2.fit(x_train,y_train.values.ravel())\n",
    "        yhat = model2.predict(x_test).flatten()\n",
    "        SS_Residual1 = sum((ytest_val-yhat)**2)\n",
    "        SS_Total = sum((ytest_val-np.mean(ytest_val))**2)\n",
    "        r_squared = 1 - (float(SS_Residual1))/SS_Total\n",
    "        adjusted_r_squared = 1 - (1-r_squared)*(len(ytest_val)-1)/(len(ytest_val)-x_test.shape[1]-1)\n",
    "        col.append(adjusted_r_squared)\n",
    "        newdata[\"State{}\".format(w)] = col\n",
    "newcol = pd.DataFrame (newdata)      \n",
    "newcol.idxmax().value_counts()"
   ]
  },
  {
   "cell_type": "code",
   "execution_count": null,
   "metadata": {},
   "outputs": [],
   "source": []
  }
 ],
 "metadata": {
  "kernelspec": {
   "display_name": "Python 3",
   "language": "python",
   "name": "python3"
  },
  "language_info": {
   "codemirror_mode": {
    "name": "ipython",
    "version": 3
   },
   "file_extension": ".py",
   "mimetype": "text/x-python",
   "name": "python",
   "nbconvert_exporter": "python",
   "pygments_lexer": "ipython3",
   "version": "3.7.0"
  }
 },
 "nbformat": 4,
 "nbformat_minor": 2
}
